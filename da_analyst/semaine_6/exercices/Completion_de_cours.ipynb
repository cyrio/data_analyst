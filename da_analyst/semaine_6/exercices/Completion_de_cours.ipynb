{
 "cells": [
  {
   "cell_type": "markdown",
   "id": "e59f15fb",
   "metadata": {},
   "source": [
    "# Quelques definition à connaitre"
   ]
  },
  {
   "cell_type": "markdown",
   "id": "f0532f80",
   "metadata": {},
   "source": [
    "## Correlation"
   ]
  },
  {
   "cell_type": "markdown",
   "id": "d154233c",
   "metadata": {},
   "source": [
    "En probabilités et en statistique, la corrélation entre plusieurs variables aléatoires ou statistiques est une notion de liaison qui contredit leur indépendance.\n",
    "\n",
    "Cette corrélation est très souvent réduite à la corrélation linéaire entre variables quantitatives, c’est-à-dire l’ajustement d’une variable par rapport à l’autre par une relation affine obtenue par régression linéaire. Pour cela, on calcule un coefficient de corrélation linéaire1, quotient de leur covariance par le produit de leurs écarts types. Son signe indique si des valeurs plus hautes de l’une correspondent « en moyenne » à des valeurs plus hautes ou plus basses pour l’autre. La valeur absolue du coefficient, toujours comprise entre 0 et 1, ne mesure pas l’intensité de la liaison mais la prépondérance de la relation affine sur les variations internes des variables. Un coefficient nul n’implique pas l'indépendance, car d’autres types de corrélation sont possibles.\n",
    "\n",
    "D’autres indicateurs permettent de calculer un coefficient de corrélation pour des variables ordinales.\n",
    "\n",
    "Le fait que deux variables soient « fortement corrélées » ne démontre pas qu'il y ait une relation de causalité entre l'une et l'autre. Le contre-exemple le plus typique est celui où elles sont en fait liées par une causalité commune. Cette confusion est connue sous l'expression Cum hoc ergo propter hoc. "
   ]
  },
  {
   "cell_type": "markdown",
   "id": "7b2b5df0",
   "metadata": {},
   "source": [
    "voir les liens  [[https://fr.wikipedia.org/wiki/Méthode_des_moindres_carrés]] "
   ]
  },
  {
   "cell_type": "markdown",
   "id": "db66f00f",
   "metadata": {},
   "source": [
    "``` \n",
    "  Conseil du cours pour Mercredi 15/02/2023:\n",
    "  \n",
    "      - faire un puch github :\n",
    "          - créer un repository en public non privé\n",
    "          - déposer ce qui a été fait dessus\n",
    "          -\n",
    "          \n",
    "      - mini exercice:\n",
    "          avec pandas,\n",
    "          rendre l'exercice Resto\n",
    "       \n",
    "      - aller sur kaggle datasets, pour les choix des projets personnels\n",
    "        - https://www.kaggle.com/datasets\n",
    "        https://www.kaggle.com/competitions/tabular-playground-series-jul-2022\n",
    "          \n",
    "      \n",
    "```"
   ]
  },
  {
   "cell_type": "markdown",
   "id": "9b786667",
   "metadata": {},
   "source": []
  },
  {
   "cell_type": "markdown",
   "id": "279ff097",
   "metadata": {},
   "source": []
  },
  {
   "cell_type": "markdown",
   "id": "e086ffef",
   "metadata": {},
   "source": []
  },
  {
   "cell_type": "markdown",
   "id": "bd1c7720",
   "metadata": {},
   "source": []
  },
  {
   "cell_type": "markdown",
   "id": "6cc451dd",
   "metadata": {},
   "source": []
  },
  {
   "cell_type": "markdown",
   "id": "43c841ec",
   "metadata": {},
   "source": []
  },
  {
   "cell_type": "markdown",
   "id": "05fa6b8f",
   "metadata": {},
   "source": []
  },
  {
   "cell_type": "markdown",
   "id": "09a6b422",
   "metadata": {},
   "source": []
  },
  {
   "cell_type": "markdown",
   "id": "c08c8def",
   "metadata": {},
   "source": []
  },
  {
   "cell_type": "markdown",
   "id": "bef35d37",
   "metadata": {},
   "source": []
  }
 ],
 "metadata": {
  "kernelspec": {
   "display_name": "Python 3 (ipykernel)",
   "language": "python",
   "name": "python3"
  },
  "language_info": {
   "codemirror_mode": {
    "name": "ipython",
    "version": 3
   },
   "file_extension": ".py",
   "mimetype": "text/x-python",
   "name": "python",
   "nbconvert_exporter": "python",
   "pygments_lexer": "ipython3",
   "version": "3.9.13"
  },
  "varInspector": {
   "cols": {
    "lenName": 16,
    "lenType": 16,
    "lenVar": 40
   },
   "kernels_config": {
    "python": {
     "delete_cmd_postfix": "",
     "delete_cmd_prefix": "del ",
     "library": "var_list.py",
     "varRefreshCmd": "print(var_dic_list())"
    },
    "r": {
     "delete_cmd_postfix": ") ",
     "delete_cmd_prefix": "rm(",
     "library": "var_list.r",
     "varRefreshCmd": "cat(var_dic_list()) "
    }
   },
   "types_to_exclude": [
    "module",
    "function",
    "builtin_function_or_method",
    "instance",
    "_Feature"
   ],
   "window_display": false
  }
 },
 "nbformat": 4,
 "nbformat_minor": 5
}
