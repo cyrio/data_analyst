{
 "cells": [
  {
   "cell_type": "code",
   "execution_count": 1,
   "id": "4894519d",
   "metadata": {},
   "outputs": [],
   "source": [
    "import pandas as pd"
   ]
  },
  {
   "cell_type": "code",
   "execution_count": 2,
   "id": "266f9d43",
   "metadata": {},
   "outputs": [],
   "source": [
    "l=[0.25, 0.5, 0.75, 1.0]"
   ]
  },
  {
   "cell_type": "code",
   "execution_count": 3,
   "id": "7f69ff7e",
   "metadata": {},
   "outputs": [],
   "source": [
    "data = pd.Series(l);"
   ]
  },
  {
   "cell_type": "code",
   "execution_count": 4,
   "id": "44ac4ffe",
   "metadata": {},
   "outputs": [
    {
     "data": {
      "text/plain": [
       "0    0.25\n",
       "1    0.50\n",
       "2    0.75\n",
       "3    1.00\n",
       "dtype: float64"
      ]
     },
     "execution_count": 4,
     "metadata": {},
     "output_type": "execute_result"
    }
   ],
   "source": [
    "data"
   ]
  },
  {
   "cell_type": "code",
   "execution_count": 5,
   "id": "70d46e16",
   "metadata": {},
   "outputs": [
    {
     "data": {
      "text/plain": [
       "dtype('float64')"
      ]
     },
     "execution_count": 5,
     "metadata": {},
     "output_type": "execute_result"
    }
   ],
   "source": [
    "data.dtypes"
   ]
  },
  {
   "cell_type": "code",
   "execution_count": 6,
   "id": "c05c7ccc",
   "metadata": {},
   "outputs": [
    {
     "data": {
      "text/plain": [
       "RangeIndex(start=0, stop=4, step=1)"
      ]
     },
     "execution_count": 6,
     "metadata": {},
     "output_type": "execute_result"
    }
   ],
   "source": [
    "data.index"
   ]
  },
  {
   "cell_type": "code",
   "execution_count": 7,
   "id": "937ae4f5",
   "metadata": {},
   "outputs": [
    {
     "data": {
      "text/plain": [
       "array([0.25, 0.5 , 0.75, 1.  ])"
      ]
     },
     "execution_count": 7,
     "metadata": {},
     "output_type": "execute_result"
    }
   ],
   "source": [
    "data.values"
   ]
  },
  {
   "cell_type": "code",
   "execution_count": 8,
   "id": "b003c000",
   "metadata": {},
   "outputs": [
    {
     "data": {
      "text/plain": [
       "0                    il\n",
       "1                  fait\n",
       "2              pas trop\n",
       "3    moch aujourd'hui !\n",
       "dtype: object"
      ]
     },
     "execution_count": 8,
     "metadata": {},
     "output_type": "execute_result"
    }
   ],
   "source": [
    "data_str = pd.Series(['il','fait','pas trop',\"moch aujourd'hui !\"]); data_str"
   ]
  },
  {
   "cell_type": "code",
   "execution_count": 22,
   "id": "9e0e3273",
   "metadata": {},
   "outputs": [],
   "source": [
    "s1 = pd.Series([1,2,3],['a','b','c'])\n",
    "s2 = pd.Series([4,5,6],['a','d','c'])"
   ]
  },
  {
   "cell_type": "code",
   "execution_count": 23,
   "id": "3b150ce2",
   "metadata": {},
   "outputs": [],
   "source": [
    "plus = s1 + s2\n",
    "moins = s1 - s2\n",
    "fois = s1 * s2\n",
    "div = s1 / s2"
   ]
  },
  {
   "cell_type": "code",
   "execution_count": 24,
   "id": "3b1e4a5c",
   "metadata": {},
   "outputs": [
    {
     "data": {
      "text/plain": [
       "a    0.25\n",
       "b     NaN\n",
       "c    0.50\n",
       "d     NaN\n",
       "dtype: float64"
      ]
     },
     "execution_count": 24,
     "metadata": {},
     "output_type": "execute_result"
    }
   ],
   "source": [
    "div"
   ]
  },
  {
   "cell_type": "code",
   "execution_count": 20,
   "id": "04626a24",
   "metadata": {},
   "outputs": [
    {
     "data": {
      "text/plain": [
       "a    5\n",
       "b    7\n",
       "c    9\n",
       "dtype: int64"
      ]
     },
     "execution_count": 20,
     "metadata": {},
     "output_type": "execute_result"
    }
   ],
   "source": [
    "plus"
   ]
  },
  {
   "cell_type": "code",
   "execution_count": 21,
   "id": "a20361e7",
   "metadata": {},
   "outputs": [
    {
     "data": {
      "text/plain": [
       "a   -3\n",
       "b   -3\n",
       "c   -3\n",
       "dtype: int64"
      ]
     },
     "execution_count": 21,
     "metadata": {},
     "output_type": "execute_result"
    }
   ],
   "source": [
    "moins"
   ]
  },
  {
   "cell_type": "code",
   "execution_count": 15,
   "id": "8eb8e321",
   "metadata": {},
   "outputs": [
    {
     "data": {
      "text/plain": [
       "a    1\n",
       "b    4\n",
       "c    9\n",
       "dtype: int64"
      ]
     },
     "execution_count": 15,
     "metadata": {},
     "output_type": "execute_result"
    }
   ],
   "source": [
    "fois"
   ]
  },
  {
   "cell_type": "code",
   "execution_count": 26,
   "id": "7e2c7af6",
   "metadata": {},
   "outputs": [
    {
     "data": {
      "text/plain": [
       "Index(['a', 'b', 'c'], dtype='object')"
      ]
     },
     "execution_count": 26,
     "metadata": {},
     "output_type": "execute_result"
    }
   ],
   "source": [
    "s1.index"
   ]
  },
  {
   "cell_type": "code",
   "execution_count": 27,
   "id": "f533ab3b",
   "metadata": {},
   "outputs": [
    {
     "data": {
      "text/plain": [
       "Index(['a', 'd', 'c'], dtype='object')"
      ]
     },
     "execution_count": 27,
     "metadata": {},
     "output_type": "execute_result"
    }
   ],
   "source": [
    "s2.index"
   ]
  },
  {
   "cell_type": "code",
   "execution_count": 28,
   "id": "5b45733f",
   "metadata": {},
   "outputs": [],
   "source": [
    "import numpy as np"
   ]
  },
  {
   "cell_type": "markdown",
   "id": "403caf5d",
   "metadata": {},
   "source": [
    "Construction d'un Dataframe en utilisant numpy"
   ]
  },
  {
   "cell_type": "code",
   "execution_count": 29,
   "id": "ca1d26f3",
   "metadata": {},
   "outputs": [],
   "source": [
    "ar = np.array([[1.1, 2, 3.3, 4], [2.7, 10, 5.4, 7], [5.3, 9, 1.5, 15]])"
   ]
  },
  {
   "cell_type": "code",
   "execution_count": 30,
   "id": "3ee1bd29",
   "metadata": {},
   "outputs": [
    {
     "data": {
      "text/html": [
       "<div>\n",
       "<style scoped>\n",
       "    .dataframe tbody tr th:only-of-type {\n",
       "        vertical-align: middle;\n",
       "    }\n",
       "\n",
       "    .dataframe tbody tr th {\n",
       "        vertical-align: top;\n",
       "    }\n",
       "\n",
       "    .dataframe thead th {\n",
       "        text-align: right;\n",
       "    }\n",
       "</style>\n",
       "<table border=\"1\" class=\"dataframe\">\n",
       "  <thead>\n",
       "    <tr style=\"text-align: right;\">\n",
       "      <th></th>\n",
       "      <th>A</th>\n",
       "      <th>B</th>\n",
       "      <th>C</th>\n",
       "      <th>D</th>\n",
       "    </tr>\n",
       "  </thead>\n",
       "  <tbody>\n",
       "    <tr>\n",
       "      <th>a1</th>\n",
       "      <td>1.1</td>\n",
       "      <td>2.0</td>\n",
       "      <td>3.3</td>\n",
       "      <td>4.0</td>\n",
       "    </tr>\n",
       "    <tr>\n",
       "      <th>a2</th>\n",
       "      <td>2.7</td>\n",
       "      <td>10.0</td>\n",
       "      <td>5.4</td>\n",
       "      <td>7.0</td>\n",
       "    </tr>\n",
       "    <tr>\n",
       "      <th>a3</th>\n",
       "      <td>5.3</td>\n",
       "      <td>9.0</td>\n",
       "      <td>1.5</td>\n",
       "      <td>15.0</td>\n",
       "    </tr>\n",
       "  </tbody>\n",
       "</table>\n",
       "</div>"
      ],
      "text/plain": [
       "      A     B    C     D\n",
       "a1  1.1   2.0  3.3   4.0\n",
       "a2  2.7  10.0  5.4   7.0\n",
       "a3  5.3   9.0  1.5  15.0"
      ]
     },
     "execution_count": 30,
     "metadata": {},
     "output_type": "execute_result"
    }
   ],
   "source": [
    "df = pd.DataFrame(ar, index = ['a1', 'a2', 'a3'], columns = ['A', 'B', 'C', 'D']); df"
   ]
  },
  {
   "cell_type": "code",
   "execution_count": 31,
   "id": "e03a7ad4",
   "metadata": {},
   "outputs": [
    {
     "data": {
      "text/plain": [
       "Index(['a1', 'a2', 'a3'], dtype='object')"
      ]
     },
     "execution_count": 31,
     "metadata": {},
     "output_type": "execute_result"
    }
   ],
   "source": [
    "df.index"
   ]
  },
  {
   "cell_type": "code",
   "execution_count": 35,
   "id": "d018625a",
   "metadata": {},
   "outputs": [
    {
     "data": {
      "text/html": [
       "<div>\n",
       "<style scoped>\n",
       "    .dataframe tbody tr th:only-of-type {\n",
       "        vertical-align: middle;\n",
       "    }\n",
       "\n",
       "    .dataframe tbody tr th {\n",
       "        vertical-align: top;\n",
       "    }\n",
       "\n",
       "    .dataframe thead th {\n",
       "        text-align: right;\n",
       "    }\n",
       "</style>\n",
       "<table border=\"1\" class=\"dataframe\">\n",
       "  <thead>\n",
       "    <tr style=\"text-align: right;\">\n",
       "      <th></th>\n",
       "      <th>C</th>\n",
       "      <th>B</th>\n",
       "      <th>A</th>\n",
       "    </tr>\n",
       "  </thead>\n",
       "  <tbody>\n",
       "    <tr>\n",
       "      <th>a2</th>\n",
       "      <td>5.4</td>\n",
       "      <td>10.0</td>\n",
       "      <td>2.7</td>\n",
       "    </tr>\n",
       "    <tr>\n",
       "      <th>a3</th>\n",
       "      <td>1.5</td>\n",
       "      <td>9.0</td>\n",
       "      <td>5.3</td>\n",
       "    </tr>\n",
       "  </tbody>\n",
       "</table>\n",
       "</div>"
      ],
      "text/plain": [
       "      C     B    A\n",
       "a2  5.4  10.0  2.7\n",
       "a3  1.5   9.0  5.3"
      ]
     },
     "execution_count": 35,
     "metadata": {},
     "output_type": "execute_result"
    }
   ],
   "source": [
    "df_re = df.reindex(columns = ['C','B','A'], index = ['a2', 'a3']); df_re"
   ]
  },
  {
   "cell_type": "code",
   "execution_count": 36,
   "id": "5f9cb95c",
   "metadata": {},
   "outputs": [
    {
     "data": {
      "text/plain": [
       "(3, 4)"
      ]
     },
     "execution_count": 36,
     "metadata": {},
     "output_type": "execute_result"
    }
   ],
   "source": [
    "df.shape"
   ]
  },
  {
   "cell_type": "code",
   "execution_count": 39,
   "id": "8ed55241",
   "metadata": {},
   "outputs": [
    {
     "data": {
      "text/html": [
       "<div>\n",
       "<style scoped>\n",
       "    .dataframe tbody tr th:only-of-type {\n",
       "        vertical-align: middle;\n",
       "    }\n",
       "\n",
       "    .dataframe tbody tr th {\n",
       "        vertical-align: top;\n",
       "    }\n",
       "\n",
       "    .dataframe thead th {\n",
       "        text-align: right;\n",
       "    }\n",
       "</style>\n",
       "<table border=\"1\" class=\"dataframe\">\n",
       "  <thead>\n",
       "    <tr style=\"text-align: right;\">\n",
       "      <th></th>\n",
       "      <th>A</th>\n",
       "      <th>B</th>\n",
       "      <th>C</th>\n",
       "      <th>D</th>\n",
       "    </tr>\n",
       "  </thead>\n",
       "  <tbody>\n",
       "    <tr>\n",
       "      <th>a1</th>\n",
       "      <td>1.1</td>\n",
       "      <td>2</td>\n",
       "      <td>3.3</td>\n",
       "      <td>4</td>\n",
       "    </tr>\n",
       "    <tr>\n",
       "      <th>a2</th>\n",
       "      <td>2.7</td>\n",
       "      <td>10</td>\n",
       "      <td>5.4</td>\n",
       "      <td>7</td>\n",
       "    </tr>\n",
       "    <tr>\n",
       "      <th>a3</th>\n",
       "      <td>5.3</td>\n",
       "      <td>2</td>\n",
       "      <td>1.5</td>\n",
       "      <td>15</td>\n",
       "    </tr>\n",
       "  </tbody>\n",
       "</table>\n",
       "</div>"
      ],
      "text/plain": [
       "      A   B    C   D\n",
       "a1  1.1   2  3.3   4\n",
       "a2  2.7  10  5.4   7\n",
       "a3  5.3   2  1.5  15"
      ]
     },
     "execution_count": 39,
     "metadata": {},
     "output_type": "execute_result"
    }
   ],
   "source": [
    "dico = {'A' : [1.1, 2.7, 5.3],\n",
    "        'B' : [2, 10, 2],\n",
    "        'C' : [3.3, 5.4, 1.5],\n",
    "        'D' : [4, 7, 15]}\n",
    "df = pd.DataFrame(dico, index = ['a1', 'a2', 'a3']); df"
   ]
  },
  {
   "cell_type": "code",
   "execution_count": 41,
   "id": "8adee4a5",
   "metadata": {},
   "outputs": [
    {
     "data": {
      "text/plain": [
       "A     2.7\n",
       "B    10.0\n",
       "C     5.4\n",
       "D     7.0\n",
       "Name: a2, dtype: float64"
      ]
     },
     "execution_count": 41,
     "metadata": {},
     "output_type": "execute_result"
    }
   ],
   "source": [
    "df.loc['a2']"
   ]
  },
  {
   "cell_type": "code",
   "execution_count": 42,
   "id": "f18cb2ad",
   "metadata": {},
   "outputs": [
    {
     "data": {
      "text/plain": [
       "A    1.1\n",
       "B    2.0\n",
       "C    3.3\n",
       "D    4.0\n",
       "Name: a1, dtype: float64"
      ]
     },
     "execution_count": 42,
     "metadata": {},
     "output_type": "execute_result"
    }
   ],
   "source": [
    "df.loc['a1']"
   ]
  },
  {
   "cell_type": "code",
   "execution_count": 45,
   "id": "765ef912",
   "metadata": {},
   "outputs": [
    {
     "data": {
      "text/html": [
       "<div>\n",
       "<style scoped>\n",
       "    .dataframe tbody tr th:only-of-type {\n",
       "        vertical-align: middle;\n",
       "    }\n",
       "\n",
       "    .dataframe tbody tr th {\n",
       "        vertical-align: top;\n",
       "    }\n",
       "\n",
       "    .dataframe thead th {\n",
       "        text-align: right;\n",
       "    }\n",
       "</style>\n",
       "<table border=\"1\" class=\"dataframe\">\n",
       "  <thead>\n",
       "    <tr style=\"text-align: right;\">\n",
       "      <th></th>\n",
       "      <th>A</th>\n",
       "      <th>C</th>\n",
       "    </tr>\n",
       "  </thead>\n",
       "  <tbody>\n",
       "    <tr>\n",
       "      <th>a2</th>\n",
       "      <td>2.7</td>\n",
       "      <td>5.4</td>\n",
       "    </tr>\n",
       "    <tr>\n",
       "      <th>a3</th>\n",
       "      <td>5.3</td>\n",
       "      <td>1.5</td>\n",
       "    </tr>\n",
       "  </tbody>\n",
       "</table>\n",
       "</div>"
      ],
      "text/plain": [
       "      A    C\n",
       "a2  2.7  5.4\n",
       "a3  5.3  1.5"
      ]
     },
     "execution_count": 45,
     "metadata": {},
     "output_type": "execute_result"
    }
   ],
   "source": [
    "df.loc[['a2', 'a3'],['A','C']]"
   ]
  },
  {
   "cell_type": "code",
   "execution_count": 48,
   "id": "8883e788",
   "metadata": {},
   "outputs": [
    {
     "name": "stdout",
     "output_type": "stream",
     "text": [
      "Help on _LocIndexer in module pandas.core.indexing object:\n",
      "\n",
      "class _LocIndexer(_LocationIndexer)\n",
      " |  Access a group of rows and columns by label(s) or a boolean array.\n",
      " |  \n",
      " |  ``.loc[]`` is primarily label based, but may also be used with a\n",
      " |  boolean array.\n",
      " |  \n",
      " |  Allowed inputs are:\n",
      " |  \n",
      " |  - A single label, e.g. ``5`` or ``'a'``, (note that ``5`` is\n",
      " |    interpreted as a *label* of the index, and **never** as an\n",
      " |    integer position along the index).\n",
      " |  - A list or array of labels, e.g. ``['a', 'b', 'c']``.\n",
      " |  - A slice object with labels, e.g. ``'a':'f'``.\n",
      " |  \n",
      " |    .. warning:: Note that contrary to usual python slices, **both** the\n",
      " |        start and the stop are included\n",
      " |  \n",
      " |  - A boolean array of the same length as the axis being sliced,\n",
      " |    e.g. ``[True, False, True]``.\n",
      " |  - An alignable boolean Series. The index of the key will be aligned before\n",
      " |    masking.\n",
      " |  - An alignable Index. The Index of the returned selection will be the input.\n",
      " |  - A ``callable`` function with one argument (the calling Series or\n",
      " |    DataFrame) and that returns valid output for indexing (one of the above)\n",
      " |  \n",
      " |  See more at :ref:`Selection by Label <indexing.label>`.\n",
      " |  \n",
      " |  Raises\n",
      " |  ------\n",
      " |  KeyError\n",
      " |      If any items are not found.\n",
      " |  IndexingError\n",
      " |      If an indexed key is passed and its index is unalignable to the frame index.\n",
      " |  \n",
      " |  See Also\n",
      " |  --------\n",
      " |  DataFrame.at : Access a single value for a row/column label pair.\n",
      " |  DataFrame.iloc : Access group of rows and columns by integer position(s).\n",
      " |  DataFrame.xs : Returns a cross-section (row(s) or column(s)) from the\n",
      " |      Series/DataFrame.\n",
      " |  Series.loc : Access group of values using labels.\n",
      " |  \n",
      " |  Examples\n",
      " |  --------\n",
      " |  **Getting values**\n",
      " |  \n",
      " |  >>> df = pd.DataFrame([[1, 2], [4, 5], [7, 8]],\n",
      " |  ...      index=['cobra', 'viper', 'sidewinder'],\n",
      " |  ...      columns=['max_speed', 'shield'])\n",
      " |  >>> df\n",
      " |              max_speed  shield\n",
      " |  cobra               1       2\n",
      " |  viper               4       5\n",
      " |  sidewinder          7       8\n",
      " |  \n",
      " |  Single label. Note this returns the row as a Series.\n",
      " |  \n",
      " |  >>> df.loc['viper']\n",
      " |  max_speed    4\n",
      " |  shield       5\n",
      " |  Name: viper, dtype: int64\n",
      " |  \n",
      " |  List of labels. Note using ``[[]]`` returns a DataFrame.\n",
      " |  \n",
      " |  >>> df.loc[['viper', 'sidewinder']]\n",
      " |              max_speed  shield\n",
      " |  viper               4       5\n",
      " |  sidewinder          7       8\n",
      " |  \n",
      " |  Single label for row and column\n",
      " |  \n",
      " |  >>> df.loc['cobra', 'shield']\n",
      " |  2\n",
      " |  \n",
      " |  Slice with labels for row and single label for column. As mentioned\n",
      " |  above, note that both the start and stop of the slice are included.\n",
      " |  \n",
      " |  >>> df.loc['cobra':'viper', 'max_speed']\n",
      " |  cobra    1\n",
      " |  viper    4\n",
      " |  Name: max_speed, dtype: int64\n",
      " |  \n",
      " |  Boolean list with the same length as the row axis\n",
      " |  \n",
      " |  >>> df.loc[[False, False, True]]\n",
      " |              max_speed  shield\n",
      " |  sidewinder          7       8\n",
      " |  \n",
      " |  Alignable boolean Series:\n",
      " |  \n",
      " |  >>> df.loc[pd.Series([False, True, False],\n",
      " |  ...        index=['viper', 'sidewinder', 'cobra'])]\n",
      " |              max_speed  shield\n",
      " |  sidewinder          7       8\n",
      " |  \n",
      " |  Index (same behavior as ``df.reindex``)\n",
      " |  \n",
      " |  >>> df.loc[pd.Index([\"cobra\", \"viper\"], name=\"foo\")]\n",
      " |         max_speed  shield\n",
      " |  foo\n",
      " |  cobra          1       2\n",
      " |  viper          4       5\n",
      " |  \n",
      " |  Conditional that returns a boolean Series\n",
      " |  \n",
      " |  >>> df.loc[df['shield'] > 6]\n",
      " |              max_speed  shield\n",
      " |  sidewinder          7       8\n",
      " |  \n",
      " |  Conditional that returns a boolean Series with column labels specified\n",
      " |  \n",
      " |  >>> df.loc[df['shield'] > 6, ['max_speed']]\n",
      " |              max_speed\n",
      " |  sidewinder          7\n",
      " |  \n",
      " |  Callable that returns a boolean Series\n",
      " |  \n",
      " |  >>> df.loc[lambda df: df['shield'] == 8]\n",
      " |              max_speed  shield\n",
      " |  sidewinder          7       8\n",
      " |  \n",
      " |  **Setting values**\n",
      " |  \n",
      " |  Set value for all items matching the list of labels\n",
      " |  \n",
      " |  >>> df.loc[['viper', 'sidewinder'], ['shield']] = 50\n",
      " |  >>> df\n",
      " |              max_speed  shield\n",
      " |  cobra               1       2\n",
      " |  viper               4      50\n",
      " |  sidewinder          7      50\n",
      " |  \n",
      " |  Set value for an entire row\n",
      " |  \n",
      " |  >>> df.loc['cobra'] = 10\n",
      " |  >>> df\n",
      " |              max_speed  shield\n",
      " |  cobra              10      10\n",
      " |  viper               4      50\n",
      " |  sidewinder          7      50\n",
      " |  \n",
      " |  Set value for an entire column\n",
      " |  \n",
      " |  >>> df.loc[:, 'max_speed'] = 30\n",
      " |  >>> df\n",
      " |              max_speed  shield\n",
      " |  cobra              30      10\n",
      " |  viper              30      50\n",
      " |  sidewinder         30      50\n",
      " |  \n",
      " |  Set value for rows matching callable condition\n",
      " |  \n",
      " |  >>> df.loc[df['shield'] > 35] = 0\n",
      " |  >>> df\n",
      " |              max_speed  shield\n",
      " |  cobra              30      10\n",
      " |  viper               0       0\n",
      " |  sidewinder          0       0\n",
      " |  \n",
      " |  **Getting values on a DataFrame with an index that has integer labels**\n",
      " |  \n",
      " |  Another example using integers for the index\n",
      " |  \n",
      " |  >>> df = pd.DataFrame([[1, 2], [4, 5], [7, 8]],\n",
      " |  ...      index=[7, 8, 9], columns=['max_speed', 'shield'])\n",
      " |  >>> df\n",
      " |     max_speed  shield\n",
      " |  7          1       2\n",
      " |  8          4       5\n",
      " |  9          7       8\n",
      " |  \n",
      " |  Slice with integer labels for rows. As mentioned above, note that both\n",
      " |  the start and stop of the slice are included.\n",
      " |  \n",
      " |  >>> df.loc[7:9]\n",
      " |     max_speed  shield\n",
      " |  7          1       2\n",
      " |  8          4       5\n",
      " |  9          7       8\n",
      " |  \n",
      " |  **Getting values with a MultiIndex**\n",
      " |  \n",
      " |  A number of examples using a DataFrame with a MultiIndex\n",
      " |  \n",
      " |  >>> tuples = [\n",
      " |  ...    ('cobra', 'mark i'), ('cobra', 'mark ii'),\n",
      " |  ...    ('sidewinder', 'mark i'), ('sidewinder', 'mark ii'),\n",
      " |  ...    ('viper', 'mark ii'), ('viper', 'mark iii')\n",
      " |  ... ]\n",
      " |  >>> index = pd.MultiIndex.from_tuples(tuples)\n",
      " |  >>> values = [[12, 2], [0, 4], [10, 20],\n",
      " |  ...         [1, 4], [7, 1], [16, 36]]\n",
      " |  >>> df = pd.DataFrame(values, columns=['max_speed', 'shield'], index=index)\n",
      " |  >>> df\n",
      " |                       max_speed  shield\n",
      " |  cobra      mark i           12       2\n",
      " |             mark ii           0       4\n",
      " |  sidewinder mark i           10      20\n",
      " |             mark ii           1       4\n",
      " |  viper      mark ii           7       1\n",
      " |             mark iii         16      36\n",
      " |  \n",
      " |  Single label. Note this returns a DataFrame with a single index.\n",
      " |  \n",
      " |  >>> df.loc['cobra']\n",
      " |           max_speed  shield\n",
      " |  mark i          12       2\n",
      " |  mark ii          0       4\n",
      " |  \n",
      " |  Single index tuple. Note this returns a Series.\n",
      " |  \n",
      " |  >>> df.loc[('cobra', 'mark ii')]\n",
      " |  max_speed    0\n",
      " |  shield       4\n",
      " |  Name: (cobra, mark ii), dtype: int64\n",
      " |  \n",
      " |  Single label for row and column. Similar to passing in a tuple, this\n",
      " |  returns a Series.\n",
      " |  \n",
      " |  >>> df.loc['cobra', 'mark i']\n",
      " |  max_speed    12\n",
      " |  shield        2\n",
      " |  Name: (cobra, mark i), dtype: int64\n",
      " |  \n",
      " |  Single tuple. Note using ``[[]]`` returns a DataFrame.\n",
      " |  \n",
      " |  >>> df.loc[[('cobra', 'mark ii')]]\n",
      " |                 max_speed  shield\n",
      " |  cobra mark ii          0       4\n",
      " |  \n",
      " |  Single tuple for the index with a single label for the column\n",
      " |  \n",
      " |  >>> df.loc[('cobra', 'mark i'), 'shield']\n",
      " |  2\n",
      " |  \n",
      " |  Slice from index tuple to single label\n",
      " |  \n",
      " |  >>> df.loc[('cobra', 'mark i'):'viper']\n",
      " |                       max_speed  shield\n",
      " |  cobra      mark i           12       2\n",
      " |             mark ii           0       4\n",
      " |  sidewinder mark i           10      20\n",
      " |             mark ii           1       4\n",
      " |  viper      mark ii           7       1\n",
      " |             mark iii         16      36\n",
      " |  \n",
      " |  Slice from index tuple to index tuple\n",
      " |  \n",
      " |  >>> df.loc[('cobra', 'mark i'):('viper', 'mark ii')]\n",
      " |                      max_speed  shield\n",
      " |  cobra      mark i          12       2\n",
      " |             mark ii          0       4\n",
      " |  sidewinder mark i          10      20\n",
      " |             mark ii          1       4\n",
      " |  viper      mark ii          7       1\n",
      " |  \n",
      " |  Method resolution order:\n",
      " |      _LocIndexer\n",
      " |      _LocationIndexer\n",
      " |      pandas._libs.indexing.NDFrameIndexerBase\n",
      " |      builtins.object\n",
      " |  \n",
      " |  Data and other attributes defined here:\n",
      " |  \n",
      " |  __annotations__ = {'_takeable': 'bool'}\n",
      " |  \n",
      " |  ----------------------------------------------------------------------\n",
      " |  Methods inherited from _LocationIndexer:\n",
      " |  \n",
      " |  __call__(self, axis=None)\n",
      " |      Call self as a function.\n",
      " |  \n",
      " |  __getitem__(self, key)\n",
      " |  \n",
      " |  __setitem__(self, key, value)\n",
      " |  \n",
      " |  ----------------------------------------------------------------------\n",
      " |  Data descriptors inherited from _LocationIndexer:\n",
      " |  \n",
      " |  __dict__\n",
      " |      dictionary for instance variables (if defined)\n",
      " |  \n",
      " |  __weakref__\n",
      " |      list of weak references to the object (if defined)\n",
      " |  \n",
      " |  ----------------------------------------------------------------------\n",
      " |  Data and other attributes inherited from _LocationIndexer:\n",
      " |  \n",
      " |  axis = None\n",
      " |  \n",
      " |  ----------------------------------------------------------------------\n",
      " |  Methods inherited from pandas._libs.indexing.NDFrameIndexerBase:\n",
      " |  \n",
      " |  __init__(self, /, *args, **kwargs)\n",
      " |      Initialize self.  See help(type(self)) for accurate signature.\n",
      " |  \n",
      " |  __reduce__ = __reduce_cython__(...)\n",
      " |  \n",
      " |  __setstate__ = __setstate_cython__(...)\n",
      " |  \n",
      " |  ----------------------------------------------------------------------\n",
      " |  Static methods inherited from pandas._libs.indexing.NDFrameIndexerBase:\n",
      " |  \n",
      " |  __new__(*args, **kwargs) from builtins.type\n",
      " |      Create and return a new object.  See help(type) for accurate signature.\n",
      " |  \n",
      " |  ----------------------------------------------------------------------\n",
      " |  Data descriptors inherited from pandas._libs.indexing.NDFrameIndexerBase:\n",
      " |  \n",
      " |  name\n",
      " |  \n",
      " |  ndim\n",
      " |  \n",
      " |  obj\n",
      "\n"
     ]
    }
   ],
   "source": [
    "help(df.loc)"
   ]
  },
  {
   "cell_type": "code",
   "execution_count": 49,
   "id": "c950a140",
   "metadata": {},
   "outputs": [
    {
     "data": {
      "text/html": [
       "<div>\n",
       "<style scoped>\n",
       "    .dataframe tbody tr th:only-of-type {\n",
       "        vertical-align: middle;\n",
       "    }\n",
       "\n",
       "    .dataframe tbody tr th {\n",
       "        vertical-align: top;\n",
       "    }\n",
       "\n",
       "    .dataframe thead th {\n",
       "        text-align: right;\n",
       "    }\n",
       "</style>\n",
       "<table border=\"1\" class=\"dataframe\">\n",
       "  <thead>\n",
       "    <tr style=\"text-align: right;\">\n",
       "      <th></th>\n",
       "      <th>A</th>\n",
       "      <th>B</th>\n",
       "      <th>C</th>\n",
       "      <th>D</th>\n",
       "    </tr>\n",
       "  </thead>\n",
       "  <tbody>\n",
       "    <tr>\n",
       "      <th>a1</th>\n",
       "      <td>1.1</td>\n",
       "      <td>2</td>\n",
       "      <td>3.3</td>\n",
       "      <td>4</td>\n",
       "    </tr>\n",
       "    <tr>\n",
       "      <th>a2</th>\n",
       "      <td>2.7</td>\n",
       "      <td>10</td>\n",
       "      <td>5.4</td>\n",
       "      <td>7</td>\n",
       "    </tr>\n",
       "  </tbody>\n",
       "</table>\n",
       "</div>"
      ],
      "text/plain": [
       "      A   B    C  D\n",
       "a1  1.1   2  3.3  4\n",
       "a2  2.7  10  5.4  7"
      ]
     },
     "execution_count": 49,
     "metadata": {},
     "output_type": "execute_result"
    }
   ],
   "source": [
    "df.iloc[0:2]"
   ]
  },
  {
   "cell_type": "code",
   "execution_count": 50,
   "id": "94590a5a",
   "metadata": {},
   "outputs": [
    {
     "data": {
      "text/html": [
       "<div>\n",
       "<style scoped>\n",
       "    .dataframe tbody tr th:only-of-type {\n",
       "        vertical-align: middle;\n",
       "    }\n",
       "\n",
       "    .dataframe tbody tr th {\n",
       "        vertical-align: top;\n",
       "    }\n",
       "\n",
       "    .dataframe thead th {\n",
       "        text-align: right;\n",
       "    }\n",
       "</style>\n",
       "<table border=\"1\" class=\"dataframe\">\n",
       "  <thead>\n",
       "    <tr style=\"text-align: right;\">\n",
       "      <th></th>\n",
       "      <th>A</th>\n",
       "      <th>D</th>\n",
       "    </tr>\n",
       "  </thead>\n",
       "  <tbody>\n",
       "    <tr>\n",
       "      <th>a1</th>\n",
       "      <td>1.1</td>\n",
       "      <td>4</td>\n",
       "    </tr>\n",
       "    <tr>\n",
       "      <th>a2</th>\n",
       "      <td>2.7</td>\n",
       "      <td>7</td>\n",
       "    </tr>\n",
       "    <tr>\n",
       "      <th>a3</th>\n",
       "      <td>5.3</td>\n",
       "      <td>15</td>\n",
       "    </tr>\n",
       "  </tbody>\n",
       "</table>\n",
       "</div>"
      ],
      "text/plain": [
       "      A   D\n",
       "a1  1.1   4\n",
       "a2  2.7   7\n",
       "a3  5.3  15"
      ]
     },
     "execution_count": 50,
     "metadata": {},
     "output_type": "execute_result"
    }
   ],
   "source": [
    "df.loc[:,['A', 'D']]"
   ]
  },
  {
   "cell_type": "code",
   "execution_count": 51,
   "id": "c7fcb6c4",
   "metadata": {},
   "outputs": [
    {
     "name": "stdout",
     "output_type": "stream",
     "text": [
      "Help on _iLocIndexer in module pandas.core.indexing object:\n",
      "\n",
      "class _iLocIndexer(_LocationIndexer)\n",
      " |  Purely integer-location based indexing for selection by position.\n",
      " |  \n",
      " |  ``.iloc[]`` is primarily integer position based (from ``0`` to\n",
      " |  ``length-1`` of the axis), but may also be used with a boolean\n",
      " |  array.\n",
      " |  \n",
      " |  Allowed inputs are:\n",
      " |  \n",
      " |  - An integer, e.g. ``5``.\n",
      " |  - A list or array of integers, e.g. ``[4, 3, 0]``.\n",
      " |  - A slice object with ints, e.g. ``1:7``.\n",
      " |  - A boolean array.\n",
      " |  - A ``callable`` function with one argument (the calling Series or\n",
      " |    DataFrame) and that returns valid output for indexing (one of the above).\n",
      " |    This is useful in method chains, when you don't have a reference to the\n",
      " |    calling object, but would like to base your selection on some value.\n",
      " |  \n",
      " |  ``.iloc`` will raise ``IndexError`` if a requested indexer is\n",
      " |  out-of-bounds, except *slice* indexers which allow out-of-bounds\n",
      " |  indexing (this conforms with python/numpy *slice* semantics).\n",
      " |  \n",
      " |  See more at :ref:`Selection by Position <indexing.integer>`.\n",
      " |  \n",
      " |  See Also\n",
      " |  --------\n",
      " |  DataFrame.iat : Fast integer location scalar accessor.\n",
      " |  DataFrame.loc : Purely label-location based indexer for selection by label.\n",
      " |  Series.iloc : Purely integer-location based indexing for\n",
      " |                 selection by position.\n",
      " |  \n",
      " |  Examples\n",
      " |  --------\n",
      " |  >>> mydict = [{'a': 1, 'b': 2, 'c': 3, 'd': 4},\n",
      " |  ...           {'a': 100, 'b': 200, 'c': 300, 'd': 400},\n",
      " |  ...           {'a': 1000, 'b': 2000, 'c': 3000, 'd': 4000 }]\n",
      " |  >>> df = pd.DataFrame(mydict)\n",
      " |  >>> df\n",
      " |        a     b     c     d\n",
      " |  0     1     2     3     4\n",
      " |  1   100   200   300   400\n",
      " |  2  1000  2000  3000  4000\n",
      " |  \n",
      " |  **Indexing just the rows**\n",
      " |  \n",
      " |  With a scalar integer.\n",
      " |  \n",
      " |  >>> type(df.iloc[0])\n",
      " |  <class 'pandas.core.series.Series'>\n",
      " |  >>> df.iloc[0]\n",
      " |  a    1\n",
      " |  b    2\n",
      " |  c    3\n",
      " |  d    4\n",
      " |  Name: 0, dtype: int64\n",
      " |  \n",
      " |  With a list of integers.\n",
      " |  \n",
      " |  >>> df.iloc[[0]]\n",
      " |     a  b  c  d\n",
      " |  0  1  2  3  4\n",
      " |  >>> type(df.iloc[[0]])\n",
      " |  <class 'pandas.core.frame.DataFrame'>\n",
      " |  \n",
      " |  >>> df.iloc[[0, 1]]\n",
      " |       a    b    c    d\n",
      " |  0    1    2    3    4\n",
      " |  1  100  200  300  400\n",
      " |  \n",
      " |  With a `slice` object.\n",
      " |  \n",
      " |  >>> df.iloc[:3]\n",
      " |        a     b     c     d\n",
      " |  0     1     2     3     4\n",
      " |  1   100   200   300   400\n",
      " |  2  1000  2000  3000  4000\n",
      " |  \n",
      " |  With a boolean mask the same length as the index.\n",
      " |  \n",
      " |  >>> df.iloc[[True, False, True]]\n",
      " |        a     b     c     d\n",
      " |  0     1     2     3     4\n",
      " |  2  1000  2000  3000  4000\n",
      " |  \n",
      " |  With a callable, useful in method chains. The `x` passed\n",
      " |  to the ``lambda`` is the DataFrame being sliced. This selects\n",
      " |  the rows whose index label even.\n",
      " |  \n",
      " |  >>> df.iloc[lambda x: x.index % 2 == 0]\n",
      " |        a     b     c     d\n",
      " |  0     1     2     3     4\n",
      " |  2  1000  2000  3000  4000\n",
      " |  \n",
      " |  **Indexing both axes**\n",
      " |  \n",
      " |  You can mix the indexer types for the index and columns. Use ``:`` to\n",
      " |  select the entire axis.\n",
      " |  \n",
      " |  With scalar integers.\n",
      " |  \n",
      " |  >>> df.iloc[0, 1]\n",
      " |  2\n",
      " |  \n",
      " |  With lists of integers.\n",
      " |  \n",
      " |  >>> df.iloc[[0, 2], [1, 3]]\n",
      " |        b     d\n",
      " |  0     2     4\n",
      " |  2  2000  4000\n",
      " |  \n",
      " |  With `slice` objects.\n",
      " |  \n",
      " |  >>> df.iloc[1:3, 0:3]\n",
      " |        a     b     c\n",
      " |  1   100   200   300\n",
      " |  2  1000  2000  3000\n",
      " |  \n",
      " |  With a boolean array whose length matches the columns.\n",
      " |  \n",
      " |  >>> df.iloc[:, [True, False, True, False]]\n",
      " |        a     c\n",
      " |  0     1     3\n",
      " |  1   100   300\n",
      " |  2  1000  3000\n",
      " |  \n",
      " |  With a callable function that expects the Series or DataFrame.\n",
      " |  \n",
      " |  >>> df.iloc[:, lambda df: [0, 2]]\n",
      " |        a     c\n",
      " |  0     1     3\n",
      " |  1   100   300\n",
      " |  2  1000  3000\n",
      " |  \n",
      " |  Method resolution order:\n",
      " |      _iLocIndexer\n",
      " |      _LocationIndexer\n",
      " |      pandas._libs.indexing.NDFrameIndexerBase\n",
      " |      builtins.object\n",
      " |  \n",
      " |  Methods inherited from _LocationIndexer:\n",
      " |  \n",
      " |  __call__(self, axis=None)\n",
      " |      Call self as a function.\n",
      " |  \n",
      " |  __getitem__(self, key)\n",
      " |  \n",
      " |  __setitem__(self, key, value)\n",
      " |  \n",
      " |  ----------------------------------------------------------------------\n",
      " |  Data descriptors inherited from _LocationIndexer:\n",
      " |  \n",
      " |  __dict__\n",
      " |      dictionary for instance variables (if defined)\n",
      " |  \n",
      " |  __weakref__\n",
      " |      list of weak references to the object (if defined)\n",
      " |  \n",
      " |  ----------------------------------------------------------------------\n",
      " |  Data and other attributes inherited from _LocationIndexer:\n",
      " |  \n",
      " |  __annotations__ = {'_valid_types': 'str'}\n",
      " |  \n",
      " |  axis = None\n",
      " |  \n",
      " |  ----------------------------------------------------------------------\n",
      " |  Methods inherited from pandas._libs.indexing.NDFrameIndexerBase:\n",
      " |  \n",
      " |  __init__(self, /, *args, **kwargs)\n",
      " |      Initialize self.  See help(type(self)) for accurate signature.\n",
      " |  \n",
      " |  __reduce__ = __reduce_cython__(...)\n",
      " |  \n",
      " |  __setstate__ = __setstate_cython__(...)\n",
      " |  \n",
      " |  ----------------------------------------------------------------------\n",
      " |  Static methods inherited from pandas._libs.indexing.NDFrameIndexerBase:\n",
      " |  \n",
      " |  __new__(*args, **kwargs) from builtins.type\n",
      " |      Create and return a new object.  See help(type) for accurate signature.\n",
      " |  \n",
      " |  ----------------------------------------------------------------------\n",
      " |  Data descriptors inherited from pandas._libs.indexing.NDFrameIndexerBase:\n",
      " |  \n",
      " |  name\n",
      " |  \n",
      " |  ndim\n",
      " |  \n",
      " |  obj\n",
      "\n"
     ]
    }
   ],
   "source": [
    "help(df.iloc)"
   ]
  },
  {
   "cell_type": "code",
   "execution_count": 52,
   "id": "7a39f06f",
   "metadata": {},
   "outputs": [
    {
     "data": {
      "text/html": [
       "<div>\n",
       "<style scoped>\n",
       "    .dataframe tbody tr th:only-of-type {\n",
       "        vertical-align: middle;\n",
       "    }\n",
       "\n",
       "    .dataframe tbody tr th {\n",
       "        vertical-align: top;\n",
       "    }\n",
       "\n",
       "    .dataframe thead th {\n",
       "        text-align: right;\n",
       "    }\n",
       "</style>\n",
       "<table border=\"1\" class=\"dataframe\">\n",
       "  <thead>\n",
       "    <tr style=\"text-align: right;\">\n",
       "      <th></th>\n",
       "      <th>A</th>\n",
       "      <th>D</th>\n",
       "    </tr>\n",
       "  </thead>\n",
       "  <tbody>\n",
       "    <tr>\n",
       "      <th>a1</th>\n",
       "      <td>1.1</td>\n",
       "      <td>4</td>\n",
       "    </tr>\n",
       "    <tr>\n",
       "      <th>a2</th>\n",
       "      <td>2.7</td>\n",
       "      <td>7</td>\n",
       "    </tr>\n",
       "  </tbody>\n",
       "</table>\n",
       "</div>"
      ],
      "text/plain": [
       "      A  D\n",
       "a1  1.1  4\n",
       "a2  2.7  7"
      ]
     },
     "execution_count": 52,
     "metadata": {},
     "output_type": "execute_result"
    }
   ],
   "source": [
    "df.loc[:,['A', 'D']].iloc[0:2]"
   ]
  },
  {
   "cell_type": "code",
   "execution_count": 53,
   "id": "3d69f271",
   "metadata": {},
   "outputs": [
    {
     "data": {
      "text/html": [
       "<div>\n",
       "<style scoped>\n",
       "    .dataframe tbody tr th:only-of-type {\n",
       "        vertical-align: middle;\n",
       "    }\n",
       "\n",
       "    .dataframe tbody tr th {\n",
       "        vertical-align: top;\n",
       "    }\n",
       "\n",
       "    .dataframe thead th {\n",
       "        text-align: right;\n",
       "    }\n",
       "</style>\n",
       "<table border=\"1\" class=\"dataframe\">\n",
       "  <thead>\n",
       "    <tr style=\"text-align: right;\">\n",
       "      <th></th>\n",
       "      <th>B</th>\n",
       "      <th>D</th>\n",
       "    </tr>\n",
       "  </thead>\n",
       "  <tbody>\n",
       "    <tr>\n",
       "      <th>a2</th>\n",
       "      <td>10</td>\n",
       "      <td>7</td>\n",
       "    </tr>\n",
       "    <tr>\n",
       "      <th>a3</th>\n",
       "      <td>2</td>\n",
       "      <td>15</td>\n",
       "    </tr>\n",
       "  </tbody>\n",
       "</table>\n",
       "</div>"
      ],
      "text/plain": [
       "     B   D\n",
       "a2  10   7\n",
       "a3   2  15"
      ]
     },
     "execution_count": 53,
     "metadata": {},
     "output_type": "execute_result"
    }
   ],
   "source": [
    "df.loc[:,['B', 'D']].iloc[1:3]"
   ]
  },
  {
   "cell_type": "code",
   "execution_count": null,
   "id": "9815d89b",
   "metadata": {},
   "outputs": [],
   "source": []
  }
 ],
 "metadata": {
  "kernelspec": {
   "display_name": "Python 3 (ipykernel)",
   "language": "python",
   "name": "python3"
  },
  "language_info": {
   "codemirror_mode": {
    "name": "ipython",
    "version": 3
   },
   "file_extension": ".py",
   "mimetype": "text/x-python",
   "name": "python",
   "nbconvert_exporter": "python",
   "pygments_lexer": "ipython3",
   "version": "3.9.13"
  },
  "varInspector": {
   "cols": {
    "lenName": 16,
    "lenType": 16,
    "lenVar": 40
   },
   "kernels_config": {
    "python": {
     "delete_cmd_postfix": "",
     "delete_cmd_prefix": "del ",
     "library": "var_list.py",
     "varRefreshCmd": "print(var_dic_list())"
    },
    "r": {
     "delete_cmd_postfix": ") ",
     "delete_cmd_prefix": "rm(",
     "library": "var_list.r",
     "varRefreshCmd": "cat(var_dic_list()) "
    }
   },
   "position": {
    "height": "147.683px",
    "left": "771.167px",
    "right": "20px",
    "top": "120px",
    "width": "285.667px"
   },
   "types_to_exclude": [
    "module",
    "function",
    "builtin_function_or_method",
    "instance",
    "_Feature"
   ],
   "window_display": false
  }
 },
 "nbformat": 4,
 "nbformat_minor": 5
}
