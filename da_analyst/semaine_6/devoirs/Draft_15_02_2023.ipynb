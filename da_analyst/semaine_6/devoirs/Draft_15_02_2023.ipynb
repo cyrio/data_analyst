{
 "cells": [
  {
   "cell_type": "markdown",
   "id": "0d4c3dce",
   "metadata": {},
   "source": [
    "# Devoir du jour 15 - 02 - 2023"
   ]
  },
  {
   "cell_type": "markdown",
   "id": "0967657c",
   "metadata": {},
   "source": [
    "\n",
    "amandine.hoton@ac-versailles.fr\n",
    "estelle.manceau@ac-versailles.fr\n",
    "dallardben@gmail.com\n",
    "\n",
    "Mission 1 **étude de cas**: \n",
    " 1. Se renseigner sur ce qu’est un KPI et à quoi dela sert dans le domaine de la data anlyse \n",
    " 2. Importez les bonnes librairies et le dataset resto.csv : (https://drive.google.com/file/d/1-OO5g9UYuMsTT6hyJPQSIM6g0ygbqDLV/view?usp=share_link)\n",
    " 3. Analyser les differentes variables (columns) du dataset\n",
    " 4. Afficher la dimension du dataset et les statistique descriptives ?\n",
    " 5. Affichez toutes les colonnes du dataset sous forme d'objet list python\n",
    " 6. Quel est l’item le plus commandé ?\n",
    " 7. Combien d’items ont été commandés au total chez Chipotle\n",
    " 8. Combien de chiffre d’affaire à realisé la société ?\n",
    " 9. Quel est le revenu moyen par commande ? \n",
    " 10. Formaliser une petite conclusion sous forme de rapport d'analyse dans un jupyter notebook en ajoutant si vous le voulez des graphiques ou d'autres analyses pertinentes. \n"
   ]
  },
  {
   "cell_type": "markdown",
   "id": "363cd697",
   "metadata": {},
   "source": [
    "Mission 2 **projet DA**: \n",
    "1. Trouver un dataset avec au minimum 10 columns sur (http://kaggle.com/) ou bien le site de votre choix \n",
    "2. Trouver une problématique pertinente *(**c-a-d qu'il ne suffit pas d'un seul graphique ou d'une statistique pour la résoudre**)*\n",
    "3. Commencer à jouer avec les data sur un jupyter notebook que vous deposerez sur github pour 17h \n",
    "\n",
    "**Conditions d'execution**: \n",
    "Envoyer par mail à moi : (dallardben@gmail.com) avec en copie Estelle et Amandine avec pour objet : LIVRABLE 15/02/23 - NOM PRENOM et vos jupyter notebook sous forme de lien github dans votre mail. \n",
    "On se retrouve vendredi pour un nouvel épisode."
   ]
  },
  {
   "cell_type": "markdown",
   "id": "5344e5f2",
   "metadata": {},
   "source": []
  },
  {
   "cell_type": "markdown",
   "id": "1ce5acf9",
   "metadata": {},
   "source": [
    "\n"
   ]
  },
  {
   "cell_type": "markdown",
   "id": "50359a66",
   "metadata": {},
   "source": []
  },
  {
   "cell_type": "markdown",
   "id": "f56f5b46",
   "metadata": {},
   "source": []
  }
 ],
 "metadata": {
  "kernelspec": {
   "display_name": "Python 3 (ipykernel)",
   "language": "python",
   "name": "python3"
  },
  "language_info": {
   "codemirror_mode": {
    "name": "ipython",
    "version": 3
   },
   "file_extension": ".py",
   "mimetype": "text/x-python",
   "name": "python",
   "nbconvert_exporter": "python",
   "pygments_lexer": "ipython3",
   "version": "3.9.13"
  },
  "varInspector": {
   "cols": {
    "lenName": 16,
    "lenType": 16,
    "lenVar": 40
   },
   "kernels_config": {
    "python": {
     "delete_cmd_postfix": "",
     "delete_cmd_prefix": "del ",
     "library": "var_list.py",
     "varRefreshCmd": "print(var_dic_list())"
    },
    "r": {
     "delete_cmd_postfix": ") ",
     "delete_cmd_prefix": "rm(",
     "library": "var_list.r",
     "varRefreshCmd": "cat(var_dic_list()) "
    }
   },
   "types_to_exclude": [
    "module",
    "function",
    "builtin_function_or_method",
    "instance",
    "_Feature"
   ],
   "window_display": false
  }
 },
 "nbformat": 4,
 "nbformat_minor": 5
}
