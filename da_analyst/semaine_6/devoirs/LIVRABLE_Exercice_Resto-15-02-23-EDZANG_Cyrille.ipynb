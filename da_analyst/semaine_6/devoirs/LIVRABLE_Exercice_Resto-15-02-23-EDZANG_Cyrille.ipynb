{
 "cells": [
  {
   "cell_type": "markdown",
   "id": "77cf0f1d",
   "metadata": {},
   "source": [
    "# Questions"
   ]
  },
  {
   "cell_type": "markdown",
   "id": "8ac00069",
   "metadata": {},
   "source": [
    "1. Question 1:   "
   ]
  },
  {
   "cell_type": "markdown",
   "id": "cf5760c0",
   "metadata": {},
   "source": [
    "- a°) Qu'est ce qu’est un KPI?\n",
    "   KPI signifie indicateur de performance clé, une mesure quantifiable de la         performance dans le temps pour un objectif spécifique. \n",
    "       Les indicateurs de performance clés fournissent des objectifs à atteindre par les équipes, des jalons pour évaluer les progrès et des informations qui aident les personnes de toute l'organisation à prendre de meilleures décisions. De la finance et des ressources humaines au marketing et aux ventes, les indicateurs de performance clés aident chaque domaine de l'entreprise à progresser au niveau stratégique.\n"
   ]
  },
  {
   "cell_type": "markdown",
   "id": "44d3e9bb",
   "metadata": {},
   "source": [
    " - b°) A quoi cela sert dans le domaine de la data analyse?\n",
    " Pourquoi les KPI sont-ils importants ?\n",
    "Les indicateurs de performance clés sont un moyen important de s'assurer que vos équipes soutiennent les objectifs généraux de l'organisation. Voici quelques-unes des principales raisons pour lesquelles vous avez besoin d'indicateurs de performance clés.\n",
    "\n",
    "Gardez vos équipes alignées : qu'il s'agisse de mesurer le succès d'un projet ou la performance des employés, les KPI permettent aux équipes d'avancer dans la même direction.\n",
    "Fournissez un bilan de santé : les indicateurs de performance clés vous donnent un aperçu réaliste de la santé de votre organisation, des facteurs de risque aux indicateurs financiers.\n",
    "Faites des ajustements : les KPI vous aident à voir clairement vos succès et vos échecs afin que vous puissiez faire plus de ce qui fonctionne et moins de ce qui ne fonctionne pas.\n",
    "Tenez vos équipes responsables : assurez-vous que chacun apporte de la valeur avec des indicateurs de performance clés qui aident les employés à suivre leurs progrès et aident les managers à faire avancer les choses."
   ]
  },
  {
   "cell_type": "code",
   "execution_count": 1,
   "id": "10aab9de",
   "metadata": {},
   "outputs": [],
   "source": [
    "\"\"\"\n",
    "Question 2 : Importez les bonnes librairies et le dataset resto.csv\n",
    "\"\"\"\n",
    "\n",
    "import pandas as pd\n",
    "import numpy as np\n",
    "import seaborn as sns\n",
    "import matplotlib.pyplot as plt\n",
    "%matplotlib inline"
   ]
  },
  {
   "cell_type": "code",
   "execution_count": 3,
   "id": "55ba5803",
   "metadata": {},
   "outputs": [
    {
     "name": "stdout",
     "output_type": "stream",
     "text": [
      "/Users/cyrilleedzang/Documents/Formations/greta-Python/notes_de_cours/data_analyst/semaine_6/devoirs\r\n"
     ]
    }
   ],
   "source": [
    "#df_resto = pd.read_csv(\"resto.csv\");df_resto\n",
    "!pwd"
   ]
  },
  {
   "cell_type": "code",
   "execution_count": null,
   "id": "313a4d3f",
   "metadata": {},
   "outputs": [],
   "source": []
  }
 ],
 "metadata": {
  "kernelspec": {
   "display_name": "Python 3 (ipykernel)",
   "language": "python",
   "name": "python3"
  },
  "language_info": {
   "codemirror_mode": {
    "name": "ipython",
    "version": 3
   },
   "file_extension": ".py",
   "mimetype": "text/x-python",
   "name": "python",
   "nbconvert_exporter": "python",
   "pygments_lexer": "ipython3",
   "version": "3.9.13"
  },
  "varInspector": {
   "cols": {
    "lenName": 16,
    "lenType": 16,
    "lenVar": 40
   },
   "kernels_config": {
    "python": {
     "delete_cmd_postfix": "",
     "delete_cmd_prefix": "del ",
     "library": "var_list.py",
     "varRefreshCmd": "print(var_dic_list())"
    },
    "r": {
     "delete_cmd_postfix": ") ",
     "delete_cmd_prefix": "rm(",
     "library": "var_list.r",
     "varRefreshCmd": "cat(var_dic_list()) "
    }
   },
   "types_to_exclude": [
    "module",
    "function",
    "builtin_function_or_method",
    "instance",
    "_Feature"
   ],
   "window_display": false
  }
 },
 "nbformat": 4,
 "nbformat_minor": 5
}
