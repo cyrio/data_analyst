{
 "cells": [
  {
   "cell_type": "markdown",
   "metadata": {
    "id": "OXI9gLlFd4yM"
   },
   "source": [
    "### Exercice 1:\n",
    "Create a 1-dimensional NumPy array with 5 integers from 0 to 4."
   ]
  },
  {
   "cell_type": "code",
   "execution_count": 2,
   "metadata": {
    "colab": {
     "base_uri": "https://localhost:8080/"
    },
    "id": "ztKcBzC3PqX4",
    "outputId": "9ef810e2-e5f5-4dfe-c6f2-5dfdbeb7ff75"
   },
   "outputs": [
    {
     "data": {
      "text/plain": [
       "array([0, 1, 2, 3, 4])"
      ]
     },
     "execution_count": 2,
     "metadata": {},
     "output_type": "execute_result"
    }
   ],
   "source": [
    "import numpy as np\n",
    "np.arange(5)"
   ]
  },
  {
   "cell_type": "code",
   "execution_count": 3,
   "metadata": {
    "colab": {
     "base_uri": "https://localhost:8080/"
    },
    "id": "VRZHpGEUW4ZO",
    "outputId": "bc199836-977d-49ad-fa6d-6b9b915f4a5c"
   },
   "outputs": [
    {
     "data": {
      "text/plain": [
       "array([0, 1, 2, 3, 4])"
      ]
     },
     "execution_count": 3,
     "metadata": {},
     "output_type": "execute_result"
    }
   ],
   "source": [
    "np.array([0,1,2,3,4])"
   ]
  },
  {
   "cell_type": "markdown",
   "metadata": {
    "id": "uxF4VxyNdE1f"
   },
   "source": [
    " ### Exercice 2:\n",
    " Create a 2-dimensional NumPy array with shape (2, 3) containing only ones."
   ]
  },
  {
   "cell_type": "code",
   "execution_count": 5,
   "metadata": {
    "colab": {
     "base_uri": "https://localhost:8080/"
    },
    "id": "KkKtfryyPqv2",
    "outputId": "c2824720-7d1a-4ccc-a7f1-96d11ef28075"
   },
   "outputs": [
    {
     "data": {
      "text/plain": [
       "array([[1., 1., 1.],\n",
       "       [1., 1., 1.]])"
      ]
     },
     "execution_count": 5,
     "metadata": {},
     "output_type": "execute_result"
    }
   ],
   "source": [
    "np.ones((2,3))"
   ]
  },
  {
   "cell_type": "markdown",
   "metadata": {
    "id": "5lZ_Kas9dF_a"
   },
   "source": [
    "### Exercice 3:\n",
    "Create a 3-dimensional NumPy array with shape (2, 3, 4) containing only zeros."
   ]
  },
  {
   "cell_type": "code",
   "execution_count": 8,
   "metadata": {
    "colab": {
     "base_uri": "https://localhost:8080/"
    },
    "id": "McI0UnGlPrIL",
    "outputId": "d0f1818c-a2fd-4160-89b5-ef30461fa1ab"
   },
   "outputs": [
    {
     "data": {
      "text/plain": [
       "array([[[0., 0., 0., 0.],\n",
       "        [0., 0., 0., 0.],\n",
       "        [0., 0., 0., 0.]],\n",
       "\n",
       "       [[0., 0., 0., 0.],\n",
       "        [0., 0., 0., 0.],\n",
       "        [0., 0., 0., 0.]]])"
      ]
     },
     "execution_count": 8,
     "metadata": {},
     "output_type": "execute_result"
    }
   ],
   "source": [
    "np.zeros((2,3,4))"
   ]
  },
  {
   "cell_type": "markdown",
   "metadata": {
    "id": "0xD6apZpdL4u"
   },
   "source": [
    "### Exercice 4:\n",
    "Create a 2-dimensional NumPy array with shape (3, 4) containing random integers between 0 and 9."
   ]
  },
  {
   "cell_type": "code",
   "execution_count": 13,
   "metadata": {
    "id": "piZgXDK4Prda"
   },
   "outputs": [],
   "source": [
    "arr = np.random.randint(0,9,(3,4))"
   ]
  },
  {
   "cell_type": "markdown",
   "metadata": {
    "id": "-Mln-90sdNpw"
   },
   "source": [
    "### Exercice 5:\n",
    "Create a 2-dimensional NumPy array with shape (3, 4) and find its dimensions and size."
   ]
  },
  {
   "cell_type": "code",
   "execution_count": 16,
   "metadata": {
    "colab": {
     "base_uri": "https://localhost:8080/"
    },
    "id": "zpE8Tj1mPr2o",
    "outputId": "a825e7e6-78fb-4c0c-d044-9328faf323ec"
   },
   "outputs": [
    {
     "data": {
      "text/plain": [
       "(2, (3, 4), 12)"
      ]
     },
     "execution_count": 16,
     "metadata": {},
     "output_type": "execute_result"
    }
   ],
   "source": [
    "arr.ndim, arr.shape, arr.size"
   ]
  },
  {
   "cell_type": "markdown",
   "metadata": {
    "id": "JECID7F1dOUe"
   },
   "source": [
    "### Exercice 6:\n",
    "Create a 2-dimensional NumPy array with shape (3, 4) and calculate the sum of all its elements."
   ]
  },
  {
   "cell_type": "code",
   "execution_count": 19,
   "metadata": {
    "colab": {
     "base_uri": "https://localhost:8080/"
    },
    "id": "j8fNeTqiPsiI",
    "outputId": "0ac2fe12-7a84-49ae-ebf6-e2ac303c18bb"
   },
   "outputs": [
    {
     "data": {
      "text/plain": [
       "(33, 33)"
      ]
     },
     "execution_count": 19,
     "metadata": {},
     "output_type": "execute_result"
    }
   ],
   "source": [
    "arr.sum(), np.sum(arr)"
   ]
  },
  {
   "cell_type": "code",
   "execution_count": 18,
   "metadata": {
    "colab": {
     "base_uri": "https://localhost:8080/"
    },
    "id": "5pOsN_xuZQFz",
    "outputId": "2c425c3d-3529-408b-a0a3-821ffa4bba88"
   },
   "outputs": [
    {
     "data": {
      "text/plain": [
       "array([[2, 2, 0, 0],\n",
       "       [3, 4, 5, 7],\n",
       "       [1, 7, 1, 1]])"
      ]
     },
     "execution_count": 18,
     "metadata": {},
     "output_type": "execute_result"
    }
   ],
   "source": [
    "arr"
   ]
  },
  {
   "cell_type": "markdown",
   "metadata": {
    "id": "FUEt_rFpdZay"
   },
   "source": [
    "### Exercice 7:\n",
    "Create a 2-dimensional NumPy array with shape (3, 4) and find the minimum and maximum value in each row."
   ]
  },
  {
   "cell_type": "code",
   "execution_count": 24,
   "metadata": {
    "colab": {
     "base_uri": "https://localhost:8080/"
    },
    "id": "bgsH9u_UPtCs",
    "outputId": "e24106fe-5966-44ea-83fd-73576ea5dd68"
   },
   "outputs": [
    {
     "name": "stdout",
     "output_type": "stream",
     "text": [
      "{'maxi': [2, 7, 7], 'mini': [0, 3, 1]}\n"
     ]
    }
   ],
   "source": [
    "maxi =[]\n",
    "mini = []\n",
    "d = {'maxi': [],'mini':[]}\n",
    "for i in arr :\n",
    "  d['maxi'].append(i.max())\n",
    "  d['mini'].append(i.min())\n",
    "\n",
    "print(d)"
   ]
  },
  {
   "cell_type": "markdown",
   "metadata": {
    "id": "LCHEvMbLdcWg"
   },
   "source": [
    "### Exercice 8:\n",
    "Create a 2-dimensional NumPy array with shape (3, 4) and replace all the odd numbers with -1."
   ]
  },
  {
   "cell_type": "code",
   "execution_count": 25,
   "metadata": {
    "id": "cnh8SjuSPtjP"
   },
   "outputs": [],
   "source": [
    "arr = np.random.randint(1000,3000,(3,4))"
   ]
  },
  {
   "cell_type": "code",
   "execution_count": 26,
   "metadata": {
    "colab": {
     "base_uri": "https://localhost:8080/"
    },
    "id": "1sX0TvLvbGQ1",
    "outputId": "bcc80a28-b247-4b16-e299-b7421a3f35cd"
   },
   "outputs": [
    {
     "data": {
      "text/plain": [
       "array([[2642, 2336, 2727, 2253],\n",
       "       [1414, 1927, 2931, 1492],\n",
       "       [2682, 1551, 1263, 2814]])"
      ]
     },
     "execution_count": 26,
     "metadata": {},
     "output_type": "execute_result"
    }
   ],
   "source": [
    "arr"
   ]
  },
  {
   "cell_type": "code",
   "execution_count": 27,
   "metadata": {
    "id": "bY4UjuzpbGKZ"
   },
   "outputs": [],
   "source": [
    "arr[arr%2 != 0] =-1"
   ]
  },
  {
   "cell_type": "code",
   "execution_count": 28,
   "metadata": {
    "colab": {
     "base_uri": "https://localhost:8080/"
    },
    "id": "2y_LH9-qbfQM",
    "outputId": "3231abad-e120-431b-b7ca-d91266add30f"
   },
   "outputs": [
    {
     "data": {
      "text/plain": [
       "array([[2642, 2336,   -1,   -1],\n",
       "       [1414,   -1,   -1, 1492],\n",
       "       [2682,   -1,   -1, 2814]])"
      ]
     },
     "execution_count": 28,
     "metadata": {},
     "output_type": "execute_result"
    }
   ],
   "source": [
    "arr"
   ]
  },
  {
   "cell_type": "markdown",
   "metadata": {
    "id": "ZiFcLInIdfOK"
   },
   "source": [
    "### Exercice 9:\n",
    "Create a 2-dimensional NumPy array with shape (3, 4) and extract the elements in the second and third row and the second and third column."
   ]
  },
  {
   "cell_type": "code",
   "execution_count": 30,
   "metadata": {
    "colab": {
     "base_uri": "https://localhost:8080/"
    },
    "id": "EuHqXu2gPuLG",
    "outputId": "59e73df1-a563-4f94-a1c7-158ce72c1c29"
   },
   "outputs": [
    {
     "data": {
      "text/plain": [
       "array([[2524, 2517, 2613, 2718],\n",
       "       [1397, 1168, 2675, 1008],\n",
       "       [1536, 1365, 2549, 1774]])"
      ]
     },
     "execution_count": 30,
     "metadata": {},
     "output_type": "execute_result"
    }
   ],
   "source": [
    "arr = np.random.randint(1000,3000,(3,4))\n",
    "arr"
   ]
  },
  {
   "cell_type": "code",
   "execution_count": 32,
   "metadata": {
    "colab": {
     "base_uri": "https://localhost:8080/"
    },
    "id": "hyO8tdFYcI4A",
    "outputId": "9df1eeb5-d8e7-4b8f-fa25-b5e76953534f"
   },
   "outputs": [
    {
     "data": {
      "text/plain": [
       "array([[1168, 2675],\n",
       "       [1365, 2549]])"
      ]
     },
     "execution_count": 32,
     "metadata": {},
     "output_type": "execute_result"
    }
   ],
   "source": [
    "arr[1:3, 1:3]"
   ]
  },
  {
   "cell_type": "markdown",
   "metadata": {
    "id": "xmRnLq1bdhaN"
   },
   "source": [
    "### Exercice 10:\n",
    "Create a 2-dimensional NumPy array with shape (3, 4) and multiply each element by 2."
   ]
  },
  {
   "cell_type": "code",
   "execution_count": 35,
   "metadata": {
    "colab": {
     "base_uri": "https://localhost:8080/"
    },
    "id": "1KIICrnhPuqD",
    "outputId": "c1394e73-211f-470b-94d3-ea52ef402f44"
   },
   "outputs": [
    {
     "data": {
      "text/plain": [
       "array([[2, 8, 2, 8],\n",
       "       [4, 6, 8, 6],\n",
       "       [8, 2, 8, 4]])"
      ]
     },
     "execution_count": 35,
     "metadata": {},
     "output_type": "execute_result"
    }
   ],
   "source": [
    "arr = np.random.randint(1,5,(3,4))\n",
    "arr*2"
   ]
  },
  {
   "cell_type": "code",
   "execution_count": 36,
   "metadata": {
    "colab": {
     "base_uri": "https://localhost:8080/"
    },
    "id": "NRVuJn4DcfAI",
    "outputId": "986404ed-b365-46a0-ec5b-1c8d70b5b88b"
   },
   "outputs": [
    {
     "data": {
      "text/plain": [
       "array([[1, 4, 1, 4],\n",
       "       [2, 3, 4, 3],\n",
       "       [4, 1, 4, 2]])"
      ]
     },
     "execution_count": 36,
     "metadata": {},
     "output_type": "execute_result"
    }
   ],
   "source": [
    "arr"
   ]
  },
  {
   "cell_type": "code",
   "execution_count": null,
   "metadata": {
    "id": "-u_SQltDckxr"
   },
   "outputs": [],
   "source": []
  }
 ],
 "metadata": {
  "colab": {
   "provenance": []
  },
  "kernelspec": {
   "display_name": "Python 3 (ipykernel)",
   "language": "python",
   "name": "python3"
  },
  "language_info": {
   "codemirror_mode": {
    "name": "ipython",
    "version": 3
   },
   "file_extension": ".py",
   "mimetype": "text/x-python",
   "name": "python",
   "nbconvert_exporter": "python",
   "pygments_lexer": "ipython3",
   "version": "3.9.13"
  },
  "varInspector": {
   "cols": {
    "lenName": 16,
    "lenType": 16,
    "lenVar": 40
   },
   "kernels_config": {
    "python": {
     "delete_cmd_postfix": "",
     "delete_cmd_prefix": "del ",
     "library": "var_list.py",
     "varRefreshCmd": "print(var_dic_list())"
    },
    "r": {
     "delete_cmd_postfix": ") ",
     "delete_cmd_prefix": "rm(",
     "library": "var_list.r",
     "varRefreshCmd": "cat(var_dic_list()) "
    }
   },
   "types_to_exclude": [
    "module",
    "function",
    "builtin_function_or_method",
    "instance",
    "_Feature"
   ],
   "window_display": false
  }
 },
 "nbformat": 4,
 "nbformat_minor": 1
}
