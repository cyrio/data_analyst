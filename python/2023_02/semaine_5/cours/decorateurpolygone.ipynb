{
 "cells": [
  {
   "cell_type": "markdown",
   "id": "552ea1c0",
   "metadata": {},
   "source": [
    "# Desing pattern décorateur"
   ]
  },
  {
   "cell_type": "code",
   "execution_count": 1,
   "id": "e207ad85",
   "metadata": {},
   "outputs": [],
   "source": [
    "from turtle import *\n",
    "from point import Point\n",
    "from polygon import RegularPolygone, Polygone\n",
    "\n",
    "\n",
    "base =500\n",
    "n = 5\n",
    "cote = base / n\n",
    "p = RegularPolygone(Point(0,0),n,cote, 'red',\n",
    "                            30)\n",
    "p.dessine()\n",
    "done()\n"
   ]
  },
  {
   "cell_type": "code",
   "execution_count": 2,
   "id": "aeb0c524",
   "metadata": {},
   "outputs": [],
   "source": [
    "class PolygonDecorator(Polygone):\n",
    "    def __init__(self, poly):\n",
    "        super().__init__(poly.sommets, poly.couleur)\n",
    "        self.poly = poly\n",
    "\n",
    "        "
   ]
  },
  {
   "cell_type": "code",
   "execution_count": 3,
   "id": "4c7fb326",
   "metadata": {},
   "outputs": [],
   "source": [
    "from math import sin, cos, pi\n",
    "class Translate(PolygonDecorator):\n",
    "    def __init__(self, poly, dx, dy):\n",
    "        super().__init__(poly)\n",
    "        self.dx = dx\n",
    "        self.dy = dy\n",
    "        for i in range(len(self.poly)):\n",
    "            self.poly.sommets[i].x += dx\n",
    "            self.poly.sommets[i].y += dy\n",
    "\n",
    "class Rotate(PolygonDecorator):\n",
    "    def __init__(self, poly, alpha):\n",
    "        super().__init__(poly)\n",
    "        self.alpha = alpha / (2*pi)\n",
    "        for i in range(len(self.poly)):\n",
    "            x = self.poly.sommets[i].x\n",
    "            y = self.poly.sommets[i].y\n",
    "            x1 = x*cos(alpha)+ y*sin(alpha)\n",
    "            y1 = -x*sin(alpha) + y*cos(alpha)\n",
    "            self.poly.sommets[i].x = x1\n",
    "            self.poly.sommets[i].y = y1\n",
    "\n"
   ]
  },
  {
   "cell_type": "code",
   "execution_count": null,
   "id": "a0fab477",
   "metadata": {
    "scrolled": false
   },
   "outputs": [],
   "source": [
    "base =500\n",
    "n = 5\n",
    "cote = base / n\n",
    "p = RegularPolygone(Point(0,0),n,cote, 'red',\n",
    "                            30)\n",
    "p.dessine()\n",
    "\n",
    "q = Rotate(Translate(p,45,75), 45)\n",
    "q.dessine()\n",
    "done()"
   ]
  },
  {
   "cell_type": "code",
   "execution_count": null,
   "id": "eb4d1c7a",
   "metadata": {},
   "outputs": [],
   "source": []
  }
 ],
 "metadata": {
  "kernelspec": {
   "display_name": "Python 3 (ipykernel)",
   "language": "python",
   "name": "python3"
  },
  "language_info": {
   "codemirror_mode": {
    "name": "ipython",
    "version": 3
   },
   "file_extension": ".py",
   "mimetype": "text/x-python",
   "name": "python",
   "nbconvert_exporter": "python",
   "pygments_lexer": "ipython3",
   "version": "3.10.5"
  }
 },
 "nbformat": 4,
 "nbformat_minor": 5
}
