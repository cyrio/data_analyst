{
 "cells": [
  {
   "cell_type": "markdown",
   "id": "f3041fa4",
   "metadata": {},
   "source": [
    "# Singleton"
   ]
  },
  {
   "cell_type": "code",
   "execution_count": 1,
   "id": "3dcf91dc",
   "metadata": {},
   "outputs": [],
   "source": [
    "class Singleton:\n",
    "    def __new__(cls):\n",
    "        if not hasattr(cls,'_instance'):\n",
    "            cls._instance = super().__new__(cls)\n",
    "        return cls._instance\n",
    "            "
   ]
  },
  {
   "cell_type": "code",
   "execution_count": 2,
   "id": "49b047df",
   "metadata": {},
   "outputs": [],
   "source": [
    "s1 = Singleton()"
   ]
  },
  {
   "cell_type": "code",
   "execution_count": 3,
   "id": "2f2744cf",
   "metadata": {},
   "outputs": [
    {
     "data": {
      "text/plain": [
       "<__main__.Singleton at 0x2564c9c4c40>"
      ]
     },
     "execution_count": 3,
     "metadata": {},
     "output_type": "execute_result"
    }
   ],
   "source": [
    "s1"
   ]
  },
  {
   "cell_type": "code",
   "execution_count": 5,
   "id": "74e74ee8",
   "metadata": {},
   "outputs": [
    {
     "data": {
      "text/plain": [
       "<__main__.Singleton at 0x2564c9c4c40>"
      ]
     },
     "execution_count": 5,
     "metadata": {},
     "output_type": "execute_result"
    }
   ],
   "source": [
    "s2 = Singleton()\n",
    "s2"
   ]
  },
  {
   "cell_type": "code",
   "execution_count": 7,
   "id": "fc981b85",
   "metadata": {},
   "outputs": [
    {
     "name": "stdout",
     "output_type": "stream",
     "text": [
      "Lecture des préférences\n"
     ]
    }
   ],
   "source": [
    "class Preference:\n",
    "    def __new__(cls):\n",
    "        if not hasattr(cls,'_instance'):\n",
    "            cls._instance = super().__new__(cls)\n",
    "                #\n",
    "            # lire les préférences de l'utilisateur\n",
    "            #\n",
    "            with open(\"prefs.txt\") as f:\n",
    "                print(\"Lecture des préférences\")\n",
    "                cls._instance.prefs = f.read()\n",
    "            #\n",
    "        return cls._instance\n",
    "\n",
    "    \n",
    "p = Preference()\n",
    "\n",
    "\n",
    "q= Preference()\n",
    "    \n",
    "    "
   ]
  },
  {
   "cell_type": "code",
   "execution_count": null,
   "id": "e643c659",
   "metadata": {},
   "outputs": [],
   "source": []
  }
 ],
 "metadata": {
  "kernelspec": {
   "display_name": "Python 3 (ipykernel)",
   "language": "python",
   "name": "python3"
  },
  "language_info": {
   "codemirror_mode": {
    "name": "ipython",
    "version": 3
   },
   "file_extension": ".py",
   "mimetype": "text/x-python",
   "name": "python",
   "nbconvert_exporter": "python",
   "pygments_lexer": "ipython3",
   "version": "3.10.5"
  }
 },
 "nbformat": 4,
 "nbformat_minor": 5
}
