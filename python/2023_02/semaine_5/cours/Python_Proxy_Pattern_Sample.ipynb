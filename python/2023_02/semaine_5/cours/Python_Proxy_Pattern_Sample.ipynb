{
 "cells": [
  {
   "cell_type": "markdown",
   "id": "182a11e8",
   "metadata": {},
   "source": [
    "## Proxy Design Pattern"
   ]
  },
  {
   "cell_type": "markdown",
   "id": "9102aa53",
   "metadata": {},
   "source": [
    "### Overview"
   ]
  },
  {
   "cell_type": "markdown",
   "id": "f7e012c8",
   "metadata": {},
   "source": [
    "\n",
    "   The `Proxy design pattern` is a class functioning as an interface to another class or object.\n",
    "A Proxy could be for anything, such as a network connection, an object in memory, a file, or anything else you need to provide an abstraction between.\n",
    "Types of proxies, \n"
   ]
  },
  {
   "cell_type": "markdown",
   "id": "a34afa4b",
   "metadata": {},
   "source": [
    "- **Virtual Proxy**: An object that can cache parts of the real object, and then complete loading the full object when necessary.\n",
    "- **Remote Proxy**: Can relay messages to a real object that exists in a different address space.\n",
    "\n",
    "- **Protection Proxy**: Apply an authentication layer in front of the real object.\n",
    "\n",
    "- **Smart Reference**: An object whose internal attributes can be overridden or replaced."
   ]
  },
  {
   "cell_type": "markdown",
   "id": "4805e84b",
   "metadata": {},
   "source": [
    "Additional functionality can be provided at the proxy abstraction if required. E.g., caching, authorization, validation, lazy initialization, logging.\n",
    "\n",
    "The proxy should implement the subject interface as much as possible so that the proxy and subject appear identical to the client.\n",
    "\n",
    "The Proxy Pattern can also be called Monkey Patching or Object Augmentation"
   ]
  },
  {
   "cell_type": "markdown",
   "id": "5f0ad214",
   "metadata": {},
   "source": [
    "## Terminology"
   ]
  },
  {
   "cell_type": "markdown",
   "id": "1b2faf71",
   "metadata": {},
   "source": [
    "- **Proxy**: An object with an interface identical to the real subject. Can act as a placeholder until the real subject is loaded or as gatekeeper applying extra functionality.\n",
    "- **Subject Interface**: An interface implemented by both the Proxy and Real Subject.\n",
    "- **Real Subject**: The actual real object that the proxy is representing.\n",
    "- **Client**: The client application that uses and creates the Proxy."
   ]
  },
  {
   "cell_type": "markdown",
   "id": "5679e8e8",
   "metadata": {},
   "source": [
    "## Proxy UML Diagram"
   ]
  },
  {
   "cell_type": "markdown",
   "id": "05985f0f",
   "metadata": {},
   "source": [
    "![prxy uml diagramme](https://sbcode.net/python/img/proxy_concept.svg)"
   ]
  },
  {
   "cell_type": "markdown",
   "id": "05940c0a",
   "metadata": {},
   "source": [
    "## Source Code"
   ]
  },
  {
   "cell_type": "markdown",
   "id": "530572f8",
   "metadata": {},
   "source": [
    "This concept example will simulate a virtual proxy. The real subject will be called via the proxy. The first time the request is made, the proxy will retrieve the data from the real subject. The second time it is called, it will return the data from the proxies own cache which it created from the first request.\n"
   ]
  },
  {
   "cell_type": "markdown",
   "id": "de2a4914",
   "metadata": {},
   "source": [
    "./proxy/proxy_concept.py"
   ]
  },
  {
   "cell_type": "code",
   "execution_count": 1,
   "id": "1b36e735",
   "metadata": {},
   "outputs": [],
   "source": [
    "# pylint: disable=too-few-public-methods\n",
    "# pylint: disable=arguments-differ\n",
    "\"A Proxy Concept Example\"\n",
    "\n",
    "from abc import ABCMeta, abstractmethod\n",
    "\n",
    "class ISubject(metaclass=ABCMeta):\n",
    "    \"An interface implemented by both the Proxy and Real Subject\"\n",
    "    @staticmethod\n",
    "    @abstractmethod\n",
    "    def request():\n",
    "        \"A method to implement\"\n",
    "\n",
    "class RealSubject(ISubject):\n",
    "    \"The actual real object that the proxy is representing\"\n",
    "\n",
    "    def __init__(self):\n",
    "        # hypothetically enormous amounts of data\n",
    "        self.enormous_data = [1, 2, 3]\n",
    "\n",
    "    def request(self):\n",
    "        return self.enormous_data\n",
    "\n",
    "class Proxy(ISubject):\n",
    "    \"\"\"\n",
    "    The proxy. In this case the proxy will act as a cache for\n",
    "    `enormous_data` and only populate the enormous_data when it\n",
    "    is actually necessary\n",
    "    \"\"\"\n",
    "\n",
    "    def __init__(self):\n",
    "        self.enormous_data = []\n",
    "        self.real_subject = RealSubject()\n",
    "\n",
    "    def request(self):\n",
    "        \"\"\"\n",
    "        Using the proxy as a cache, and loading data into it only if\n",
    "        it is needed\n",
    "        \"\"\"\n",
    "        if self.enormous_data == []:\n",
    "            print(\"pulling data from RealSubject\")\n",
    "            self.enormous_data = self.real_subject.request()\n",
    "            return self.enormous_data\n",
    "        print(\"pulling data from Proxy cache\")\n",
    "        return self.enormous_data\n",
    "\n",
    "\n",
    "\n"
   ]
  },
  {
   "cell_type": "code",
   "execution_count": 2,
   "id": "44c3c836",
   "metadata": {},
   "outputs": [
    {
     "name": "stdout",
     "output_type": "stream",
     "text": [
      "140256004768288\n"
     ]
    }
   ],
   "source": [
    "# The Client\n",
    "SUBJECT = Proxy()\n",
    "# use SUBJECT\n",
    "print(id(SUBJECT))"
   ]
  },
  {
   "cell_type": "code",
   "execution_count": 3,
   "id": "071e553a",
   "metadata": {},
   "outputs": [
    {
     "name": "stdout",
     "output_type": "stream",
     "text": [
      "pulling data from RealSubject\n",
      "[1, 2, 3]\n"
     ]
    }
   ],
   "source": [
    "# load the enormous amounts of data because now we want to show it.\n",
    "print(SUBJECT.request())"
   ]
  },
  {
   "cell_type": "code",
   "execution_count": 4,
   "id": "09ba47f6",
   "metadata": {},
   "outputs": [
    {
     "name": "stdout",
     "output_type": "stream",
     "text": [
      "pulling data from Proxy cache\n",
      "[1, 2, 3]\n"
     ]
    }
   ],
   "source": [
    "# show the data again, but this time it retrieves it from the local cache\n",
    "print(SUBJECT.request())"
   ]
  },
  {
   "cell_type": "markdown",
   "id": "92698c58",
   "metadata": {},
   "source": [
    "## Example Use Case"
   ]
  },
  {
   "cell_type": "markdown",
   "id": "cbc4e455",
   "metadata": {},
   "source": [
    "In this example, I dynamically change the class of an object. So, I am essentially using an object as a proxy to other classes.\n",
    "\n",
    "Every time the `tell_me_the_future()` method is called; it will randomly change the object to use a different class.\n",
    "\n",
    "The object `PROTEUS` will then use the same static attributes and class methods of the new class instead."
   ]
  },
  {
   "cell_type": "markdown",
   "id": "14baa79f",
   "metadata": {},
   "source": [
    "## Example UML Diagram"
   ]
  },
  {
   "cell_type": "markdown",
   "id": "9a112e7e",
   "metadata": {},
   "source": [
    "\n",
    "![example uml diagram](https://sbcode.net/python/img/proxy_example.svg)"
   ]
  },
  {
   "cell_type": "markdown",
   "id": "a35965b2",
   "metadata": {},
   "source": [
    "## Source Code"
   ]
  },
  {
   "cell_type": "markdown",
   "id": "6c81b037",
   "metadata": {},
   "source": [
    "./proxy/interface_proteus.py"
   ]
  },
  {
   "cell_type": "code",
   "execution_count": 5,
   "id": "dfd0a903",
   "metadata": {},
   "outputs": [],
   "source": [
    "\"The Proteus Interface\"\n",
    "\n",
    "from abc import ABCMeta, abstractmethod\n",
    "\n",
    "class IProteus(metaclass=ABCMeta):  # pylint: disable=too-few-public-methods\n",
    "    \"A Greek mythological character that can change to many forms\"\n",
    "\n",
    "    @staticmethod\n",
    "    @abstractmethod\n",
    "    def tell_me_the_future():\n",
    "        \"Proteus will change form rather than tell you the future\"\n",
    "\n",
    "    @staticmethod\n",
    "    @abstractmethod\n",
    "    def tell_me_your_form():\n",
    "        \"The form of Proteus is elusive like the sea\""
   ]
  },
  {
   "cell_type": "markdown",
   "id": "a70288cd",
   "metadata": {},
   "source": [
    "./proxy/lion.py"
   ]
  },
  {
   "cell_type": "code",
   "execution_count": 6,
   "id": "59c6680b",
   "metadata": {},
   "outputs": [],
   "source": [
    "\"A Lion Class\"\n",
    "import random\n",
    "# from interface_proteus import IProteus\n",
    "# import leopard\n",
    "# import serpent\n",
    "\n",
    "class Lion(IProteus):  # pylint: disable=too-few-public-methods\n",
    "    \"Proteus in the form of a Lion\"\n",
    "\n",
    "    name = \"Lion\"\n",
    "\n",
    "    def tell_me_the_future(self):\n",
    "        \"Proteus will change to something random\"\n",
    "    #    self.__class__ = leopard.Leopard if random.randint(\n",
    "    #        0, 1) else serpent.Serpent\n",
    "        self.__class__ = Leopard if random.randint(\n",
    "            0, 1) else Serpent\n",
    "\n",
    "    @classmethod\n",
    "    def tell_me_your_form(cls):\n",
    "        print(\"I am the form of a \" + cls.name)"
   ]
  },
  {
   "cell_type": "markdown",
   "id": "b78ceeaf",
   "metadata": {},
   "source": [
    "./proxy/serpent.py"
   ]
  },
  {
   "cell_type": "code",
   "execution_count": 7,
   "id": "fc93ecd4",
   "metadata": {},
   "outputs": [],
   "source": [
    "\"A Serpent Class\"\n",
    "import random\n",
    "# from interface_proteus import IProteus\n",
    "# import lion\n",
    "# import leopard\n",
    "\n",
    "class Serpent(IProteus):  # pylint: disable=too-few-public-methods\n",
    "    \"Proteus in the form of a Serpent\"\n",
    "\n",
    "    name = \"Serpent\"\n",
    "\n",
    "    def tell_me_the_future(self):\n",
    "        \"Proteus will change to something random\"\n",
    "        self.__class__ = Leopard if random.randint(0, 1) else Lion\n",
    "    #    self.__class__ = leopard.Leopard if random.randint(0, 1) else lion.Lion\n",
    "    \n",
    "    @classmethod\n",
    "    def tell_me_your_form(cls):\n",
    "        print(\"I am the form of a \" + cls.name)"
   ]
  },
  {
   "cell_type": "markdown",
   "id": "c0e2e5d8",
   "metadata": {},
   "source": [
    "./proxy/leopard.py"
   ]
  },
  {
   "cell_type": "code",
   "execution_count": 8,
   "id": "db543704",
   "metadata": {},
   "outputs": [],
   "source": [
    "\"A Leopard Class\"\n",
    "import random\n",
    "# from interface_proteus import IProteus\n",
    "# import lion\n",
    "# import serpent\n",
    "\n",
    "class Leopard(IProteus):  # pylint: disable=too-few-public-methods\n",
    "    \"Proteus in the form of a Leopard\"\n",
    "\n",
    "    name = \"Leopard\"\n",
    "\n",
    "    def tell_me_the_future(self):\n",
    "        \"Proteus will change to something random\"\n",
    " #       self.__class__ = serpent.Serpent if random.randint(0, 1) else lion.Lion\n",
    "        self.__class__ = Serpent if random.randint(0, 1) else Lion\n",
    "\n",
    "    @classmethod\n",
    "    def tell_me_your_form(cls):\n",
    "        print(\"I am the form of a \" + cls.name)"
   ]
  },
  {
   "cell_type": "markdown",
   "id": "57a210b3",
   "metadata": {},
   "source": [
    "./proxy/client.py"
   ]
  },
  {
   "cell_type": "code",
   "execution_count": 9,
   "id": "a22422e0",
   "metadata": {},
   "outputs": [
    {
     "name": "stdout",
     "output_type": "stream",
     "text": [
      "I am the form of a Lion\n",
      "I am the form of a Serpent\n",
      "I am the form of a Leopard\n",
      "I am the form of a Serpent\n",
      "I am the form of a Lion\n"
     ]
    }
   ],
   "source": [
    "\"The Proxy Example Use Case\"\n",
    "\n",
    "# from lion import Lion\n",
    "\n",
    "PROTEUS = Lion()\n",
    "PROTEUS.tell_me_your_form()\n",
    "PROTEUS.tell_me_the_future()\n",
    "PROTEUS.tell_me_your_form()\n",
    "PROTEUS.tell_me_the_future()\n",
    "PROTEUS.tell_me_your_form()\n",
    "PROTEUS.tell_me_the_future()\n",
    "PROTEUS.tell_me_your_form()\n",
    "PROTEUS.tell_me_the_future()\n",
    "PROTEUS.tell_me_your_form()\n",
    "PROTEUS.tell_me_the_future()"
   ]
  },
  {
   "cell_type": "markdown",
   "id": "a2a40bbe",
   "metadata": {},
   "source": [
    "## New Coding Concepts"
   ]
  },
  {
   "cell_type": "markdown",
   "id": "55e577eb",
   "metadata": {},
   "source": [
    "## **\\__class\\__**   Attribute"
   ]
  },
  {
   "cell_type": "markdown",
   "id": "9240ae84",
   "metadata": {},
   "source": [
    "You can change the class of an object by executing `self.__class__ = SomeOtherClass`\n",
    "\n",
    "Note that doing this does not affect any attributes created during initialization, e.g. `self.instance_attribute = 'abc'`, since the object itself hasn't changed. Only the references to its methods and static attributes have been replaced with the methods and static attributes of the new class.\n",
    "\n",
    "This explains how calling `tell_me_the_future()` and `tell_me_your_form()` from the **Proxy** use case example, produced different results after changing `self.__class__`\n",
    "\n",
    "Below is some code to demonstrate how changing an instances' `__class__ `does not affect any instance `(self)` level attributes.\n",
    "\n",
    "The class of the object `A` is changed at runtime. The `id` of the object `A` remains the same. All methods have been updated, but `self.instance_attribute` still equals `a`."
   ]
  },
  {
   "cell_type": "code",
   "execution_count": 10,
   "id": "e0211667",
   "metadata": {},
   "outputs": [],
   "source": [
    "class class_a():\n",
    "    static_attribute = \"a\"\n",
    "\n",
    "    def __init__(self):\n",
    "        self.instance_attribute = \"a\"\n",
    "\n",
    "    def instance_method(self):\n",
    "        print(\"instancemethod a\")\n",
    "\n",
    "    @staticmethod\n",
    "    def static_method():\n",
    "        print(\"staticmethod a\")\n",
    "\n",
    "    @classmethod\n",
    "    def class_method(cls):\n",
    "        print(\"classmethod a\")\n",
    "\n",
    "class class_b():\n",
    "    static_attribute = \"b\"\n",
    "\n",
    "    def __init__(self):\n",
    "        self.instance_attribute = \"b\"\n",
    "\n",
    "    def instance_method(self):\n",
    "        print(\"instancemethod b\")\n",
    "\n",
    "    @staticmethod\n",
    "    def static_method():\n",
    "        print(\"staticmethod b\")\n",
    "\n",
    "    @classmethod\n",
    "    def class_method(cls):\n",
    "        print(\"classmethod b\")\n",
    "\n",
    "\n"
   ]
  },
  {
   "cell_type": "code",
   "execution_count": 11,
   "id": "e3e004b7",
   "metadata": {},
   "outputs": [
    {
     "name": "stdout",
     "output_type": "stream",
     "text": [
      "140256004656432\n",
      "static_attribute a\n",
      "instance_attribute a\n",
      "instancemethod a\n",
      "staticmethod a\n",
      "classmethod a\n"
     ]
    }
   ],
   "source": [
    "A = class_a()\n",
    "print(id(A))\n",
    "print(\"static_attribute \" + A.static_attribute)\n",
    "print(\"instance_attribute \" + A.instance_attribute)\n",
    "A.instance_method()\n",
    "A.static_method()\n",
    "A.class_method()"
   ]
  },
  {
   "cell_type": "code",
   "execution_count": 12,
   "id": "fb5cc7c7",
   "metadata": {},
   "outputs": [
    {
     "name": "stdout",
     "output_type": "stream",
     "text": [
      "140256004656432\n",
      "static_attribute b\n",
      "instance_attribute a\n",
      "instancemethod b\n",
      "staticmethod b\n",
      "classmethod b\n"
     ]
    }
   ],
   "source": [
    "A.__class__ = class_b\n",
    "print(id(A))\n",
    "print(\"static_attribute \" + A.static_attribute)\n",
    "print(\"instance_attribute \" + A.instance_attribute)\n",
    "A.instance_method()\n",
    "A.static_method()\n",
    "A.class_method()"
   ]
  },
  {
   "cell_type": "markdown",
   "id": "29237a1b",
   "metadata": {},
   "source": [
    "## Avoiding Circular Imports."
   ]
  },
  {
   "cell_type": "markdown",
   "id": "caae5ec4",
   "metadata": {},
   "source": [
    "Normally in all the examples so far, I have been importing using the form\n",
    "\n",
    "**<span style=\"color: #6433FF;\">from</span> <span style=\"color: red;\">module</span> <span style=\"color: #6433FF;\">import</span> <span style=\"color: black;\">Class</span>**\n",
    "\n",
    "In `./proxy/client.py` I import the `Lion` module. The `Lion` module itself imports the `Leopard` and `Serpent` modules, that in turn also re-import the `Lion` module again. This is a circular import and occurs in some situations when you separate your modules into individual files.\n",
    "\n",
    "Circular imports will prevent the Python interpreter from compiling your `.py` file into byte code.\n",
    "\n",
    "The error will appear like,"
   ]
  },
  {
   "cell_type": "markdown",
   "id": "4e041de6",
   "metadata": {},
   "source": [
    "`cannot import name 'Lion' from partially initialized module 'lion' (most likely due to a circular import)`"
   ]
  },
  {
   "cell_type": "markdown",
   "id": "6a83f591",
   "metadata": {},
   "source": [
    "To avoid circular import errors, you can import modules using the form.\n",
    "\n",
    "**<span style=\"color: #6433FF;\">import</span> <span style=\"color: red;\">module</span>**"
   ]
  },
  {
   "cell_type": "markdown",
   "id": "b3b52312",
   "metadata": {},
   "source": [
    "And when the import is actually needed in some method,\n",
    "\n",
    "`OBJECT = module.ClassName`\n",
    "\n",
    "See the <span style=\"color: #6433FF;\">Lion</span>, <span style=\"color: #6433FF;\">Serpent</span> and <span style=\"color: #6433FF;\">Leopard</span> classes for examples."
   ]
  },
  {
   "cell_type": "markdown",
   "id": "fe6f3946",
   "metadata": {},
   "source": [
    "## Summary"
   ]
  },
  {
   "cell_type": "markdown",
   "id": "4d1cdc80",
   "metadata": {},
   "source": [
    "- Proxy forwards requests onto the Real Subject when applicable, depending on the kind of proxy.\n",
    "\n",
    "- A virtual proxy can cache elements of a real subject before loading the full object into memory.\n",
    "\n",
    "- A protection proxy can provide an authentication layer. For example, an NGINX proxy can add Basic Authentication restriction to an HTTP request.\n",
    "\n",
    "- A proxy can perform multiple tasks if necessary.\n",
    "\n",
    "- A proxy is different from an <span style=\"color: #6433FF;\">Adapter</span>. The Adapter will try to adapt two existing interfaces together. The Proxy will use the same interface as the subject.\n",
    "\n",
    "- It is also very similar to the <span style=\"color: #6433FF;\">Facade</span>, except you can add extra responsibilities, just like the <span style=\"color: #6433FF;\">Decorator</span>. The Decorator however can be used recursively.\n",
    "\n",
    "- The intent of the Proxy is to provide a stand in for when it is inconvenient to access a real subject directly.\n",
    "\n",
    "- The Proxy design pattern may also be called the Surrogate design pattern"
   ]
  },
  {
   "cell_type": "markdown",
   "id": "1102b3b4",
   "metadata": {},
   "source": [
    "Ci dessous le [lien](https://sbcode.net/python/proxy/) utilisé pour ce classeur jupiter: https://sbcode.net/python/proxy/"
   ]
  },
  {
   "cell_type": "markdown",
   "id": "4629d7b2",
   "metadata": {},
   "source": [
    "  "
   ]
  }
 ],
 "metadata": {
  "kernelspec": {
   "display_name": "Python 3 (ipykernel)",
   "language": "python",
   "name": "python3"
  },
  "language_info": {
   "codemirror_mode": {
    "name": "ipython",
    "version": 3
   },
   "file_extension": ".py",
   "mimetype": "text/x-python",
   "name": "python",
   "nbconvert_exporter": "python",
   "pygments_lexer": "ipython3",
   "version": "3.9.13"
  }
 },
 "nbformat": 4,
 "nbformat_minor": 5
}
