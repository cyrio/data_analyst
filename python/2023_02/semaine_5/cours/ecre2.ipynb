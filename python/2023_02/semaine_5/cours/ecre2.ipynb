{
 "cells": [
  {
   "cell_type": "code",
   "execution_count": 1,
   "id": "ca0e925b",
   "metadata": {},
   "outputs": [],
   "source": [
    "import re"
   ]
  },
  {
   "cell_type": "code",
   "execution_count": 2,
   "id": "43083359",
   "metadata": {},
   "outputs": [],
   "source": [
    "texte = [\"Il fait beau\", \"il fait chaud\", \"il est beau\"]"
   ]
  },
  {
   "cell_type": "code",
   "execution_count": 21,
   "id": "85362c3b",
   "metadata": {},
   "outputs": [],
   "source": [
    "pattern1 = \"\\w{5}\"\n",
    "pattern2 = \"\\w{3}\""
   ]
  },
  {
   "cell_type": "code",
   "execution_count": 24,
   "id": "a5baf59b",
   "metadata": {},
   "outputs": [
    {
     "name": "stdout",
     "output_type": "stream",
     "text": [
      "None Il fait beau\n",
      "<re.Match object; span=(8, 13), match='chaud'> il fait chaud\n",
      "il fait chaud\n",
      "None il est beau\n"
     ]
    }
   ],
   "source": [
    "regex1=re.compile(pattern1)\n",
    "regex2=re.compile(pattern2)\n",
    "for ligne in texte:\n",
    "    r = regex1.search(ligne)\n",
    "    print(r, ligne)\n",
    "    if r:\n",
    "        print(ligne)\n",
    "    else:\n",
    "        r = regex2.search(ligne)\n",
    "        print(r, ligne)"
   ]
  },
  {
   "cell_type": "code",
   "execution_count": 25,
   "id": "992bf59f",
   "metadata": {},
   "outputs": [
    {
     "name": "stdout",
     "output_type": "stream",
     "text": [
      "Tel mobile ? ghj\n",
      "Ce n'est pas un numéro de mobile\n"
     ]
    }
   ],
   "source": [
    "s = input(\"Tel mobile ? \")\n",
    "pattern = \"(aaaa)|(bbbb)|(CCCC)\"\n",
    "m = re.match(pattern, s)\n",
    "if m:\n",
    "  print(\"C'est un bon numéro de téléphone mobile\")\n",
    "else:\n",
    "  print(\"Ce n'est pas un numéro de mobile\")"
   ]
  },
  {
   "cell_type": "code",
   "execution_count": null,
   "id": "74d11660",
   "metadata": {},
   "outputs": [],
   "source": []
  }
 ],
 "metadata": {
  "kernelspec": {
   "display_name": "Python 3 (ipykernel)",
   "language": "python",
   "name": "python3"
  },
  "language_info": {
   "codemirror_mode": {
    "name": "ipython",
    "version": 3
   },
   "file_extension": ".py",
   "mimetype": "text/x-python",
   "name": "python",
   "nbconvert_exporter": "python",
   "pygments_lexer": "ipython3",
   "version": "3.10.4"
  }
 },
 "nbformat": 4,
 "nbformat_minor": 5
}
