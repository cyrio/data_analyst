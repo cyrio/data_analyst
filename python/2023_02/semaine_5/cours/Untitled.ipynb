{
 "cells": [
  {
   "cell_type": "code",
   "execution_count": 1,
   "id": "ab3a6653",
   "metadata": {},
   "outputs": [],
   "source": [
    "import re"
   ]
  },
  {
   "cell_type": "code",
   "execution_count": 2,
   "id": "7a5b3b91",
   "metadata": {},
   "outputs": [],
   "source": [
    "texte = [\"Il fait beau\", \"Il fait beau\", \"Il fait beau\"]"
   ]
  },
  {
   "cell_type": "code",
   "execution_count": 4,
   "id": "4aa6a646",
   "metadata": {},
   "outputs": [],
   "source": [
    "pattern = \"/w{3}\""
   ]
  },
  {
   "cell_type": "code",
   "execution_count": 9,
   "id": "b0a6ce6a",
   "metadata": {},
   "outputs": [
    {
     "name": "stdout",
     "output_type": "stream",
     "text": [
      "None\n"
     ]
    }
   ],
   "source": [
    "print(re.search(pattern,texte[1]))"
   ]
  },
  {
   "cell_type": "code",
   "execution_count": 6,
   "id": "a81aaf87",
   "metadata": {},
   "outputs": [
    {
     "name": "stdout",
     "output_type": "stream",
     "text": [
      "Help on function match in module re:\n",
      "\n",
      "match(pattern, string, flags=0)\n",
      "    Try to apply the pattern at the start of the string, returning\n",
      "    a Match object, or None if no match was found.\n",
      "\n"
     ]
    }
   ],
   "source": [
    "help(re.match)"
   ]
  },
  {
   "cell_type": "code",
   "execution_count": null,
   "id": "0c95adeb",
   "metadata": {},
   "outputs": [],
   "source": []
  }
 ],
 "metadata": {
  "kernelspec": {
   "display_name": "Python 3 (ipykernel)",
   "language": "python",
   "name": "python3"
  },
  "language_info": {
   "codemirror_mode": {
    "name": "ipython",
    "version": 3
   },
   "file_extension": ".py",
   "mimetype": "text/x-python",
   "name": "python",
   "nbconvert_exporter": "python",
   "pygments_lexer": "ipython3",
   "version": "3.9.13"
  }
 },
 "nbformat": 4,
 "nbformat_minor": 5
}
