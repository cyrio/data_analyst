{
 "cells": [
  {
   "cell_type": "markdown",
   "id": "d546ea61",
   "metadata": {},
   "source": [
    "## Borg"
   ]
  },
  {
   "cell_type": "code",
   "execution_count": 1,
   "id": "cec4da17",
   "metadata": {},
   "outputs": [],
   "source": [
    "class Borg:\n",
    "    _state={}\n",
    "    \n",
    "    def __init__(self):\n",
    "        self.__dict__=Borg._state "
   ]
  },
  {
   "cell_type": "code",
   "execution_count": 3,
   "id": "a88d3b54",
   "metadata": {},
   "outputs": [
    {
     "data": {
      "text/plain": [
       "True"
      ]
     },
     "execution_count": 3,
     "metadata": {},
     "output_type": "execute_result"
    }
   ],
   "source": [
    "#explication de dict\n",
    "class  Toto:\n",
    "    pass\n",
    "'__dict__' in dir(Toto)"
   ]
  },
  {
   "cell_type": "code",
   "execution_count": 4,
   "id": "a8a5bd7f",
   "metadata": {},
   "outputs": [],
   "source": [
    "class  Tata:\n",
    "    attclass=12\n",
    "    def __init__(self):\n",
    "        self.attinstance=13\n"
   ]
  },
  {
   "cell_type": "code",
   "execution_count": 5,
   "id": "91932bc1",
   "metadata": {},
   "outputs": [
    {
     "data": {
      "text/plain": [
       "mappingproxy({'__module__': '__main__',\n",
       "              'attclass': 12,\n",
       "              '__init__': <function __main__.Tata.__init__(self)>,\n",
       "              '__dict__': <attribute '__dict__' of 'Tata' objects>,\n",
       "              '__weakref__': <attribute '__weakref__' of 'Tata' objects>,\n",
       "              '__doc__': None})"
      ]
     },
     "execution_count": 5,
     "metadata": {},
     "output_type": "execute_result"
    }
   ],
   "source": [
    "Tata.__dict__"
   ]
  },
  {
   "cell_type": "code",
   "execution_count": 6,
   "id": "3541bbef",
   "metadata": {},
   "outputs": [
    {
     "data": {
      "text/plain": [
       "['__class__',\n",
       " '__delattr__',\n",
       " '__dict__',\n",
       " '__dir__',\n",
       " '__doc__',\n",
       " '__eq__',\n",
       " '__format__',\n",
       " '__ge__',\n",
       " '__getattribute__',\n",
       " '__gt__',\n",
       " '__hash__',\n",
       " '__init__',\n",
       " '__init_subclass__',\n",
       " '__le__',\n",
       " '__lt__',\n",
       " '__module__',\n",
       " '__ne__',\n",
       " '__new__',\n",
       " '__reduce__',\n",
       " '__reduce_ex__',\n",
       " '__repr__',\n",
       " '__setattr__',\n",
       " '__sizeof__',\n",
       " '__str__',\n",
       " '__subclasshook__',\n",
       " '__weakref__',\n",
       " 'attclass',\n",
       " 'attinstance']"
      ]
     },
     "execution_count": 6,
     "metadata": {},
     "output_type": "execute_result"
    }
   ],
   "source": [
    "tata = Tata()\n",
    "dir(tata)"
   ]
  },
  {
   "cell_type": "code",
   "execution_count": 7,
   "id": "eb7fb7ee",
   "metadata": {},
   "outputs": [
    {
     "data": {
      "text/plain": [
       "{'attinstance': 13}"
      ]
     },
     "execution_count": 7,
     "metadata": {},
     "output_type": "execute_result"
    }
   ],
   "source": [
    "tata.__dict__"
   ]
  },
  {
   "cell_type": "code",
   "execution_count": 8,
   "id": "1bfbe36e",
   "metadata": {},
   "outputs": [],
   "source": [
    "b1=Borg()\n",
    "b1.prenom='Toto'"
   ]
  },
  {
   "cell_type": "code",
   "execution_count": 9,
   "id": "57328cad",
   "metadata": {},
   "outputs": [],
   "source": [
    "b2=Borg()\n",
    "b2.age=25"
   ]
  },
  {
   "cell_type": "code",
   "execution_count": 10,
   "id": "cf3461cf",
   "metadata": {},
   "outputs": [
    {
     "data": {
      "text/plain": [
       "(<__main__.Borg at 0x24a6cfa77f0>, <__main__.Borg at 0x24a6cfa0e20>)"
      ]
     },
     "execution_count": 10,
     "metadata": {},
     "output_type": "execute_result"
    }
   ],
   "source": [
    "b1,b2"
   ]
  },
  {
   "cell_type": "code",
   "execution_count": 13,
   "id": "1f1d61ae",
   "metadata": {},
   "outputs": [
    {
     "data": {
      "text/plain": [
       "('Toto', 25)"
      ]
     },
     "execution_count": 13,
     "metadata": {},
     "output_type": "execute_result"
    }
   ],
   "source": [
    "b1.prenom , b1.age"
   ]
  },
  {
   "cell_type": "code",
   "execution_count": 14,
   "id": "07d26c6b",
   "metadata": {},
   "outputs": [
    {
     "data": {
      "text/plain": [
       "(25, 'Toto')"
      ]
     },
     "execution_count": 14,
     "metadata": {},
     "output_type": "execute_result"
    }
   ],
   "source": [
    "b2.age , b2.prenom"
   ]
  },
  {
   "cell_type": "code",
   "execution_count": null,
   "id": "abcb5dc5",
   "metadata": {},
   "outputs": [],
   "source": []
  }
 ],
 "metadata": {
  "kernelspec": {
   "display_name": "Python 3 (ipykernel)",
   "language": "python",
   "name": "python3"
  },
  "language_info": {
   "codemirror_mode": {
    "name": "ipython",
    "version": 3
   },
   "file_extension": ".py",
   "mimetype": "text/x-python",
   "name": "python",
   "nbconvert_exporter": "python",
   "pygments_lexer": "ipython3",
   "version": "3.9.13"
  }
 },
 "nbformat": 4,
 "nbformat_minor": 5
}
