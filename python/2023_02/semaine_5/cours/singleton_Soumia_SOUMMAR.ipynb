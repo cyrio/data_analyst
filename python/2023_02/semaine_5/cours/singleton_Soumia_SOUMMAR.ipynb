{
 "cells": [
  {
   "cell_type": "markdown",
   "id": "31408803",
   "metadata": {},
   "source": [
    "## singleton"
   ]
  },
  {
   "cell_type": "code",
   "execution_count": 6,
   "id": "f1745f3b",
   "metadata": {},
   "outputs": [],
   "source": [
    "class Singleton:\n",
    "    def __new__(cls):\n",
    "        if not hasattr(cls,'_instance'):\n",
    "            cls._instance = super().__new__(cls)\n",
    "        return cls._instance"
   ]
  },
  {
   "cell_type": "code",
   "execution_count": 7,
   "id": "9f17bf2f",
   "metadata": {},
   "outputs": [],
   "source": [
    "s1 = Singleton()"
   ]
  },
  {
   "cell_type": "code",
   "execution_count": 8,
   "id": "96f33d09",
   "metadata": {},
   "outputs": [
    {
     "data": {
      "text/plain": [
       "<__main__.Singleton at 0x2075ac6fbe0>"
      ]
     },
     "execution_count": 8,
     "metadata": {},
     "output_type": "execute_result"
    }
   ],
   "source": [
    "s1"
   ]
  },
  {
   "cell_type": "code",
   "execution_count": 9,
   "id": "05b8f785",
   "metadata": {},
   "outputs": [],
   "source": [
    "s2=Singleton()"
   ]
  },
  {
   "cell_type": "code",
   "execution_count": 10,
   "id": "23e0c2a1",
   "metadata": {},
   "outputs": [
    {
     "data": {
      "text/plain": [
       "<__main__.Singleton at 0x2075ac6fbe0>"
      ]
     },
     "execution_count": 10,
     "metadata": {},
     "output_type": "execute_result"
    }
   ],
   "source": [
    "s2"
   ]
  },
  {
   "cell_type": "code",
   "execution_count": null,
   "id": "67e24011",
   "metadata": {},
   "outputs": [],
   "source": [
    "class Preference:\n",
    "    def __new__(cls):\n",
    "        if not hasattr(cls,'_instance'):\n",
    "            cls._instance = super().__new__(cls)\n",
    "            \n",
    "            with open (\"prefs.txt\") as f:\n",
    "                print(\"lescture des prefs\")\n",
    "                \n",
    "            \n",
    "        return cls._instance\n",
    "p=  Preference()\n",
    "q=  Preference()"
   ]
  }
 ],
 "metadata": {
  "kernelspec": {
   "display_name": "Python 3 (ipykernel)",
   "language": "python",
   "name": "python3"
  },
  "language_info": {
   "codemirror_mode": {
    "name": "ipython",
    "version": 3
   },
   "file_extension": ".py",
   "mimetype": "text/x-python",
   "name": "python",
   "nbconvert_exporter": "python",
   "pygments_lexer": "ipython3",
   "version": "3.9.13"
  }
 },
 "nbformat": 4,
 "nbformat_minor": 5
}
