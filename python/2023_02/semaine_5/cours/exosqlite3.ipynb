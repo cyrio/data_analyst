{
 "cells": [
  {
   "cell_type": "markdown",
   "id": "cc2a3517",
   "metadata": {},
   "source": [
    "# Exercice SQLITE3"
   ]
  },
  {
   "cell_type": "markdown",
   "id": "1880751f",
   "metadata": {},
   "source": [
    "## Créer une base de données  user(prenom, bureau) ; le prenom identifie une personne unique."
   ]
  },
  {
   "cell_type": "code",
   "execution_count": 2,
   "id": "6630fb32",
   "metadata": {},
   "outputs": [],
   "source": [
    "import sqlite3\n",
    "connection = sqlite3.connect('dbbureau')"
   ]
  },
  {
   "cell_type": "code",
   "execution_count": 3,
   "id": "fa324dd3",
   "metadata": {},
   "outputs": [],
   "source": [
    "cursor = connection.cursor()"
   ]
  },
  {
   "cell_type": "code",
   "execution_count": 4,
   "id": "58c3c04b",
   "metadata": {},
   "outputs": [
    {
     "data": {
      "text/plain": [
       "<sqlite3.Cursor at 0x210b3119a40>"
      ]
     },
     "execution_count": 4,
     "metadata": {},
     "output_type": "execute_result"
    }
   ],
   "source": [
    "cursor.execute(\"\"\"\n",
    "\n",
    "    CREATE TABLE equipe(\n",
    "        id INTEGER PRIMARY KEY AUTOINCREMENT UNIQUE,\n",
    "        prenom TEXT UNIQUE,\n",
    "        bureau INTEGER\n",
    "    );\n",
    "\n",
    "\"\"\")"
   ]
  },
  {
   "cell_type": "code",
   "execution_count": 5,
   "id": "9567f961",
   "metadata": {},
   "outputs": [
    {
     "data": {
      "text/plain": [
       "<sqlite3.Cursor at 0x210b3119a40>"
      ]
     },
     "execution_count": 5,
     "metadata": {},
     "output_type": "execute_result"
    }
   ],
   "source": [
    "team = [('Marina',1),\n",
    "('Rabah',1),\n",
    "('Kevin', 2),\n",
    "('Younès', 2),\n",
    "('Adam', 2),\n",
    "('Nicolas', 3),\n",
    "('Hanane', 3),\n",
    "('Pierre', 4),\n",
    "('Abdourahmane', 4),\n",
    "('Julien', 5),\n",
    "('Olivier', 5),\n",
    "('Naziha', 6),\n",
    "('Sidi', 6),\n",
    "('Soumia', 6),\n",
    "('Cyrille', 6),]\n",
    "\n",
    "\n",
    "cursor.executemany(\"\"\"\n",
    "    INSERT INTO equipe(prenom,bureau)\n",
    "    VALUES (?,?);\"\"\",team)\n",
    "\n",
    "\n"
   ]
  },
  {
   "cell_type": "code",
   "execution_count": 19,
   "id": "1f891ce8",
   "metadata": {},
   "outputs": [
    {
     "name": "stdout",
     "output_type": "stream",
     "text": [
      "(9, 'Abdourahmane', 4)\n",
      "(5, 'Adam', 2)\n",
      "(15, 'Cyrille', 6)\n",
      "(7, 'Hanane', 3)\n",
      "(10, 'Julien', 5)\n",
      "(3, 'Kevin', 2)\n",
      "(1, 'Marina', 1)\n",
      "(12, 'Naziha', 78)\n",
      "(6, 'Nicolas', 3)\n",
      "(11, 'Olivier', 5)\n",
      "(8, 'Pierre', 4)\n",
      "(2, 'Rabah', 1)\n",
      "(13, 'Sidi', 6)\n",
      "(14, 'Soumia', 6)\n",
      "(4, 'Younès', 2)\n"
     ]
    }
   ],
   "source": [
    "cursor.execute(\"\"\"\n",
    "\n",
    "    SELECT *\n",
    "    FROM equipe\n",
    "    ORDER BY prenom ASC\n",
    "    \n",
    "\"\"\")\n",
    "rows = cursor.fetchall()\n",
    "for r in rows:\n",
    "    print(r)"
   ]
  },
  {
   "cell_type": "code",
   "execution_count": 17,
   "id": "2bd5c677",
   "metadata": {},
   "outputs": [
    {
     "name": "stdout",
     "output_type": "stream",
     "text": [
      "C'est un prénom qui existe déjà dans la base\n"
     ]
    }
   ],
   "source": [
    "try:\n",
    "    cursor.execute(\"\"\"\n",
    "\n",
    "        INSERT INTO equipe(prenom,bureau)\n",
    "        VALUES (\"Naziha\", 78);\n",
    "\n",
    "    \"\"\")\n",
    "except sqlite3.IntegrityError:\n",
    "    print(\"C'est un prénom qui existe déjà dans la base\")"
   ]
  },
  {
   "cell_type": "code",
   "execution_count": 18,
   "id": "f084ad98",
   "metadata": {},
   "outputs": [
    {
     "data": {
      "text/plain": [
       "<sqlite3.Cursor at 0x210b3119a40>"
      ]
     },
     "execution_count": 18,
     "metadata": {},
     "output_type": "execute_result"
    }
   ],
   "source": [
    "cursor.execute(\"\"\"\n",
    "   UPDATE equipe\n",
    "   SET bureau=78\n",
    "   WHERE prenom='Naziha';\n",
    "\n",
    "\"\"\")"
   ]
  },
  {
   "cell_type": "code",
   "execution_count": null,
   "id": "cf011563",
   "metadata": {},
   "outputs": [],
   "source": []
  }
 ],
 "metadata": {
  "kernelspec": {
   "display_name": "Python 3 (ipykernel)",
   "language": "python",
   "name": "python3"
  },
  "language_info": {
   "codemirror_mode": {
    "name": "ipython",
    "version": 3
   },
   "file_extension": ".py",
   "mimetype": "text/x-python",
   "name": "python",
   "nbconvert_exporter": "python",
   "pygments_lexer": "ipython3",
   "version": "3.10.4"
  }
 },
 "nbformat": 4,
 "nbformat_minor": 5
}
