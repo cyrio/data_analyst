{
 "cells": [
  {
   "cell_type": "markdown",
   "id": "598bc90b",
   "metadata": {},
   "source": [
    "# Base de données Sqlite3"
   ]
  },
  {
   "cell_type": "code",
   "execution_count": 1,
   "id": "0a7e5500",
   "metadata": {},
   "outputs": [],
   "source": [
    "import sqlite3"
   ]
  },
  {
   "cell_type": "code",
   "execution_count": 23,
   "id": "4a4ee775",
   "metadata": {},
   "outputs": [],
   "source": [
    "cnxn = sqlite3.connect('mabase.db')"
   ]
  },
  {
   "cell_type": "code",
   "execution_count": 24,
   "id": "f649c8c2",
   "metadata": {},
   "outputs": [],
   "source": [
    "cursor = cnxn.cursor()"
   ]
  },
  {
   "cell_type": "code",
   "execution_count": 5,
   "id": "df48c39e",
   "metadata": {},
   "outputs": [
    {
     "data": {
      "text/plain": [
       "<sqlite3.Cursor at 0x211fe1758c0>"
      ]
     },
     "execution_count": 5,
     "metadata": {},
     "output_type": "execute_result"
    }
   ],
   "source": [
    "cursor.execute(\"\"\"CREATE TABLE toto_t(\n",
    "    id INTEGER PRIMARY KEY AUTOINCREMENT UNIQUE,\n",
    "    first_name_f TEXT,\n",
    "    last_name_f TEXT,\n",
    "    age_f INTEGER\n",
    ") ; \"\"\")"
   ]
  },
  {
   "cell_type": "code",
   "execution_count": 10,
   "id": "fc4fa795",
   "metadata": {},
   "outputs": [
    {
     "data": {
      "text/plain": [
       "<sqlite3.Cursor at 0x211fe1758c0>"
      ]
     },
     "execution_count": 10,
     "metadata": {},
     "output_type": "execute_result"
    }
   ],
   "source": [
    "cursor.execute(\"\"\"INSERT INTO toto_t(first_name_f ,\n",
    "    last_name_f,\n",
    "    age_f ) VALUES ('Daisy', 'Duck', 30) ; \"\"\")"
   ]
  },
  {
   "cell_type": "code",
   "execution_count": 25,
   "id": "76bd0b67",
   "metadata": {},
   "outputs": [
    {
     "data": {
      "text/plain": [
       "<sqlite3.Cursor at 0x211ffd904c0>"
      ]
     },
     "execution_count": 25,
     "metadata": {},
     "output_type": "execute_result"
    }
   ],
   "source": [
    "cursor.execute(\"\"\"\n",
    "    SELECT *\n",
    "    FROM toto_t;\n",
    "\"\"\")"
   ]
  },
  {
   "cell_type": "code",
   "execution_count": 26,
   "id": "32d3dd98",
   "metadata": {},
   "outputs": [
    {
     "name": "stdout",
     "output_type": "stream",
     "text": [
      "(1, 'Donald', 'Duck', 40)\n"
     ]
    }
   ],
   "source": [
    "rows = cursor.fetchall()\n",
    "for r in rows:\n",
    "    print(r)"
   ]
  },
  {
   "cell_type": "code",
   "execution_count": 14,
   "id": "1ac1f51b",
   "metadata": {},
   "outputs": [
    {
     "data": {
      "text/plain": [
       "<sqlite3.Cursor at 0x211fe1758c0>"
      ]
     },
     "execution_count": 14,
     "metadata": {},
     "output_type": "execute_result"
    }
   ],
   "source": [
    "cursor.execute(\"\"\"\n",
    "    UPDATE toto_t\n",
    "    SET last_name_f='Mouse'\n",
    "    WHERE first_name_f='Daisy';\n",
    "\"\"\")"
   ]
  },
  {
   "cell_type": "code",
   "execution_count": 17,
   "id": "a50b33bb",
   "metadata": {},
   "outputs": [
    {
     "data": {
      "text/plain": [
       "<sqlite3.Cursor at 0x211fe1758c0>"
      ]
     },
     "execution_count": 17,
     "metadata": {},
     "output_type": "execute_result"
    }
   ],
   "source": [
    "cursor.execute(\"\"\"\n",
    "    DELETE FROM toto_t\n",
    "    WHERE id=2;\n",
    "\n",
    "\"\"\")"
   ]
  },
  {
   "cell_type": "code",
   "execution_count": 20,
   "id": "ac5ab504",
   "metadata": {},
   "outputs": [],
   "source": [
    "cnxn.commit()"
   ]
  },
  {
   "cell_type": "code",
   "execution_count": 21,
   "id": "fded7328",
   "metadata": {},
   "outputs": [],
   "source": [
    "cnxn.close()"
   ]
  },
  {
   "cell_type": "code",
   "execution_count": null,
   "id": "4adfe9a3",
   "metadata": {},
   "outputs": [],
   "source": []
  }
 ],
 "metadata": {
  "kernelspec": {
   "display_name": "Python 3 (ipykernel)",
   "language": "python",
   "name": "python3"
  },
  "language_info": {
   "codemirror_mode": {
    "name": "ipython",
    "version": 3
   },
   "file_extension": ".py",
   "mimetype": "text/x-python",
   "name": "python",
   "nbconvert_exporter": "python",
   "pygments_lexer": "ipython3",
   "version": "3.10.4"
  }
 },
 "nbformat": 4,
 "nbformat_minor": 5
}
