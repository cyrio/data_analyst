{
 "cells": [
  {
   "cell_type": "markdown",
   "id": "6bdf610b",
   "metadata": {},
   "source": [
    "# Factory"
   ]
  },
  {
   "cell_type": "code",
   "execution_count": 3,
   "id": "441854e1",
   "metadata": {},
   "outputs": [],
   "source": [
    "import random\n",
    "\n",
    "class Car:\n",
    "    _cars = []\n",
    "    \n",
    "    def __init__(self):\n",
    "        Car._cars.append(self)\n",
    "        \n",
    "    def  __str__(self):\n",
    "        return str(self.__dict__)\n",
    "\n",
    "    \n",
    "    \n",
    "class Factory:\n",
    "    def __init__(self):\n",
    "        self._serial = 0\n",
    "    def makeCar(self, brand=\"Peugeot\", model=\"208\"):\n",
    "        self._serial += 1\n",
    "        c = Car()\n",
    "        c.serial = self._serial\n",
    "        c.brand = brand\n",
    "        c.model = model\n",
    "        return c\n",
    "\n",
    "class ToyotaFactory(Factory):\n",
    "    def makeCar(self, model=None):\n",
    "        if model is None:\n",
    "            model = random.choice(['Aygo', 'Yaris', 'Rav4'])\n",
    "        return super().makeCar( brand='Toyota', model=model)\n",
    "\n",
    "class PeugeotFactory(Factory):\n",
    "    def makeCar(self,model=None):\n",
    "        if model is None:\n",
    "            model = random.choice(['208', '3008', '2008'])\n",
    "        return super().makeCar(brand='Peugeot', model=model)\n",
    "    \n",
    "class Parc:\n",
    "    def __iter__(self):\n",
    "        self.i = 0\n",
    "        return self\n",
    "    \n",
    "    def __next__(self):\n",
    "        if self.i<len(Car._cars):\n",
    "            c = Car._cars[self.i]\n",
    "            self.i += 1\n",
    "            return c\n",
    "        else:\n",
    "            raise StopIteration\n",
    "\n",
    "        \n",
    "    \n"
   ]
  },
  {
   "cell_type": "code",
   "execution_count": 4,
   "id": "4664f81e",
   "metadata": {},
   "outputs": [],
   "source": [
    "usine1 = PeugeotFactory()\n",
    "usine2 = ToyotaFactory()\n",
    "for i in range(3):\n",
    "    usine1.makeCar()\n",
    "    usine2.makeCar()"
   ]
  },
  {
   "cell_type": "code",
   "execution_count": 5,
   "id": "c273e05d",
   "metadata": {},
   "outputs": [
    {
     "name": "stdout",
     "output_type": "stream",
     "text": [
      "{'serial': 1, 'brand': 'Peugeot', 'model': '3008'}\n",
      "{'serial': 1, 'brand': 'Toyota', 'model': 'Yaris'}\n",
      "{'serial': 2, 'brand': 'Peugeot', 'model': '3008'}\n",
      "{'serial': 2, 'brand': 'Toyota', 'model': 'Yaris'}\n",
      "{'serial': 3, 'brand': 'Peugeot', 'model': '208'}\n",
      "{'serial': 3, 'brand': 'Toyota', 'model': 'Yaris'}\n"
     ]
    }
   ],
   "source": [
    "for voiture in Parc():\n",
    "    print(voiture)"
   ]
  },
  {
   "cell_type": "code",
   "execution_count": null,
   "id": "f4a966a5",
   "metadata": {},
   "outputs": [],
   "source": [
    "'__next__' in dir(object)"
   ]
  },
  {
   "cell_type": "code",
   "execution_count": null,
   "id": "0759650d",
   "metadata": {},
   "outputs": [],
   "source": []
  }
 ],
 "metadata": {
  "kernelspec": {
   "display_name": "Python 3 (ipykernel)",
   "language": "python",
   "name": "python3"
  },
  "language_info": {
   "codemirror_mode": {
    "name": "ipython",
    "version": 3
   },
   "file_extension": ".py",
   "mimetype": "text/x-python",
   "name": "python",
   "nbconvert_exporter": "python",
   "pygments_lexer": "ipython3",
   "version": "3.10.5"
  }
 },
 "nbformat": 4,
 "nbformat_minor": 5
}
