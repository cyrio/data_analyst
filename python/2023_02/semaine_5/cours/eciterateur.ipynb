{
 "cells": [
  {
   "cell_type": "markdown",
   "id": "be4b4b98",
   "metadata": {},
   "source": [
    "# Itérateur"
   ]
  },
  {
   "cell_type": "code",
   "execution_count": 12,
   "id": "d2f86268",
   "metadata": {},
   "outputs": [],
   "source": [
    "class Car:\n",
    "    _cars = []\n",
    "    def __init__(self, immat=\"AB1234YZ\"):\n",
    "        Car._cars.append(self)\n",
    "        self.immat = immat\n",
    "    def __str__(self):\n",
    "        return self.immat\n",
    "    \n",
    "class Parc:\n",
    "    def __iter__(self):\n",
    "        self.i = 0\n",
    "        return self\n",
    "    \n",
    "    def __next__(self):\n",
    "        if self.i<len(Car._cars):\n",
    "            c = Car._cars[self.i]\n",
    "            self.i += 1\n",
    "            return c\n",
    "        else:\n",
    "            raise StopIteration\n",
    "\n",
    "        \n",
    "    \n"
   ]
  },
  {
   "cell_type": "code",
   "execution_count": 13,
   "id": "23682f73",
   "metadata": {},
   "outputs": [],
   "source": [
    "v1 = Car('CD4567WU')\n",
    "v2 = Car('EF890TS')\n",
    "v3 = Car()\n"
   ]
  },
  {
   "cell_type": "code",
   "execution_count": 14,
   "id": "4c364733",
   "metadata": {},
   "outputs": [
    {
     "data": {
      "text/plain": [
       "[<__main__.Car at 0x1b4c242a0b0>,\n",
       " <__main__.Car at 0x1b4c345d030>,\n",
       " <__main__.Car at 0x1b4c242ac50>]"
      ]
     },
     "execution_count": 14,
     "metadata": {},
     "output_type": "execute_result"
    }
   ],
   "source": [
    "Car._cars"
   ]
  },
  {
   "cell_type": "code",
   "execution_count": 15,
   "id": "6a91d141",
   "metadata": {},
   "outputs": [
    {
     "name": "stdout",
     "output_type": "stream",
     "text": [
      "CD4567WU\n",
      "EF890TS\n",
      "AB1234YZ\n"
     ]
    }
   ],
   "source": [
    "for voiture in Parc():\n",
    "    print(voiture)"
   ]
  },
  {
   "cell_type": "code",
   "execution_count": 17,
   "id": "bb26d0f8",
   "metadata": {},
   "outputs": [
    {
     "data": {
      "text/plain": [
       "False"
      ]
     },
     "execution_count": 17,
     "metadata": {},
     "output_type": "execute_result"
    }
   ],
   "source": [
    "'__next__' in dir(object)"
   ]
  },
  {
   "cell_type": "code",
   "execution_count": null,
   "id": "f4b82461",
   "metadata": {},
   "outputs": [],
   "source": []
  }
 ],
 "metadata": {
  "kernelspec": {
   "display_name": "Python 3 (ipykernel)",
   "language": "python",
   "name": "python3"
  },
  "language_info": {
   "codemirror_mode": {
    "name": "ipython",
    "version": 3
   },
   "file_extension": ".py",
   "mimetype": "text/x-python",
   "name": "python",
   "nbconvert_exporter": "python",
   "pygments_lexer": "ipython3",
   "version": "3.10.5"
  }
 },
 "nbformat": 4,
 "nbformat_minor": 5
}
