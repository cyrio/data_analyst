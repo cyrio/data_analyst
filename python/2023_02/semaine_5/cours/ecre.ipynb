{
 "cells": [
  {
   "cell_type": "markdown",
   "id": "0ff9044c",
   "metadata": {},
   "source": [
    "# Expressions régulières"
   ]
  },
  {
   "cell_type": "code",
   "execution_count": 1,
   "id": "0cf88d9a",
   "metadata": {},
   "outputs": [],
   "source": [
    "import re"
   ]
  },
  {
   "cell_type": "code",
   "execution_count": 7,
   "id": "6f72b5fc",
   "metadata": {},
   "outputs": [
    {
     "name": "stdout",
     "output_type": "stream",
     "text": [
      "Trouvé\n"
     ]
    }
   ],
   "source": [
    "pattern =\"Bon(jour|soir)\"\n",
    "chaine = \"Bonjour\"\n",
    "r = re.match(pattern,chaine)\n",
    "if r is None:\n",
    "    print(\"Pas trouvé\")\n",
    "else:\n",
    "    print(\"Trouvé\")"
   ]
  },
  {
   "cell_type": "code",
   "execution_count": 9,
   "id": "e7ce8807",
   "metadata": {},
   "outputs": [
    {
     "data": {
      "text/plain": [
       "['Bon', 'bon', 'bon', 'bon', 'bon']"
      ]
     },
     "execution_count": 9,
     "metadata": {},
     "output_type": "execute_result"
    }
   ],
   "source": [
    "pattern = \"[bB]on\"\n",
    "chaine = \"Bon sang de bon soir de bonne nuit de bonne humeur de bon matin\"\n",
    "r = re.findall(pattern, chaine)\n",
    "r"
   ]
  },
  {
   "cell_type": "code",
   "execution_count": 16,
   "id": "c55afa3c",
   "metadata": {},
   "outputs": [
    {
     "name": "stdout",
     "output_type": "stream",
     "text": [
      "Dites qq chose: Sophie aime Rachid\n",
      "Sophie\n",
      "aime\n",
      "Rachid\n"
     ]
    }
   ],
   "source": [
    "pattern = '^(?P<sujet>\\w+) (?P<verbe>\\w+) (?P<complement>\\w+)$'\n",
    "chaine = input(\"Dites qq chose: \")\n",
    "r = re.search(pattern,chaine)\n",
    "if r:\n",
    "    print(r.group('sujet'))\n",
    "    print(r.group('verbe'))\n",
    "    print(r.group('complement'))\n",
    "else:\n",
    "    print(\"Rien trouvé\")"
   ]
  },
  {
   "cell_type": "code",
   "execution_count": null,
   "id": "32a1a20f",
   "metadata": {},
   "outputs": [],
   "source": [
    "texte = [\"Il fait beau\", \"Quand est ce qu'on mange\", \"N'oublie pas la pause\"]"
   ]
  },
  {
   "cell_type": "code",
   "execution_count": null,
   "id": "f55faea7",
   "metadata": {},
   "outputs": [],
   "source": [
    "On se retrouve à 11h15 !!! Bon café\n"
   ]
  }
 ],
 "metadata": {
  "kernelspec": {
   "display_name": "Python 3 (ipykernel)",
   "language": "python",
   "name": "python3"
  },
  "language_info": {
   "codemirror_mode": {
    "name": "ipython",
    "version": 3
   },
   "file_extension": ".py",
   "mimetype": "text/x-python",
   "name": "python",
   "nbconvert_exporter": "python",
   "pygments_lexer": "ipython3",
   "version": "3.10.5"
  }
 },
 "nbformat": 4,
 "nbformat_minor": 5
}
