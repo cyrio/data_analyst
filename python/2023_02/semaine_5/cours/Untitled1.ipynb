{
 "cells": [
  {
   "cell_type": "code",
   "execution_count": 1,
   "id": "a0a8632a",
   "metadata": {},
   "outputs": [],
   "source": [
    "import sqlite3\n",
    "cnxn = sqlite3.connect('mabase.db')"
   ]
  },
  {
   "cell_type": "code",
   "execution_count": 2,
   "id": "efe5c929",
   "metadata": {},
   "outputs": [],
   "source": [
    "cursor = cnxn.cursor()"
   ]
  },
  {
   "cell_type": "code",
   "execution_count": 3,
   "id": "c50a2eba",
   "metadata": {},
   "outputs": [
    {
     "data": {
      "text/plain": [
       "<sqlite3.Cursor at 0x7fe6e9420960>"
      ]
     },
     "execution_count": 3,
     "metadata": {},
     "output_type": "execute_result"
    }
   ],
   "source": [
    "cursor.execute(\"\"\"DROP TABLE IF EXISTS user_t\"\"\")"
   ]
  },
  {
   "cell_type": "code",
   "execution_count": null,
   "id": "3031934a",
   "metadata": {},
   "outputs": [],
   "source": [
    "cursor.execute(\"\"\"\n",
    "  \n",
    "  CREATE TABLE IF NOT EXISTS cinemas_t (\n",
    "    id INTEGER PRIMARY KEY AUTOINCREMENT UNIQUE,\n",
    "    name_f TEXT,\n",
    "    genre_f INTEGER\n",
    "\"\"\""
   ]
  }
 ],
 "metadata": {
  "kernelspec": {
   "display_name": "Python 3 (ipykernel)",
   "language": "python",
   "name": "python3"
  },
  "language_info": {
   "codemirror_mode": {
    "name": "ipython",
    "version": 3
   },
   "file_extension": ".py",
   "mimetype": "text/x-python",
   "name": "python",
   "nbconvert_exporter": "python",
   "pygments_lexer": "ipython3",
   "version": "3.9.13"
  }
 },
 "nbformat": 4,
 "nbformat_minor": 5
}
