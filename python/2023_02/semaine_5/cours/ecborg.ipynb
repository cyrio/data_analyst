{
 "cells": [
  {
   "cell_type": "markdown",
   "id": "e82dc784",
   "metadata": {},
   "source": [
    "# Borg"
   ]
  },
  {
   "cell_type": "code",
   "execution_count": 3,
   "id": "6380beea",
   "metadata": {},
   "outputs": [],
   "source": [
    "class Borg:\n",
    "    _state ={}\n",
    "    \n",
    "    def __init__(self):\n",
    "        self.__dict__ = Borg._state"
   ]
  },
  {
   "cell_type": "code",
   "execution_count": 5,
   "id": "591966cd",
   "metadata": {},
   "outputs": [
    {
     "data": {
      "text/plain": [
       "True"
      ]
     },
     "execution_count": 5,
     "metadata": {},
     "output_type": "execute_result"
    }
   ],
   "source": [
    "# explication de __dict__\n",
    "class Toto:\n",
    "    pass\n",
    "'__dict__' in dir(Toto)"
   ]
  },
  {
   "cell_type": "code",
   "execution_count": 6,
   "id": "7dbc4f41",
   "metadata": {},
   "outputs": [],
   "source": [
    "class Tata:\n",
    "    attclass = 12\n",
    "    def __init__(self):\n",
    "        self.attinstance = 13\n",
    "\n",
    "    "
   ]
  },
  {
   "cell_type": "code",
   "execution_count": 8,
   "id": "79f6bea6",
   "metadata": {},
   "outputs": [
    {
     "data": {
      "text/plain": [
       "mappingproxy({'__module__': '__main__',\n",
       "              'attclass': 12,\n",
       "              '__init__': <function __main__.Tata.__init__(self)>,\n",
       "              '__dict__': <attribute '__dict__' of 'Tata' objects>,\n",
       "              '__weakref__': <attribute '__weakref__' of 'Tata' objects>,\n",
       "              '__doc__': None})"
      ]
     },
     "execution_count": 8,
     "metadata": {},
     "output_type": "execute_result"
    }
   ],
   "source": [
    "Tata.__dict__"
   ]
  },
  {
   "cell_type": "code",
   "execution_count": 10,
   "id": "2781f000",
   "metadata": {},
   "outputs": [
    {
     "data": {
      "text/plain": [
       "{'attinstance': 13}"
      ]
     },
     "execution_count": 10,
     "metadata": {},
     "output_type": "execute_result"
    }
   ],
   "source": [
    "tata = Tata()\n",
    "tata.__dict__"
   ]
  },
  {
   "cell_type": "code",
   "execution_count": 17,
   "id": "2aa53294",
   "metadata": {},
   "outputs": [],
   "source": [
    "b1 = Borg()\n",
    "b1.prenom = 'Toto'"
   ]
  },
  {
   "cell_type": "code",
   "execution_count": 18,
   "id": "93cc29ec",
   "metadata": {},
   "outputs": [],
   "source": [
    "b2 = Borg()\n",
    "b2.age = 25"
   ]
  },
  {
   "cell_type": "code",
   "execution_count": 19,
   "id": "03705e96",
   "metadata": {},
   "outputs": [
    {
     "data": {
      "text/plain": [
       "(<__main__.Borg at 0x225d9317430>, <__main__.Borg at 0x225d9314430>)"
      ]
     },
     "execution_count": 19,
     "metadata": {},
     "output_type": "execute_result"
    }
   ],
   "source": [
    "b1, b2"
   ]
  },
  {
   "cell_type": "code",
   "execution_count": 22,
   "id": "7b8c1c18",
   "metadata": {},
   "outputs": [
    {
     "data": {
      "text/plain": [
       "('Toto', 25)"
      ]
     },
     "execution_count": 22,
     "metadata": {},
     "output_type": "execute_result"
    }
   ],
   "source": [
    "b1.prenom, b1.age"
   ]
  },
  {
   "cell_type": "code",
   "execution_count": 23,
   "id": "cb2a2c2f",
   "metadata": {},
   "outputs": [
    {
     "data": {
      "text/plain": [
       "(25, 'Toto')"
      ]
     },
     "execution_count": 23,
     "metadata": {},
     "output_type": "execute_result"
    }
   ],
   "source": [
    "b2.age, b2.prenom"
   ]
  },
  {
   "cell_type": "code",
   "execution_count": 24,
   "id": "9f9d21b3",
   "metadata": {},
   "outputs": [],
   "source": [
    "b1.age +=1"
   ]
  },
  {
   "cell_type": "code",
   "execution_count": 25,
   "id": "9099b60f",
   "metadata": {},
   "outputs": [
    {
     "data": {
      "text/plain": [
       "26"
      ]
     },
     "execution_count": 25,
     "metadata": {},
     "output_type": "execute_result"
    }
   ],
   "source": [
    "b2.age"
   ]
  },
  {
   "cell_type": "code",
   "execution_count": null,
   "id": "06d71bed",
   "metadata": {},
   "outputs": [],
   "source": []
  }
 ],
 "metadata": {
  "kernelspec": {
   "display_name": "Python 3 (ipykernel)",
   "language": "python",
   "name": "python3"
  },
  "language_info": {
   "codemirror_mode": {
    "name": "ipython",
    "version": 3
   },
   "file_extension": ".py",
   "mimetype": "text/x-python",
   "name": "python",
   "nbconvert_exporter": "python",
   "pygments_lexer": "ipython3",
   "version": "3.10.5"
  }
 },
 "nbformat": 4,
 "nbformat_minor": 5
}
