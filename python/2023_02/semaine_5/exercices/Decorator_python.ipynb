{
 "cells": [
  {
   "cell_type": "markdown",
   "id": "63391644",
   "metadata": {},
   "source": [
    "lien pour se documenter :\n",
    "\n",
    "http://sdz.tdct.org/sdz/le-pattern-decorator-en-python.html"
   ]
  },
  {
   "cell_type": "code",
   "execution_count": 1,
   "id": "82e1d2cc",
   "metadata": {},
   "outputs": [],
   "source": [
    "PRIX_BASE = 3.8\n",
    "PRIX_SALADE = 0.2\n",
    "PRIX_TOMATES = 0.2\n",
    "PRIX_OIGNONS = 0.3\n",
    "PRIX_FRITES = 0.5\n",
    "\n",
    "class Kebab:\n",
    "    \n",
    "    def __init__(self, sauce):\n",
    "        self.sauce = sauce\n",
    "        self.base = PRIX_BASE\n",
    "        self.salade =PRIX_SALADE\n",
    "        self.tomates = PRIX_TOMATES\n",
    "        self.oignons = PRIX_OIGNONS\n",
    "        self.frites = PRIX_FRITES\n",
    "\n",
    "    @property\n",
    "    def prix(self):\n",
    "        return (self.base + self.salade + self.tomates + self.oignons +\n",
    "                self.frites)\n",
    "\n",
    "    def __str__(self):\n",
    "        return 'Kebab'\n",
    "\n",
    "    def __repr__(self):\n",
    "        s = 'Kebab ({0}) ;'.format(self.prix)\n",
    "        for it in self.__dict__.items():\n",
    "            s +=' {0} ({1}) '.format(*it)\n",
    "        return s\n"
   ]
  },
  {
   "cell_type": "code",
   "execution_count": 2,
   "id": "9f1becf4",
   "metadata": {},
   "outputs": [
    {
     "name": "stdout",
     "output_type": "stream",
     "text": [
      "Kebab\n"
     ]
    }
   ],
   "source": [
    ">>> a = Kebab('ketchup')\n",
    ">>> print(a)"
   ]
  },
  {
   "cell_type": "code",
   "execution_count": 3,
   "id": "e27e25cc",
   "metadata": {},
   "outputs": [
    {
     "data": {
      "text/plain": [
       "Kebab (5.0) ; sauce (ketchup)  base (3.8)  salade (0.2)  tomates (0.2)  oignons (0.3)  frites (0.5) "
      ]
     },
     "execution_count": 3,
     "metadata": {},
     "output_type": "execute_result"
    }
   ],
   "source": [
    ">>> a"
   ]
  },
  {
   "cell_type": "markdown",
   "id": "e5e18fe1",
   "metadata": {},
   "source": [
    "## Utilisons l'héritage !"
   ]
  },
  {
   "cell_type": "markdown",
   "id": "2e78ec37",
   "metadata": {},
   "source": [
    "![ heritage entre classe kebab et kebab sans oignons](http://sdz.tdct.org/sdz/medias/imgur.com_ytRli.png)\n"
   ]
  },
  {
   "cell_type": "code",
   "execution_count": 4,
   "id": "dbf3cc33",
   "metadata": {},
   "outputs": [],
   "source": [
    "class KebabSansOignon(Kebab):\n",
    "    def __init__(self, sauce):\n",
    "        super().__init__(sauce)\n",
    "        self.oignons = 0        # Pas d'oignon\n",
    "\n",
    "    def __str__(self):\n",
    "        return 'Kebab sans oignon'"
   ]
  },
  {
   "cell_type": "code",
   "execution_count": 5,
   "id": "bd87bb92",
   "metadata": {},
   "outputs": [
    {
     "name": "stdout",
     "output_type": "stream",
     "text": [
      "Kebab sans oignon\n"
     ]
    }
   ],
   "source": [
    ">>> a_sans_oignons = KebabSansOignon('ketchup')\n",
    ">>> print(a_sans_oignons )"
   ]
  },
  {
   "cell_type": "code",
   "execution_count": 6,
   "id": "edc59c68",
   "metadata": {},
   "outputs": [
    {
     "data": {
      "text/plain": [
       "Kebab (4.7) ; sauce (ketchup)  base (3.8)  salade (0.2)  tomates (0.2)  oignons (0)  frites (0.5) "
      ]
     },
     "execution_count": 6,
     "metadata": {},
     "output_type": "execute_result"
    }
   ],
   "source": [
    ">>> a_sans_oignons "
   ]
  },
  {
   "cell_type": "markdown",
   "id": "f273b869",
   "metadata": {},
   "source": [
    "```\n",
    "Bien ! Puisque cette méthode fonctionne jusqu'ici, implémentons une seconde modification : le supplément fromage.\n",
    "```"
   ]
  },
  {
   "cell_type": "code",
   "execution_count": 7,
   "id": "af6923ef",
   "metadata": {},
   "outputs": [],
   "source": [
    "PRIX_FROMAGE = 0.5\n",
    "\n",
    "class KebabSuppFromage(Kebab):\n",
    "    def __init__(self, sauce):\n",
    "        super().__init__(sauce)\n",
    "        self.fromage = PRIX_FROMAGE\n",
    "        \n",
    "    @property\n",
    "    def prix(self):\n",
    "        return super().prix + self.fromage\n",
    "\n",
    "    def __str__(self):\n",
    "        return 'Kebab suppl. fromage'"
   ]
  },
  {
   "cell_type": "code",
   "execution_count": 8,
   "id": "674c7d89",
   "metadata": {},
   "outputs": [
    {
     "name": "stdout",
     "output_type": "stream",
     "text": [
      "Kebab suppl. fromage\n"
     ]
    }
   ],
   "source": [
    ">>> a_supp_fromage = KebabSuppFromage(\"ketchup\")\n",
    ">>> print(a_supp_fromage)"
   ]
  },
  {
   "cell_type": "code",
   "execution_count": 9,
   "id": "bb6737ae",
   "metadata": {},
   "outputs": [
    {
     "data": {
      "text/plain": [
       "Kebab (5.5) ; sauce (ketchup)  base (3.8)  salade (0.2)  tomates (0.2)  oignons (0.3)  frites (0.5)  fromage (0.5) "
      ]
     },
     "execution_count": 9,
     "metadata": {},
     "output_type": "execute_result"
    }
   ],
   "source": [
    ">>> a_supp_fromage"
   ]
  },
  {
   "cell_type": "markdown",
   "id": "94105228",
   "metadata": {},
   "source": [
    "```\n",
    "Et notre architecture donne maintenant :\n",
    "```"
   ]
  },
  {
   "cell_type": "markdown",
   "id": "2bc65a6a",
   "metadata": {},
   "source": [
    "![heritage entre Kebab et les 2 autres classes](http://sdz.tdct.org/sdz/medias/imgur.com_V2lnN.png)"
   ]
  },
  {
   "cell_type": "markdown",
   "id": "f0dc9eff",
   "metadata": {},
   "source": [
    "```\n",
    "Mais ne voyez-vous pas (au moins) un problème se dessiner à l'horizon ?\n",
    "\n",
    "    Que va t'il se passer lorsque nous voudrons définir un « kebab sans oignon avec supplément fromage » ?\n",
    "\n",
    "    À quoi ressemblera notre architecture lorsque l'on aura défini toutes les modifications possibles ?\n",
    "\n",
    "Bien, répondons à ces questions dans l'ordre (mais j'espère que vous y avez réfléchi).\n",
    "D'abord, si l'on veut définir un « kebab sans oignon avec supplément fromage », on est obligé, si l'on veut suivre notre logique, de dire que c'EST UN « kebab sans oignon » ET UN « kebab avec supplément fromage », ce qui nous donne le schéma suivant :\n",
    "```"
   ]
  },
  {
   "cell_type": "markdown",
   "id": "f3c10b9e",
   "metadata": {},
   "source": [
    "![nouvel architecture](http://sdz.tdct.org/sdz/medias/imgur.com_4rd18.png)"
   ]
  },
  {
   "cell_type": "markdown",
   "id": "fe352c75",
   "metadata": {},
   "source": [
    "```\n",
    "Si vous ne le savez pas encore, ceci est une architecture en diamant, et c'est le cas par excellence que l'on cherche à éviter lorsque l'on touche à l'héritage multiple, car cela introduit de très gros risques de bugs et de comportements indéterminés. Dans le cas présent, cela peut encore se gérer, étant donné que nos objets sont très simples, mais le problème reste que notre conception de base nous force à utiliser l'héritage multiple, que chacun d'entre vous devrait considérer comme dangereux.\n",
    "\n",
    "D'une manière générale, je vous rappelle la règle d'or :\n",
    "« Si vous PENSEZ avoir besoin de l'héritage multiple, c'est probablement une mauvaise idée. Si vous SAVEZ que vous avez besoin de l'héritage multiple, alors c'est sûrement la seule solution. »\n",
    "\n",
    "Au cas où vous ne seriez pas encore convaincu que nous avons là un gros problème de conception, essayons de répondre à la seconde question, et envisageons l'intégration des autres personnalisations possibles pour nos kebabs. Personnellement, j'ai eu la flemme de dessiner tout le schéma, mais voici ce que cela donne après quelques ajouts seulement :\n",
    "```"
   ]
  },
  {
   "cell_type": "markdown",
   "id": "dae838a1",
   "metadata": {},
   "source": [
    "![](http://sdz.tdct.org/sdz/medias/imgur.com_UHFc1.png)"
   ]
  },
  {
   "cell_type": "markdown",
   "id": "026dd956",
   "metadata": {},
   "source": [
    "```\n",
    "On se retrouve avec un nombre de classes qui croît de manière exponentielle chaque fois que l'on veut introduire une nouvelle personnalisation. Il est évident que ce genre de programme finit très vite par être extrêmement complexe, non maintenable et impossible à faire évoluer.\n",
    "```"
   ]
  },
  {
   "cell_type": "markdown",
   "id": "50fb67d4",
   "metadata": {},
   "source": [
    "## Une solution\n",
    "\n",
    "```\n",
    "Une réflexion légitime serait de se dire « Eh bien ! S'il faut éviter de multiplier les classes, on n'a qu'à gérer les personnalisations directement dans la classe Kebab. ».\n",
    "```"
   ]
  },
  {
   "cell_type": "code",
   "execution_count": 11,
   "id": "5ca047e6",
   "metadata": {},
   "outputs": [],
   "source": [
    "from collections import namedtuple\n",
    "\n",
    "PRIX_BASE = 3.0\n",
    "PRIX_MOUTON = 0.8\n",
    "PRIX_POULET = 1.0\n",
    "PRIX_SALADE = 0.2\n",
    "PRIX_TOMATES = 0.2\n",
    "PRIX_OIGNONS = 0.3\n",
    "PRIX_FRITES = 0.5\n",
    "PRIX_FROMAGE = 0.5\n",
    "\n",
    "PRIX_MOD_PAIN = 0.5\n",
    "PRIX_MOD_VIANDE = 1\n",
    "\n",
    "Ingredient = namedtuple('Ingredient', 'prix quantite')\n",
    "\n",
    "class Kebab:\n",
    "    def __init__(self, sauce):\n",
    "        self.type_sauce = sauce\n",
    "        self.type_viande = 'mouton'\n",
    "        self.base = PRIX_BASE\n",
    "\n",
    "        self._ing = dict()\n",
    "\n",
    "        self._ing['viande'] = Ingredient(PRIX_MOUTON, 1)\n",
    "        self._ing['salade'] = Ingredient(PRIX_SALADE, 1)\n",
    "        self._ing['tomates'] = Ingredient(PRIX_TOMATES, 1)\n",
    "        self._ing['oignons'] = Ingredient(PRIX_OIGNONS, 1)\n",
    "        self._ing['frites'] = Ingredient(PRIX_FRITES, 1)\n",
    "        self._ing['fromage'] = Ingredient(PRIX_FROMAGE, 0)\n",
    "\n",
    "    @property\n",
    "    def prix(self):\n",
    "        return self.base + sum(i.prix*i.quantite for i in self._ing.values())\n",
    "\n",
    "    def __str__(self):\n",
    "        s = \"Kebab ({0:.2f}) sauce {1}\".format(self.prix, self.type_sauce)\n",
    "        if self.type_viande != \"mouton\":\n",
    "            s += \", au {0}\".format(self.type_viande)\n",
    "        for elt in self._ing:\n",
    "            qte = self._ing[elt].quantite\n",
    "            if qte > 0:\n",
    "                s += \", {0}x {1}\".format(qte, elt)\n",
    "            else:\n",
    "                s += \", sans {0}\".format(elt)\n",
    "        return s\n",
    "\n",
    "    def sans(self, ingredient):\n",
    "        if ingredient in self._ing:\n",
    "            prix, _ = self._ing[ingredient]\n",
    "            self._ing[ingredient] = Ingredient(prix, 0)\n",
    "\n",
    "    def supp(self, ingredient):\n",
    "        if ingredient in self._ing:\n",
    "            prix, qte = self._ing[ingredient]\n",
    "            self._ing[ingredient] = Ingredient(prix, qte+1)\n",
    "\n",
    "    def poulet(self):\n",
    "        self.type_viande = 'poulet'\n",
    "        _, qte = self._ing['viande']\n",
    "        self._ing['viande'] = Ingredient(PRIX_POULET, qte)\n",
    "    "
   ]
  },
  {
   "cell_type": "code",
   "execution_count": 12,
   "id": "32ed3a2f",
   "metadata": {},
   "outputs": [
    {
     "name": "stdout",
     "output_type": "stream",
     "text": [
      "Help on function namedtuple in module collections:\n",
      "\n",
      "namedtuple(typename, field_names, *, rename=False, defaults=None, module=None)\n",
      "    Returns a new subclass of tuple with named fields.\n",
      "    \n",
      "    >>> Point = namedtuple('Point', ['x', 'y'])\n",
      "    >>> Point.__doc__                   # docstring for the new class\n",
      "    'Point(x, y)'\n",
      "    >>> p = Point(11, y=22)             # instantiate with positional args or keywords\n",
      "    >>> p[0] + p[1]                     # indexable like a plain tuple\n",
      "    33\n",
      "    >>> x, y = p                        # unpack like a regular tuple\n",
      "    >>> x, y\n",
      "    (11, 22)\n",
      "    >>> p.x + p.y                       # fields also accessible by name\n",
      "    33\n",
      "    >>> d = p._asdict()                 # convert to a dictionary\n",
      "    >>> d['x']\n",
      "    11\n",
      "    >>> Point(**d)                      # convert from a dictionary\n",
      "    Point(x=11, y=22)\n",
      "    >>> p._replace(x=100)               # _replace() is like str.replace() but targets named fields\n",
      "    Point(x=100, y=22)\n",
      "\n"
     ]
    }
   ],
   "source": [
    "help(namedtuple)"
   ]
  },
  {
   "cell_type": "markdown",
   "id": "92a33796",
   "metadata": {},
   "source": [
    "```\n",
    "Pour résumer l'idée : la classe Kebab encapsule un dictionnaire, qui à chaque nom d'ingrédient associe une quantité ainsi qu'un prix de base. Elle définit 3 méthodes supplémentaires : sans pour ôter un ingrédient, supp pour ajouter un supplément, et, poulet (cette méthode devrait vous mettre la puce à l'oreille), pour changer le type de viande utilisé.\n",
    "\n",
    "Voici un exemple d'utilisation :\n",
    "```"
   ]
  },
  {
   "cell_type": "code",
   "execution_count": 13,
   "id": "aa297b05",
   "metadata": {},
   "outputs": [
    {
     "name": "stdout",
     "output_type": "stream",
     "text": [
      "Kebab (5.00) sauce harissa, 1x viande, 1x salade, 1x tomates, 1x oignons, 1x frites, sans fromage\n"
     ]
    }
   ],
   "source": [
    ">>> a = Kebab(\"harissa\")\n",
    ">>> print(a)"
   ]
  },
  {
   "cell_type": "code",
   "execution_count": 14,
   "id": "87b4b447",
   "metadata": {},
   "outputs": [
    {
     "name": "stdout",
     "output_type": "stream",
     "text": [
      "Kebab (4.70) sauce harissa, 1x viande, 1x salade, 1x tomates, sans oignons, 1x frites, sans fromage\n"
     ]
    }
   ],
   "source": [
    ">>> a.sans('oignons')\n",
    ">>> print(a)"
   ]
  },
  {
   "cell_type": "code",
   "execution_count": 15,
   "id": "fee7881d",
   "metadata": {},
   "outputs": [
    {
     "name": "stdout",
     "output_type": "stream",
     "text": [
      "Kebab (5.20) sauce harissa, 1x viande, 1x salade, 1x tomates, sans oignons, 1x frites, 1x fromage\n"
     ]
    }
   ],
   "source": [
    ">>> a.supp('fromage')\n",
    ">>> print(a)"
   ]
  },
  {
   "cell_type": "code",
   "execution_count": 16,
   "id": "e002cde2",
   "metadata": {},
   "outputs": [
    {
     "name": "stdout",
     "output_type": "stream",
     "text": [
      "Kebab (6.00) sauce harissa, 2x viande, 1x salade, 1x tomates, sans oignons, 1x frites, 1x fromage\n"
     ]
    }
   ],
   "source": [
    ">>> a.supp('viande')\n",
    ">>> print(a)"
   ]
  },
  {
   "cell_type": "code",
   "execution_count": 17,
   "id": "5546ea4f",
   "metadata": {},
   "outputs": [
    {
     "name": "stdout",
     "output_type": "stream",
     "text": [
      "Kebab (6.40) sauce harissa, au poulet, 2x viande, 1x salade, 1x tomates, sans oignons, 1x frites, 1x fromage\n"
     ]
    }
   ],
   "source": [
    ">>> a.poulet()\n",
    ">>> print(a)"
   ]
  },
  {
   "cell_type": "markdown",
   "id": "b42dbb8e",
   "metadata": {},
   "source": [
    "```\n",
    "Comme vous le voyez, ça fonctionne plutôt bien : chaque modification se répercute sur le prix du kebab, et tout cela est mis en œuvre grâce à relativement peu de code. Qui plus est, nous n'avons eu qu'une seule classe à implémenter pour arriver à nos fins, ce qui rend notre architecture la plus simple possible.\n",
    "\n",
    "Il est clair que cette conception est beaucoup plus efficace que la précédente. Cependant, elle souffre encore de plusieurs défauts qui la rendent difficile à faire évoluer. C'est ce que l'on va essayer d'identifier ensemble.\n",
    "```"
   ]
  },
  {
   "cell_type": "markdown",
   "id": "12d0ea08",
   "metadata": {},
   "source": [
    "## Quand le patron a une nouvelle idée…"
   ]
  },
  {
   "cell_type": "markdown",
   "id": "49d88373",
   "metadata": {},
   "source": [
    "```\n",
    "Imaginons que le patron ait l'idée d'ajouter de nouvelles personnalisations possibles pour un kebab. Par exemple : l'utilisation de pain pita au lieu du pain normal, l'utilisation de viande de dinde au lieu du mouton ou du poulet, ou bien de nouveaux ingrédients en supplément, mettons les « épices du chef ». Que se passerait-il au niveau de notre classe Kebab ?\n",
    "\n",
    "Voyons un peu.\n",
    "\n",
    "    Pour ajouter un nouveau type de viande dans les choix possibles, nous serions obligés de créer une nouvelle méthode dinde dans la classe Kebab.\n",
    "\n",
    "    Pour ajouter un nouvel ingrédient, nous serions obligés d'ajouter un champ \"epices du chef\" dans le dictionnaire _ing et d'initialiser sa quantité à 0.\n",
    "\n",
    "    Pour ajouter le choix du type de pain utilisé, nous serions obligés :\n",
    "\n",
    "        d'ajouter un membre type_pain,\n",
    "\n",
    "        d'ajouter un champ \"pain\" dans le dictionnaire _ing,\n",
    "\n",
    "        d'ajouter une méthode pain_pita.\n",
    "\n",
    "En bref, notre classe Kebab doit tout savoir des personnalisations possibles : si on veut faire évoluer l'application, nous sommes obligés d'accumuler des modifications dans cette classe, ce qui risque, avec le temps, de la rendre très lourde et illisible. En bref, cela viole le grand principe « Open-Closed » (ou « principe d'ouverture-fermeture ») de la POO.\n",
    "\n",
    "Pour ceux qui ne le connaîtraient pas encore, je vous rappelle l'énoncé (très zen) de ce principe :\n",
    "\n",
    "Oooohhhhhhmmm…\n",
    "\n",
    "« Une classe doit être FERMÉE à la modification, mais OUVERTE à l'extension. »\n",
    "\n",
    "Amen.\n",
    "\n",
    "Cela se justifie très simplement : modifier une classe ou une méthode, c'est risquer d'introduire des bugs ou des effets de bord. Seulement une application étant constamment sujette au changement, il faut quand même que nos classes soient réutilisables, même lors d'une évolution de l'application. En bref : nos classes doivent être définies une bonne fois pour toutes, de telle manière qu'il est facile de les faire évoluer sans les modifier, même dans des cas qui n'étaient pas prévus à la base.\n",
    "\n",
    "Ici, ce n'est pas le cas. Notre nouvelle implémentation, quoique bien meilleure que la précédente, est encore insuffisante : elle marche, mais ne peut pas évoluer facilement. Notre problème de conception est donc un peu plus ardu que prévu… Je pense qu'il est temps maintenant de faire appel à un design pattern.\n",
    "```"
   ]
  },
  {
   "cell_type": "markdown",
   "id": "5a9ce20e",
   "metadata": {},
   "source": [
    "## Decorator à la rescousse !"
   ]
  },
  {
   "cell_type": "markdown",
   "id": "b8b7ba95",
   "metadata": {},
   "source": [
    "## Architecture générale du pattern Decorator"
   ]
  },
  {
   "cell_type": "markdown",
   "id": "954a99e0",
   "metadata": {},
   "source": [
    "![](http://sdz.tdct.org/sdz/medias/imgur.com_poWnY.png)"
   ]
  },
  {
   "cell_type": "markdown",
   "id": "0b80febd",
   "metadata": {},
   "source": [
    "```\n",
    "Dans ce schéma, nous avons une classe principale, le Composant abstrait, qui définit l'interface publique de plusieurs ComposantConcrets. Dans notre cas, le Composant se traduirait par une classe Sandwich, dont dérivent en particulier le Kebab, ainsi que d'autres sandwiches \"de base\", mettons le Cheeseburger, par exemple. En clair, le comportement de base des sandwiches est défini dans une classe de plus haut niveau que le Kebab, et chacune des implémentations concrètes précise le comportement du Sandwich. Jusqu'ici, c'est l'expression la plus pure de l'héritage.\n",
    "\n",
    "Là où le Decorator se démarque, c'est au niveau de la classe Decorateur. Dans le schéma générique, on définit une interface Decorateur d'où vont dériver de multiples implémentations différentes. Ce qui caractérise ces objets, c'est que non seulement, ils héritent (directement ou non) de l'interface publique de Composant, mais qu'en plus, ils encapsulent un Composant (ou une classe concrète dérivée) afin d'en modifier le comportement ou l'état. Sachant qu'un Decorateur EST UN Composant, cela veut dire qu'un Decorateur peut envelopper indifféremment un ComposantConcret ou un autre Decorateur. Vous en comprenez l'intérêt ?\n",
    "\n",
    "Dans notre cas, les implémentations concrètes de DecorateurSandwich pourront être Supplement (pour ajouter un ingrédient), ModPain (pour utiliser du pain pita au lieu du pain normal, par exemple), ModViande (pour remplacer le mouton par du poulet), ou RetraitIngredient (pour avoir un kebab « sans oignon »). Étant donné que les décorateurs peuvent s'envelopper les uns les autres, cela va nous permettre de créer toutes les combinaisons de modifications possibles et imaginables, avec très peu d'objets. ;)\n",
    "\n",
    "Une remarque importante, c'est que les décorateurs ne sont pas vraiment obligés de tous hériter d'une classe Decorateur. En effet : dans le cas où nos objets sont simples (comme ici), on peut sans crainte créer des décorateurs qui héritent directement de Composant. Cependant, pour cette fois, nous allons respecter scrupuleusement le schéma.  \n",
    "```"
   ]
  },
  {
   "cell_type": "markdown",
   "id": "a7402224",
   "metadata": {},
   "source": [
    "## Application du Decorator à notre problème"
   ]
  },
  {
   "cell_type": "markdown",
   "id": "245c3a47",
   "metadata": {},
   "source": [
    "![Decorateur appliqué au Kebab](http://sdz.tdct.org/sdz/medias/imgur.com_DKpwg.png)"
   ]
  },
  {
   "cell_type": "markdown",
   "id": "74f4739c",
   "metadata": {},
   "source": [
    "```\n",
    "Voyons comment ceci peut se traduire en code.\n",
    "\n",
    "D'abord, la classe Sandwich de base :\n",
    "```"
   ]
  },
  {
   "cell_type": "code",
   "execution_count": 18,
   "id": "564b52e2",
   "metadata": {},
   "outputs": [],
   "source": [
    "from collections import namedtuple\n",
    "\n",
    "Ingredient = namedtuple('Ingredient', 'prix qte')\n",
    "\n",
    "class Sandwich:\n",
    "    def __init__(self, sauce):\n",
    "        self.sauce = sauce\n",
    "        self._ing = dict()\n",
    "\n",
    "    @property\n",
    "    def prix(self):\n",
    "        return sum(i.prix * i.qte for i in self._ing.values())\n",
    "\n",
    "    def __repr__(self):\n",
    "        return \"Sandwich sauce {0}\".format(self.sauce)\n",
    "\n",
    "    def __str__(self):\n",
    "        s = repr(self)\n",
    "        for key, it in self._ing.items():\n",
    "            s += \"\\n {1.qte:>2}x {0:<15}{2:>5.2f} €\".format(key, it, it.prix * it.qte)\n",
    "        s += \"\\nTotal               {:>5.2f} €\".format(self.prix)\n",
    "        return s"
   ]
  },
  {
   "cell_type": "markdown",
   "id": "28a2adb1",
   "metadata": {},
   "source": [
    "```\n",
    "Un sandwich est caractérisé par sa sauce, ainsi que la liste de ses ingrédients. La somme des prix × quantite des ingrédients constitue le prix du sandwich. Enfin, deux méthodes utilitaires sont créées, l'une pour décrire le sandwich, et l'autre pour donner le détail du prix.\n",
    "\n",
    "Voyons maintenant le Kebab :\n",
    "```"
   ]
  },
  {
   "cell_type": "code",
   "execution_count": 19,
   "id": "06ff308d",
   "metadata": {},
   "outputs": [],
   "source": [
    "class Kebab(Sandwich):\n",
    "    def __init__(self, sauce):\n",
    "        super().__init__(sauce)\n",
    "        self._ing['base'] = Ingredient(PRIX_BASE, 1)\n",
    "        self._ing['salade'] = Ingredient(PRIX_SALADE, 1)\n",
    "        self._ing['tomates'] = Ingredient(PRIX_TOMATES, 1)\n",
    "        self._ing['oignons'] = Ingredient(PRIX_OIGNONS, 1)\n",
    "        self._ing['frites'] = Ingredient(PRIX_FRITES, 1)\n",
    "\n",
    "    def __repr__(self):\n",
    "        return \"Kebab sauce {0}\".format(self.sauce)"
   ]
  },
  {
   "cell_type": "markdown",
   "id": "d8e00429",
   "metadata": {},
   "source": [
    "```\n",
    "Comme vous le voyez, on se contente de dériver la classe Sandwich et de préciser ses ingrédients (la 'base' représente le pain normal et le mouton).\n",
    "\n",
    "Commençons par tester cette partie du code :\n",
    "```"
   ]
  },
  {
   "cell_type": "code",
   "execution_count": 20,
   "id": "06110007",
   "metadata": {},
   "outputs": [
    {
     "name": "stdout",
     "output_type": "stream",
     "text": [
      "Kebab sauce harissa\n",
      "  1x base            3.00 €\n",
      "  1x salade          0.20 €\n",
      "  1x tomates         0.20 €\n",
      "  1x oignons         0.30 €\n",
      "  1x frites          0.50 €\n",
      "Total                4.20 €\n"
     ]
    }
   ],
   "source": [
    ">>> print(Kebab(\"harissa\"))"
   ]
  },
  {
   "cell_type": "markdown",
   "id": "5eada257",
   "metadata": {},
   "source": [
    "```\n",
    "Bien. Tout fonctionne.\n",
    "\n",
    "Créons maintenant notre classe DecorateurSandwich\n",
    "```"
   ]
  },
  {
   "cell_type": "code",
   "execution_count": 21,
   "id": "b3c14fc1",
   "metadata": {},
   "outputs": [],
   "source": [
    "class DecorateurSandwich(Sandwich):\n",
    "    def __init__(self, sandwich):\n",
    "        super().__init__(sandwich.sauce)\n",
    "        self.sandwich = sandwich\n",
    "        self._ing = sandwich._ing"
   ]
  },
  {
   "cell_type": "markdown",
   "id": "50a63381",
   "metadata": {},
   "source": [
    "```\n",
    "Cette classe remplit le rôle minimal du décorateur\n",
    "\n",
    "    elle encapsule un Sandwich dont le comportement est destiné à être modifié.\n",
    "\n",
    "    elle se fait passer pour le Sandwich décoré, de telle manière que le code qui utilisera ce décorateur aura l'impression de traiter directement le Sandwich\n",
    "\n",
    "C'est pour gérer le second aspect que l'on récupère une référence du membre _ing (le dictionnaire d'ingrédients) du sandwich décoré dans le membre _ing du décorateur : en modifiant les ingrédients du DecorateurSandwich on modifiera directement les ingrédients du Sandwich décoré. \n",
    "Essayons maintenant de modéliser un premier décorateur : le retrait d'ingrédients.\n",
    "```"
   ]
  },
  {
   "cell_type": "code",
   "execution_count": 22,
   "id": "fcd82a40",
   "metadata": {},
   "outputs": [],
   "source": [
    "class RetraitIngredient(DecorateurSandwich):\n",
    "    def __init__(self, sandwich, ingredient):\n",
    "        super().__init__(sandwich)\n",
    "        # suppression de l'ingrédient voulu\n",
    "        self.retrait = None\n",
    "        if ingredient in self._ing:\n",
    "            del self._ing[ingredient]\n",
    "            self.retrait = ingredient\n",
    "\n",
    "    def __repr__(self):\n",
    "        r = repr(self.sandwich)\n",
    "        # Ajout de la mention \"sans X\" si un ingrédient \n",
    "        # a bien été retiré\n",
    "        if self.retrait is not None:\n",
    "            r += \", sans {0}\".format(self.retrait)\n",
    "        return r"
   ]
  },
  {
   "cell_type": "code",
   "execution_count": 23,
   "id": "7e76504d",
   "metadata": {},
   "outputs": [
    {
     "name": "stdout",
     "output_type": "stream",
     "text": [
      "Kebab sauce harissa\n",
      "  1x base            3.00 €\n",
      "  1x salade          0.20 €\n",
      "  1x tomates         0.20 €\n",
      "  1x oignons         0.30 €\n",
      "  1x frites          0.50 €\n",
      "Total                4.20 €\n"
     ]
    }
   ],
   "source": [
    ">>> a = Kebab(\"harissa\")\n",
    ">>> print(a)"
   ]
  },
  {
   "cell_type": "code",
   "execution_count": 24,
   "id": "bfeaf718",
   "metadata": {},
   "outputs": [
    {
     "name": "stdout",
     "output_type": "stream",
     "text": [
      "Kebab sauce harissa, sans oignons\n",
      "  1x base            3.00 €\n",
      "  1x salade          0.20 €\n",
      "  1x tomates         0.20 €\n",
      "  1x frites          0.50 €\n",
      "Total                3.90 €\n"
     ]
    }
   ],
   "source": [
    ">>> a = RetraitIngredient(a, \"oignons\") # retrait d'un ingrédient\n",
    ">>> print(a)"
   ]
  },
  {
   "cell_type": "code",
   "execution_count": 25,
   "id": "d0036f43",
   "metadata": {},
   "outputs": [
    {
     "name": "stdout",
     "output_type": "stream",
     "text": [
      "Kebab sauce harissa, sans oignons\n",
      "  1x base            3.00 €\n",
      "  1x salade          0.20 €\n",
      "  1x tomates         0.20 €\n",
      "  1x frites          0.50 €\n",
      "Total                3.90 €\n"
     ]
    }
   ],
   "source": [
    ">>> a = RetraitIngredient(a, \"champignons\") # retrait d'un ingrédient inexistant\n",
    ">>> print(a) # aucun effet"
   ]
  },
  {
   "cell_type": "code",
   "execution_count": 26,
   "id": "cc65aa81",
   "metadata": {},
   "outputs": [
    {
     "name": "stdout",
     "output_type": "stream",
     "text": [
      "Kebab sauce harissa, sans oignons, sans frites\n",
      "  1x base            3.00 €\n",
      "  1x salade          0.20 €\n",
      "  1x tomates         0.20 €\n",
      "Total                3.40 €\n"
     ]
    }
   ],
   "source": [
    ">>> a = RetraitIngredient(a, \"frites\") # retrait d'un nouvel ingrédient\n",
    ">>> print(a)"
   ]
  },
  {
   "cell_type": "markdown",
   "id": "c355cca2",
   "metadata": {},
   "source": [
    "```\n",
    "On peut d'ailleurs créer quelques fonctions utilitaires pour alléger la syntaxe :\n",
    "\n",
    "```"
   ]
  },
  {
   "cell_type": "code",
   "execution_count": 27,
   "id": "322cd3fd",
   "metadata": {},
   "outputs": [],
   "source": [
    "def sans_oignon(sandwich):\n",
    "    return RetraitIngredient(sandwich, 'oignons')\n",
    "\n",
    "def sans_frite(sandwich):\n",
    "    return RetraitIngredient(sandwich, 'frites')\n",
    "\n",
    "def sans_salade(sandwich):\n",
    "    return RetraitIngredient(sandwich, 'salade')\n",
    "\n",
    "def sans_tomate(sandwich):\n",
    "    return RetraitIngredient(sandwich, 'tomates')"
   ]
  },
  {
   "cell_type": "markdown",
   "id": "e098988a",
   "metadata": {},
   "source": [
    "```\n",
    "Ce qui peut nous permettre de faire quelque chose comme :\n",
    "```"
   ]
  },
  {
   "cell_type": "code",
   "execution_count": 28,
   "id": "b0fd74dd",
   "metadata": {},
   "outputs": [
    {
     "name": "stdout",
     "output_type": "stream",
     "text": [
      "Kebab sauce ketchup, sans tomates, sans oignons, sans frites\n",
      "  1x base            3.00 €\n",
      "  1x salade          0.20 €\n",
      "Total                3.20 €\n"
     ]
    }
   ],
   "source": [
    ">>> a = sans_frite(sans_oignon(sans_tomate(Kebab(\"ketchup\"))))\n",
    ">>> print(a)"
   ]
  },
  {
   "cell_type": "code",
   "execution_count": 29,
   "id": "2d72c78e",
   "metadata": {},
   "outputs": [],
   "source": [
    "class Supplement(DecorateurSandwich):\n",
    "    def __init__(self, sandwich, ingredient, prix):\n",
    "        super().__init__(sandwich)\n",
    "        # ajout de l'ingrédient voulu\n",
    "        prix, qte = self._ing.get(ingredient, Ingredient(prix, 0))\n",
    "        self.ajout = ingredient \n",
    "        self._ing[ingredient] = Ingredient(prix, qte+1)\n",
    "\n",
    "    def __repr__(self):\n",
    "        r = repr(self.sandwich)\n",
    "        s = \", supplément {0}\".format(self.ajout)\n",
    "        if s not in r:\n",
    "            r += s\n",
    "        return r\n",
    "\n",
    "def supp_fromage(sandwich):\n",
    "    return Supplement(sandwich, 'fromage', PRIX_FROMAGE)\n",
    " \n",
    "def supp_oignon(sandwich):\n",
    "    return Supplement(sandwich, 'oignons', PRIX_OIGNONS)"
   ]
  },
  {
   "cell_type": "code",
   "execution_count": 30,
   "id": "7057f523",
   "metadata": {},
   "outputs": [
    {
     "name": "stdout",
     "output_type": "stream",
     "text": [
      "Kebab sauce ketchup, supplément fromage, supplément oignons\n",
      "  1x base            3.00 €\n",
      "  1x salade          0.20 €\n",
      "  1x tomates         0.20 €\n",
      "  2x oignons         0.60 €\n",
      "  1x frites          0.50 €\n",
      "  2x fromage         1.00 €\n",
      "Total                5.50 €\n"
     ]
    }
   ],
   "source": [
    ">>> a = supp_fromage(supp_oignon(supp_fromage(Kebab(\"ketchup\"))))\n",
    ">>> print(a)"
   ]
  },
  {
   "cell_type": "markdown",
   "id": "f8f8bac1",
   "metadata": {},
   "source": [
    "```\n",
    "Il ne reste plus que deux décorateurs à créer : le modificateur de viande, et le modificateur de pain. Ces deux classes sont tellement semblables que l'on pourrait même les réunir en une seule classe. Cependant, utiliser deux classes séparées permet de s'assurer plus simplement que l'on n'effectue pas plusieurs fois une même modification (si le client décide de changer la viande pour \"poulet\", \"oh puis non en fait dinde\", il n'a pas à payer deux fois la modification).\n",
    "```"
   ]
  },
  {
   "cell_type": "code",
   "execution_count": 31,
   "id": "92ecd80d",
   "metadata": {},
   "outputs": [],
   "source": [
    "class ModViande(DecorateurSandwich):\n",
    "    def __init__(self, sandwich, viande):\n",
    "        super().__init__(sandwich)\n",
    "        self.viande = viande\n",
    "        self.deja_fait = \"mod viande\" in self._ing\n",
    "        if not self.deja_fait:\n",
    "            self._ing[\"mod viande\"] = Ingredient(PRIX_MOD_VIANDE, 1)\n",
    "\n",
    "    def __repr__(self):\n",
    "        s = \" mod viande {0}\".format(self.viande)\n",
    "        r = repr(self.sandwich).split(',')\n",
    "        if not self.deja_fait:\n",
    "            r.append(s)\n",
    "        else:\n",
    "            for idx, elt in enumerate(r):\n",
    "                if \"mod viande\" in elt:\n",
    "                    r[idx] = s\n",
    "                    break\n",
    "        return ','.join(r)\n",
    "\n",
    "\n",
    "class ModPain(DecorateurSandwich):\n",
    "    def __init__(self, sandwich, pain):\n",
    "        super().__init__(sandwich)\n",
    "        self.pain = pain\n",
    "        self.deja_fait = \"mod pain\" in self._ing\n",
    "        if not self.deja_fait:\n",
    "            self._ing[\"mod pain\"] = Ingredient(PRIX_MOD_PAIN, 1)\n",
    "\n",
    "    def __repr__(self):\n",
    "        s = \" pain {0}\".format(self.pain)\n",
    "        r = repr(self.sandwich).split(',')\n",
    "        if not self.deja_fait:\n",
    "            r.append(s)\n",
    "        else:\n",
    "            for idx, elt in enumerate(r):\n",
    "                if \"pain\" in elt:\n",
    "                    r[idx] = s\n",
    "                    break\n",
    "        return ','.join(r)\n",
    "\n",
    "\n",
    "def mod_poulet(sandwich):\n",
    "    return ModViande(sandwich, 'poulet')\n",
    "\n",
    "def mod_dinde(sandwich):\n",
    "    return ModViande(sandwich, 'dinde')\n",
    "\n",
    "def mod_pita(sandwich):\n",
    "    return ModPain(sandwich, 'pita')"
   ]
  },
  {
   "cell_type": "code",
   "execution_count": 32,
   "id": "e626e000",
   "metadata": {},
   "outputs": [
    {
     "name": "stdout",
     "output_type": "stream",
     "text": [
      "Kebab sauce ketchup, pain pita, mod viande dinde\n",
      "  1x base            3.00 €\n",
      "  1x salade          0.20 €\n",
      "  1x tomates         0.20 €\n",
      "  1x oignons         0.30 €\n",
      "  1x frites          0.50 €\n",
      "  1x mod pain        0.50 €\n",
      "  1x mod viande      1.00 €\n",
      "Total                5.70 €\n"
     ]
    }
   ],
   "source": [
    ">>> a = mod_dinde(mod_pita(Kebab(\"ketchup\")))\n",
    ">>> print(a)"
   ]
  },
  {
   "cell_type": "code",
   "execution_count": 33,
   "id": "97bd0056",
   "metadata": {},
   "outputs": [
    {
     "name": "stdout",
     "output_type": "stream",
     "text": [
      "Kebab sauce mayo/harissa, pain pita, mod viande poulet, supplément fromage, sans oignons\n",
      "  1x base            3.00 €\n",
      "  1x salade          0.20 €\n",
      "  1x tomates         0.20 €\n",
      "  1x frites          0.50 €\n",
      "  1x mod pain        0.50 €\n",
      "  1x mod viande      1.00 €\n",
      "  1x fromage         0.50 €\n",
      "Total                5.90 €\n"
     ]
    }
   ],
   "source": [
    ">>> a = sans_oignon(supp_fromage(mod_poulet(mod_pita(Kebab(\"mayo/harissa\")))))\n",
    ">>> print(a)"
   ]
  },
  {
   "cell_type": "markdown",
   "id": "4d6fdce5",
   "metadata": {},
   "source": [
    "```\n",
    " Prenons un peu de recul :\n",
    "\n",
    "    Toutes les modifications que nous avons prévues sont modélisées par une classe.\n",
    "\n",
    "    Nous n'avons pas eu besoin de créer trop de classes (une par type de modification).\n",
    "\n",
    "    Nos classes Sandwich et Kebab n'ont été définies qu'une fois et une seule, \n",
    "    et nous n'avons pas eu besoin d'y retoucher.\n",
    "\n",
    "    La syntaxe des modifications est ridiculement simple à utiliser.\n",
    "\n",
    "On est bien loin de notre explosion combinatoire du premier jet, \n",
    "et de la classe \"qui-fait-tout, qui-sait tout\" du second essai.\n",
    "```"
   ]
  },
  {
   "cell_type": "markdown",
   "id": "52ef534e",
   "metadata": {},
   "source": [
    "## Quand le patron a (encore) une nouvelle idée…"
   ]
  },
  {
   "cell_type": "markdown",
   "id": "b421e465",
   "metadata": {},
   "source": [
    "```\n",
    "    Imaginons que le patron décide d'ajouter un nouvel ingrédient possible en supplément (les épices du chef), comment feriez-vous pour gérer cela dans le code ?\n",
    "\n",
    "    Comment vous y prendriez-vous pour rendre la sauce personnalisable de manière dynamique (c'est-à-dire APRÈS la création du Sandwich) ?\n",
    "\n",
    "    Nous n'avons pas encore défini le sandwich Cheeseburger. Comment l'implémenteriez-vous ? Que remarquez-vous, par rapport aux décorateurs que nous avons déjà définis ?\n",
    "\n",
    "Bien, prenons ces questions dans l'ordre.\n",
    "\n",
    "Si le patron voulait ajouter un nouvel ingrédient possible en supplément, nous n'aurions pas besoin de modifier une classe : il nous suffirait de connaître son prix, et d'utiliser le décorateur Supplement pour l'ajouter à un sandwich. Pour faire simple, il suffirait en fait de créer une petite fonction :\n",
    "```"
   ]
  },
  {
   "cell_type": "code",
   "execution_count": 34,
   "id": "e0e9e042",
   "metadata": {},
   "outputs": [],
   "source": [
    "PRIX_EPICES = 0.1\n",
    "def supp_epices(sandwich):\n",
    "    return Supplement(sandwich, 'épices du chef', PRIX_EPICES)"
   ]
  },
  {
   "cell_type": "code",
   "execution_count": 35,
   "id": "ff5653fc",
   "metadata": {},
   "outputs": [
    {
     "name": "stdout",
     "output_type": "stream",
     "text": [
      "Kebab sauce harissa, supplément épices du chef\n",
      "  1x base            3.00 €\n",
      "  1x salade          0.20 €\n",
      "  1x tomates         0.20 €\n",
      "  1x oignons         0.30 €\n",
      "  1x frites          0.50 €\n",
      "  1x épices du chef  0.10 €\n",
      "Total                4.30 €\n"
     ]
    }
   ],
   "source": [
    ">>> a = supp_epices(Kebab(\"harissa\"))\n",
    ">>> print(a)"
   ]
  },
  {
   "cell_type": "markdown",
   "id": "e3d3a391",
   "metadata": {},
   "source": [
    "```\n",
    "Aucun code à modifier, seulement une petite fonction rajoutée.\n",
    "\n",
    "Maintenant, si l'on voulait modifier dynamiquement la sauce d'un Kebab, qu'aurions-nous besoin de faire ?\n",
    "```"
   ]
  },
  {
   "cell_type": "code",
   "execution_count": 36,
   "id": "f67f166e",
   "metadata": {},
   "outputs": [
    {
     "name": "stdout",
     "output_type": "stream",
     "text": [
      "Kebab sauce harissa\n",
      "  1x base            3.00 €\n",
      "  1x salade          0.20 €\n",
      "  1x tomates         0.20 €\n",
      "  1x oignons         0.30 €\n",
      "  1x frites          0.50 €\n",
      "Total                4.20 €\n"
     ]
    }
   ],
   "source": [
    ">>> a = Kebab('harissa')\n",
    ">>> print(a)"
   ]
  },
  {
   "cell_type": "code",
   "execution_count": 37,
   "id": "6008ff85",
   "metadata": {},
   "outputs": [
    {
     "name": "stdout",
     "output_type": "stream",
     "text": [
      "Kebab sauce ketchup\n",
      "  1x base            3.00 €\n",
      "  1x salade          0.20 €\n",
      "  1x tomates         0.20 €\n",
      "  1x oignons         0.30 €\n",
      "  1x frites          0.50 €\n",
      "Total                4.20 €\n"
     ]
    }
   ],
   "source": [
    ">>> a.sauce = 'ketchup'\n",
    ">>> print(a)"
   ]
  },
  {
   "cell_type": "code",
   "execution_count": 46,
   "id": "e2dd2dd5",
   "metadata": {},
   "outputs": [],
   "source": [
    "PRIX_BASE_CHEESE = 2.0\n",
    "PRIX_STEAK = 0.5\n",
    "PRIX_CORNICHONS = 0.2\n",
    "\n",
    "class Cheeseburger(Sandwich):\n",
    "    def __init__(self, sauce):\n",
    "        super().__init__(sauce)\n",
    "        self._ing['base'] = Ingredient(PRIX_BASE_CHEESE, 1)\n",
    "        self._ing['steak'] = Ingredient(PRIX_STEAK, 1)\n",
    "        self._ing['salade'] = Ingredient(PRIX_SALADE, 1)\n",
    "        self._ing['tomates'] = Ingredient(PRIX_TOMATES, 1)\n",
    "        self._ing['oignons'] = Ingredient(PRIX_OIGNONS, 1)\n",
    "        self._ing['fromage'] = Ingredient(PRIX_FROMAGE, 2)\n",
    "        self._ing['cornichons'] = Ingredient(PRIX_CORNICHONS, 1)\n",
    "\n",
    "    def __repr__(self):\n",
    "        return \"Cheeseburger sauce {0}\".format(self.sauce)"
   ]
  },
  {
   "cell_type": "code",
   "execution_count": 47,
   "id": "84780022",
   "metadata": {},
   "outputs": [
    {
     "name": "stdout",
     "output_type": "stream",
     "text": [
      "Cheeseburger sauce ketchup/mayo, sans oignons\n",
      "  1x base            2.00 €\n",
      "  1x steak           0.50 €\n",
      "  1x salade          0.20 €\n",
      "  1x tomates         0.20 €\n",
      "  2x fromage         1.00 €\n",
      "  1x cornichons      0.20 €\n",
      "Total                4.10 €\n"
     ]
    }
   ],
   "source": [
    ">>> a = sans_oignon(Cheeseburger('ketchup/mayo'))\n",
    ">>> print(a)"
   ]
  },
  {
   "cell_type": "code",
   "execution_count": null,
   "id": "0d21a89a",
   "metadata": {},
   "outputs": [],
   "source": []
  }
 ],
 "metadata": {
  "kernelspec": {
   "display_name": "Python 3 (ipykernel)",
   "language": "python",
   "name": "python3"
  },
  "language_info": {
   "codemirror_mode": {
    "name": "ipython",
    "version": 3
   },
   "file_extension": ".py",
   "mimetype": "text/x-python",
   "name": "python",
   "nbconvert_exporter": "python",
   "pygments_lexer": "ipython3",
   "version": "3.9.13"
  }
 },
 "nbformat": 4,
 "nbformat_minor": 5
}
