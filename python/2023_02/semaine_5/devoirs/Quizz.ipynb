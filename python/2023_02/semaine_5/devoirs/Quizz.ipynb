{
 "cells": [
  {
   "cell_type": "code",
   "execution_count": 1,
   "id": "91eaee3f",
   "metadata": {},
   "outputs": [
    {
     "ename": "SyntaxError",
     "evalue": "default 'except:' must be last (1088103882.py, line 3)",
     "output_type": "error",
     "traceback": [
      "\u001b[0;36m  File \u001b[0;32m\"/var/folders/6w/0wh8y2gd04n4s3m7nn7j5rnh0000gn/T/ipykernel_1329/1088103882.py\"\u001b[0;36m, line \u001b[0;32m3\u001b[0m\n\u001b[0;31m    raise Exception\u001b[0m\n\u001b[0m    ^\u001b[0m\n\u001b[0;31mSyntaxError\u001b[0m\u001b[0;31m:\u001b[0m default 'except:' must be last\n"
     ]
    }
   ],
   "source": [
    "def test():\n",
    "    try:\n",
    "        raise Exception\n",
    "    except:\n",
    "        print(\"c\")\n",
    "    except BaseException:\n",
    "        print(\"a\")\n",
    "    except Exception:\n",
    "        print(\"b\")\n",
    "\n",
    "test()"
   ]
  },
  {
   "cell_type": "code",
   "execution_count": 2,
   "id": "4ccde5b1",
   "metadata": {},
   "outputs": [
    {
     "name": "stdout",
     "output_type": "stream",
     "text": [
      "a\n"
     ]
    }
   ],
   "source": [
    "def testB():\n",
    "    try:\n",
    "        raise Exception\n",
    "    except BaseException:\n",
    "        print(\"a\")\n",
    "    except Exception:\n",
    "        print(\"b\")\n",
    "    except:\n",
    "        print(\"c\")\n",
    "\n",
    "testB()"
   ]
  },
  {
   "cell_type": "code",
   "execution_count": 3,
   "id": "4d8c1bae",
   "metadata": {},
   "outputs": [
    {
     "name": "stdout",
     "output_type": "stream",
     "text": [
      "2\n"
     ]
    }
   ],
   "source": [
    "print(len(\"\\\\\\\\\"))"
   ]
  },
  {
   "cell_type": "code",
   "execution_count": 8,
   "id": "e8eb5628",
   "metadata": {},
   "outputs": [
    {
     "name": "stdout",
     "output_type": "stream",
     "text": [
      "False\n"
     ]
    }
   ],
   "source": [
    "class A:\n",
    "    pass\n",
    "\n",
    "class B(A):\n",
    "    pass\n",
    "\n",
    "class C(B):\n",
    "    pass\n",
    "\n",
    "print(issubclass(A,C))"
   ]
  },
  {
   "cell_type": "code",
   "execution_count": 4,
   "id": "22532984",
   "metadata": {},
   "outputs": [
    {
     "name": "stdout",
     "output_type": "stream",
     "text": [
      "Help on built-in function issubclass in module builtins:\n",
      "\n",
      "issubclass(cls, class_or_tuple, /)\n",
      "    Return whether 'cls' is a derived from another class or is the same class.\n",
      "    \n",
      "    A tuple, as in ``issubclass(x, (A, B, ...))``, may be given as the target to\n",
      "    check against. This is equivalent to ``issubclass(x, A) or issubclass(x, B)\n",
      "    or ...`` etc.\n",
      "\n"
     ]
    }
   ],
   "source": [
    "help(issubclass)"
   ]
  },
  {
   "cell_type": "code",
   "execution_count": 9,
   "id": "5dc500d8",
   "metadata": {},
   "outputs": [
    {
     "name": "stdout",
     "output_type": "stream",
     "text": [
      "***\n"
     ]
    }
   ],
   "source": [
    "def o(p):\n",
    "    def q():\n",
    "        return '*' * p\n",
    "    return q\n",
    "\n",
    "r = o(1)\n",
    "s = o(2)\n",
    "print(r() + s())"
   ]
  },
  {
   "cell_type": "code",
   "execution_count": 10,
   "id": "d3dd82ad",
   "metadata": {},
   "outputs": [
    {
     "name": "stdout",
     "output_type": "stream",
     "text": [
      " list(filter(lambda x : x%2, numbers))  --> : [1, 9]\n",
      " list(map(lambda x : x%2, numbers))  --> : [0, 1, 0, 1, 0]\n",
      " list(filter(lambda x : x/2, numbers))  --> : [1, 4, 9, 16]\n",
      " list(map(lambda x : x//2, numbers))  --> : [0, 0, 2, 4, 8]\n"
     ]
    }
   ],
   "source": [
    "numbers = [i*i for i in range(5)]\n",
    "foo = list(filter(lambda x : x%2, numbers))\n",
    "maa = list(map(lambda x : x%2, numbers))\n",
    "nee = list(filter(lambda x : x/2, numbers))\n",
    "lii = list(map(lambda x : x//2, numbers))\n",
    "print(f\" list(filter(lambda x : x%2, numbers))  --> : {foo}\")\n",
    "print(f\" list(map(lambda x : x%2, numbers))  --> : {maa}\")\n",
    "print(f\" list(filter(lambda x : x/2, numbers))  --> : {nee}\")\n",
    "print(f\" list(map(lambda x : x//2, numbers))  --> : {lii}\")"
   ]
  },
  {
   "cell_type": "code",
   "execution_count": 11,
   "id": "2049c747",
   "metadata": {},
   "outputs": [
    {
     "name": "stdout",
     "output_type": "stream",
     "text": [
      "['__doc__', '__file__', '__loader__', '__name__', '__package__', '__spec__', 'acos', 'acosh', 'asin', 'asinh', 'atan', 'atan2', 'atanh', 'ceil', 'comb', 'copysign', 'cos', 'cosh', 'degrees', 'dist', 'e', 'erf', 'erfc', 'exp', 'expm1', 'fabs', 'factorial', 'floor', 'fmod', 'frexp', 'fsum', 'gamma', 'gcd', 'hypot', 'inf', 'isclose', 'isfinite', 'isinf', 'isnan', 'isqrt', 'lcm', 'ldexp', 'lgamma', 'log', 'log10', 'log1p', 'log2', 'modf', 'nan', 'nextafter', 'perm', 'pi', 'pow', 'prod', 'radians', 'remainder', 'sin', 'sinh', 'sqrt', 'tan', 'tanh', 'tau', 'trunc', 'ulp']\n"
     ]
    }
   ],
   "source": [
    "import math\n",
    "print(dir(math))"
   ]
  },
  {
   "cell_type": "code",
   "execution_count": null,
   "id": "a20c703b",
   "metadata": {},
   "outputs": [],
   "source": [
    "class Class:\n",
    "    def __init__(self, val=0):\n",
    "        pass\n",
    "\n"
   ]
  }
 ],
 "metadata": {
  "kernelspec": {
   "display_name": "Python 3 (ipykernel)",
   "language": "python",
   "name": "python3"
  },
  "language_info": {
   "codemirror_mode": {
    "name": "ipython",
    "version": 3
   },
   "file_extension": ".py",
   "mimetype": "text/x-python",
   "name": "python",
   "nbconvert_exporter": "python",
   "pygments_lexer": "ipython3",
   "version": "3.9.13"
  }
 },
 "nbformat": 4,
 "nbformat_minor": 5
}
