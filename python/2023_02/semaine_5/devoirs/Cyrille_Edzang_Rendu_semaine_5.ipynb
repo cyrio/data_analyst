{
 "cells": [
  {
   "cell_type": "code",
   "execution_count": null,
   "id": "a3620a1a",
   "metadata": {},
   "outputs": [],
   "source": [
    "import tkinter as \n"
   ]
  },
  {
   "cell_type": "code",
   "execution_count": 23,
   "id": "fbd12d92",
   "metadata": {},
   "outputs": [
    {
     "name": "stdout",
     "output_type": "stream",
     "text": [
      "90\n",
      "180\n",
      "120\n",
      "200\n"
     ]
    }
   ],
   "source": [
    "import re\n",
    "import time\n",
    "\n",
    "class ImcModel:\n",
    "    def __init__(self,poids,taille):\n",
    "        self.set_poids(poids)\n",
    "        self.set_taille(taille)\n",
    "    \n",
    "    def get_poids(self) :\n",
    "        return self.__poids\n",
    "    \n",
    "    def set_poids(self, unpoids:int):\n",
    "        \"\"\"\n",
    "            valide un poids avant d'en affecter ou de modifier la valeur\n",
    "            :param : unpoids\n",
    "            :return :\n",
    "        \"\"\"\n",
    "        pattern_poids = r'^[0-9]{1,3}'\n",
    "        type_permis = (int,)\n",
    "        if re.fullmatch(pattern_poids,str(unpoids)):\n",
    "            self.__poids = unpoids\n",
    "        elif type(unpoids) not in type_permis:\n",
    "            raise TypeError(f'poids doit etre un entier : {unpoids} erreur' )\n",
    "        else :\n",
    "            raise ValueError(f'entier de 3 caractere max : {unpoids} erreur ')\n",
    "            \n",
    "    def get_taille(self):\n",
    "        return self.__taille\n",
    "    \n",
    "    def set_taille(self,unetaille:int):\n",
    "        \"\"\"\n",
    "            valide une taille avant d'en affecter ou de modifier la valeur\n",
    "            :param : unetaille\n",
    "            :return :\n",
    "        \"\"\"\n",
    "        pattern_taille = r'^[0-9]{1,3}'\n",
    "        type_permis = (int,)\n",
    "        if re.fullmatch(pattern_taille,str(unetaille)):\n",
    "            self.__taille = unetaille\n",
    "        elif type(unetaille) not in type_permis:\n",
    "            raise TypeError(f'taille doit etre un entier : \\\n",
    "                            {unetaille} erreur' )\n",
    "        else :\n",
    "            raise ValueError(f'entier de 3 caractere max : \\\n",
    "                             {unetaille} erreur ')\n",
    "        \n",
    "    poids = property(get_poids, set_poids)\n",
    "    taille = property(get_taille, set_taille)\n",
    "    \n",
    "    def calculer(self):\n",
    "        \"\"\"\n",
    "            effectue le calcul de l'imc'\n",
    "            :param :\n",
    "            :return :\n",
    "        \"\"\"\n",
    "        return self.poids/(self.taille**2)\n",
    "    \n",
    "    def sauvegarder(self):\n",
    "        \"\"\"\n",
    "            sauvegarde les valeurs entrées dans un fichiers\n",
    "            :param :\n",
    "            :return :\n",
    "        \"\"\"\n",
    "        with open('imc.txt', 'a') as f:\n",
    "            f.write(f\" date: {time.ctime(time.time())} -  \\\n",
    "                    poids : {self.poids} - taille : {self.taille}  \\n\")\n",
    "            \n",
    "imc=ImcModel(90,180)\n",
    "print(imc.poids)\n",
    "print(imc.taille)\n",
    "imc.taille = 200\n",
    "imc.poids = 120\n",
    "print(imc.poids)\n",
    "print(imc.taille)\n",
    "imc.sauvegarder()\n",
    "#imc.taille = 'bbd'\n",
    "#imc.poids = 20\n",
    "#print(imc.poids)\n",
    "#print(imc.taille)"
   ]
  },
  {
   "cell_type": "code",
   "execution_count": 4,
   "id": "eb0ee385",
   "metadata": {},
   "outputs": [
    {
     "name": "stdout",
     "output_type": "stream",
     "text": [
      "Help on function fullmatch in module re:\n",
      "\n",
      "fullmatch(pattern, string, flags=0)\n",
      "    Try to apply the pattern to all of the string, returning\n",
      "    a Match object, or None if no match was found.\n",
      "\n"
     ]
    }
   ],
   "source": [
    "help(re.fullmatch)"
   ]
  },
  {
   "cell_type": "code",
   "execution_count": 5,
   "id": "4c4b4c03",
   "metadata": {},
   "outputs": [
    {
     "name": "stdout",
     "output_type": "stream",
     "text": [
      "Help on function match in module re:\n",
      "\n",
      "match(pattern, string, flags=0)\n",
      "    Try to apply the pattern at the start of the string, returning\n",
      "    a Match object, or None if no match was found.\n",
      "\n"
     ]
    }
   ],
   "source": [
    "help(re.match)"
   ]
  },
  {
   "cell_type": "code",
   "execution_count": null,
   "id": "fb56e37d",
   "metadata": {},
   "outputs": [],
   "source": []
  }
 ],
 "metadata": {
  "kernelspec": {
   "display_name": "Python 3 (ipykernel)",
   "language": "python",
   "name": "python3"
  },
  "language_info": {
   "codemirror_mode": {
    "name": "ipython",
    "version": 3
   },
   "file_extension": ".py",
   "mimetype": "text/x-python",
   "name": "python",
   "nbconvert_exporter": "python",
   "pygments_lexer": "ipython3",
   "version": "3.9.13"
  }
 },
 "nbformat": 4,
 "nbformat_minor": 5
}
