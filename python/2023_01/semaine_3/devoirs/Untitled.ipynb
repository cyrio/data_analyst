{
 "cells": [
  {
   "cell_type": "code",
   "execution_count": 1,
   "id": "7a15ec7a",
   "metadata": {},
   "outputs": [],
   "source": [
    "def somme(alist):\n",
    "    somme = 0\n",
    "    for i in range(len(alist)):\n",
    "        somme += alist[i] \n",
    "    return somme"
   ]
  },
  {
   "cell_type": "code",
   "execution_count": 3,
   "id": "596c3630",
   "metadata": {},
   "outputs": [
    {
     "name": "stdout",
     "output_type": "stream",
     "text": [
      "[[0, 1, 2], [0, 1, 2], [0, 1, 2]]\n"
     ]
    }
   ],
   "source": [
    "carr = [[i for i in range(3)] for j in range(3)]\n",
    "print(carr)"
   ]
  },
  {
   "cell_type": "code",
   "execution_count": 47,
   "id": "73c8b76c",
   "metadata": {},
   "outputs": [
    {
     "name": "stdout",
     "output_type": "stream",
     "text": [
      "liste initiale :  [[0, 1, 2, 3], [0, 1, 2, 3], [0, 1, 2, 3], [0, 1, 2, 3]]\n",
      "liste des sommes par colonnes :  [0, 4, 8, 12]\n"
     ]
    }
   ],
   "source": [
    "first_list = [[i for i in range(4)] for j in range(4)] # sum of items of first column\n",
    "print(\"liste initiale : \",first_list)\n",
    "\n",
    "def sum_cols(c):\n",
    "    dim = len(c)\n",
    "    list_sumcol = []\n",
    "    sub_list = []\n",
    "    k = 0\n",
    "    for elem in range(dim):\n",
    "        for j in range(dim):\n",
    "            while elem + k < dim:\n",
    "                sub_list.append(c[elem + k][j])\n",
    "                k += 1\n",
    "            if len(sub_list) == dim:\n",
    "                list_sumcol.append(sum(sub_list))\n",
    "                #print(f\" colone {j} : {sub_list}\")\n",
    "            else:\n",
    "                break\n",
    "            sub_list = []\n",
    "            k = 0\n",
    "    return list_sumcol\n",
    "        \n",
    "print(\"liste des sommes par colonnes : \",sum_cols(first_list))"
   ]
  },
  {
   "cell_type": "code",
   "execution_count": null,
   "id": "caefc753",
   "metadata": {},
   "outputs": [],
   "source": []
  },
  {
   "cell_type": "code",
   "execution_count": null,
   "id": "e727e79d",
   "metadata": {},
   "outputs": [],
   "source": []
  },
  {
   "cell_type": "code",
   "execution_count": null,
   "id": "a3dd98b7",
   "metadata": {},
   "outputs": [],
   "source": [
    "for item in range(3):\n",
    "    carr_col = [[i for i in range(3)] for j in range(3)]\n",
    "    print(carr_col)\n"
   ]
  },
  {
   "cell_type": "code",
   "execution_count": null,
   "id": "b63439b6",
   "metadata": {},
   "outputs": [],
   "source": [
    "\n",
    "\n",
    "def is_squaredimension(c):\n",
    "    \"\"\"\n",
    "        Return True if c is dimension square\n",
    "    \"\"\"\n",
    "    for i in range(len(c)):\n",
    "           if len(c[i]) not= len(c):\n",
    "                return 0\n",
    "\n",
    "def \n",
    "            \n",
    "def sum_rows(c):\n",
    "    \"\"\"\n",
    "        returns sum of rows of a square\n",
    "    \"\"\"\n",
    "    sumrows = sum(c[0])\n",
    "    for i in range(1,len(c)):\n",
    "        if not sumrows == sum(c[i]):\n",
    "            return 0\n",
    "    return sumrows\n",
    "\n",
    "def sum_cols(c):\n",
    "    \"\"\"\n",
    "        returns sum of columns of a square\n",
    "    \"\"\"\n",
    "    dim = len(c)\n",
    "    sumcols = sum([[i for i in range(dim)][0:1] for j in range(dim)]) # sum of items of first column\n",
    "    for item in range(dim):\n",
    "    carr_col = [[i for i in range(dim)][item:item+1] for j in range(dim)]\n",
    "    print(carr_col)\n",
    "        \n",
    "    \n",
    "\n",
    "    \n",
    "\n",
    "def is_magic(c):\n",
    "    \"\"\"\n",
    "        Return True if c is magic square\n",
    "    \"\"\"\n",
    "    "
   ]
  },
  {
   "cell_type": "code",
   "execution_count": 20,
   "id": "badddbff",
   "metadata": {},
   "outputs": [],
   "source": []
  },
  {
   "cell_type": "code",
   "execution_count": 21,
   "id": "a31366df",
   "metadata": {},
   "outputs": [
    {
     "name": "stdout",
     "output_type": "stream",
     "text": [
      "4\n"
     ]
    }
   ],
   "source": []
  },
  {
   "cell_type": "code",
   "execution_count": 19,
   "id": "b6e0ca06",
   "metadata": {},
   "outputs": [],
   "source": []
  },
  {
   "cell_type": "code",
   "execution_count": null,
   "id": "4c7fd134",
   "metadata": {},
   "outputs": [],
   "source": []
  }
 ],
 "metadata": {
  "kernelspec": {
   "display_name": "Python 3 (ipykernel)",
   "language": "python",
   "name": "python3"
  },
  "language_info": {
   "codemirror_mode": {
    "name": "ipython",
    "version": 3
   },
   "file_extension": ".py",
   "mimetype": "text/x-python",
   "name": "python",
   "nbconvert_exporter": "python",
   "pygments_lexer": "ipython3",
   "version": "3.9.13"
  }
 },
 "nbformat": 4,
 "nbformat_minor": 5
}
