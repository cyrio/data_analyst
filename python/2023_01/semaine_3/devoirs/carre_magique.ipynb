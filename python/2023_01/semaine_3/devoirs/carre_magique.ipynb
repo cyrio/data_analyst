{
 "cells": [
  {
   "cell_type": "code",
   "execution_count": 2,
   "metadata": {},
   "outputs": [
    {
     "name": "stdout",
     "output_type": "stream",
     "text": [
      "4\n"
     ]
    }
   ],
   "source": [
    "#4 14 15 1 \n",
    "# 9 7 6 12 \n",
    "# 5 11 10 8 \n",
    "# 16 2 3 13\n",
    "\n",
    "monCarre = [[4,14,15,1],\n",
    "            [9,7,6, 12],\n",
    "            [5,11,10,8],\n",
    "            [16,2,3,13],\n",
    "           ]\n",
    "\n",
    "print(len(monCarre))\n"
   ]
  },
  {
   "cell_type": "code",
   "execution_count": 3,
   "metadata": {},
   "outputs": [
    {
     "name": "stdout",
     "output_type": "stream",
     "text": [
      "34\n",
      "34\n",
      "34\n",
      "34\n"
     ]
    }
   ],
   "source": [
    "# Essai d'additionner sur les lignes\n",
    "for unesousliste in monCarre:\n",
    "    print(sum(unesousliste))"
   ]
  },
  {
   "cell_type": "code",
   "execution_count": 4,
   "metadata": {},
   "outputs": [
    {
     "name": "stdout",
     "output_type": "stream",
     "text": [
      "34\n",
      "34\n",
      "34\n",
      "34\n"
     ]
    }
   ],
   "source": [
    "# Essai d'additionner sur les colonnes\n",
    "for unecolonne in range(len(monCarre)):\n",
    "    total = 0\n",
    "    for unesousliste in monCarre:\n",
    "            total = total + unesousliste[unecolonne]\n",
    "\n",
    "    print(total)\n",
    "    "
   ]
  },
  {
   "cell_type": "code",
   "execution_count": 5,
   "metadata": {},
   "outputs": [
    {
     "name": "stdout",
     "output_type": "stream",
     "text": [
      "34\n"
     ]
    }
   ],
   "source": [
    "# Essai d'additionner sur une diagonale\n",
    "total = 0\n",
    "for indice in range(len(monCarre)):\n",
    "    total += monCarre[indice][indice]\n",
    "\n",
    "\n",
    "print(total)"
   ]
  },
  {
   "cell_type": "code",
   "execution_count": 6,
   "metadata": {},
   "outputs": [
    {
     "name": "stdout",
     "output_type": "stream",
     "text": [
      "34\n"
     ]
    },
    {
     "data": {
      "text/plain": [
       "'\\nmonCarre[i][3-i]\\nmonCarre[i][len(monCarre)-1-i]\\n\\nprint(monCarre[0][-1]+monCarre[1][-2]+monCarre[2][-3]+monCarre[3][-4])\\nmonCarre[i][-1-i]\\n'"
      ]
     },
     "execution_count": 6,
     "metadata": {},
     "output_type": "execute_result"
    }
   ],
   "source": [
    "\n",
    "print(monCarre[0][3]+monCarre[1][2]+monCarre[2][1]+monCarre[3][0])\n",
    "\"\"\"\n",
    "monCarre[i][3-i]\n",
    "monCarre[i][len(monCarre)-1-i]\n",
    "\n",
    "print(monCarre[0][-1]+monCarre[1][-2]+monCarre[2][-3]+monCarre[3][-4])\n",
    "monCarre[i][-1-i]\n",
    "\"\"\""
   ]
  },
  {
   "cell_type": "code",
   "execution_count": 7,
   "metadata": {},
   "outputs": [
    {
     "name": "stdout",
     "output_type": "stream",
     "text": [
      "34\n"
     ]
    }
   ],
   "source": [
    "# Essai d'additionner sur l'autre diagonale\n",
    "total = 0\n",
    "for indice in range(len(monCarre)):\n",
    "    total += monCarre[indice][-1-indice]\n",
    "\n",
    "\n",
    "print(total)"
   ]
  },
  {
   "cell_type": "code",
   "execution_count": 8,
   "metadata": {},
   "outputs": [
    {
     "name": "stdout",
     "output_type": "stream",
     "text": [
      "[34, 34, 34, 34]\n",
      "[34, 34, 34, 34]\n",
      "[34, 34]\n",
      "True\n"
     ]
    }
   ],
   "source": [
    "def somme_lignes(uncarre):\n",
    "    resultats = []\n",
    "    for unesousliste in uncarre:\n",
    "        resultats.append(sum(unesousliste))\n",
    "    return resultats\n",
    "\n",
    "print(somme_lignes(monCarre))\n",
    "\n",
    "def somme_colonnes(uncarre):\n",
    "    resultats = []\n",
    "    for unecolonne in range(len(monCarre)):\n",
    "        total = 0\n",
    "        for unesousliste in monCarre:\n",
    "            total = total + unesousliste[unecolonne]\n",
    "        resultats.append(total)\n",
    "    return resultats\n",
    "\n",
    "print(somme_colonnes(monCarre))\n",
    "\n",
    "def somme_diagonales(uncarre):\n",
    "    resultats = [0,0]\n",
    "    for indice in range(len(monCarre)):\n",
    "        resultats[0] += monCarre[indice][indice]\n",
    "        resultats[1] += monCarre[indice][-1-indice]\n",
    "    return resultats\n",
    "print(somme_diagonales(monCarre))    \n",
    "    \n",
    "def is_magic(unCarre):\n",
    "    unens = set(somme_lignes(unCarre) + somme_colonnes(unCarre)+ somme_diagonales(unCarre))\n",
    "    if len(unens)==1:\n",
    "        return True\n",
    "    else:\n",
    "        return False\n",
    "\n",
    "print(is_magic(monCarre))"
   ]
  },
  {
   "cell_type": "code",
   "execution_count": null,
   "metadata": {},
   "outputs": [],
   "source": []
  },
  {
   "cell_type": "code",
   "execution_count": null,
   "metadata": {},
   "outputs": [],
   "source": []
  }
 ],
 "metadata": {
  "kernelspec": {
   "display_name": "Python 3",
   "language": "python",
   "name": "python3"
  },
  "language_info": {
   "codemirror_mode": {
    "name": "ipython",
    "version": 3
   },
   "file_extension": ".py",
   "mimetype": "text/x-python",
   "name": "python",
   "nbconvert_exporter": "python",
   "pygments_lexer": "ipython3",
   "version": "3.7.4"
  }
 },
 "nbformat": 4,
 "nbformat_minor": 2
}
