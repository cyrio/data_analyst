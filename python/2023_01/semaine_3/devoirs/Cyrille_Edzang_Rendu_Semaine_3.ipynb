{
 "cells": [
  {
   "cell_type": "markdown",
   "id": "22fa54e9",
   "metadata": {},
   "source": [
    "# Semaine S3 - 17h00 Mercredi 25 Janvier 2023"
   ]
  },
  {
   "cell_type": "markdown",
   "id": "9da80a77",
   "metadata": {},
   "source": [
    "## PGCD itératif"
   ]
  },
  {
   "cell_type": "code",
   "execution_count": 1,
   "id": "29f98cd9",
   "metadata": {},
   "outputs": [
    {
     "name": "stdout",
     "output_type": "stream",
     "text": [
      "le pgcd de 121 et 11 est :  11\n",
      "le pgcd de 756 et 306 est :  18\n",
      "le pgcd de 306 et 756 est :  18\n",
      "306\n"
     ]
    },
    {
     "ename": "AssertionError",
     "evalue": "le diviseur b ne doit pas être nul",
     "output_type": "error",
     "traceback": [
      "\u001b[0;31m---------------------------------------------------------------------------\u001b[0m",
      "\u001b[0;31mAssertionError\u001b[0m                            Traceback (most recent call last)",
      "\u001b[0;32m/var/folders/6w/0wh8y2gd04n4s3m7nn7j5rnh0000gn/T/ipykernel_5676/3172060401.py\u001b[0m in \u001b[0;36m<module>\u001b[0;34m\u001b[0m\n\u001b[1;32m     17\u001b[0m \u001b[0mprint\u001b[0m\u001b[0;34m(\u001b[0m\u001b[0;34mf\"le pgcd de 306 et 756 est :  {pgcd(306,756)}\"\u001b[0m\u001b[0;34m)\u001b[0m\u001b[0;34m\u001b[0m\u001b[0;34m\u001b[0m\u001b[0m\n\u001b[1;32m     18\u001b[0m \u001b[0mprint\u001b[0m\u001b[0;34m(\u001b[0m\u001b[0mpgcd\u001b[0m\u001b[0;34m(\u001b[0m\u001b[0;36m0\u001b[0m\u001b[0;34m,\u001b[0m\u001b[0;36m306\u001b[0m\u001b[0;34m)\u001b[0m\u001b[0;34m)\u001b[0m\u001b[0;34m\u001b[0m\u001b[0;34m\u001b[0m\u001b[0m\n\u001b[0;32m---> 19\u001b[0;31m \u001b[0mprint\u001b[0m\u001b[0;34m(\u001b[0m\u001b[0mpgcd\u001b[0m\u001b[0;34m(\u001b[0m\u001b[0;36m306\u001b[0m\u001b[0;34m,\u001b[0m\u001b[0;36m0\u001b[0m\u001b[0;34m)\u001b[0m\u001b[0;34m)\u001b[0m\u001b[0;34m\u001b[0m\u001b[0;34m\u001b[0m\u001b[0m\n\u001b[0m",
      "\u001b[0;32m/var/folders/6w/0wh8y2gd04n4s3m7nn7j5rnh0000gn/T/ipykernel_5676/3172060401.py\u001b[0m in \u001b[0;36mpgcd\u001b[0;34m(a, b)\u001b[0m\n\u001b[1;32m      4\u001b[0m         \u001b[0ma\u001b[0m \u001b[0met\u001b[0m \u001b[0mb\u001b[0m \u001b[0mpar\u001b[0m \u001b[0mun\u001b[0m \u001b[0malgorithme\u001b[0m \u001b[0mitératif\u001b[0m\u001b[0;34m\u001b[0m\u001b[0;34m\u001b[0m\u001b[0m\n\u001b[1;32m      5\u001b[0m     \"\"\"\n\u001b[0;32m----> 6\u001b[0;31m     \u001b[0;32massert\u001b[0m \u001b[0mb\u001b[0m \u001b[0;34m!=\u001b[0m \u001b[0;36m0\u001b[0m\u001b[0;34m,\u001b[0m \u001b[0;34m\"le diviseur b ne doit pas être nul\"\u001b[0m\u001b[0;34m\u001b[0m\u001b[0;34m\u001b[0m\u001b[0m\n\u001b[0m\u001b[1;32m      7\u001b[0m     \u001b[0;32mif\u001b[0m \u001b[0ma\u001b[0m \u001b[0;34m==\u001b[0m \u001b[0;36m0\u001b[0m \u001b[0;34m:\u001b[0m\u001b[0;34m\u001b[0m\u001b[0;34m\u001b[0m\u001b[0m\n\u001b[1;32m      8\u001b[0m         \u001b[0;32mreturn\u001b[0m \u001b[0mb\u001b[0m\u001b[0;34m\u001b[0m\u001b[0;34m\u001b[0m\u001b[0m\n",
      "\u001b[0;31mAssertionError\u001b[0m: le diviseur b ne doit pas être nul"
     ]
    }
   ],
   "source": [
    "def pgcd(a, b):\n",
    "    \"\"\"\n",
    "        Donne le plus grand commun diviseur à \n",
    "        a et b par un algorithme itératif\n",
    "    \"\"\"\n",
    "    assert b != 0, \"le diviseur b ne doit pas être nul\"\n",
    "    if a == 0 :\n",
    "        return b\n",
    "    if a < b :\n",
    "        a, b = b, a\n",
    "    while b:\n",
    "        a, b = b, a%b\n",
    "    return a\n",
    "\n",
    "print(f\"le pgcd de 121 et 11 est :  {pgcd(121,11)}\")\n",
    "print(\"le pgcd de 756 et 306 est : \", pgcd(756,306))\n",
    "print(f\"le pgcd de 306 et 756 est :  {pgcd(306,756)}\")\n",
    "print(pgcd(0,306))\n",
    "print(pgcd(306,0))"
   ]
  },
  {
   "cell_type": "markdown",
   "id": "3af9ab40",
   "metadata": {},
   "source": [
    "## Carré magique"
   ]
  },
  {
   "cell_type": "code",
   "execution_count": 9,
   "id": "ec13880c",
   "metadata": {},
   "outputs": [
    {
     "name": "stdout",
     "output_type": "stream",
     "text": [
      "liste initiale :  [[1, 3, 5, 7], [1, 3, 5, 7], [1, 3, 5, 7], [1, 3, 5, 7]]\n",
      "liste carree :  [[4, 14, 15, 1], [9, 7, 6, 12], [5, 11, 10, 8], [16, 2, 3, 13]]\n"
     ]
    }
   ],
   "source": [
    "first_list = [[i*2+1 for i in range(4)] for j in range(4)] # sum of items of first column\n",
    "carre_list = [[4, 14, 15, 1], [9, 7, 6, 12], [5, 11, 10, 8], [16, 2, 3, 13]]\n",
    "print(\"liste initiale : \",first_list)\n",
    "print(\"liste carree : \",carre_list)"
   ]
  },
  {
   "cell_type": "code",
   "execution_count": 3,
   "id": "d44a5a3c",
   "metadata": {},
   "outputs": [],
   "source": [
    "def assert_square(c):\n",
    "    \"\"\"\n",
    "        lève une alerte si le carre n'est pas une liste\n",
    "    \"\"\"\n",
    "    assert type(c) == list, \"square must be a list\""
   ]
  },
  {
   "cell_type": "code",
   "execution_count": 32,
   "id": "ced4c02c",
   "metadata": {},
   "outputs": [
    {
     "name": "stdout",
     "output_type": "stream",
     "text": [
      "liste de sommes de lignes d'un carre :  [16, 16, 16, 16]\n",
      "liste de sommes de lignes d'un carre :  [34, 34, 34, 34]\n"
     ]
    }
   ],
   "source": [
    "def list_sum_rows(c):\n",
    "    \"\"\"\n",
    "        returns sum of columns of a square\n",
    "    \"\"\"\n",
    "    return [sum(c[item]) for item in range(len(c))]\n",
    "    \n",
    "print(\"liste de sommes de lignes d'un carre : \",list_sum_rows(first_list))\n",
    "print(\"liste de sommes de lignes d'un carre : \",list_sum_rows(carre_list))        "
   ]
  },
  {
   "cell_type": "code",
   "execution_count": 25,
   "id": "89e6f9e5",
   "metadata": {},
   "outputs": [
    {
     "name": "stdout",
     "output_type": "stream",
     "text": [
      "liste des sommes par colonnes :  [4, 12, 20, 28]\n",
      "liste des sommes par colonnes :  [34, 34, 34, 34]\n"
     ]
    }
   ],
   "source": [
    "def list_sum_cols(c):\n",
    "    \"\"\"\n",
    "        retourne la liste des sommes par colonnes d'une matrice carrée\n",
    "    \"\"\"\n",
    "    dim = len(c)\n",
    "    list_sumcol = []\n",
    "    sub_list = []\n",
    "    k = 0\n",
    "    for elem in range(dim):\n",
    "        for j in range(dim):\n",
    "            while elem + k < dim:\n",
    "                sub_list.append(c[elem + k][j])\n",
    "                k += 1\n",
    "            if len(sub_list) == dim:\n",
    "                list_sumcol.append(sum(sub_list))\n",
    "                #print(f\" colone {j} : {sub_list}\")\n",
    "            else:\n",
    "                break\n",
    "            sub_list = []\n",
    "            k = 0\n",
    "    return list_sumcol\n",
    "    \n",
    "        \n",
    "print(\"liste des sommes par colonnes : \",list_sum_cols(first_list))\n",
    "print(\"liste des sommes par colonnes : \",list_sum_cols(carre_list))"
   ]
  },
  {
   "cell_type": "code",
   "execution_count": 23,
   "id": "06cfc414",
   "metadata": {},
   "outputs": [
    {
     "name": "stdout",
     "output_type": "stream",
     "text": [
      "sommes des diagonale :  16\n",
      "sommes des diagonale :  34\n"
     ]
    }
   ],
   "source": [
    "def sum_diag(c):\n",
    "    \"\"\"\n",
    "        returns sum of diagonals of a square\n",
    "    \"\"\" \n",
    "    list_diag = []\n",
    "    for i in range(len(c)):\n",
    "        list_diag.append(c[i][i])\n",
    "    return sum(list_diag)\n",
    "\n",
    "print(\"sommes des diagonale : \",sum_diag(first_list))\n",
    "print(\"sommes des diagonale : \",sum_diag(carre_list))"
   ]
  },
  {
   "cell_type": "code",
   "execution_count": 29,
   "id": "61c6ce60",
   "metadata": {},
   "outputs": [],
   "source": [
    "def is_magic(c):\n",
    "    \"\"\"\n",
    "        Return True if c is magic square\n",
    "    \"\"\"\n",
    "    assert_square(c)\n",
    "    val_to_compare = sum_diag(c)\n",
    "    for i in list_sum_cols(c):\n",
    "        if val_to_compare != i:\n",
    "            return False\n",
    "    for j in list_sum_rows(c):\n",
    "        if val_to_compare != j:\n",
    "            return False\n",
    "    return True\n",
    "    "
   ]
  },
  {
   "cell_type": "code",
   "execution_count": 30,
   "id": "a101d08a",
   "metadata": {},
   "outputs": [
    {
     "name": "stdout",
     "output_type": "stream",
     "text": [
      " is magic ?  False\n"
     ]
    }
   ],
   "source": [
    "print(\" is magic ? \", is_magic(first_list))"
   ]
  },
  {
   "cell_type": "code",
   "execution_count": 33,
   "id": "2ebd485f",
   "metadata": {},
   "outputs": [
    {
     "name": "stdout",
     "output_type": "stream",
     "text": [
      " is magic ?  True\n"
     ]
    }
   ],
   "source": [
    "print(\" is magic ? \", is_magic(carre_list))"
   ]
  },
  {
   "cell_type": "code",
   "execution_count": null,
   "id": "d57cbd11",
   "metadata": {},
   "outputs": [],
   "source": []
  }
 ],
 "metadata": {
  "kernelspec": {
   "display_name": "Python 3 (ipykernel)",
   "language": "python",
   "name": "python3"
  },
  "language_info": {
   "codemirror_mode": {
    "name": "ipython",
    "version": 3
   },
   "file_extension": ".py",
   "mimetype": "text/x-python",
   "name": "python",
   "nbconvert_exporter": "python",
   "pygments_lexer": "ipython3",
   "version": "3.9.13"
  }
 },
 "nbformat": 4,
 "nbformat_minor": 5
}
