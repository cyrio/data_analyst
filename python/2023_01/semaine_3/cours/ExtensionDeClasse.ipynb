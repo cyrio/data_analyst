{
 "cells": [
  {
   "cell_type": "markdown",
   "metadata": {},
   "source": [
    "# Extension d'une classe\n",
    "\n",
    "Exemple d'extension de classe"
   ]
  },
  {
   "cell_type": "markdown",
   "metadata": {},
   "source": [
    "## Ajout d'un attribut"
   ]
  },
  {
   "cell_type": "code",
   "execution_count": 2,
   "metadata": {},
   "outputs": [],
   "source": [
    "class MonExtension :\n",
    "    attribut1 = \"Mon attribut de classe\"\n",
    "    def methode1 (self):\n",
    "        print(\"je passe dans la méthode 1\")\n",
    "\n",
    "        \n",
    "        \n",
    "    "
   ]
  },
  {
   "cell_type": "code",
   "execution_count": 5,
   "metadata": {},
   "outputs": [
    {
     "name": "stdout",
     "output_type": "stream",
     "text": [
      "Mon attribut de classe\n",
      "Mon deuxième attribut de classe\n",
      "Dispose d'un attribut1 ? True \n",
      "Dispose d'un attribut2 ? True\n",
      "je passe dans la méthode 1\n",
      "None\n"
     ]
    }
   ],
   "source": [
    "monObjet = MonExtension()\n",
    "\n",
    "# Ajout d'attribut en extension\n",
    "monObjet.attribut2 = \"Mon deuxième attribut de classe\"\n",
    "\n",
    "print(monObjet.attribut1)\n",
    "print(monObjet.attribut2)\n",
    "print(\"Dispose d'un attribut1 ?\",hasattr(monObjet, \"attribut1\"),\"\\nDispose d'un attribut2 ?\",hasattr(monObjet, \"attribut2\"))\n",
    "print(monObjet.methode1())"
   ]
  },
  {
   "cell_type": "markdown",
   "metadata": {},
   "source": [
    "## Ajout d'une méthode"
   ]
  },
  {
   "cell_type": "code",
   "execution_count": 97,
   "metadata": {},
   "outputs": [
    {
     "name": "stdout",
     "output_type": "stream",
     "text": [
      "je passe dans la méthode 2\n",
      "Mon attribut de classe\n",
      "['__class__', '__delattr__', '__dict__', '__dir__', '__doc__', '__eq__', '__format__', '__ge__', '__getattribute__', '__gt__', '__hash__', '__init__', '__init_subclass__', '__le__', '__lt__', '__module__', '__ne__', '__new__', '__reduce__', '__reduce_ex__', '__repr__', '__setattr__', '__sizeof__', '__str__', '__subclasshook__', '__weakref__', 'attribut1', 'attribut2', 'methode1', 'methode2']\n",
      "je passe dans la méthode 2\n",
      "Mon attribut de classe\n"
     ]
    }
   ],
   "source": [
    "def methode2(pclasse):\n",
    "    print(\"je passe dans la méthode 2\")\n",
    "    print(pclasse.attribut1)\n",
    "\n",
    "# On ajoute la méthode à la classe MonExtension\n",
    "MonExtension.methode2 = classmethod(methode2)\n",
    "\n",
    "monObjet2 = MonExtension()\n",
    "monObjet2.methode2()\n",
    "\n",
    "# Constatez la présence de la nouvelle méthode dans la classe\n",
    "print(dir(MonExtension))\n",
    "\n",
    "# Notez la répercution sur l'objet déjà instancié\n",
    "monObjet.methode2()\n",
    "\n"
   ]
  },
  {
   "cell_type": "code",
   "execution_count": null,
   "metadata": {},
   "outputs": [],
   "source": []
  }
 ],
 "metadata": {
  "kernelspec": {
   "display_name": "Python 3",
   "language": "python",
   "name": "python3"
  },
  "language_info": {
   "codemirror_mode": {
    "name": "ipython",
    "version": 3
   },
   "file_extension": ".py",
   "mimetype": "text/x-python",
   "name": "python",
   "nbconvert_exporter": "python",
   "pygments_lexer": "ipython3",
   "version": "3.7.4"
  }
 },
 "nbformat": 4,
 "nbformat_minor": 2
}
