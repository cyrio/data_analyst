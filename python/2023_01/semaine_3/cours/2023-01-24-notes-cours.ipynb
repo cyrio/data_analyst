{
 "cells": [
  {
   "cell_type": "markdown",
   "id": "30b98725",
   "metadata": {},
   "source": [
    "# Note de cours du 24 /01/23\n",
    "\n",
    "Arguments nommées et arguments positionnel"
   ]
  },
  {
   "cell_type": "code",
   "execution_count": 3,
   "id": "a062ab1a",
   "metadata": {},
   "outputs": [],
   "source": [
    "a = 2\n",
    "b = 3\n",
    "def add(x,y):\n",
    "    print(\"a = \",a)     # déconseillé de faire un print dans une fonction\n",
    "    print(\"x= \"+str(x),\" ; \",\"y= \"+str(y))  # déconseillé de faire un print dans une fonction\n",
    "    return x+y\n"
   ]
  },
  {
   "cell_type": "code",
   "execution_count": 4,
   "id": "80c010c3",
   "metadata": {},
   "outputs": [
    {
     "name": "stdout",
     "output_type": "stream",
     "text": [
      "a =  2\n",
      "x= 5  ;  y= 3\n"
     ]
    },
    {
     "data": {
      "text/plain": [
       "8"
      ]
     },
     "execution_count": 4,
     "metadata": {},
     "output_type": "execute_result"
    }
   ],
   "source": [
    "(add(5,3))  # argument positionnel"
   ]
  },
  {
   "cell_type": "code",
   "execution_count": 5,
   "id": "df3e43b5",
   "metadata": {},
   "outputs": [
    {
     "name": "stdout",
     "output_type": "stream",
     "text": [
      "a =  2\n",
      "x= 3  ;  y= 5\n"
     ]
    },
    {
     "data": {
      "text/plain": [
       "8"
      ]
     },
     "execution_count": 5,
     "metadata": {},
     "output_type": "execute_result"
    }
   ],
   "source": [
    "(add(3,5))  # argument positionnel"
   ]
  },
  {
   "cell_type": "code",
   "execution_count": 6,
   "id": "04447164",
   "metadata": {},
   "outputs": [
    {
     "name": "stdout",
     "output_type": "stream",
     "text": [
      "a =  2\n",
      "x= 5  ;  y= 3\n"
     ]
    },
    {
     "data": {
      "text/plain": [
       "8"
      ]
     },
     "execution_count": 6,
     "metadata": {},
     "output_type": "execute_result"
    }
   ],
   "source": [
    "add(x=5,y=3)   # argument nommée"
   ]
  },
  {
   "cell_type": "code",
   "execution_count": 7,
   "id": "8c232082",
   "metadata": {},
   "outputs": [
    {
     "name": "stdout",
     "output_type": "stream",
     "text": [
      "a =  2\n",
      "x= 5  ;  y= 3\n"
     ]
    },
    {
     "data": {
      "text/plain": [
       "8"
      ]
     },
     "execution_count": 7,
     "metadata": {},
     "output_type": "execute_result"
    }
   ],
   "source": [
    "add(y=3,x=5)   # argument nommée"
   ]
  },
  {
   "cell_type": "markdown",
   "id": "a0dc8fe5",
   "metadata": {},
   "source": [
    "## Arguments positionnels et nommés"
   ]
  },
  {
   "cell_type": "markdown",
   "id": "740ede14",
   "metadata": {},
   "source": [
    "```\n",
    "    On peut mélanger\n",
    "    \n",
    "    mais\n",
    "    \n",
    "    les arguments positionnels doivent\n",
    "    figurer dans l'appel avant les\n",
    "    arguments nommés\n",
    "\n",
    "    Sinon : SyntaxError !\n",
    "```"
   ]
  },
  {
   "cell_type": "code",
   "execution_count": 8,
   "id": "0148fc67",
   "metadata": {},
   "outputs": [
    {
     "ename": "SyntaxError",
     "evalue": "positional argument follows keyword argument (3695235907.py, line 1)",
     "output_type": "error",
     "traceback": [
      "\u001b[0;36m  File \u001b[0;32m\"/tmp/ipykernel_16594/3695235907.py\"\u001b[0;36m, line \u001b[0;32m1\u001b[0m\n\u001b[0;31m    add(x=5,3)     # argument nommée et positionnel\u001b[0m\n\u001b[0m             ^\u001b[0m\n\u001b[0;31mSyntaxError\u001b[0m\u001b[0;31m:\u001b[0m positional argument follows keyword argument\n"
     ]
    }
   ],
   "source": [
    "add(x=5,3)     # argument nommée en premier argument et positionnel par la suite génère une erreur"
   ]
  },
  {
   "cell_type": "code",
   "execution_count": 10,
   "id": "aab14100",
   "metadata": {},
   "outputs": [
    {
     "name": "stdout",
     "output_type": "stream",
     "text": [
      "a =  2\n",
      "x= 5  ;  y= 3\n"
     ]
    },
    {
     "data": {
      "text/plain": [
       "8"
      ]
     },
     "execution_count": 10,
     "metadata": {},
     "output_type": "execute_result"
    }
   ],
   "source": [
    "add(5,y=3)     # argument positionnel en premier et nommé par la suite..OK"
   ]
  },
  {
   "cell_type": "markdown",
   "id": "bd400bcb",
   "metadata": {},
   "source": [
    "## Arguments positionnels en nombre variable"
   ]
  },
  {
   "cell_type": "markdown",
   "id": "aa218d1b",
   "metadata": {},
   "source": [
    "```\n",
    "    *x signifie que x est un tuple\n",
    "    *args = Appelés parfois : var args ou star args\n",
    "```"
   ]
  },
  {
   "cell_type": "code",
   "execution_count": 11,
   "id": "6f4f3b6e",
   "metadata": {},
   "outputs": [],
   "source": [
    "import math\n",
    "\n",
    "def f(*x):\n",
    "    t=0\n",
    "    for u in x:\n",
    "        t+=u*u\n",
    "    return(math.sqrt(t))\n",
    "\n"
   ]
  },
  {
   "cell_type": "code",
   "execution_count": 12,
   "id": "eafad443",
   "metadata": {},
   "outputs": [
    {
     "data": {
      "text/plain": [
       "13.784048752090222"
      ]
     },
     "execution_count": 12,
     "metadata": {},
     "output_type": "execute_result"
    }
   ],
   "source": [
    "f(3,6,9,8)"
   ]
  },
  {
   "cell_type": "markdown",
   "id": "d3e95ca8",
   "metadata": {},
   "source": [
    "## opérateur *"
   ]
  },
  {
   "cell_type": "markdown",
   "id": "300715f8",
   "metadata": {},
   "source": [
    "```\n",
    "unpacking\n",
    "déballage\n",
    "```"
   ]
  },
  {
   "cell_type": "code",
   "execution_count": 13,
   "id": "1644ff2f",
   "metadata": {},
   "outputs": [],
   "source": [
    ">>> uneListe = ['a', 'b', 'c']\n",
    ">>> prem, *reste = uneListe"
   ]
  },
  {
   "cell_type": "code",
   "execution_count": 14,
   "id": "221d431c",
   "metadata": {},
   "outputs": [
    {
     "data": {
      "text/plain": [
       "'a'"
      ]
     },
     "execution_count": 14,
     "metadata": {},
     "output_type": "execute_result"
    }
   ],
   "source": [
    ">>> prem"
   ]
  },
  {
   "cell_type": "code",
   "execution_count": 15,
   "id": "b675d6d3",
   "metadata": {},
   "outputs": [
    {
     "data": {
      "text/plain": [
       "['b', 'c']"
      ]
     },
     "execution_count": 15,
     "metadata": {},
     "output_type": "execute_result"
    }
   ],
   "source": [
    ">>> reste"
   ]
  },
  {
   "cell_type": "code",
   "execution_count": 16,
   "id": "784efacf",
   "metadata": {},
   "outputs": [],
   "source": [
    "autreListe = ['a', 'b', 'c']\n",
    ">>> premb, *autrereste = uneListe"
   ]
  },
  {
   "cell_type": "code",
   "execution_count": 17,
   "id": "b18ab803",
   "metadata": {},
   "outputs": [
    {
     "data": {
      "text/plain": [
       "'a'"
      ]
     },
     "execution_count": 17,
     "metadata": {},
     "output_type": "execute_result"
    }
   ],
   "source": [
    ">>> premb"
   ]
  },
  {
   "cell_type": "code",
   "execution_count": 18,
   "id": "8ecb91c9",
   "metadata": {},
   "outputs": [
    {
     "data": {
      "text/plain": [
       "['b', 'c']"
      ]
     },
     "execution_count": 18,
     "metadata": {},
     "output_type": "execute_result"
    }
   ],
   "source": [
    ">>> autrereste"
   ]
  },
  {
   "cell_type": "markdown",
   "id": "5e80838d",
   "metadata": {},
   "source": [
    "## Arguments nommés en nombre variable"
   ]
  },
  {
   "cell_type": "markdown",
   "id": "9f0353e8",
   "metadata": {},
   "source": [
    "```\n",
    "   **d est un dictionnaire dans lequel on\n",
    "   trouve les arguments\n",
    "   \n",
    "   **kwargs\n",
    "```"
   ]
  },
  {
   "cell_type": "code",
   "execution_count": 20,
   "id": "a89e3407",
   "metadata": {},
   "outputs": [],
   "source": [
    "def g(**d):\n",
    "    x=d['x']\n",
    "    y=d['y']\n",
    "    z=d['z']\n",
    "    return(math.sqrt(x*x+y*y+z*z))"
   ]
  },
  {
   "cell_type": "markdown",
   "id": "1ab6bb90",
   "metadata": {},
   "source": [
    "## Valeurs par défaut"
   ]
  },
  {
   "cell_type": "markdown",
   "id": "10906d7c",
   "metadata": {},
   "source": [
    "```\n",
    "    Dans la définition de la fonction\n",
    "    \n",
    "    Indiquer la valeur à utiliser si\n",
    "    l'argument effectif est manquant dans\n",
    "    l'appel\n",
    "    \n",
    "    Pour les derniers arguments\n",
    "    uniquement\n",
    "    \n",
    "    Recourir aux arguments nommés en\n",
    "    cas d'ambiguïté\n",
    "```"
   ]
  },
  {
   "cell_type": "code",
   "execution_count": 21,
   "id": "127e549e",
   "metadata": {},
   "outputs": [],
   "source": [
    "def f(x, y=0, z=0):\n",
    "    return(math.sqrt(x*x+y*y+z*z))"
   ]
  },
  {
   "cell_type": "code",
   "execution_count": 22,
   "id": "f58d1ff6",
   "metadata": {},
   "outputs": [
    {
     "name": "stdout",
     "output_type": "stream",
     "text": [
      "3.605551275463989 2.8284271247461903\n"
     ]
    }
   ],
   "source": [
    "print (f(a, b), f(a, z=2))"
   ]
  },
  {
   "cell_type": "markdown",
   "id": "5b3d8072",
   "metadata": {},
   "source": [
    "## Défauts modifiables"
   ]
  },
  {
   "cell_type": "markdown",
   "id": "8c934040",
   "metadata": {},
   "source": [
    "```\n",
    "  - Les valeurs par défaut sont non modifiables\n",
    "  - plus de souplesse avec None\n",
    "  - l'algorithme de la fonction détermine\n",
    "    une valeur par défaut calculée\n",
    "     on teste si x est l'objet None\n",
    "```"
   ]
  },
  {
   "cell_type": "code",
   "execution_count": 23,
   "id": "6c05f4d2",
   "metadata": {},
   "outputs": [
    {
     "ename": "SyntaxError",
     "evalue": "invalid character '…' (U+2026) (3636970000.py, line 2)",
     "output_type": "error",
     "traceback": [
      "\u001b[0;36m  File \u001b[0;32m\"/tmp/ipykernel_16594/3636970000.py\"\u001b[0;36m, line \u001b[0;32m2\u001b[0m\n\u001b[0;31m    …\u001b[0m\n\u001b[0m    ^\u001b[0m\n\u001b[0;31mSyntaxError\u001b[0m\u001b[0;31m:\u001b[0m invalid character '…' (U+2026)\n"
     ]
    }
   ],
   "source": [
    "def f(x = None):\n",
    "…\n",
    "if x is None:\n",
    "x = -b /(2*a)\n",
    "…"
   ]
  },
  {
   "cell_type": "markdown",
   "id": "ec168139",
   "metadata": {},
   "source": [
    "## zip"
   ]
  },
  {
   "cell_type": "markdown",
   "id": "76c34387",
   "metadata": {},
   "source": [
    "```\n",
    "    - zip réunit deux objets itérables\n",
    "    - dans cet exemple, un couple de listes\n",
    "      est zippé en une liste de couples.\n",
    "    - Attention zip renvoit un objet zip (un itérateur)\n",
    "    - Le convertir en liste\n",
    "    - Il n'y a pas de unzip. C'est zip qui est utilisé\n",
    "    - * est l'opérateur qui déballe les arguments (splat, unpacking\n",
    "      argument lists)\n",
    "```"
   ]
  },
  {
   "cell_type": "code",
   "execution_count": 25,
   "id": "5225f0f3",
   "metadata": {},
   "outputs": [],
   "source": [
    "a = [1, 2, 3]\n",
    "neveux = ['Riri', 'Fifi', 'Loulou']\n"
   ]
  },
  {
   "cell_type": "code",
   "execution_count": 26,
   "id": "2e390f7d",
   "metadata": {},
   "outputs": [],
   "source": [
    "\"\"\"\n",
    "    zip réunit deux objets itérables\n",
    "\"\"\"\n",
    "zipped = zip(a, neveux)"
   ]
  },
  {
   "cell_type": "code",
   "execution_count": 27,
   "id": "85d35890",
   "metadata": {},
   "outputs": [],
   "source": [
    "zipped = list(zipped)"
   ]
  },
  {
   "cell_type": "code",
   "execution_count": 28,
   "id": "0c001841",
   "metadata": {},
   "outputs": [],
   "source": [
    "l1, l2 = zip(*zipped)"
   ]
  },
  {
   "cell_type": "markdown",
   "id": "06af10c7",
   "metadata": {},
   "source": [
    "## time"
   ]
  },
  {
   "cell_type": "markdown",
   "id": "5bee28af",
   "metadata": {},
   "source": [
    "```\n",
    " Mesurer le temps d'exécution :\n",
    "    - ne pas mettre la machine en pause\n",
    "    - ne pas lui demander de ne rien faire\n",
    "    - il est préférable de calculer une durée\n",
    "```"
   ]
  },
  {
   "cell_type": "code",
   "execution_count": 29,
   "id": "70758868",
   "metadata": {},
   "outputs": [],
   "source": [
    "import time\n",
    "\n",
    "start_time = time.time()\n",
    "def main():\n",
    "    print(f\"{time.time() - start_time} seconds\")\n"
   ]
  },
  {
   "cell_type": "markdown",
   "id": "54f73404",
   "metadata": {},
   "source": [
    "## Signature générique d'une fonction"
   ]
  },
  {
   "cell_type": "markdown",
   "id": "5fffaa7d",
   "metadata": {},
   "source": [
    "```\n",
    "    les arguments positionnels\n",
    "        avant\n",
    "    les arguments nommés\n",
    "```"
   ]
  },
  {
   "cell_type": "code",
   "execution_count": 30,
   "id": "03bd0698",
   "metadata": {},
   "outputs": [
    {
     "ename": "NameError",
     "evalue": "name 'args' is not defined",
     "output_type": "error",
     "traceback": [
      "\u001b[0;31m---------------------------------------------------------------------------\u001b[0m",
      "\u001b[0;31mNameError\u001b[0m                                 Traceback (most recent call last)",
      "\u001b[0;32m/tmp/ipykernel_16594/3744715094.py\u001b[0m in \u001b[0;36m<module>\u001b[0;34m\u001b[0m\n\u001b[0;32m----> 1\u001b[0;31m \u001b[0mf\u001b[0m\u001b[0;34m(\u001b[0m\u001b[0;34m*\u001b[0m\u001b[0margs\u001b[0m\u001b[0;34m,\u001b[0m \u001b[0;34m**\u001b[0m\u001b[0mkwargs\u001b[0m\u001b[0;34m)\u001b[0m\u001b[0;34m\u001b[0m\u001b[0;34m\u001b[0m\u001b[0m\n\u001b[0m",
      "\u001b[0;31mNameError\u001b[0m: name 'args' is not defined"
     ]
    }
   ],
   "source": [
    "f(*args, **kwargs)"
   ]
  },
  {
   "cell_type": "markdown",
   "id": "39ae004d",
   "metadata": {},
   "source": [
    "## global"
   ]
  },
  {
   "cell_type": "markdown",
   "id": "8d9fbe39",
   "metadata": {},
   "source": [
    "```\n",
    "    La portée des noms (scope) peut être\n",
    "      - globale\n",
    "          - le fichier en cours\n",
    "              - globals()\n",
    "      - locale\n",
    "          - la fonction en cours\n",
    "              - locals()\n",
    "    Priorités\n",
    "       - local < global < prédéfini\n",
    "    \n",
    "    Une fonction ne peut pas modifier\n",
    "    une variable globale à moins de l'avoir\n",
    "    déclarée comme \"global\"\n",
    "```"
   ]
  },
  {
   "cell_type": "code",
   "execution_count": 31,
   "id": "8107ef2a",
   "metadata": {},
   "outputs": [
    {
     "name": "stdout",
     "output_type": "stream",
     "text": [
      "0.0\t3.8473413874435795e-16\t-4.794621373315692\n",
      "3\n"
     ]
    }
   ],
   "source": [
    "import math\n",
    "# compter les appels à f\n",
    "n=0\n",
    "\n",
    "def f(x):\n",
    "    global n\n",
    "    #compter l'appel\n",
    "    n+=1\n",
    "    return x*math.sin(x)\n",
    "\n",
    "def main():\n",
    "    print(f(0), f(math.pi), f(5), sep=\"\\t\")\n",
    "    print(n)\n",
    "\n",
    "main()"
   ]
  },
  {
   "cell_type": "code",
   "execution_count": null,
   "id": "efe7cdd1",
   "metadata": {},
   "outputs": [],
   "source": []
  }
 ],
 "metadata": {
  "kernelspec": {
   "display_name": "Python 3 (ipykernel)",
   "language": "python",
   "name": "python3"
  },
  "language_info": {
   "codemirror_mode": {
    "name": "ipython",
    "version": 3
   },
   "file_extension": ".py",
   "mimetype": "text/x-python",
   "name": "python",
   "nbconvert_exporter": "python",
   "pygments_lexer": "ipython3",
   "version": "3.9.13"
  }
 },
 "nbformat": 4,
 "nbformat_minor": 5
}
