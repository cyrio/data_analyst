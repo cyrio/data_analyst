{
 "cells": [
  {
   "cell_type": "code",
   "execution_count": null,
   "id": "41b85c89",
   "metadata": {},
   "outputs": [],
   "source": [
    "from math import ceil\n",
    "def set_divisors(N):\n",
    "    \"\"\"\n",
    "        display a set of divisor for an integer N\n",
    "    \"\"\"\n",
    "    assert(N>1),\"entrer un entier supérieur à 1\"\n",
    "    setdiv = {N}\n",
    "    for item in range(2,ceil(N//2)+1):\n",
    "        if N%item == 0:\n",
    "            setdiv |= {item, N%item}\n",
    "    if 0 in setdiv:\n",
    "        setdiv -= {0}\n",
    "    return setdiv"
   ]
  },
  {
   "cell_type": "code",
   "execution_count": null,
   "id": "468bbe9a",
   "metadata": {},
   "outputs": [],
   "source": [
    "def is_premier(N):\n",
    "    return len(set_divisors(N)) == 1"
   ]
  },
  {
   "cell_type": "code",
   "execution_count": null,
   "id": "fe2b9a7b",
   "metadata": {},
   "outputs": [],
   "source": [
    "def reduce_setOfSearch(list_of_search):\n",
    "    result_list = list_of_search\n",
    "    for item in list_of_search:\n",
    "        if is_premier(item):\n",
    "            for sub_item in list_of_search[list_of_search.index(item)+1::]: # a subset containing multiples of item\n",
    "                if sub_item % item == 0:\n",
    "                    result_list.remove(sub_item)\n",
    "    return result_list"
   ]
  },
  {
   "cell_type": "code",
   "execution_count": null,
   "id": "24c34920",
   "metadata": {},
   "outputs": [],
   "source": [
    "ens_res = list(range(2,101))\n",
    "print(reduce_setOfSearch(ens_res))"
   ]
  },
  {
   "cell_type": "code",
   "execution_count": null,
   "id": "6241b863",
   "metadata": {},
   "outputs": [],
   "source": [
    "def list_premier_bis(N):\n",
    "    premierlists = reduce_setOfSearch(list(range(2,N+1)))  \n",
    "    print(\"counting numbers premier less than {} , there are :  {}\".format(str(N),len(premierlists)) + \"\\n\")\n",
    "    return str(premierlists) + \"\\n\"\n"
   ]
  }
 ],
 "metadata": {
  "kernelspec": {
   "display_name": "Python 3 (ipykernel)",
   "language": "python",
   "name": "python3"
  },
  "language_info": {
   "codemirror_mode": {
    "name": "ipython",
    "version": 3
   },
   "file_extension": ".py",
   "mimetype": "text/x-python",
   "name": "python",
   "nbconvert_exporter": "python",
   "pygments_lexer": "ipython3",
   "version": "3.9.13"
  }
 },
 "nbformat": 4,
 "nbformat_minor": 5
}
