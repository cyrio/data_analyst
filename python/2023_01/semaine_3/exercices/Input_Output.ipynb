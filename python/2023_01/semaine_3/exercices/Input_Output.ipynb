{
 "cells": [
  {
   "cell_type": "markdown",
   "id": "71400ca7",
   "metadata": {},
   "source": [
    "# Print"
   ]
  },
  {
   "cell_type": "code",
   "execution_count": null,
   "id": "a22965a3",
   "metadata": {},
   "outputs": [],
   "source": [
    "print(1,2,3, sep=\", \",end=\"\\n\")"
   ]
  },
  {
   "cell_type": "code",
   "execution_count": null,
   "id": "377df43b",
   "metadata": {},
   "outputs": [],
   "source": [
    "nom = \"younès\""
   ]
  },
  {
   "cell_type": "code",
   "execution_count": null,
   "id": "25d05ab2",
   "metadata": {},
   "outputs": [],
   "source": [
    "salut = f\"Bonjour {nom}\" # on insère une variable dans la fstring"
   ]
  },
  {
   "cell_type": "code",
   "execution_count": null,
   "id": "8c25b2b3",
   "metadata": {},
   "outputs": [],
   "source": [
    "print(salut)"
   ]
  },
  {
   "cell_type": "code",
   "execution_count": null,
   "id": "ff5673ec",
   "metadata": {},
   "outputs": [],
   "source": [
    "nom = \"Cyrille\""
   ]
  },
  {
   "cell_type": "code",
   "execution_count": null,
   "id": "b2fbc62b",
   "metadata": {},
   "outputs": [],
   "source": [
    "import math\n",
    "f\"sin(Pi) vaut {math.sin(math.pi):5.3}\" # appelle la fonction math.sin on affche sur 5 chiffres dont 3 après la virgule"
   ]
  },
  {
   "cell_type": "markdown",
   "id": "b664f4ee",
   "metadata": {},
   "source": [
    "# Caisse de supermarché"
   ]
  },
  {
   "cell_type": "code",
   "execution_count": 6,
   "id": "d7619c11",
   "metadata": {},
   "outputs": [
    {
     "name": "stdout",
     "output_type": "stream",
     "text": [
      "entrer le nombre de convives30\n",
      " 4.12\n"
     ]
    }
   ],
   "source": [
    "prix_a_payer = 123.67\n",
    "n = int(input(\"entrer le nombre de convives: \"))\n",
    "try:# gestion des exceptions\n",
    "    part = prix_a_payer / n\n",
    "    print(f\"{part:5.2f}\")\n",
    "except ZeroDivisionError:\n",
    "    print(\"Vous vous êtes trompés sur le nombre entré\")\n",
    "    part = prix_a_payer\n",
    "    print(f\"{part:5.2f}\")"
   ]
  },
  {
   "cell_type": "markdown",
   "id": "714c3af6",
   "metadata": {},
   "source": [
    "## Exception avec finally"
   ]
  },
  {
   "cell_type": "code",
   "execution_count": 7,
   "id": "c1d64642",
   "metadata": {},
   "outputs": [
    {
     "name": "stdout",
     "output_type": "stream",
     "text": [
      "entrer le nombre de convives: 5\n",
      "24.73\n",
      "Je partage l'adition en 5 parts de\n",
      "24.73\n"
     ]
    }
   ],
   "source": [
    "prix_a_payer = 123.67\n",
    "n = int(input(\"entrer le nombre de convives: \"))\n",
    "try:# gestion des exceptions\n",
    "    part = prix_a_payer / n\n",
    "    print(f\"{part:5.2f}\")\n",
    "except ZeroDivisionError:\n",
    "    print(\"Vous vous êtes trompés sur le nombre entré\")\n",
    "    part = prix_a_payer\n",
    "else:\n",
    "    print(f\"Je partage l'adition en {n} parts de\")\n",
    "finally:\n",
    "    print(f\"{part:5.2f}\")"
   ]
  },
  {
   "cell_type": "markdown",
   "id": "7a950a20",
   "metadata": {},
   "source": [
    "## Lecture de fichier"
   ]
  },
  {
   "cell_type": "code",
   "execution_count": 10,
   "id": "660fbc75",
   "metadata": {},
   "outputs": [
    {
     "name": "stdout",
     "output_type": "stream",
     "text": [
      "Nombres de lignes lues : 4\n",
      "seconde de lignes lues :  Voilà un fichier !!!\n",
      "\n"
     ]
    }
   ],
   "source": [
    "f = open(\"myfile.txt\", encoding=\"utf-8\")\n",
    "lignes = f.readlines()\n",
    "f.close() # on en a plus besoin on ferme et on libère la ressource, c'est au moment du close que les données sont écrites et que la marque de fin de fichier est inscrite.\n",
    "print(f\"Nombres de lignes lues : {len(lignes)}\")\n",
    "print(f\"seconde de lignes lues :  \" +  lignes[1])\n"
   ]
  },
  {
   "cell_type": "code",
   "execution_count": 11,
   "id": "d9ffa9aa",
   "metadata": {},
   "outputs": [],
   "source": [
    "with open(\"myfile.txt\", encoding=\"utf-8\") as f:\n",
    "    data = f.read()\n",
    "# le close est fait à la sortie du with\n"
   ]
  },
  {
   "cell_type": "code",
   "execution_count": 12,
   "id": "90cb4a94",
   "metadata": {},
   "outputs": [
    {
     "name": "stdout",
     "output_type": "stream",
     "text": [
      "Coucou\n",
      "\n",
      "Voilà un fichier !!!\n",
      "\n",
      "Son utilité est d'être lue\n",
      "\n",
      "On peut aussi écrire dessus\n",
      "\n"
     ]
    }
   ],
   "source": [
    "with open(\"myfile.txt\", encoding=\"utf-8\") as f:\n",
    "    # lecture ligne par ligne, c'est la méthode la plus efficace\n",
    "    for ligne in f :\n",
    "        print(ligne)"
   ]
  },
  {
   "cell_type": "code",
   "execution_count": null,
   "id": "e5e0c2fa",
   "metadata": {},
   "outputs": [],
   "source": [
    "with open(\"myfile.txt\", encoding=\"utf-8\") as f:\n",
    "    # lecture ligne par ligne\n",
    "    while r:=input(\"Continuer ? : \"):\n",
    "            l = f.readline()\n",
    "            print(len(l),\"***\",l,sep=\"\\t\")"
   ]
  },
  {
   "cell_type": "markdown",
   "id": "1eb2acca",
   "metadata": {},
   "source": [
    " ``` \n",
    "  On peut ajouter des arguments à open pour lire ou écrire sur les fichiers\n",
    "   r  pour read\n",
    "   w pour write\n",
    "   a pour append\n",
    "   x pour exclusive creation , uniquement pour créer des fichier en ouverture\n",
    "   + pour read + write\n",
    " ```"
   ]
  },
  {
   "cell_type": "code",
   "execution_count": null,
   "id": "dd2b8731",
   "metadata": {},
   "outputs": [],
   "source": [
    "with open(\"myfile.txt\", encoding=\"utf-8\") as f:\n",
    "    f.write(\"Encore une chose \\n\")\n",
    "    f.write(\"Encore autre chose \\n\")\n",
    "    f.write(\"Encore \")"
   ]
  },
  {
   "cell_type": "code",
   "execution_count": null,
   "id": "92d04cea",
   "metadata": {},
   "outputs": [],
   "source": [
    "def readIntNumber():\n",
    "    return input(\"entrez un nombre : \")\n",
    "\n",
    "def sommeint(anumber):\n",
    "    somme = 0\n",
    "    res = anumber\n",
    "    if anumber[0] in \"-+\":\n",
    "        res = anumber[1::]\n",
    "    if len(res) > 1:\n",
    "        for i in res:\n",
    "            somme += int(i)\n",
    "    else:\n",
    "        somme = int(res)\n",
    "    return somme\n",
    "\n",
    "def base():\n",
    "    return sommeint(readIntNumber())\n",
    "\n",
    "print(base())"
   ]
  },
  {
   "cell_type": "markdown",
   "id": "d715ef99",
   "metadata": {},
   "source": [
    "## Assert"
   ]
  },
  {
   "cell_type": "code",
   "execution_count": 16,
   "id": "b673a27c",
   "metadata": {},
   "outputs": [],
   "source": [
    "a = 1\n",
    "b = -10"
   ]
  },
  {
   "cell_type": "code",
   "execution_count": 17,
   "id": "c722e4af",
   "metadata": {},
   "outputs": [
    {
     "ename": "AssertionError",
     "evalue": " la somme devrait être au dessus de 10 ",
     "output_type": "error",
     "traceback": [
      "\u001b[0;31m---------------------------------------------------------------------------\u001b[0m",
      "\u001b[0;31mAssertionError\u001b[0m                            Traceback (most recent call last)",
      "\u001b[0;32m/tmp/ipykernel_8332/100682668.py\u001b[0m in \u001b[0;36m<module>\u001b[0;34m\u001b[0m\n\u001b[0;32m----> 1\u001b[0;31m \u001b[0;32massert\u001b[0m \u001b[0ma\u001b[0m \u001b[0;34m+\u001b[0m \u001b[0mb\u001b[0m \u001b[0;34m>\u001b[0m \u001b[0;36m5\u001b[0m \u001b[0;34m,\u001b[0m\u001b[0;34m\" la somme devrait être au dessus de 10 \"\u001b[0m\u001b[0;34m\u001b[0m\u001b[0;34m\u001b[0m\u001b[0m\n\u001b[0m",
      "\u001b[0;31mAssertionError\u001b[0m:  la somme devrait être au dessus de 10 "
     ]
    }
   ],
   "source": [
    "assert a + b > 5 ,\" la somme devrait être au dessus de 10 \""
   ]
  },
  {
   "cell_type": "code",
   "execution_count": null,
   "id": "829d3ae8",
   "metadata": {},
   "outputs": [],
   "source": []
  }
 ],
 "metadata": {
  "kernelspec": {
   "display_name": "Python 3 (ipykernel)",
   "language": "python",
   "name": "python3"
  },
  "language_info": {
   "codemirror_mode": {
    "name": "ipython",
    "version": 3
   },
   "file_extension": ".py",
   "mimetype": "text/x-python",
   "name": "python",
   "nbconvert_exporter": "python",
   "pygments_lexer": "ipython3",
   "version": "3.9.13"
  }
 },
 "nbformat": 4,
 "nbformat_minor": 5
}
