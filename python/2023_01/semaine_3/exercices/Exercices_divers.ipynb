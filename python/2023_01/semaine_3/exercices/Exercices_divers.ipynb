{
 "cells": [
  {
   "cell_type": "markdown",
   "id": "0bc0e1b0",
   "metadata": {},
   "source": [
    "## Nombres - Premiers"
   ]
  },
  {
   "cell_type": "code",
   "execution_count": null,
   "id": "5ded608c",
   "metadata": {},
   "outputs": [],
   "source": [
    "import datetime, random"
   ]
  },
  {
   "cell_type": "code",
   "execution_count": null,
   "id": "2d7f8bff",
   "metadata": {},
   "outputs": [],
   "source": [
    "from math import ceil\n",
    "def get_listDivisors(N):\n",
    "    \"\"\"\n",
    "        display a set of divisor for an integer N\n",
    "    \"\"\"\n",
    "    assert(N>1),\"entrer un entier supérieur à 1\"\n",
    "    setdiv = {N}\n",
    "    for item in range(2,ceil(N//2)+1):\n",
    "        if N%item == 0:\n",
    "            setdiv |= {item, N%item}\n",
    "    if 0 in setdiv:\n",
    "        setdiv -= {0}\n",
    "    return setdiv\n"
   ]
  },
  {
   "cell_type": "code",
   "execution_count": null,
   "id": "1ae35a7d",
   "metadata": {},
   "outputs": [],
   "source": [
    "# print(get_listDivisors(10))\n",
    "# print(get_listDivisors(100))\n",
    "# print(get_listDivisors(1000))\n",
    "# print(get_listDivisors(0))\n",
    "# print(get_listDivisors(1))"
   ]
  },
  {
   "cell_type": "code",
   "execution_count": null,
   "id": "f6c7199b",
   "metadata": {},
   "outputs": [],
   "source": [
    "def is_premier(N):\n",
    "    return len(get_listDivisors(N)) == 1"
   ]
  },
  {
   "cell_type": "code",
   "execution_count": null,
   "id": "5dacfd6f",
   "metadata": {},
   "outputs": [],
   "source": [
    "# print(is_premier(13))\n",
    "# print(is_premier(100))\n",
    "# print(is_premier(97))"
   ]
  },
  {
   "cell_type": "code",
   "execution_count": null,
   "id": "e1ac807d",
   "metadata": {},
   "outputs": [],
   "source": [
    "%%timeit\n",
    "def get_list_premier(N):\n",
    "    #premierlists = []\n",
    "    premierSet = set()\n",
    "    for item in range(2,N+1):\n",
    "        if is_premier(item):\n",
    "            premierSet |= {item}\n",
    "    # print(\"counting numbers premier less than {} , there are :  {}\".format(str(N),len(premierlists)) + \"\\n\")\n",
    "    return str(list(premierSet)) + \"\\n\"\n",
    "\n"
   ]
  },
  {
   "cell_type": "code",
   "execution_count": null,
   "id": "ae86673e",
   "metadata": {},
   "outputs": [],
   "source": [
    "%%timeit\n",
    "def reduce_sizeOfList(initial_list):\n",
    "    \"\"\" Eratosthene methods\"\"\"\n",
    "    #start_first_processus = datetime.datetime.now()\n",
    "    result_set = set(initial_list)\n",
    "    for item in initial_list:\n",
    "        if is_premier(item):\n",
    "            for sub_item in initial_list[initial_list.index(item)+1::]: # a subset containing multiples of item\n",
    "                if sub_item % item == 0:\n",
    "                    result_set -= {sub_item}\n",
    "    #end_first_processus = datetime.datetime.now()\n",
    "    return list(result_set)"
   ]
  },
  {
   "cell_type": "code",
   "execution_count": null,
   "id": "72cc03cd",
   "metadata": {},
   "outputs": [],
   "source": [
    "%%timeit\n",
    "def get_premier_eratosthene(N):\n",
    "    premierlists = reduce_sizeOfList(list(range(2,N+1)))  \n",
    "    print(\"counting numbers premier less than {} , there are :  {}\".format(str(N),len(premierlists)) + \"\\n\")\n",
    "    return str(premierlists) + \"\\n\""
   ]
  },
  {
   "cell_type": "code",
   "execution_count": null,
   "id": "2bb21078",
   "metadata": {},
   "outputs": [],
   "source": [
    "start_first_processus = datetime.datetime.now()\n",
    "\n",
    "print(get_list_premier(100000))\n",
    "\n",
    "\n",
    "delta_first_processus = end_first_processus - start_first_processus"
   ]
  },
  {
   "cell_type": "code",
   "execution_count": null,
   "id": "aade092e",
   "metadata": {},
   "outputs": [],
   "source": [
    "print(\"_get_list_premier_  - execution time  : {} seconds,  {}  microseconds\".format(delta_first_processus.seconds,delta_first_processus.microseconds))"
   ]
  },
  {
   "cell_type": "code",
   "execution_count": null,
   "id": "7d82af13",
   "metadata": {},
   "outputs": [],
   "source": [
    "start_second_processus = datetime.datetime.now()\n",
    "\n",
    "print(get_premier_eratosthene(100000))\n",
    "\n",
    "end_second_processus = datetime.datetime.now()\n",
    "delta_second_processus = end_second_processus - start_second_processus"
   ]
  },
  {
   "cell_type": "code",
   "execution_count": null,
   "id": "c1c58df5",
   "metadata": {},
   "outputs": [],
   "source": [
    "print(\"_get_premier_eratosthene_ - execution time : {} seconds,  {}  microseconds\".format(delta_second_processus.seconds,delta_second_processus.microseconds))"
   ]
  },
  {
   "cell_type": "code",
   "execution_count": null,
   "id": "48cf5b22",
   "metadata": {},
   "outputs": [],
   "source": []
  }
 ],
 "metadata": {
  "kernelspec": {
   "display_name": "Python 3 (ipykernel)",
   "language": "python",
   "name": "python3"
  },
  "language_info": {
   "codemirror_mode": {
    "name": "ipython",
    "version": 3
   },
   "file_extension": ".py",
   "mimetype": "text/x-python",
   "name": "python",
   "nbconvert_exporter": "python",
   "pygments_lexer": "ipython3",
   "version": "3.9.13"
  }
 },
 "nbformat": 4,
 "nbformat_minor": 5
}
