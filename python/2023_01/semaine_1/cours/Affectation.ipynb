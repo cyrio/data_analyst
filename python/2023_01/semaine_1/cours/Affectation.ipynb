{
 "cells": [
  {
   "cell_type": "markdown",
   "id": "5ec82314",
   "metadata": {},
   "source": [
    "# Affectation augmentée"
   ]
  },
  {
   "cell_type": "code",
   "execution_count": 1,
   "id": "8b2e09d2",
   "metadata": {},
   "outputs": [],
   "source": [
    "x = 1"
   ]
  },
  {
   "cell_type": "code",
   "execution_count": 2,
   "id": "0ad71120",
   "metadata": {},
   "outputs": [],
   "source": [
    "x = x + 1"
   ]
  },
  {
   "cell_type": "code",
   "execution_count": 3,
   "id": "4a925f43",
   "metadata": {},
   "outputs": [
    {
     "data": {
      "text/plain": [
       "2"
      ]
     },
     "execution_count": 3,
     "metadata": {},
     "output_type": "execute_result"
    }
   ],
   "source": [
    "x"
   ]
  },
  {
   "cell_type": "code",
   "execution_count": 12,
   "id": "abb160a7",
   "metadata": {},
   "outputs": [
    {
     "data": {
      "text/plain": [
       "7"
      ]
     },
     "execution_count": 12,
     "metadata": {},
     "output_type": "execute_result"
    }
   ],
   "source": [
    "x += 1\n",
    "x"
   ]
  },
  {
   "cell_type": "code",
   "execution_count": 13,
   "id": "23d6a4a0",
   "metadata": {},
   "outputs": [],
   "source": [
    "z = \"La\""
   ]
  },
  {
   "cell_type": "code",
   "execution_count": 15,
   "id": "9143e698",
   "metadata": {},
   "outputs": [
    {
     "data": {
      "text/plain": [
       "'La La La'"
      ]
     },
     "execution_count": 15,
     "metadata": {},
     "output_type": "execute_result"
    }
   ],
   "source": [
    "z += \" La\"\n",
    "z"
   ]
  },
  {
   "cell_type": "code",
   "execution_count": 16,
   "id": "56e5f5ae",
   "metadata": {},
   "outputs": [],
   "source": [
    "x = 345678"
   ]
  },
  {
   "cell_type": "code",
   "execution_count": 21,
   "id": "d0708b9c",
   "metadata": {},
   "outputs": [
    {
     "data": {
      "text/plain": [
       "10802"
      ]
     },
     "execution_count": 21,
     "metadata": {},
     "output_type": "execute_result"
    }
   ],
   "source": [
    "x //= 2\n",
    "x"
   ]
  },
  {
   "cell_type": "markdown",
   "id": "5547031b",
   "metadata": {},
   "source": [
    "# Affectation chaînée"
   ]
  },
  {
   "cell_type": "code",
   "execution_count": 5,
   "id": "826280d7",
   "metadata": {},
   "outputs": [],
   "source": [
    "x = y = z = 0"
   ]
  },
  {
   "cell_type": "code",
   "execution_count": 6,
   "id": "4aad4d44",
   "metadata": {},
   "outputs": [],
   "source": [
    "z = x = y = 0\n"
   ]
  },
  {
   "cell_type": "code",
   "execution_count": 7,
   "id": "a956b133",
   "metadata": {},
   "outputs": [],
   "source": [
    "temp = 0\n",
    "x = temp\n",
    "y = temp\n",
    "z = temp"
   ]
  },
  {
   "cell_type": "markdown",
   "id": "cb11c07d",
   "metadata": {},
   "source": [
    "# Opérateur \"morse\""
   ]
  },
  {
   "cell_type": "code",
   "execution_count": 8,
   "id": "e4159d28",
   "metadata": {},
   "outputs": [
    {
     "data": {
      "text/plain": [
       "3"
      ]
     },
     "execution_count": 8,
     "metadata": {},
     "output_type": "execute_result"
    }
   ],
   "source": [
    "(a:=3)"
   ]
  },
  {
   "cell_type": "code",
   "execution_count": 9,
   "id": "d0f2f40a",
   "metadata": {},
   "outputs": [
    {
     "data": {
      "text/plain": [
       "3"
      ]
     },
     "execution_count": 9,
     "metadata": {},
     "output_type": "execute_result"
    }
   ],
   "source": [
    "a"
   ]
  },
  {
   "cell_type": "code",
   "execution_count": 10,
   "id": "dc8fe75e",
   "metadata": {},
   "outputs": [
    {
     "name": "stdout",
     "output_type": "stream",
     "text": [
      "Hello!\n",
      " Entrez une commande, Return pour finir\n",
      "_Commande: Coucou\n",
      "On exécute la commande Coucou\n",
      "_Commande: Comd1\n",
      "On exécute la commande Comd1\n",
      "_Commande: \n",
      "Bye\n"
     ]
    }
   ],
   "source": [
    "#Exemple d'utilisation\n",
    "print(\"Hello!\\n Entrez une commande, Return pour finir\")\n",
    "while (r:=input(\"_Commande: \")):\n",
    "    print(\"On exécute la commande\",r)\n",
    "print(\"Bye\")"
   ]
  },
  {
   "cell_type": "code",
   "execution_count": null,
   "id": "4bb23e7f",
   "metadata": {},
   "outputs": [],
   "source": []
  }
 ],
 "metadata": {
  "kernelspec": {
   "display_name": "Python 3 (ipykernel)",
   "language": "python",
   "name": "python3"
  },
  "language_info": {
   "codemirror_mode": {
    "name": "ipython",
    "version": 3
   },
   "file_extension": ".py",
   "mimetype": "text/x-python",
   "name": "python",
   "nbconvert_exporter": "python",
   "pygments_lexer": "ipython3",
   "version": "3.10.5"
  }
 },
 "nbformat": 4,
 "nbformat_minor": 5
}
