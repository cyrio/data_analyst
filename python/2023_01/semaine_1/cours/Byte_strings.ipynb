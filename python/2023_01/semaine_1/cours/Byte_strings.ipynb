{
 "cells": [
  {
   "cell_type": "markdown",
   "id": "f684d0d0",
   "metadata": {},
   "source": [
    "## Byte strings, chaîne de bytes (octets)\n",
    "<class 'bytes'>\n",
    "### Littéraux"
   ]
  },
  {
   "cell_type": "code",
   "execution_count": 1,
   "id": "dbbad919",
   "metadata": {},
   "outputs": [
    {
     "data": {
      "text/plain": [
       "b'Toto'"
      ]
     },
     "execution_count": 1,
     "metadata": {},
     "output_type": "execute_result"
    }
   ],
   "source": [
    "b'Toto' # Chaque octet contient une valeur 0 à 255"
   ]
  },
  {
   "cell_type": "code",
   "execution_count": 2,
   "id": "b1f77933",
   "metadata": {},
   "outputs": [
    {
     "data": {
      "text/plain": [
       "bytes"
      ]
     },
     "execution_count": 2,
     "metadata": {},
     "output_type": "execute_result"
    }
   ],
   "source": [
    "type(b'Toto')"
   ]
  },
  {
   "cell_type": "markdown",
   "id": "58cd2763",
   "metadata": {},
   "source": [
    "## Conversion\n",
    "Pour Python3, une chaîne de caractères contient des \"points de code\", on peut la convertir en une chaîne d'octets en choisissant un \"encodage\". Par exemple, utf-8."
   ]
  },
  {
   "cell_type": "code",
   "execution_count": 2,
   "id": "6a746925",
   "metadata": {},
   "outputs": [
    {
     "data": {
      "text/plain": [
       "b'Toto'"
      ]
     },
     "execution_count": 2,
     "metadata": {},
     "output_type": "execute_result"
    }
   ],
   "source": [
    "s = 'Toto'\n",
    "bs = s.encode('utf-8')\n",
    "bs"
   ]
  },
  {
   "cell_type": "markdown",
   "id": "00264058",
   "metadata": {},
   "source": [
    "Dans l'autre sens, on reconstitue une chaîne de caractères à partir d'une chaîne d'octets, si l'on connaît l'encodage, par l'emploi de la méthode `decode`."
   ]
  },
  {
   "cell_type": "code",
   "execution_count": 3,
   "id": "da02c7cd",
   "metadata": {},
   "outputs": [
    {
     "data": {
      "text/plain": [
       "'Toto'"
      ]
     },
     "execution_count": 3,
     "metadata": {},
     "output_type": "execute_result"
    }
   ],
   "source": [
    "bs.decode('utf-8')"
   ]
  },
  {
   "cell_type": "code",
   "execution_count": null,
   "id": "a1a1b4bc",
   "metadata": {},
   "outputs": [],
   "source": []
  }
 ],
 "metadata": {
  "kernelspec": {
   "display_name": "Python 3 (ipykernel)",
   "language": "python",
   "name": "python3"
  },
  "language_info": {
   "codemirror_mode": {
    "name": "ipython",
    "version": 3
   },
   "file_extension": ".py",
   "mimetype": "text/x-python",
   "name": "python",
   "nbconvert_exporter": "python",
   "pygments_lexer": "ipython3",
   "version": "3.10.5"
  }
 },
 "nbformat": 4,
 "nbformat_minor": 5
}
