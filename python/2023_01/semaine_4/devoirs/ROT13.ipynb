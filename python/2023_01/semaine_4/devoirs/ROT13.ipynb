{
 "cells": [
  {
   "cell_type": "code",
   "execution_count": 1,
   "metadata": {},
   "outputs": [],
   "source": [
    "phrase = \"ncceraqer clguba rfg ha oba cbvag q'rageér qnaf yr zbaqr zreirvyyrhk qr y'vasbezngvdhr\""
   ]
  },
  {
   "cell_type": "code",
   "execution_count": 20,
   "metadata": {},
   "outputs": [
    {
     "name": "stdout",
     "output_type": "stream",
     "text": [
      "apprendre python est un bon point d'entrée dans le monde merveilleux de l'informatique\n"
     ]
    }
   ],
   "source": [
    "import string\n",
    "\n",
    "alphabet = \"\"\n",
    "for i in range(ord('a'),ord('a')+26):\n",
    "    alphabet += chr(i)\n",
    "\n",
    "alphabet = [chr(i) for i in range(ord('a'),ord('a')+26)]\n",
    "\n",
    "\n",
    "alphabet = string.ascii_lowercase\n",
    "#print(list(alphabet))\n",
    "alphabet2 = [chr(i) for i in range(ord('a')+13,ord('a')+26)]+[chr(i) for i in range(ord('a'),ord('a')+13)]\n",
    "#print(alphabet2)\n",
    "\n",
    "def rot13(phrase):\n",
    "    unetraduction =\"\"\n",
    "    for uncar in phrase:\n",
    "        if uncar in alphabet:\n",
    "            unetraduction += alphabet2[alphabet.index(uncar)]\n",
    "        else :\n",
    "            unetraduction += uncar\n",
    "    return unetraduction\n",
    "print(rot13(phrase))"
   ]
  },
  {
   "cell_type": "code",
   "execution_count": null,
   "metadata": {},
   "outputs": [],
   "source": [
    "def rotX(phrase, X=13, alphabet = string.ascii_lowercase):\n",
    "    pass"
   ]
  },
  {
   "cell_type": "code",
   "execution_count": null,
   "metadata": {},
   "outputs": [],
   "source": []
  }
 ],
 "metadata": {
  "kernelspec": {
   "display_name": "Python 3",
   "language": "python",
   "name": "python3"
  },
  "language_info": {
   "codemirror_mode": {
    "name": "ipython",
    "version": 3
   },
   "file_extension": ".py",
   "mimetype": "text/x-python",
   "name": "python",
   "nbconvert_exporter": "python",
   "pygments_lexer": "ipython3",
   "version": "3.7.4"
  }
 },
 "nbformat": 4,
 "nbformat_minor": 2
}
