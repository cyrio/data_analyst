{
 "cells": [
  {
   "cell_type": "code",
   "execution_count": 1,
   "metadata": {},
   "outputs": [],
   "source": [
    "from point import Point\n",
    "import turtle\n",
    "\n",
    "class Polygone:\n",
    "    def __init__(self, listepoints, couleur='black'):\n",
    "        if isinstance(listepoints[0],Point):\n",
    "            self.sommets = listepoints\n",
    "        elif isinstance(listepoints[0],tuple):\n",
    "            self.sommets = [Point(float(i[0]),float(i[1])) for i in listepoints]\n",
    "        else :\n",
    "            raise Exception('Les coordonnées doivent être des Points ou un tuple (x,y)')\n",
    "        self.couleur = couleur\n",
    "    def __str__(self):\n",
    "        return f'{__class__.__name__} de {len(self.sommets)} sommets de couleur {self.couleur}'\n",
    "    def __repr__(self):\n",
    "        return f'{__class__.__name__}({self.sommets},{self.couleur})'\n",
    "    def __len__(self):\n",
    "        return len(self.sommets)\n",
    "    def perimetre(self):\n",
    "        distance = 0\n",
    "        #for unsommet in self.sommets :\n",
    "        for i in range (len(self.sommets)):\n",
    "            distance += self.sommets[i].distance(self.sommets[i-1])\n",
    "        return distance\n",
    "    def dessine(self):\n",
    "        #turtle.show()\n",
    "        turtle.reset()\n",
    "        turtle.shape('turtle')\n",
    "        \n",
    "        turtle.penup()\n",
    "        turtle.pen(pencolor = self.couleur, pensize = 10)\n",
    "        turtle.setposition(self.sommets[0].x,self.sommets[0].y)\n",
    "        turtle.pendown()\n",
    "        for unsommet in self.sommets:\n",
    "            turtle.goto(unsommet.x,unsommet.y)\n",
    "        turtle.goto(self.sommets[0].x,self.sommets[0].y)\n",
    "        turtle.done()\n",
    "        \n",
    "    "
   ]
  },
  {
   "cell_type": "code",
   "execution_count": 2,
   "metadata": {},
   "outputs": [
    {
     "name": "stdout",
     "output_type": "stream",
     "text": [
      "[Point(25.0,60.0), Point(165.0,240.0), Point(0.0,320.0)]\n",
      "Polygone de 3 sommets de couleur red\n",
      "absisse 50.0 ordonnée 120.0\n",
      "Polygone de 3 sommets de couleur red 3 4\n",
      "400.0\n"
     ]
    }
   ],
   "source": [
    "triangle = [(25,60),(165,240),(0,320)]\n",
    "print([Point(float(i[0]),float(i[1])) for i in triangle])\n",
    "monPolygone = Polygone(triangle, 'red')\n",
    "print(monPolygone)\n",
    "\n",
    "point1 = Point(50,120)\n",
    "print(point1)\n",
    "point2 = Point(330,480)\n",
    "point3 = Point(510,640)\n",
    "liste_points = [point1,point2,point3]\n",
    "#monPolygone = Polygone(liste_points, 'red')\n",
    "\n",
    "#monPolygone = Polygone([Point(0.5,1.2),Point(3.3,4.8),Point(5.1,6.4)], 'red')\n",
    "print(monPolygone, len(monPolygone), len((1,2,3,4)))\n",
    "#monPolygone = Polygone([Point(float(i[0]),float(i[1])) for i in triangle], 'red')\n",
    "\n",
    "monPolygoneCarre = Polygone([(0,0),(0,100),(100,100),(100,0)], 'pink')\n",
    "print(monPolygoneCarre.perimetre())\n",
    "#monPolygoneCarre.dessine()\n",
    "#monPolygone.dessine()"
   ]
  },
  {
   "cell_type": "code",
   "execution_count": 36,
   "metadata": {},
   "outputs": [
    {
     "name": "stdout",
     "output_type": "stream",
     "text": [
      "['_Rectangle__fabrique_sommets', '__class__', '__delattr__', '__dict__', '__dir__', '__doc__', '__eq__', '__format__', '__ge__', '__getattribute__', '__gt__', '__hash__', '__init__', '__init_subclass__', '__le__', '__len__', '__lt__', '__module__', '__ne__', '__new__', '__reduce__', '__reduce_ex__', '__repr__', '__setattr__', '__sizeof__', '__str__', '__subclasshook__', '__weakref__', 'angle', 'couleur', 'dessine', 'largeur', 'longueur', 'origine', 'perimetre', 'sommets']\n",
      "Rectangle(Point(0.0,0.0),0,2,1,'red')\n"
     ]
    }
   ],
   "source": [
    "from math import *\n",
    "class Rectangle(Polygone):\n",
    "    def __init__(self, unPointOrigine, angle, longueur, largeur, couleur = None):\n",
    "        self.origine = unPointOrigine\n",
    "        self.angle = angle\n",
    "        self.longueur = longueur\n",
    "        self.largeur = largeur\n",
    "        #self.couleur = couleur\n",
    "        \n",
    "        super().__init__( self.__fabrique_sommets(),couleur)\n",
    "        \n",
    "    def __repr__(self):\n",
    "        return f\"{__class__.__name__}({repr(self.sommets[0])},{self.angle},{self.longueur},{self.largeur},'{self.couleur}')\"\n",
    "    \n",
    "    def __fabrique_sommets(self):\n",
    "        listepoints = []\n",
    "        listepoints.append(self.origine)\n",
    "        listepoints.append(self.origine.move(self.longueur,180*self.angle/pi))\n",
    "        listepoints.append(listepoints[1].move(self.largeur,180*self.angle/pi+90))\n",
    "        listepoints.append(listepoints[2].move(self.longueur,180*self.angle/pi+180))\n",
    "        \n",
    "        \"\"\"\n",
    "        self.listepoints.append(Point(self.origine.x+self.longueur*cos(self.angle),\n",
    "                                     self.origine.y+self.longueur*sin(self.angle)))\n",
    "        self.listepoints.append(Point(self.listepoints[1].x-self.largeur*sin(self.angle),\n",
    "                                     self.listepoints[1].y+self.largeur*cos(self.angle)))\n",
    "        self.listepoints.append(Point(self.listepoints[2].x-self.longueur*cos(self.angle),\n",
    "                                     self.listepoints[2].y-self.longueur*sin(self.angle)))\n",
    "        \"\"\"\n",
    "        #print(self.listepoints)\n",
    "        return listepoints\n",
    "    \n",
    "monrectangle = Rectangle(Point(0,0),0,2,1,'red')\n",
    "\n",
    "print(dir(monrectangle))\n",
    "print(repr(monrectangle))"
   ]
  },
  {
   "cell_type": "code",
   "execution_count": null,
   "metadata": {},
   "outputs": [],
   "source": []
  }
 ],
 "metadata": {
  "kernelspec": {
   "display_name": "Python 3",
   "language": "python",
   "name": "python3"
  },
  "language_info": {
   "codemirror_mode": {
    "name": "ipython",
    "version": 3
   },
   "file_extension": ".py",
   "mimetype": "text/x-python",
   "name": "python",
   "nbconvert_exporter": "python",
   "pygments_lexer": "ipython3",
   "version": "3.7.4"
  }
 },
 "nbformat": 4,
 "nbformat_minor": 2
}
