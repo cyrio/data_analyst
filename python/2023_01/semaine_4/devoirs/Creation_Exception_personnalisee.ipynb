{
 "cells": [
  {
   "cell_type": "code",
   "execution_count": 17,
   "metadata": {},
   "outputs": [],
   "source": [
    "class AucunChiffreError(Exception):\n",
    "    \"\"\"\n",
    "    Exception liée à des caractères qui ne sont pas de chiffres\n",
    "    \"\"\"\n",
    "\n",
    "    def __init__(self, s, f=\"\"):\n",
    "        Exception.__init__(self, s)\n",
    "        self.s = s\n",
    "        self.f = f\n",
    "\n",
    "    def __str__(self):\n",
    "        return f\"exception AucunChiffreError, depuis la fonction {self.f} avec le paramètre {self.s}\"\n",
    "\n",
    "\n"
   ]
  },
  {
   "cell_type": "code",
   "execution_count": 25,
   "metadata": {},
   "outputs": [
    {
     "name": "stdout",
     "output_type": "stream",
     "text": [
      "123  =  123\n",
      "exception AucunChiffreError, depuis la fonction convertir_enEntier avec le paramètre Georges\n",
      "fonction :  convertir_enEntier\n"
     ]
    }
   ],
   "source": [
    "def convertir_enEntier(s):\n",
    "    \"\"\"\n",
    "    Conversion d'une chaîne de caractères en entier\n",
    "    \"\"\"\n",
    "    if not s.isdigit():\n",
    "        raise AucunChiffreError(s, \"convertir_enEntier\")\n",
    "        #raise Exception(s, \"convertir_enEntier\")\n",
    "    return int(s)\n",
    "\n",
    "\n",
    "try:\n",
    "    s = \"123\"\n",
    "    i = convertir_enEntier(s)\n",
    "    print(s, \" = \", i)\n",
    "    s = \"Georges\"\n",
    "    i = convertir_enEntier(s)\n",
    "    print(s, \" = \", i)\n",
    "except AucunChiffreError as exc:\n",
    "    print(exc)\n",
    "    print(\"fonction : \", exc.f)\n",
    "except Exception as e:\n",
    "    #print(e)\n",
    "    print(f\"exception AucunChiffreError, depuis la fonction {e.args[1]} avec le paramètre {e.args[0]}\")\n",
    "    print(\"fonction : \", e.args[1])"
   ]
  },
  {
   "cell_type": "code",
   "execution_count": null,
   "metadata": {},
   "outputs": [],
   "source": []
  }
 ],
 "metadata": {
  "kernelspec": {
   "display_name": "Python 3",
   "language": "python",
   "name": "python3"
  },
  "language_info": {
   "codemirror_mode": {
    "name": "ipython",
    "version": 3
   },
   "file_extension": ".py",
   "mimetype": "text/x-python",
   "name": "python",
   "nbconvert_exporter": "python",
   "pygments_lexer": "ipython3",
   "version": "3.7.4"
  }
 },
 "nbformat": 4,
 "nbformat_minor": 2
}
