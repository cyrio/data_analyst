{
 "cells": [
  {
   "cell_type": "markdown",
   "metadata": {},
   "source": [
    "# Exemple Unitest dans Jupyter"
   ]
  },
  {
   "cell_type": "code",
   "execution_count": 1,
   "metadata": {},
   "outputs": [],
   "source": [
    "def add (a,b):\n",
    "    return a+b"
   ]
  },
  {
   "cell_type": "code",
   "execution_count": 2,
   "metadata": {},
   "outputs": [
    {
     "name": "stderr",
     "output_type": "stream",
     "text": [
      "..F\n",
      "======================================================================\n",
      "FAIL: test_thing3 (__main__.TestThing)\n",
      "----------------------------------------------------------------------\n",
      "Traceback (most recent call last):\n",
      "  File \"<ipython-input-2-3391c3d18461>\", line 9, in test_thing3\n",
      "    self.assertEqual(add(6,4),11) #Fail\n",
      "AssertionError: 10 != 11\n",
      "\n",
      "----------------------------------------------------------------------\n",
      "Ran 3 tests in 0.010s\n",
      "\n",
      "FAILED (failures=1)\n"
     ]
    }
   ],
   "source": [
    "import unittest\n",
    "\n",
    "class TestThing(unittest.TestCase):\n",
    "    def test_thing1(self):\n",
    "        self.assertEqual(add(1,2),3)\n",
    "    def test_thing2(self):\n",
    "        self.assertTrue(add(2,2)==4)\n",
    "    def test_thing3(self):\n",
    "        self.assertEqual(add(6,4),11) #Fail\n",
    "\n",
    "resultat = unittest.main(argv=[''],exit=False)\n"
   ]
  },
  {
   "cell_type": "markdown",
   "metadata": {},
   "source": [
    "## Quels sont les types de tests possibles"
   ]
  },
  {
   "cell_type": "code",
   "execution_count": 3,
   "metadata": {},
   "outputs": [
    {
     "data": {
      "text/plain": [
       "['__call__',\n",
       " '__class__',\n",
       " '__delattr__',\n",
       " '__dict__',\n",
       " '__dir__',\n",
       " '__doc__',\n",
       " '__eq__',\n",
       " '__format__',\n",
       " '__ge__',\n",
       " '__getattribute__',\n",
       " '__gt__',\n",
       " '__hash__',\n",
       " '__init__',\n",
       " '__init_subclass__',\n",
       " '__le__',\n",
       " '__lt__',\n",
       " '__module__',\n",
       " '__ne__',\n",
       " '__new__',\n",
       " '__reduce__',\n",
       " '__reduce_ex__',\n",
       " '__repr__',\n",
       " '__setattr__',\n",
       " '__sizeof__',\n",
       " '__str__',\n",
       " '__subclasshook__',\n",
       " '__weakref__',\n",
       " '_addExpectedFailure',\n",
       " '_addSkip',\n",
       " '_addUnexpectedSuccess',\n",
       " '_baseAssertEqual',\n",
       " '_classSetupFailed',\n",
       " '_deprecate',\n",
       " '_diffThreshold',\n",
       " '_feedErrorsToResult',\n",
       " '_formatMessage',\n",
       " '_getAssertEqualityFunc',\n",
       " '_truncateMessage',\n",
       " 'addCleanup',\n",
       " 'addTypeEqualityFunc',\n",
       " 'assertAlmostEqual',\n",
       " 'assertAlmostEquals',\n",
       " 'assertCountEqual',\n",
       " 'assertDictContainsSubset',\n",
       " 'assertDictEqual',\n",
       " 'assertEqual',\n",
       " 'assertEquals',\n",
       " 'assertFalse',\n",
       " 'assertGreater',\n",
       " 'assertGreaterEqual',\n",
       " 'assertIn',\n",
       " 'assertIs',\n",
       " 'assertIsInstance',\n",
       " 'assertIsNone',\n",
       " 'assertIsNot',\n",
       " 'assertIsNotNone',\n",
       " 'assertLess',\n",
       " 'assertLessEqual',\n",
       " 'assertListEqual',\n",
       " 'assertLogs',\n",
       " 'assertMultiLineEqual',\n",
       " 'assertNotAlmostEqual',\n",
       " 'assertNotAlmostEquals',\n",
       " 'assertNotEqual',\n",
       " 'assertNotEquals',\n",
       " 'assertNotIn',\n",
       " 'assertNotIsInstance',\n",
       " 'assertNotRegex',\n",
       " 'assertNotRegexpMatches',\n",
       " 'assertRaises',\n",
       " 'assertRaisesRegex',\n",
       " 'assertRaisesRegexp',\n",
       " 'assertRegex',\n",
       " 'assertRegexpMatches',\n",
       " 'assertSequenceEqual',\n",
       " 'assertSetEqual',\n",
       " 'assertTrue',\n",
       " 'assertTupleEqual',\n",
       " 'assertWarns',\n",
       " 'assertWarnsRegex',\n",
       " 'assert_',\n",
       " 'countTestCases',\n",
       " 'debug',\n",
       " 'defaultTestResult',\n",
       " 'doCleanups',\n",
       " 'fail',\n",
       " 'failIf',\n",
       " 'failIfAlmostEqual',\n",
       " 'failIfEqual',\n",
       " 'failUnless',\n",
       " 'failUnlessAlmostEqual',\n",
       " 'failUnlessEqual',\n",
       " 'failUnlessRaises',\n",
       " 'failureException',\n",
       " 'id',\n",
       " 'longMessage',\n",
       " 'maxDiff',\n",
       " 'run',\n",
       " 'setUp',\n",
       " 'setUpClass',\n",
       " 'shortDescription',\n",
       " 'skipTest',\n",
       " 'subTest',\n",
       " 'tearDown',\n",
       " 'tearDownClass']"
      ]
     },
     "execution_count": 3,
     "metadata": {},
     "output_type": "execute_result"
    }
   ],
   "source": [
    "dir(unittest.TestCase)"
   ]
  },
  {
   "cell_type": "markdown",
   "metadata": {},
   "source": [
    "## Gérer des scénarii de test"
   ]
  },
  {
   "cell_type": "code",
   "execution_count": 4,
   "metadata": {},
   "outputs": [
    {
     "name": "stderr",
     "output_type": "stream",
     "text": [
      "..\n",
      "----------------------------------------------------------------------\n",
      "Ran 2 tests in 0.005s\n",
      "\n",
      "OK\n"
     ]
    }
   ],
   "source": [
    "def suite():\n",
    "    test_suite=unittest.TestSuite()\n",
    "    # Inversion de l'odre de test et suppression du test KO\n",
    "    test_suite.addTest(TestThing('test_thing2'))\n",
    "    test_suite.addTest(TestThing('test_thing1'))\n",
    "    return test_suite\n",
    "\n",
    "\n",
    "runner = unittest.TextTestRunner()\n",
    "resultat = runner.run(suite())"
   ]
  },
  {
   "cell_type": "markdown",
   "metadata": {},
   "source": [
    "# Exemple de test avec doctest"
   ]
  },
  {
   "cell_type": "code",
   "execution_count": 5,
   "metadata": {},
   "outputs": [],
   "source": [
    "def mul(a,b):\n",
    "    \"\"\"\n",
    "    this is a unit test\n",
    "    note : remember to leave space at the beginning of the question line\n",
    "    >>> mul(3,7)\n",
    "    21\n",
    "    >>> mul('bla',3)\n",
    "    'blablabla'\n",
    "    \"\"\"\n",
    "    return a*b"
   ]
  },
  {
   "cell_type": "code",
   "execution_count": 7,
   "metadata": {},
   "outputs": [
    {
     "data": {
      "text/plain": [
       "TestResults(failed=0, attempted=2)"
      ]
     },
     "execution_count": 7,
     "metadata": {},
     "output_type": "execute_result"
    }
   ],
   "source": [
    "import doctest\n",
    "doctest.testmod()   #(verbose=True)\n"
   ]
  },
  {
   "cell_type": "code",
   "execution_count": null,
   "metadata": {},
   "outputs": [],
   "source": []
  }
 ],
 "metadata": {
  "kernelspec": {
   "display_name": "Python 3 (ipykernel)",
   "language": "python",
   "name": "python3"
  },
  "language_info": {
   "codemirror_mode": {
    "name": "ipython",
    "version": 3
   },
   "file_extension": ".py",
   "mimetype": "text/x-python",
   "name": "python",
   "nbconvert_exporter": "python",
   "pygments_lexer": "ipython3",
   "version": "3.9.13"
  }
 },
 "nbformat": 4,
 "nbformat_minor": 2
}
