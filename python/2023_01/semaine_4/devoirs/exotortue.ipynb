{
 "cells": [
  {
   "cell_type": "markdown",
   "id": "c2da40f8",
   "metadata": {},
   "source": [
    "# Jouons avec la tortue !"
   ]
  },
  {
   "cell_type": "code",
   "execution_count": 1,
   "id": "9a1a491f",
   "metadata": {},
   "outputs": [],
   "source": [
    "from turtle import *"
   ]
  },
  {
   "cell_type": "code",
   "execution_count": 3,
   "id": "30f3cfc1",
   "metadata": {},
   "outputs": [],
   "source": [
    "showturtle()"
   ]
  },
  {
   "cell_type": "code",
   "execution_count": 4,
   "id": "0a85b6d0",
   "metadata": {},
   "outputs": [],
   "source": [
    "shape(\"turtle\")"
   ]
  },
  {
   "cell_type": "code",
   "execution_count": 5,
   "id": "2a990848",
   "metadata": {},
   "outputs": [],
   "source": [
    "forward(100)"
   ]
  },
  {
   "cell_type": "code",
   "execution_count": 6,
   "id": "bbc86084",
   "metadata": {},
   "outputs": [],
   "source": [
    "left(90)"
   ]
  },
  {
   "cell_type": "code",
   "execution_count": 7,
   "id": "7744162c",
   "metadata": {},
   "outputs": [],
   "source": [
    "fd(100)"
   ]
  },
  {
   "cell_type": "code",
   "execution_count": 8,
   "id": "d0bdb305",
   "metadata": {},
   "outputs": [],
   "source": [
    "right(90)"
   ]
  },
  {
   "cell_type": "code",
   "execution_count": 9,
   "id": "b4c946b0",
   "metadata": {},
   "outputs": [],
   "source": [
    "fd(50)"
   ]
  },
  {
   "cell_type": "code",
   "execution_count": 10,
   "id": "cb764886",
   "metadata": {},
   "outputs": [],
   "source": [
    "home()"
   ]
  },
  {
   "cell_type": "code",
   "execution_count": 15,
   "id": "c9d8c379",
   "metadata": {},
   "outputs": [],
   "source": [
    "clear()"
   ]
  },
  {
   "cell_type": "code",
   "execution_count": 16,
   "id": "189d8827",
   "metadata": {},
   "outputs": [],
   "source": [
    "# Dessiner un carré de côté 100\n",
    "fd(100)\n",
    "left(90)\n",
    "fd(100)\n",
    "left(90)\n",
    "fd(100)\n",
    "left(90)\n",
    "fd(100)"
   ]
  },
  {
   "cell_type": "code",
   "execution_count": 17,
   "id": "9ce30de1",
   "metadata": {},
   "outputs": [],
   "source": [
    "clear()\n",
    "for i in range(4):\n",
    "    fd(100)\n",
    "    left(90)"
   ]
  },
  {
   "cell_type": "code",
   "execution_count": 19,
   "id": "b5156094",
   "metadata": {},
   "outputs": [],
   "source": [
    "clear()\n",
    "i = 0  #initialisation\n",
    "while i<4:\n",
    "    fd(100)\n",
    "    left(90)\n",
    "    i += 1"
   ]
  },
  {
   "cell_type": "code",
   "execution_count": 20,
   "id": "66409e1b",
   "metadata": {},
   "outputs": [],
   "source": [
    "def carre(cote):\n",
    "    for i in range(4):\n",
    "        fd(cote)\n",
    "        left(90)"
   ]
  },
  {
   "cell_type": "code",
   "execution_count": 21,
   "id": "2dcae24f",
   "metadata": {},
   "outputs": [],
   "source": [
    "home();clear(); carre(175)\n"
   ]
  },
  {
   "cell_type": "code",
   "execution_count": 22,
   "id": "6de402f5",
   "metadata": {},
   "outputs": [],
   "source": [
    "for c in range(50,200,25):\n",
    "    carre(c)"
   ]
  },
  {
   "cell_type": "code",
   "execution_count": 28,
   "id": "bfc41ef8",
   "metadata": {},
   "outputs": [],
   "source": [
    "home();clear()\n"
   ]
  },
  {
   "cell_type": "code",
   "execution_count": 31,
   "id": "cfc11740",
   "metadata": {},
   "outputs": [],
   "source": [
    "def triangle(cote):\n",
    "    for i in range(3):\n",
    "        fd(cote)\n",
    "        left(120)"
   ]
  },
  {
   "cell_type": "code",
   "execution_count": 38,
   "id": "0cd77bed",
   "metadata": {},
   "outputs": [],
   "source": [
    "home();clear();triangle(100);carre(100);pentagone(100);polygone(6,50)"
   ]
  },
  {
   "cell_type": "code",
   "execution_count": 33,
   "id": "3f4ccb8f",
   "metadata": {},
   "outputs": [],
   "source": [
    "def pentagone(cote):\n",
    "    for i in range(5):\n",
    "        fd(cote)\n",
    "        left(360/5)"
   ]
  },
  {
   "cell_type": "code",
   "execution_count": 1,
   "id": "7b1177f4",
   "metadata": {},
   "outputs": [],
   "source": [
    "def polygone(n, cote):\n",
    "    for i in range(n):\n",
    "        fd(cote)\n",
    "        left(360/n)"
   ]
  },
  {
   "cell_type": "code",
   "execution_count": 40,
   "id": "254dcfee",
   "metadata": {},
   "outputs": [],
   "source": [
    "home();clear();polygone(360,1)"
   ]
  },
  {
   "cell_type": "code",
   "execution_count": null,
   "id": "98e7b5fc",
   "metadata": {},
   "outputs": [],
   "source": []
  }
 ],
 "metadata": {
  "kernelspec": {
   "display_name": "Python 3 (ipykernel)",
   "language": "python",
   "name": "python3"
  },
  "language_info": {
   "codemirror_mode": {
    "name": "ipython",
    "version": 3
   },
   "file_extension": ".py",
   "mimetype": "text/x-python",
   "name": "python",
   "nbconvert_exporter": "python",
   "pygments_lexer": "ipython3",
   "version": "3.9.13"
  }
 },
 "nbformat": 4,
 "nbformat_minor": 5
}
