{
 "cells": [
  {
   "cell_type": "markdown",
   "metadata": {},
   "source": [
    "# Le décorateur @property\n",
    "property() est une fonction interne à Python qui permet de créer et retourner un objet \"property\". \n",
    "\n",
    "`property(fget=None, fset=None, fdel=None, doc=None)`\n",
    "\n",
    "- fget est une fonction pour récupérer la valeur d'un attribut\n",
    "- fset est une fonction pour affecter une valeur à un attribut\n",
    "- fdel est une fonction pour supprimer un attribut\n",
    "- doc est une string (ex: un commentaire)\n",
    "\n",
    "Ces arguments fonctionnels sont bien entendu optionnels\n",
    "\n",
    "`>>> property()\n",
    "<property object at 0x0000000003239B38>`\n",
    "\n",
    "Vous pouvez développer les associations de fonctions en une fois :\n",
    "\n",
    "`speed = property(get_speed,set_speed)`\n",
    "\n",
    "ou en plusieurs étapes :\n",
    "\n",
    "`speed = property()\n",
    "speed = speed.getter(get_speed)\n",
    "speed = speed.setter(set_speed)`"
   ]
  },
  {
   "cell_type": "markdown",
   "metadata": {},
   "source": [
    "### Mise en oeuvre dans une classe de méthodes pour affecter ou récupérer la valeur d'un attribut :"
   ]
  },
  {
   "cell_type": "code",
   "execution_count": 21,
   "metadata": {},
   "outputs": [
    {
     "name": "stdout",
     "output_type": "stream",
     "text": [
      "Setting speed value...\n",
      "Getting speed value...\n",
      "90\n",
      "Setting speed value...\n",
      "Getting speed value...\n",
      "130\n"
     ]
    }
   ],
   "source": [
    "class Speed:\n",
    "    def __init__(self, speed=0):\n",
    "        self.set_speed(speed)\n",
    "\n",
    "    # getter\n",
    "    def get_speed(self):\n",
    "        print(\"Getting speed value...\")\n",
    "        return self._speed\n",
    "\n",
    "    # setter\n",
    "    def set_speed(self, value):\n",
    "        print(\"Setting speed value...\")\n",
    "        if value < 0:\n",
    "            raise ValueError(\"Hey you are moving back\")\n",
    "        self._speed = value\n",
    "\n",
    "    # creating a property object\n",
    "    speed = property(get_speed, set_speed)\n",
    "\n",
    "\n",
    "speed_car = Speed(90)\n",
    "print(speed_car.speed)\n",
    "\n",
    "speed_car.speed = 130\n",
    "print(speed_car.speed)"
   ]
  },
  {
   "cell_type": "markdown",
   "metadata": {},
   "source": [
    "On peut constater la création de l'attribut privé uniquement pour l'instance :"
   ]
  },
  {
   "cell_type": "code",
   "execution_count": 3,
   "metadata": {},
   "outputs": [
    {
     "data": {
      "text/plain": [
       "['__class__',\n",
       " '__delattr__',\n",
       " '__dict__',\n",
       " '__dir__',\n",
       " '__doc__',\n",
       " '__eq__',\n",
       " '__format__',\n",
       " '__ge__',\n",
       " '__getattribute__',\n",
       " '__gt__',\n",
       " '__hash__',\n",
       " '__init__',\n",
       " '__init_subclass__',\n",
       " '__le__',\n",
       " '__lt__',\n",
       " '__module__',\n",
       " '__ne__',\n",
       " '__new__',\n",
       " '__reduce__',\n",
       " '__reduce_ex__',\n",
       " '__repr__',\n",
       " '__setattr__',\n",
       " '__sizeof__',\n",
       " '__str__',\n",
       " '__subclasshook__',\n",
       " '__weakref__',\n",
       " 'speed']"
      ]
     },
     "execution_count": 3,
     "metadata": {},
     "output_type": "execute_result"
    }
   ],
   "source": [
    "dir(Speed)"
   ]
  },
  {
   "cell_type": "code",
   "execution_count": 25,
   "metadata": {},
   "outputs": [
    {
     "data": {
      "text/plain": [
       "['__class__',\n",
       " '__delattr__',\n",
       " '__dict__',\n",
       " '__dir__',\n",
       " '__doc__',\n",
       " '__eq__',\n",
       " '__format__',\n",
       " '__ge__',\n",
       " '__getattribute__',\n",
       " '__gt__',\n",
       " '__hash__',\n",
       " '__init__',\n",
       " '__init_subclass__',\n",
       " '__le__',\n",
       " '__lt__',\n",
       " '__module__',\n",
       " '__ne__',\n",
       " '__new__',\n",
       " '__reduce__',\n",
       " '__reduce_ex__',\n",
       " '__repr__',\n",
       " '__setattr__',\n",
       " '__sizeof__',\n",
       " '__str__',\n",
       " '__subclasshook__',\n",
       " '__weakref__',\n",
       " '_speed',\n",
       " 'get_speed',\n",
       " 'set_speed',\n",
       " 'speed']"
      ]
     },
     "execution_count": 25,
     "metadata": {},
     "output_type": "execute_result"
    }
   ],
   "source": [
    "dir(speed_car)"
   ]
  },
  {
   "cell_type": "markdown",
   "metadata": {},
   "source": [
    "### Mise en oeuvre via un décorateur :"
   ]
  },
  {
   "cell_type": "code",
   "execution_count": 11,
   "metadata": {},
   "outputs": [
    {
     "name": "stdout",
     "output_type": "stream",
     "text": [
      "Setting speed value...\n",
      "Getting speed value...\n",
      "90\n",
      "Setting speed value...\n",
      "Getting speed value...\n",
      "130\n"
     ]
    }
   ],
   "source": [
    "# Using @property decorator\n",
    "class Speed:\n",
    "    def __init__(self, speed=0):\n",
    "        self.speed = speed\n",
    "\n",
    "    @property\n",
    "    def speed(self):\n",
    "        print(\"Getting speed value...\")\n",
    "        return self._speed\n",
    "\n",
    "    @speed.setter\n",
    "    def speed(self, value):\n",
    "        print(\"Setting speed value...\")\n",
    "        if value < 0:\n",
    "            raise ValueError(\"Hey you are moving back\")\n",
    "        self._speed = value\n",
    "\n",
    "\n",
    "speed_car = Speed(90)\n",
    "print(speed_car.speed)\n",
    "\n",
    "speed_car.speed = 130\n",
    "print(speed_car.speed)"
   ]
  },
  {
   "cell_type": "raw",
   "metadata": {},
   "source": []
  },
  {
   "cell_type": "code",
   "execution_count": 12,
   "metadata": {},
   "outputs": [
    {
     "name": "stdout",
     "output_type": "stream",
     "text": [
      "Setting speed value...\n"
     ]
    },
    {
     "ename": "ValueError",
     "evalue": "Hey you are moving back",
     "output_type": "error",
     "traceback": [
      "\u001b[1;31m---------------------------------------------------------------------------\u001b[0m",
      "\u001b[1;31mValueError\u001b[0m                                Traceback (most recent call last)",
      "\u001b[1;32m<ipython-input-12-237b2ccabd82>\u001b[0m in \u001b[0;36m<module>\u001b[1;34m\u001b[0m\n\u001b[1;32m----> 1\u001b[1;33m \u001b[0mspeed_reverse\u001b[0m \u001b[1;33m=\u001b[0m \u001b[0mSpeed\u001b[0m\u001b[1;33m(\u001b[0m\u001b[1;33m-\u001b[0m\u001b[1;36m50\u001b[0m\u001b[1;33m)\u001b[0m\u001b[1;33m\u001b[0m\u001b[1;33m\u001b[0m\u001b[0m\n\u001b[0m",
      "\u001b[1;32m<ipython-input-11-bb6758378f0f>\u001b[0m in \u001b[0;36m__init__\u001b[1;34m(self, speed)\u001b[0m\n\u001b[0;32m      2\u001b[0m \u001b[1;32mclass\u001b[0m \u001b[0mSpeed\u001b[0m\u001b[1;33m:\u001b[0m\u001b[1;33m\u001b[0m\u001b[1;33m\u001b[0m\u001b[0m\n\u001b[0;32m      3\u001b[0m     \u001b[1;32mdef\u001b[0m \u001b[0m__init__\u001b[0m\u001b[1;33m(\u001b[0m\u001b[0mself\u001b[0m\u001b[1;33m,\u001b[0m \u001b[0mspeed\u001b[0m\u001b[1;33m=\u001b[0m\u001b[1;36m0\u001b[0m\u001b[1;33m)\u001b[0m\u001b[1;33m:\u001b[0m\u001b[1;33m\u001b[0m\u001b[1;33m\u001b[0m\u001b[0m\n\u001b[1;32m----> 4\u001b[1;33m         \u001b[0mself\u001b[0m\u001b[1;33m.\u001b[0m\u001b[0mspeed\u001b[0m \u001b[1;33m=\u001b[0m \u001b[0mspeed\u001b[0m\u001b[1;33m\u001b[0m\u001b[1;33m\u001b[0m\u001b[0m\n\u001b[0m\u001b[0;32m      5\u001b[0m \u001b[1;33m\u001b[0m\u001b[0m\n\u001b[0;32m      6\u001b[0m     \u001b[1;33m@\u001b[0m\u001b[0mproperty\u001b[0m\u001b[1;33m\u001b[0m\u001b[1;33m\u001b[0m\u001b[0m\n",
      "\u001b[1;32m<ipython-input-11-bb6758378f0f>\u001b[0m in \u001b[0;36mspeed\u001b[1;34m(self, value)\u001b[0m\n\u001b[0;32m     13\u001b[0m         \u001b[0mprint\u001b[0m\u001b[1;33m(\u001b[0m\u001b[1;34m\"Setting speed value...\"\u001b[0m\u001b[1;33m)\u001b[0m\u001b[1;33m\u001b[0m\u001b[1;33m\u001b[0m\u001b[0m\n\u001b[0;32m     14\u001b[0m         \u001b[1;32mif\u001b[0m \u001b[0mvalue\u001b[0m \u001b[1;33m<\u001b[0m \u001b[1;36m0\u001b[0m\u001b[1;33m:\u001b[0m\u001b[1;33m\u001b[0m\u001b[1;33m\u001b[0m\u001b[0m\n\u001b[1;32m---> 15\u001b[1;33m             \u001b[1;32mraise\u001b[0m \u001b[0mValueError\u001b[0m\u001b[1;33m(\u001b[0m\u001b[1;34m\"Hey you are moving back\"\u001b[0m\u001b[1;33m)\u001b[0m\u001b[1;33m\u001b[0m\u001b[1;33m\u001b[0m\u001b[0m\n\u001b[0m\u001b[0;32m     16\u001b[0m         \u001b[0mself\u001b[0m\u001b[1;33m.\u001b[0m\u001b[0m_speed\u001b[0m \u001b[1;33m=\u001b[0m \u001b[0mvalue\u001b[0m\u001b[1;33m\u001b[0m\u001b[1;33m\u001b[0m\u001b[0m\n\u001b[0;32m     17\u001b[0m \u001b[1;33m\u001b[0m\u001b[0m\n",
      "\u001b[1;31mValueError\u001b[0m: Hey you are moving back"
     ]
    }
   ],
   "source": [
    "speed_reverse = Speed(-50)"
   ]
  },
  {
   "cell_type": "code",
   "execution_count": null,
   "metadata": {},
   "outputs": [],
   "source": []
  },
  {
   "cell_type": "code",
   "execution_count": null,
   "metadata": {},
   "outputs": [],
   "source": []
  }
 ],
 "metadata": {
  "kernelspec": {
   "display_name": "Python 3 (ipykernel)",
   "language": "python",
   "name": "python3"
  },
  "language_info": {
   "codemirror_mode": {
    "name": "ipython",
    "version": 3
   },
   "file_extension": ".py",
   "mimetype": "text/x-python",
   "name": "python",
   "nbconvert_exporter": "python",
   "pygments_lexer": "ipython3",
   "version": "3.9.13"
  }
 },
 "nbformat": 4,
 "nbformat_minor": 2
}
