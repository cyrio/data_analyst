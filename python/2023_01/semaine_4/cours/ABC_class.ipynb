{
 "cells": [
  {
   "cell_type": "code",
   "execution_count": 12,
   "metadata": {},
   "outputs": [
    {
     "name": "stdout",
     "output_type": "stream",
     "text": [
      "As de Coeur\n",
      "Carte(\"Coeur\",\"As\")\n",
      "As de Coeur As de Coeur True\n",
      "As de Coeur As de Coeur False\n"
     ]
    }
   ],
   "source": [
    "class Carte:\n",
    "    def __init__(self, c, v):\n",
    "        self.couleur = c\n",
    "        self.valeur = v\n",
    "    def __str__(self):\n",
    "        return f'{self.valeur} de {self.couleur}'\n",
    "    def __repr__(self):\n",
    "        return f'{self.__class__.__name__}(\"{self.couleur}\",\"{self.valeur}\")'\n",
    "    \n",
    "maCarte= Carte('Coeur','As')\n",
    "print(maCarte)\n",
    "print(repr(maCarte))\n",
    "maCarte2 = maCarte\n",
    "print(maCarte, maCarte2, maCarte2 is maCarte)\n",
    "maCarte3 = eval(repr(maCarte))\n",
    "print(maCarte, maCarte3, maCarte3 is maCarte)"
   ]
  },
  {
   "cell_type": "code",
   "execution_count": 7,
   "metadata": {},
   "outputs": [
    {
     "name": "stdout",
     "output_type": "stream",
     "text": [
      "[Carte(\"Pique\",\"As\"), Carte(\"Pique\",\"2\"), Carte(\"Pique\",\"3\"), Carte(\"Pique\",\"4\"), Carte(\"Pique\",\"5\"), Carte(\"Pique\",\"6\"), Carte(\"Pique\",\"7\"), Carte(\"Pique\",\"8\"), Carte(\"Pique\",\"9\"), Carte(\"Pique\",\"10\"), Carte(\"Pique\",\"Valet\"), Carte(\"Pique\",\"Dame\"), Carte(\"Pique\",\"Roi\"), Carte(\"Coeur\",\"As\"), Carte(\"Coeur\",\"2\"), Carte(\"Coeur\",\"3\"), Carte(\"Coeur\",\"4\"), Carte(\"Coeur\",\"5\"), Carte(\"Coeur\",\"6\"), Carte(\"Coeur\",\"7\"), Carte(\"Coeur\",\"8\"), Carte(\"Coeur\",\"9\"), Carte(\"Coeur\",\"10\"), Carte(\"Coeur\",\"Valet\"), Carte(\"Coeur\",\"Dame\"), Carte(\"Coeur\",\"Roi\"), Carte(\"Carreau\",\"As\"), Carte(\"Carreau\",\"2\"), Carte(\"Carreau\",\"3\"), Carte(\"Carreau\",\"4\"), Carte(\"Carreau\",\"5\"), Carte(\"Carreau\",\"6\"), Carte(\"Carreau\",\"7\"), Carte(\"Carreau\",\"8\"), Carte(\"Carreau\",\"9\"), Carte(\"Carreau\",\"10\"), Carte(\"Carreau\",\"Valet\"), Carte(\"Carreau\",\"Dame\"), Carte(\"Carreau\",\"Roi\"), Carte(\"Trèfle\",\"As\"), Carte(\"Trèfle\",\"2\"), Carte(\"Trèfle\",\"3\"), Carte(\"Trèfle\",\"4\"), Carte(\"Trèfle\",\"5\"), Carte(\"Trèfle\",\"6\"), Carte(\"Trèfle\",\"7\"), Carte(\"Trèfle\",\"8\"), Carte(\"Trèfle\",\"9\"), Carte(\"Trèfle\",\"10\"), Carte(\"Trèfle\",\"Valet\"), Carte(\"Trèfle\",\"Dame\"), Carte(\"Trèfle\",\"Roi\")]\n",
      "1\t9 de Coeur\n",
      "2\t7 de Trèfle\n",
      "3\t10 de Trèfle\n",
      "4\t3 de Pique\n",
      "5\tValet de Trèfle\n",
      "6\t8 de Coeur\n",
      "7\tRoi de Coeur\n",
      "8\t7 de Carreau\n",
      "9\t2 de Carreau\n",
      "10\tAs de Coeur\n",
      "11\t10 de Carreau\n",
      "12\t6 de Pique\n",
      "13\t9 de Pique\n",
      "14\t2 de Coeur\n",
      "15\t7 de Coeur\n",
      "16\t4 de Carreau\n",
      "17\tRoi de Pique\n",
      "18\t3 de Carreau\n",
      "19\tAs de Trèfle\n",
      "20\tDame de Trèfle\n",
      "21\tDame de Pique\n",
      "22\t8 de Trèfle\n",
      "23\t5 de Trèfle\n",
      "24\t9 de Trèfle\n",
      "25\t4 de Pique\n",
      "26\tDame de Coeur\n",
      "27\t3 de Coeur\n",
      "28\tValet de Pique\n",
      "29\t7 de Pique\n",
      "30\t6 de Coeur\n",
      "31\t4 de Coeur\n",
      "32\t3 de Trèfle\n",
      "33\t2 de Pique\n",
      "34\tAs de Pique\n",
      "35\tDame de Carreau\n",
      "36\tRoi de Trèfle\n",
      "37\t10 de Pique\n",
      "38\t4 de Trèfle\n",
      "39\tAs de Carreau\n",
      "40\t8 de Carreau\n",
      "41\t8 de Pique\n",
      "42\tRoi de Carreau\n",
      "43\t10 de Coeur\n",
      "44\t2 de Trèfle\n",
      "45\tValet de Carreau\n",
      "46\t5 de Pique\n",
      "47\t5 de Carreau\n",
      "48\t5 de Coeur\n",
      "49\tValet de Coeur\n",
      "50\t6 de Trèfle\n",
      "51\t6 de Carreau\n",
      "52\t9 de Carreau\n"
     ]
    }
   ],
   "source": [
    "couleurs = [\"Pique\",\"Coeur\",\"Carreau\",\"Trèfle\"]\n",
    "valeurs = [\"As\",\"2\",\"3\",\"4\",\"5\",\"6\",\"7\",\"8\",\"9\",\"10\",\"Valet\",\"Dame\",\"Roi\"]\n",
    "\n",
    "import random\n",
    "unpaquetdecartes = []\n",
    "for unecouleur in couleurs:\n",
    "    for unevaleur in valeurs:\n",
    "        unpaquetdecartes.append(Carte(unecouleur,unevaleur))\n",
    "print(unpaquetdecartes)\n",
    "random.shuffle(unpaquetdecartes)\n",
    "numcarte = 0\n",
    "for unecarte in unpaquetdecartes :\n",
    "    numcarte +=1\n",
    "    print(numcarte, unecarte, sep='\\t')\n",
    "    "
   ]
  },
  {
   "cell_type": "code",
   "execution_count": 39,
   "metadata": {},
   "outputs": [
    {
     "name": "stdout",
     "output_type": "stream",
     "text": [
      "1\n",
      "1\n",
      "2\n",
      "6\n",
      "24\n",
      "120\n",
      "720\n"
     ]
    }
   ],
   "source": [
    "#Générateur de factoriel\n",
    "def fac_g():\n",
    "    a=1\n",
    "    b=0\n",
    "    yield a\n",
    "    while True:\n",
    "        b+=1\n",
    "        a*=b\n",
    "        yield a\n",
    "\n",
    "mongen = fac_g()\n",
    "for val in range(7):\n",
    "    print(next(mongen))"
   ]
  },
  {
   "cell_type": "code",
   "execution_count": 13,
   "metadata": {},
   "outputs": [
    {
     "name": "stdout",
     "output_type": "stream",
     "text": [
      "True\n"
     ]
    }
   ],
   "source": [
    "a= 234\n",
    "b=234\n",
    "print(a is b)"
   ]
  },
  {
   "cell_type": "code",
   "execution_count": 14,
   "metadata": {},
   "outputs": [
    {
     "name": "stdout",
     "output_type": "stream",
     "text": [
      "False\n"
     ]
    }
   ],
   "source": [
    "c= 257\n",
    "d = 257\n",
    "print(c is d)"
   ]
  },
  {
   "cell_type": "code",
   "execution_count": null,
   "metadata": {},
   "outputs": [],
   "source": []
  }
 ],
 "metadata": {
  "kernelspec": {
   "display_name": "Python 3 (ipykernel)",
   "language": "python",
   "name": "python3"
  },
  "language_info": {
   "codemirror_mode": {
    "name": "ipython",
    "version": 3
   },
   "file_extension": ".py",
   "mimetype": "text/x-python",
   "name": "python",
   "nbconvert_exporter": "python",
   "pygments_lexer": "ipython3",
   "version": "3.9.13"
  }
 },
 "nbformat": 4,
 "nbformat_minor": 2
}
