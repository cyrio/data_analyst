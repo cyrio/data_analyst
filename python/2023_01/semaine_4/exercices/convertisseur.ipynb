{
 "cells": [
  {
   "cell_type": "code",
   "execution_count": 6,
   "id": "a589ece4",
   "metadata": {},
   "outputs": [],
   "source": [
    "from convertisseur import Convertisseur"
   ]
  },
  {
   "cell_type": "code",
   "execution_count": 7,
   "id": "d7174bc6",
   "metadata": {},
   "outputs": [
    {
     "name": "stdout",
     "output_type": "stream",
     "text": [
      "Convertisseur de devise EUR vers USD au taux de 1.12\n",
      "Convertisseur(\"EUR\",\"USD\",1.12)\n",
      "112.00000000000001\n"
     ]
    }
   ],
   "source": [
    "monconvertisseur = Convertisseur(\"EUR\", \"USD\", 1.12)\n",
    "print(monconvertisseur)\n",
    "print(repr(monconvertisseur))\n",
    "print(monconvertisseur.convertir(100))"
   ]
  },
  {
   "cell_type": "code",
   "execution_count": null,
   "id": "62674e82",
   "metadata": {},
   "outputs": [],
   "source": [
    "print(dir(Convertisseur))"
   ]
  }
 ],
 "metadata": {
  "kernelspec": {
   "display_name": "Python 3 (ipykernel)",
   "language": "python",
   "name": "python3"
  },
  "language_info": {
   "codemirror_mode": {
    "name": "ipython",
    "version": 3
   },
   "file_extension": ".py",
   "mimetype": "text/x-python",
   "name": "python",
   "nbconvert_exporter": "python",
   "pygments_lexer": "ipython3",
   "version": "3.9.13"
  }
 },
 "nbformat": 4,
 "nbformat_minor": 5
}
