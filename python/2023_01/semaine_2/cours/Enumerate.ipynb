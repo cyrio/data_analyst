{
 "cells": [
  {
   "cell_type": "code",
   "execution_count": 8,
   "metadata": {},
   "outputs": [],
   "source": [
    "neveux = ['Riri', 'Fifi', 'Loulou']\n",
    "nains = ['Prof', 'Timide', 'Atchoum', 'Dormeur', 'Joyeux', 'Grincheux', 'Simplet']"
   ]
  },
  {
   "cell_type": "code",
   "execution_count": 9,
   "metadata": {},
   "outputs": [
    {
     "data": {
      "text/plain": [
       "<enumerate at 0xc72260>"
      ]
     },
     "execution_count": 9,
     "metadata": {},
     "output_type": "execute_result"
    }
   ],
   "source": [
    "enumerate(nains)"
   ]
  },
  {
   "cell_type": "code",
   "execution_count": 10,
   "metadata": {},
   "outputs": [
    {
     "data": {
      "text/plain": [
       "[(0, 'Prof'),\n",
       " (1, 'Timide'),\n",
       " (2, 'Atchoum'),\n",
       " (3, 'Dormeur'),\n",
       " (4, 'Joyeux'),\n",
       " (5, 'Grincheux'),\n",
       " (6, 'Simplet')]"
      ]
     },
     "execution_count": 10,
     "metadata": {},
     "output_type": "execute_result"
    }
   ],
   "source": [
    "list(enumerate(nains))"
   ]
  },
  {
   "cell_type": "code",
   "execution_count": 11,
   "metadata": {},
   "outputs": [
    {
     "data": {
      "text/plain": [
       "{0: 'Prof',\n",
       " 1: 'Timide',\n",
       " 2: 'Atchoum',\n",
       " 3: 'Dormeur',\n",
       " 4: 'Joyeux',\n",
       " 5: 'Grincheux',\n",
       " 6: 'Simplet'}"
      ]
     },
     "execution_count": 11,
     "metadata": {},
     "output_type": "execute_result"
    }
   ],
   "source": [
    "dict(enumerate(nains))"
   ]
  },
  {
   "cell_type": "code",
   "execution_count": 12,
   "metadata": {},
   "outputs": [
    {
     "data": {
      "text/plain": [
       "[(1, 'Prof'),\n",
       " (2, 'Timide'),\n",
       " (3, 'Atchoum'),\n",
       " (4, 'Dormeur'),\n",
       " (5, 'Joyeux'),\n",
       " (6, 'Grincheux'),\n",
       " (7, 'Simplet')]"
      ]
     },
     "execution_count": 12,
     "metadata": {},
     "output_type": "execute_result"
    }
   ],
   "source": [
    "list(enumerate(nains,1))"
   ]
  },
  {
   "cell_type": "code",
   "execution_count": 13,
   "metadata": {},
   "outputs": [],
   "source": [
    "ensemble = set(nains)"
   ]
  },
  {
   "cell_type": "code",
   "execution_count": 14,
   "metadata": {},
   "outputs": [
    {
     "data": {
      "text/plain": [
       "{'Atchoum', 'Dormeur', 'Grincheux', 'Joyeux', 'Prof', 'Simplet', 'Timide'}"
      ]
     },
     "execution_count": 14,
     "metadata": {},
     "output_type": "execute_result"
    }
   ],
   "source": [
    "ensemble"
   ]
  },
  {
   "cell_type": "code",
   "execution_count": 15,
   "metadata": {},
   "outputs": [
    {
     "data": {
      "text/plain": [
       "[(0, 'Grincheux'),\n",
       " (1, 'Timide'),\n",
       " (2, 'Simplet'),\n",
       " (3, 'Prof'),\n",
       " (4, 'Dormeur'),\n",
       " (5, 'Atchoum'),\n",
       " (6, 'Joyeux')]"
      ]
     },
     "execution_count": 15,
     "metadata": {},
     "output_type": "execute_result"
    }
   ],
   "source": [
    "list(enumerate(ensemble))"
   ]
  },
  {
   "cell_type": "code",
   "execution_count": 16,
   "metadata": {},
   "outputs": [
    {
     "data": {
      "text/plain": [
       "{(0, 'Grincheux'),\n",
       " (1, 'Timide'),\n",
       " (2, 'Simplet'),\n",
       " (3, 'Prof'),\n",
       " (4, 'Dormeur'),\n",
       " (5, 'Atchoum'),\n",
       " (6, 'Joyeux')}"
      ]
     },
     "execution_count": 16,
     "metadata": {},
     "output_type": "execute_result"
    }
   ],
   "source": [
    "set(enumerate(ensemble))"
   ]
  },
  {
   "cell_type": "code",
   "execution_count": 17,
   "metadata": {},
   "outputs": [
    {
     "data": {
      "text/plain": [
       "{0: 'Grincheux',\n",
       " 1: 'Timide',\n",
       " 2: 'Simplet',\n",
       " 3: 'Prof',\n",
       " 4: 'Dormeur',\n",
       " 5: 'Atchoum',\n",
       " 6: 'Joyeux'}"
      ]
     },
     "execution_count": 17,
     "metadata": {},
     "output_type": "execute_result"
    }
   ],
   "source": [
    "dict(enumerate(ensemble))"
   ]
  },
  {
   "cell_type": "code",
   "execution_count": 22,
   "metadata": {},
   "outputs": [
    {
     "name": "stdout",
     "output_type": "stream",
     "text": [
      "{'0': 'GRINCHEUX', '1': 'TIMIDE', '4': 'SIMPLET', '9': 'PROF', '16': 'DORMEUR', '25': 'ATCHOUM', '36': 'JOYEUX'}\n"
     ]
    }
   ],
   "source": [
    "mondico = {}\n",
    "for i,v in enumerate(ensemble):\n",
    "    #print(i,v, sep=\"-\")\n",
    "    mondico[str(i*i)]=v.upper()\n",
    "    \n",
    "print(mondico)"
   ]
  },
  {
   "cell_type": "code",
   "execution_count": null,
   "metadata": {},
   "outputs": [],
   "source": []
  }
 ],
 "metadata": {
  "kernelspec": {
   "display_name": "Python 3 (ipykernel)",
   "language": "python",
   "name": "python3"
  },
  "language_info": {
   "codemirror_mode": {
    "name": "ipython",
    "version": 3
   },
   "file_extension": ".py",
   "mimetype": "text/x-python",
   "name": "python",
   "nbconvert_exporter": "python",
   "pygments_lexer": "ipython3",
   "version": "3.9.13"
  }
 },
 "nbformat": 4,
 "nbformat_minor": 2
}
