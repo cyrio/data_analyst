{
 "cells": [
  {
   "cell_type": "markdown",
   "id": "8dc0307b",
   "metadata": {},
   "source": [
    "# Del et None"
   ]
  },
  {
   "cell_type": "code",
   "execution_count": 8,
   "id": "cb4f8f32",
   "metadata": {},
   "outputs": [],
   "source": [
    "w = 1"
   ]
  },
  {
   "cell_type": "code",
   "execution_count": 9,
   "id": "0d9183fa",
   "metadata": {},
   "outputs": [
    {
     "data": {
      "text/plain": [
       "1"
      ]
     },
     "execution_count": 9,
     "metadata": {},
     "output_type": "execute_result"
    }
   ],
   "source": [
    "w"
   ]
  },
  {
   "cell_type": "code",
   "execution_count": 10,
   "id": "9f7b364f",
   "metadata": {},
   "outputs": [],
   "source": [
    "del w"
   ]
  },
  {
   "cell_type": "code",
   "execution_count": 11,
   "id": "04ef4be5",
   "metadata": {},
   "outputs": [
    {
     "ename": "NameError",
     "evalue": "name 'w' is not defined",
     "output_type": "error",
     "traceback": [
      "\u001b[0;31m---------------------------------------------------------------------------\u001b[0m",
      "\u001b[0;31mNameError\u001b[0m                                 Traceback (most recent call last)",
      "\u001b[0;32m/tmp/ipykernel_22696/624579656.py\u001b[0m in \u001b[0;36m<module>\u001b[0;34m\u001b[0m\n\u001b[0;32m----> 1\u001b[0;31m \u001b[0mw\u001b[0m\u001b[0;34m\u001b[0m\u001b[0;34m\u001b[0m\u001b[0m\n\u001b[0m",
      "\u001b[0;31mNameError\u001b[0m: name 'w' is not defined"
     ]
    }
   ],
   "source": [
    "w"
   ]
  },
  {
   "cell_type": "code",
   "execution_count": 2,
   "id": "7a8fc300",
   "metadata": {},
   "outputs": [],
   "source": [
    "w = None"
   ]
  },
  {
   "cell_type": "code",
   "execution_count": 3,
   "id": "26595e8c",
   "metadata": {},
   "outputs": [],
   "source": [
    "w # On ne voit rien, parce qu'il y a None"
   ]
  },
  {
   "cell_type": "code",
   "execution_count": 14,
   "id": "68f14a04",
   "metadata": {},
   "outputs": [
    {
     "data": {
      "text/plain": [
       "NoneType"
      ]
     },
     "execution_count": 14,
     "metadata": {},
     "output_type": "execute_result"
    }
   ],
   "source": [
    "type(None)"
   ]
  },
  {
   "cell_type": "code",
   "execution_count": 15,
   "id": "f295cca2",
   "metadata": {},
   "outputs": [
    {
     "data": {
      "text/plain": [
       "True"
      ]
     },
     "execution_count": 15,
     "metadata": {},
     "output_type": "execute_result"
    }
   ],
   "source": [
    "w == None"
   ]
  },
  {
   "cell_type": "code",
   "execution_count": 16,
   "id": "b960a03e",
   "metadata": {},
   "outputs": [
    {
     "data": {
      "text/plain": [
       "True"
      ]
     },
     "execution_count": 16,
     "metadata": {},
     "output_type": "execute_result"
    }
   ],
   "source": [
    "w is None # Préféré"
   ]
  },
  {
   "cell_type": "code",
   "execution_count": 17,
   "id": "d94a8a54",
   "metadata": {},
   "outputs": [
    {
     "data": {
      "text/plain": [
       "(7588800, 7588800)"
      ]
     },
     "execution_count": 17,
     "metadata": {},
     "output_type": "execute_result"
    }
   ],
   "source": [
    "id(w), id(None)"
   ]
  },
  {
   "cell_type": "code",
   "execution_count": 1,
   "id": "af94a090",
   "metadata": {},
   "outputs": [
    {
     "data": {
      "text/plain": [
       "True"
      ]
     },
     "execution_count": 1,
     "metadata": {},
     "output_type": "execute_result"
    }
   ],
   "source": [
    "def f(x):\n",
    "    pass # pas de return\n",
    "f(0) is None # doit faire True"
   ]
  },
  {
   "cell_type": "code",
   "execution_count": 2,
   "id": "6b1e8f23",
   "metadata": {},
   "outputs": [
    {
     "data": {
      "text/plain": [
       "True"
      ]
     },
     "execution_count": 2,
     "metadata": {},
     "output_type": "execute_result"
    }
   ],
   "source": [
    "def g(x):\n",
    "    return # return sans rien\n",
    "g(0) is None # doit faire True"
   ]
  }
 ],
 "metadata": {
  "kernelspec": {
   "display_name": "Python 3 (ipykernel)",
   "language": "python",
   "name": "python3"
  },
  "language_info": {
   "codemirror_mode": {
    "name": "ipython",
    "version": 3
   },
   "file_extension": ".py",
   "mimetype": "text/x-python",
   "name": "python",
   "nbconvert_exporter": "python",
   "pygments_lexer": "ipython3",
   "version": "3.10.4"
  }
 },
 "nbformat": 4,
 "nbformat_minor": 5
}
