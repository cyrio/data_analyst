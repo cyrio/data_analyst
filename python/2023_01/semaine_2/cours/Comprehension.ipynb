{
 "cells": [
  {
   "cell_type": "markdown",
   "metadata": {},
   "source": [
    "# Compréhension"
   ]
  },
  {
   "cell_type": "code",
   "execution_count": 1,
   "metadata": {},
   "outputs": [
    {
     "name": "stdout",
     "output_type": "stream",
     "text": [
      "{'Anne', 'André'}\n"
     ]
    }
   ],
   "source": [
    "dico = ['a', 'abreuver', \"André\", 'Anne','animal']\n",
    "# on extrait du dictionnaire les mots qui commencent par une majuscules (noms propres)\n",
    "# un ensemble en compréhension\n",
    "l = {mot for mot in dico if mot[0].isupper()}\n",
    "print (l)"
   ]
  },
  {
   "cell_type": "code",
   "execution_count": 2,
   "metadata": {},
   "outputs": [
    {
     "name": "stdout",
     "output_type": "stream",
     "text": [
      "{'André': 5, 'Anne': 4}\n"
     ]
    }
   ],
   "source": [
    "dico = ['a', 'abreuver', \"André\", 'Anne','animal']\n",
    "np = {mot:len(mot) for mot in dico if mot[0].isupper()}\n",
    "#\n",
    "# ici c'est un dictionnaire en compréhension  - le nom propre est associé à son nombre de lettres\n",
    "#\n",
    "print (np)"
   ]
  },
  {
   "cell_type": "code",
   "execution_count": 3,
   "metadata": {},
   "outputs": [
    {
     "name": "stdout",
     "output_type": "stream",
     "text": [
      "52503\n"
     ]
    }
   ],
   "source": [
    "import random\n",
    "N=100000\n",
    "print(random.randint(9999,N))"
   ]
  },
  {
   "cell_type": "code",
   "execution_count": 4,
   "metadata": {},
   "outputs": [],
   "source": [
    "def pseudo():\n",
    "    \"\"\" pseudo sort un nombre aléatoire qui va servir de pseudonyme\"\"\"\n",
    "    return random.randint(9999,N)"
   ]
  },
  {
   "cell_type": "code",
   "execution_count": 5,
   "metadata": {},
   "outputs": [
    {
     "name": "stdout",
     "output_type": "stream",
     "text": [
      "{94563: 'Anne', 20467: 'André'}\n"
     ]
    }
   ],
   "source": [
    "correspondance = { pseudo():nom for nom in l}\n",
    "# voici les pseudonymes  et les noms en clair correspondants\n",
    "print (correspondance)"
   ]
  },
  {
   "cell_type": "code",
   "execution_count": 6,
   "metadata": {},
   "outputs": [
    {
     "ename": "KeyError",
     "evalue": "60812",
     "output_type": "error",
     "traceback": [
      "\u001b[1;31m---------------------------------------------------------------------------\u001b[0m",
      "\u001b[1;31mKeyError\u001b[0m                                  Traceback (most recent call last)",
      "\u001b[1;32m<ipython-input-6-6f332fde4345>\u001b[0m in \u001b[0;36m<module>\u001b[1;34m\u001b[0m\n\u001b[1;32m----> 1\u001b[1;33m \u001b[0mcorrespondance\u001b[0m\u001b[1;33m[\u001b[0m\u001b[1;36m60812\u001b[0m\u001b[1;33m]\u001b[0m\u001b[1;33m\u001b[0m\u001b[1;33m\u001b[0m\u001b[0m\n\u001b[0m",
      "\u001b[1;31mKeyError\u001b[0m: 60812"
     ]
    }
   ],
   "source": [
    "correspondance[60812]"
   ]
  },
  {
   "cell_type": "code",
   "execution_count": 15,
   "metadata": {},
   "outputs": [
    {
     "name": "stdout",
     "output_type": "stream",
     "text": [
      "94563\t20467\t189126-Anne\t40934-André\t94563\t20467\tAnne\tAndré\t"
     ]
    }
   ],
   "source": [
    "for c in correspondance:\n",
    "    print(c, end=\"\\t\")\n",
    "    \n",
    "for k,v in correspondance.items() :\n",
    "    print(2*k,v, sep=\"-\", end = \"\\t\")\n",
    "    \n",
    "for c in correspondance.keys():\n",
    "    print(c, end=\"\\t\")\n",
    "    \n",
    "for c in correspondance.values():\n",
    "    print(c, end=\"\\t\")"
   ]
  },
  {
   "cell_type": "code",
   "execution_count": 13,
   "metadata": {},
   "outputs": [
    {
     "name": "stdout",
     "output_type": "stream",
     "text": [
      "{'Anne': 94563, 'André': 20467}\n"
     ]
    }
   ],
   "source": [
    "#\n",
    "# Voici comment passer du prénom au pseudonyme\n",
    "#\n",
    "inverse = { correspondance[code]: code for code in correspondance}\n",
    "print (inverse)"
   ]
  },
  {
   "cell_type": "code",
   "execution_count": null,
   "metadata": {},
   "outputs": [],
   "source": []
  }
 ],
 "metadata": {
  "kernelspec": {
   "display_name": "Python 3 (ipykernel)",
   "language": "python",
   "name": "python3"
  },
  "language_info": {
   "codemirror_mode": {
    "name": "ipython",
    "version": 3
   },
   "file_extension": ".py",
   "mimetype": "text/x-python",
   "name": "python",
   "nbconvert_exporter": "python",
   "pygments_lexer": "ipython3",
   "version": "3.9.13"
  }
 },
 "nbformat": 4,
 "nbformat_minor": 2
}
