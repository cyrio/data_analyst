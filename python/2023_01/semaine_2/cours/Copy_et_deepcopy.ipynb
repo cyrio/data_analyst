{
 "cells": [
  {
   "cell_type": "markdown",
   "metadata": {},
   "source": [
    "# Copy et Deepcopy\n",
    "Les instructions d'affectation en Python ne copient pas les objets, elles créent des liens entre un nom et l'objet."
   ]
  },
  {
   "cell_type": "code",
   "execution_count": 2,
   "metadata": {},
   "outputs": [
    {
     "name": "stdout",
     "output_type": "stream",
     "text": [
      "[1, 2, 3] [1, 2, 3]\n"
     ]
    }
   ],
   "source": [
    "a = [1,2,3]\n",
    "b = a # un nouveau nom pour l'objet désigné par \"a\"\n",
    "print (a,b)"
   ]
  },
  {
   "cell_type": "code",
   "execution_count": 4,
   "metadata": {},
   "outputs": [
    {
     "data": {
      "text/plain": [
       "(2391141818560, 2391141818560)"
      ]
     },
     "execution_count": 4,
     "metadata": {},
     "output_type": "execute_result"
    }
   ],
   "source": [
    "id(a), id(b)"
   ]
  },
  {
   "cell_type": "markdown",
   "metadata": {},
   "source": [
    "Si on modifie un des deux objets, les deux objets sont alors modifiés :"
   ]
  },
  {
   "cell_type": "code",
   "execution_count": 6,
   "metadata": {},
   "outputs": [
    {
     "name": "stdout",
     "output_type": "stream",
     "text": [
      "[1, 4, 3] [1, 2, 3]\n"
     ]
    }
   ],
   "source": [
    "a[1] = 4\n",
    "print(a,b)"
   ]
  },
  {
   "cell_type": "raw",
   "metadata": {},
   "source": [
    "Dans le cas d'une liste, on peut créer une copie indépendante de la source :"
   ]
  },
  {
   "cell_type": "code",
   "execution_count": 7,
   "metadata": {},
   "outputs": [
    {
     "name": "stdout",
     "output_type": "stream",
     "text": [
      "[1, 4, 3] [1, 4, 3]\n",
      "[1, 2, 3] [1, 4, 3]\n"
     ]
    }
   ],
   "source": [
    "b = a.copy()\n",
    "print(a,b)\n",
    "a[1]= 2\n",
    "print(a,b)"
   ]
  },
  {
   "cell_type": "markdown",
   "metadata": {},
   "source": [
    "Ce principe se généralise pour d'autres objets à l'aide du module copy."
   ]
  },
  {
   "cell_type": "code",
   "execution_count": 17,
   "metadata": {},
   "outputs": [],
   "source": [
    "import copy as cp\n"
   ]
  },
  {
   "cell_type": "code",
   "execution_count": 18,
   "metadata": {},
   "outputs": [
    {
     "name": "stdout",
     "output_type": "stream",
     "text": [
      "[1, [2, 3], 2, 3] [1, [2, 3], 2, 3]\n",
      "[1, [999, 3], 2, 3] [1, [999, 3], 2, 3]\n"
     ]
    }
   ],
   "source": [
    "a = [1,[2,3],2,3]\n",
    "b = a\n",
    "print(a,b)\n",
    "a[1][0]= 999\n",
    "print(a,b)"
   ]
  },
  {
   "cell_type": "code",
   "execution_count": 19,
   "metadata": {},
   "outputs": [
    {
     "name": "stdout",
     "output_type": "stream",
     "text": [
      "[1, [999, 3], 2, 3] [1, [999, 3], 2, 3]\n",
      "[1, [2, 3], 2, 3] [1, [2, 3], 2, 3] 2391142375168 2391142419840 2391113954496 2391113954496\n"
     ]
    }
   ],
   "source": [
    "b = cp.copy(a)\n",
    "print(a,b)\n",
    "a[1][0]= 2\n",
    "print(a,b, id(a), id(b), id(a[1]),id( b[1]))"
   ]
  },
  {
   "cell_type": "markdown",
   "metadata": {},
   "source": [
    "Nous avons réalisé une copie et pourtant la modification affecte les deux variables !!!"
   ]
  },
  {
   "cell_type": "code",
   "execution_count": 7,
   "metadata": {},
   "outputs": [
    {
     "name": "stdout",
     "output_type": "stream",
     "text": [
      "[1, [2, 3], 4, 3] [1, [2, 3], 2, 3]\n"
     ]
    }
   ],
   "source": [
    "a[2]=4\n",
    "print(a,b)"
   ]
  },
  {
   "cell_type": "markdown",
   "metadata": {},
   "source": [
    "Le premier niveau ne subit pas les modifications. Par contre, les niveaux plus profonds sont affectés."
   ]
  },
  {
   "cell_type": "markdown",
   "metadata": {},
   "source": [
    "Pour créer une copie indépendante de tous les niveaux, il faut utiliser deepcopy."
   ]
  },
  {
   "cell_type": "code",
   "execution_count": 20,
   "metadata": {},
   "outputs": [
    {
     "name": "stdout",
     "output_type": "stream",
     "text": [
      "[1, [2, 3], 2, 3] [1, [2, 3], 2, 3]\n",
      "[1, [2, 3], 2, 3] [1, [2, 3], 2, 3]\n",
      "[1, [999, 3], 2, 3] [1, [2, 3], 2, 3] 2391142419840 2391142363840 2391113954496 2391142375168\n"
     ]
    }
   ],
   "source": [
    "a=b\n",
    "print(a,b)\n",
    "b = cp.deepcopy(a)\n",
    "print(a,b)\n",
    "a[1][0]= 999\n",
    "print(a,b, id(a), id(b), id(a[1]), id(b[1]))"
   ]
  },
  {
   "cell_type": "markdown",
   "metadata": {},
   "source": [
    "Si on compare avec copy :"
   ]
  },
  {
   "cell_type": "code",
   "execution_count": 9,
   "metadata": {},
   "outputs": [
    {
     "name": "stdout",
     "output_type": "stream",
     "text": [
      "[1, [2, 3], 2, 3] [1, [2, 3], 2, 3]\n",
      "[1, [2, 3], 2, 3] [1, [2, 3], 2, 3]\n",
      "[1, [999, 3], 4, 3] [1, [999, 3], 2, 3]\n"
     ]
    }
   ],
   "source": [
    "a=b\n",
    "print(a,b)\n",
    "b = cp.copy(a)\n",
    "print(a,b)\n",
    "a[1][0]= 999\n",
    "a[2]=4\n",
    "print(a,b)"
   ]
  },
  {
   "cell_type": "markdown",
   "metadata": {},
   "source": [
    "Prendre une slice d'une liste revient à en faire une copie"
   ]
  },
  {
   "cell_type": "code",
   "execution_count": 10,
   "metadata": {
    "scrolled": true
   },
   "outputs": [
    {
     "name": "stdout",
     "output_type": "stream",
     "text": [
      "[1, [2, 3], 2, 3] [1, [2, 3], 2, 3]\n",
      "[1, [2, 3], 2, 3] [1, [2, 3], 2, 3]\n",
      "[1, [999, 3], 4, 3] [1, [999, 3], 2, 3]\n"
     ]
    }
   ],
   "source": [
    "b[1][0]= 2\n",
    "a=b\n",
    "print(a,b)\n",
    "a=b[:]\n",
    "print(a,b)\n",
    "a[1][0]= 999\n",
    "a[2]=4\n",
    "print(a,b)\n"
   ]
  },
  {
   "cell_type": "code",
   "execution_count": null,
   "metadata": {},
   "outputs": [],
   "source": []
  }
 ],
 "metadata": {
  "kernelspec": {
   "display_name": "Python 3 (ipykernel)",
   "language": "python",
   "name": "python3"
  },
  "language_info": {
   "codemirror_mode": {
    "name": "ipython",
    "version": 3
   },
   "file_extension": ".py",
   "mimetype": "text/x-python",
   "name": "python",
   "nbconvert_exporter": "python",
   "pygments_lexer": "ipython3",
   "version": "3.9.13"
  }
 },
 "nbformat": 4,
 "nbformat_minor": 2
}
