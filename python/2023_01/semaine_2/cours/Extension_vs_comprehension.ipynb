{
 "cells": [
  {
   "cell_type": "markdown",
   "id": "54b5810a",
   "metadata": {},
   "source": [
    "# Extension vs Compréhension"
   ]
  },
  {
   "cell_type": "markdown",
   "id": "ad53abbb",
   "metadata": {},
   "source": [
    "## Extension"
   ]
  },
  {
   "cell_type": "markdown",
   "id": "5cd9b1fb",
   "metadata": {},
   "source": [
    "Définir en donnant tous les éléments, un par un : définition en extension. Voici un 1er exemple :"
   ]
  },
  {
   "cell_type": "code",
   "execution_count": 1,
   "id": "e76c9696",
   "metadata": {},
   "outputs": [],
   "source": [
    "#\n",
    "# construire une liste qui contient [\"a\", \"b\", \"c\", ... \"z\"] avec une boucle\n",
    "#\n",
    "lettres = [] #initialisation\n",
    "for i in range(26) :\n",
    "    #itération\n",
    "    lettre = chr(ord('a')+i)\n",
    "    lettres.append(lettre)"
   ]
  },
  {
   "cell_type": "code",
   "execution_count": 2,
   "id": "a283540d",
   "metadata": {},
   "outputs": [
    {
     "data": {
      "text/plain": [
       "['a',\n",
       " 'b',\n",
       " 'c',\n",
       " 'd',\n",
       " 'e',\n",
       " 'f',\n",
       " 'g',\n",
       " 'h',\n",
       " 'i',\n",
       " 'j',\n",
       " 'k',\n",
       " 'l',\n",
       " 'm',\n",
       " 'n',\n",
       " 'o',\n",
       " 'p',\n",
       " 'q',\n",
       " 'r',\n",
       " 's',\n",
       " 't',\n",
       " 'u',\n",
       " 'v',\n",
       " 'w',\n",
       " 'x',\n",
       " 'y',\n",
       " 'z']"
      ]
     },
     "execution_count": 2,
     "metadata": {},
     "output_type": "execute_result"
    }
   ],
   "source": [
    "lettres"
   ]
  },
  {
   "cell_type": "markdown",
   "id": "57203feb",
   "metadata": {},
   "source": [
    "Un autre exemple de définition de liste en extension puisque l'on cite tous les éléments"
   ]
  },
  {
   "cell_type": "code",
   "execution_count": 3,
   "id": "e4130aa6",
   "metadata": {},
   "outputs": [],
   "source": [
    "#\n",
    "# une autre façon de faire en Python \n",
    "#\n",
    "lettres = list(\"abcdefghijklmnopqrstuvwxyz\")"
   ]
  },
  {
   "cell_type": "code",
   "execution_count": 4,
   "id": "68f74362",
   "metadata": {},
   "outputs": [
    {
     "data": {
      "text/plain": [
       "['a',\n",
       " 'b',\n",
       " 'c',\n",
       " 'd',\n",
       " 'e',\n",
       " 'f',\n",
       " 'g',\n",
       " 'h',\n",
       " 'i',\n",
       " 'j',\n",
       " 'k',\n",
       " 'l',\n",
       " 'm',\n",
       " 'n',\n",
       " 'o',\n",
       " 'p',\n",
       " 'q',\n",
       " 'r',\n",
       " 's',\n",
       " 't',\n",
       " 'u',\n",
       " 'v',\n",
       " 'w',\n",
       " 'x',\n",
       " 'y',\n",
       " 'z']"
      ]
     },
     "execution_count": 4,
     "metadata": {},
     "output_type": "execute_result"
    }
   ],
   "source": [
    "lettres"
   ]
  },
  {
   "cell_type": "markdown",
   "id": "cc945a76",
   "metadata": {},
   "source": [
    "Ou encore (encore plus fastidieux !)"
   ]
  },
  {
   "cell_type": "code",
   "execution_count": null,
   "id": "2315fbf4",
   "metadata": {},
   "outputs": [],
   "source": [
    "lettres = [\"a\", \"b\", \"c\"] #Il faut aller jusqu'à z !!"
   ]
  },
  {
   "cell_type": "markdown",
   "id": "af2719d9",
   "metadata": {},
   "source": [
    "## Compréhension\n",
    "Définir les élements sans en donner la liste exhaustive. On utilise un référentiel et une propriété caractéristique de ces éléments."
   ]
  },
  {
   "cell_type": "code",
   "execution_count": 5,
   "id": "6f0d5542",
   "metadata": {},
   "outputs": [],
   "source": [
    "#\n",
    "# la même chose avec une compréhension\n",
    "#\n",
    "#\n",
    "lettres = [chr(ord('a')+i) for i in range(26)]"
   ]
  },
  {
   "cell_type": "code",
   "execution_count": 6,
   "id": "48ec3c69",
   "metadata": {},
   "outputs": [
    {
     "data": {
      "text/plain": [
       "['a',\n",
       " 'b',\n",
       " 'c',\n",
       " 'd',\n",
       " 'e',\n",
       " 'f',\n",
       " 'g',\n",
       " 'h',\n",
       " 'i',\n",
       " 'j',\n",
       " 'k',\n",
       " 'l',\n",
       " 'm',\n",
       " 'n',\n",
       " 'o',\n",
       " 'p',\n",
       " 'q',\n",
       " 'r',\n",
       " 's',\n",
       " 't',\n",
       " 'u',\n",
       " 'v',\n",
       " 'w',\n",
       " 'x',\n",
       " 'y',\n",
       " 'z']"
      ]
     },
     "execution_count": 6,
     "metadata": {},
     "output_type": "execute_result"
    }
   ],
   "source": [
    "lettres"
   ]
  },
  {
   "cell_type": "code",
   "execution_count": 7,
   "id": "bd0bd74b",
   "metadata": {},
   "outputs": [],
   "source": [
    "# construire les lettres majuscules avec une compréhension basée sur la compréhension précédente\n",
    "lettres_maj = [ c.upper() for c in lettres]"
   ]
  },
  {
   "cell_type": "code",
   "execution_count": 8,
   "id": "73d06278",
   "metadata": {},
   "outputs": [
    {
     "data": {
      "text/plain": [
       "['A',\n",
       " 'B',\n",
       " 'C',\n",
       " 'D',\n",
       " 'E',\n",
       " 'F',\n",
       " 'G',\n",
       " 'H',\n",
       " 'I',\n",
       " 'J',\n",
       " 'K',\n",
       " 'L',\n",
       " 'M',\n",
       " 'N',\n",
       " 'O',\n",
       " 'P',\n",
       " 'Q',\n",
       " 'R',\n",
       " 'S',\n",
       " 'T',\n",
       " 'U',\n",
       " 'V',\n",
       " 'W',\n",
       " 'X',\n",
       " 'Y',\n",
       " 'Z']"
      ]
     },
     "execution_count": 8,
     "metadata": {},
     "output_type": "execute_result"
    }
   ],
   "source": [
    "lettres_maj"
   ]
  },
  {
   "cell_type": "markdown",
   "id": "f6cc3223",
   "metadata": {},
   "source": [
    "Ce sont des compréhensions de listes.  Voici une compréhension de dictionnaire."
   ]
  },
  {
   "cell_type": "code",
   "execution_count": 9,
   "id": "962533e7",
   "metadata": {},
   "outputs": [],
   "source": [
    "code_ascii = {c:ord(c) for c in lettres_maj}"
   ]
  },
  {
   "cell_type": "code",
   "execution_count": 10,
   "id": "db097828",
   "metadata": {},
   "outputs": [
    {
     "data": {
      "text/plain": [
       "{'A': 65,\n",
       " 'B': 66,\n",
       " 'C': 67,\n",
       " 'D': 68,\n",
       " 'E': 69,\n",
       " 'F': 70,\n",
       " 'G': 71,\n",
       " 'H': 72,\n",
       " 'I': 73,\n",
       " 'J': 74,\n",
       " 'K': 75,\n",
       " 'L': 76,\n",
       " 'M': 77,\n",
       " 'N': 78,\n",
       " 'O': 79,\n",
       " 'P': 80,\n",
       " 'Q': 81,\n",
       " 'R': 82,\n",
       " 'S': 83,\n",
       " 'T': 84,\n",
       " 'U': 85,\n",
       " 'V': 86,\n",
       " 'W': 87,\n",
       " 'X': 88,\n",
       " 'Y': 89,\n",
       " 'Z': 90}"
      ]
     },
     "execution_count": 10,
     "metadata": {},
     "output_type": "execute_result"
    }
   ],
   "source": [
    "code_ascii"
   ]
  },
  {
   "cell_type": "markdown",
   "id": "df42ce0d",
   "metadata": {},
   "source": [
    "Voici une compréhension d'ensemble : les lettres de l'alphabet dont le numéro est pair."
   ]
  },
  {
   "cell_type": "code",
   "execution_count": 11,
   "id": "40c60284",
   "metadata": {},
   "outputs": [],
   "source": [
    "lettres_paires = {c for c in lettres_maj if ord(c) % 2 == 0}"
   ]
  },
  {
   "cell_type": "code",
   "execution_count": 12,
   "id": "cd7f0bef",
   "metadata": {},
   "outputs": [
    {
     "data": {
      "text/plain": [
       "{'B', 'D', 'F', 'H', 'J', 'L', 'N', 'P', 'R', 'T', 'V', 'X', 'Z'}"
      ]
     },
     "execution_count": 12,
     "metadata": {},
     "output_type": "execute_result"
    }
   ],
   "source": [
    "lettres_paires"
   ]
  },
  {
   "cell_type": "markdown",
   "id": "4ca7e95c",
   "metadata": {},
   "source": [
    "# Utilisation de compréhensions"
   ]
  },
  {
   "cell_type": "markdown",
   "id": "39e94af3",
   "metadata": {},
   "source": [
    "Pour montrer la table d'addition des nombres entiers < 10 à un enfant "
   ]
  },
  {
   "cell_type": "code",
   "execution_count": 13,
   "id": "d7ac67a9",
   "metadata": {},
   "outputs": [],
   "source": [
    "table_addition = [ (i,j,i+j) for i in range(10) for j in range(10) if i<=j and i+j<=10]"
   ]
  },
  {
   "cell_type": "code",
   "execution_count": 14,
   "id": "e9744bdd",
   "metadata": {},
   "outputs": [
    {
     "name": "stdout",
     "output_type": "stream",
     "text": [
      "0 + 0 = 0\n",
      "0 + 1 = 1\n",
      "0 + 2 = 2\n",
      "0 + 3 = 3\n",
      "0 + 4 = 4\n",
      "0 + 5 = 5\n",
      "0 + 6 = 6\n",
      "0 + 7 = 7\n",
      "0 + 8 = 8\n",
      "0 + 9 = 9\n",
      "1 + 1 = 2\n",
      "1 + 2 = 3\n",
      "1 + 3 = 4\n",
      "1 + 4 = 5\n",
      "1 + 5 = 6\n",
      "1 + 6 = 7\n",
      "1 + 7 = 8\n",
      "1 + 8 = 9\n",
      "1 + 9 = 10\n",
      "2 + 2 = 4\n",
      "2 + 3 = 5\n",
      "2 + 4 = 6\n",
      "2 + 5 = 7\n",
      "2 + 6 = 8\n",
      "2 + 7 = 9\n",
      "2 + 8 = 10\n",
      "3 + 3 = 6\n",
      "3 + 4 = 7\n",
      "3 + 5 = 8\n",
      "3 + 6 = 9\n",
      "3 + 7 = 10\n",
      "4 + 4 = 8\n",
      "4 + 5 = 9\n",
      "4 + 6 = 10\n",
      "5 + 5 = 10\n"
     ]
    }
   ],
   "source": [
    "for a,b,somme in table_addition:\n",
    "    print(a,\"+\",b,\"=\",somme)"
   ]
  },
  {
   "cell_type": "code",
   "execution_count": 3,
   "id": "528f0cca",
   "metadata": {},
   "outputs": [
    {
     "name": "stdout",
     "output_type": "stream",
     "text": [
      "[(0, 0, 0), (0, 1, 1), (0, 2, 2), (0, 3, 3), (0, 4, 4), (0, 5, 5), (0, 6, 6), (0, 7, 7), (0, 8, 8), (0, 9, 9), (0, 10, 10), (1, 1, 2), (1, 2, 3), (1, 3, 4), (1, 4, 5), (1, 5, 6), (1, 6, 7), (1, 7, 8), (1, 8, 9), (1, 9, 10), (2, 2, 4), (2, 3, 5), (2, 4, 6), (2, 5, 7), (2, 6, 8), (2, 7, 9), (2, 8, 10), (3, 3, 6), (3, 4, 7), (3, 5, 8), (3, 6, 9), (3, 7, 10), (4, 4, 8), (4, 5, 9), (4, 6, 10), (5, 5, 10)]\n"
     ]
    }
   ],
   "source": [
    "table_addition = [ (i,j,i+j) for i in range(10) for j in range(i,11-i)]\n",
    "print(table_addition)"
   ]
  },
  {
   "cell_type": "markdown",
   "id": "f02a3ba2",
   "metadata": {},
   "source": [
    "# Expression génératrice - compréhension de tuple"
   ]
  },
  {
   "cell_type": "code",
   "execution_count": 15,
   "id": "2d8f83d4",
   "metadata": {},
   "outputs": [],
   "source": [
    "x = ( c+c for c in lettres) #expression génératrice"
   ]
  },
  {
   "cell_type": "code",
   "execution_count": 16,
   "id": "58443995",
   "metadata": {},
   "outputs": [
    {
     "data": {
      "text/plain": [
       "generator"
      ]
     },
     "execution_count": 16,
     "metadata": {},
     "output_type": "execute_result"
    }
   ],
   "source": [
    "type(x) #generator"
   ]
  },
  {
   "cell_type": "code",
   "execution_count": 17,
   "id": "3867d21b",
   "metadata": {},
   "outputs": [
    {
     "data": {
      "text/plain": [
       "('aa',\n",
       " 'bb',\n",
       " 'cc',\n",
       " 'dd',\n",
       " 'ee',\n",
       " 'ff',\n",
       " 'gg',\n",
       " 'hh',\n",
       " 'ii',\n",
       " 'jj',\n",
       " 'kk',\n",
       " 'll',\n",
       " 'mm',\n",
       " 'nn',\n",
       " 'oo',\n",
       " 'pp',\n",
       " 'qq',\n",
       " 'rr',\n",
       " 'ss',\n",
       " 'tt',\n",
       " 'uu',\n",
       " 'vv',\n",
       " 'ww',\n",
       " 'xx',\n",
       " 'yy',\n",
       " 'zz')"
      ]
     },
     "execution_count": 17,
     "metadata": {},
     "output_type": "execute_result"
    }
   ],
   "source": [
    "tuple(x) #Pour faire une compréhension de tuple"
   ]
  },
  {
   "cell_type": "code",
   "execution_count": null,
   "id": "80ca3d63",
   "metadata": {},
   "outputs": [],
   "source": []
  }
 ],
 "metadata": {
  "kernelspec": {
   "display_name": "Python 3 (ipykernel)",
   "language": "python",
   "name": "python3"
  },
  "language_info": {
   "codemirror_mode": {
    "name": "ipython",
    "version": 3
   },
   "file_extension": ".py",
   "mimetype": "text/x-python",
   "name": "python",
   "nbconvert_exporter": "python",
   "pygments_lexer": "ipython3",
   "version": "3.9.13"
  }
 },
 "nbformat": 4,
 "nbformat_minor": 5
}
