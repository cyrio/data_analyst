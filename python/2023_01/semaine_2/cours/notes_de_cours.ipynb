{
 "cells": [
  {
   "cell_type": "markdown",
   "id": "294d20fa",
   "metadata": {},
   "source": [
    "## Numbers"
   ]
  },
  {
   "cell_type": "code",
   "execution_count": 1,
   "id": "a42f7dcf",
   "metadata": {},
   "outputs": [
    {
     "name": "stdout",
     "output_type": "stream",
     "text": [
      "900\n"
     ]
    }
   ],
   "source": [
    "width = 20\n",
    "height = 5 * 9\n",
    "print(width * height)"
   ]
  },
  {
   "cell_type": "code",
   "execution_count": 2,
   "id": "d469931b",
   "metadata": {},
   "outputs": [
    {
     "data": {
      "text/plain": [
       "14.0"
      ]
     },
     "execution_count": 2,
     "metadata": {},
     "output_type": "execute_result"
    }
   ],
   "source": [
    "res = 4 * 3.75 -1\n",
    "res"
   ]
  },
  {
   "cell_type": "code",
   "execution_count": 3,
   "id": "384dc60a",
   "metadata": {},
   "outputs": [
    {
     "data": {
      "text/plain": [
       "12.5625"
      ]
     },
     "execution_count": 3,
     "metadata": {},
     "output_type": "execute_result"
    }
   ],
   "source": [
    "tax = 12.5 / 100\n",
    "price = 100.5\n",
    "price * tax"
   ]
  },
  {
   "cell_type": "code",
   "execution_count": 4,
   "id": "1af9a244",
   "metadata": {},
   "outputs": [
    {
     "data": {
      "text/plain": [
       "113.0625"
      ]
     },
     "execution_count": 4,
     "metadata": {},
     "output_type": "execute_result"
    }
   ],
   "source": [
    "price + _"
   ]
  },
  {
   "cell_type": "code",
   "execution_count": 5,
   "id": "bf18136e",
   "metadata": {},
   "outputs": [
    {
     "data": {
      "text/plain": [
       "113.06"
      ]
     },
     "execution_count": 5,
     "metadata": {},
     "output_type": "execute_result"
    }
   ],
   "source": [
    "round(_, 2)"
   ]
  },
  {
   "cell_type": "markdown",
   "id": "393b4e16",
   "metadata": {},
   "source": [
    "**Division normale**"
   ]
  },
  {
   "cell_type": "code",
   "execution_count": 6,
   "id": "7487baca",
   "metadata": {},
   "outputs": [
    {
     "data": {
      "text/plain": [
       "5.4"
      ]
     },
     "execution_count": 6,
     "metadata": {},
     "output_type": "execute_result"
    }
   ],
   "source": [
    "divi = 27/5\n",
    "divi"
   ]
  },
  {
   "cell_type": "markdown",
   "id": "cc174e7a",
   "metadata": {},
   "source": [
    "***Division entière***"
   ]
  },
  {
   "cell_type": "code",
   "execution_count": 7,
   "id": "b4ef833e",
   "metadata": {},
   "outputs": [
    {
     "data": {
      "text/plain": [
       "5"
      ]
     },
     "execution_count": 7,
     "metadata": {},
     "output_type": "execute_result"
    }
   ],
   "source": [
    "divent = 27//5\n",
    "divent"
   ]
  },
  {
   "cell_type": "markdown",
   "id": "5958cb68",
   "metadata": {},
   "source": [
    "***Reste de la division***"
   ]
  },
  {
   "cell_type": "code",
   "execution_count": 8,
   "id": "9ac07dda",
   "metadata": {},
   "outputs": [
    {
     "data": {
      "text/plain": [
       "2"
      ]
     },
     "execution_count": 8,
     "metadata": {},
     "output_type": "execute_result"
    }
   ],
   "source": [
    "modulo =  27%5\n",
    "modulo"
   ]
  },
  {
   "cell_type": "markdown",
   "id": "5d89c651",
   "metadata": {},
   "source": [
    "***Elévation à la puissance***"
   ]
  },
  {
   "cell_type": "code",
   "execution_count": 9,
   "id": "c317971c",
   "metadata": {},
   "outputs": [
    {
     "data": {
      "text/plain": [
       "32"
      ]
     },
     "execution_count": 9,
     "metadata": {},
     "output_type": "execute_result"
    }
   ],
   "source": [
    "res=2**5\n",
    "res"
   ]
  },
  {
   "cell_type": "markdown",
   "id": "156edcd8",
   "metadata": {},
   "source": [
    "***Notation scientifique***"
   ]
  },
  {
   "cell_type": "code",
   "execution_count": 10,
   "id": "bd3e44bd",
   "metadata": {},
   "outputs": [
    {
     "name": "stdout",
     "output_type": "stream",
     "text": [
      "6.62e-34\n",
      "6.02e+23\n",
      "300000000.0\n"
     ]
    }
   ],
   "source": [
    "plank = 6.62E-34\n",
    "avogadro = 6.02E23\n",
    "vitesselumiere = 3E8\n",
    "print(plank)\n",
    "print(avogadro)\n",
    "print(vitesselumiere)"
   ]
  },
  {
   "cell_type": "markdown",
   "id": "c9afdae8",
   "metadata": {},
   "source": [
    "***Nombres Flottants***"
   ]
  },
  {
   "cell_type": "code",
   "execution_count": 11,
   "id": "38970468",
   "metadata": {},
   "outputs": [
    {
     "data": {
      "text/plain": [
       "4.140000000000001"
      ]
     },
     "execution_count": 11,
     "metadata": {},
     "output_type": "execute_result"
    }
   ],
   "source": [
    "3.14 + 1\n",
    "# le résultat est surprenant car les ordinateur  représente les nombres flottants par des fractions binaires\n",
    "# donc quand on fait des test d'égalité faisant internevenir des nombres flottants ou des calculs , les résultats n,est pas strictement exact \n",
    "# faire attention aux comparaison "
   ]
  },
  {
   "cell_type": "markdown",
   "id": "55b4e5af",
   "metadata": {},
   "source": [
    "*Comparaison nombre flottants*"
   ]
  },
  {
   "cell_type": "code",
   "execution_count": 12,
   "id": "c3a132a4",
   "metadata": {},
   "outputs": [
    {
     "data": {
      "text/plain": [
       "False"
      ]
     },
     "execution_count": 12,
     "metadata": {},
     "output_type": "execute_result"
    }
   ],
   "source": [
    "4.14 == 3.14 + 1\n",
    "# retournera False parce que python compare légalité bit à bit\n",
    "# attention a la comparaison naïve\n"
   ]
  },
  {
   "cell_type": "code",
   "execution_count": 13,
   "id": "1e3656d5",
   "metadata": {},
   "outputs": [
    {
     "data": {
      "text/plain": [
       "True"
      ]
     },
     "execution_count": 13,
     "metadata": {},
     "output_type": "execute_result"
    }
   ],
   "source": [
    "abs(4.14 - (3.14+1)) < 0.001\n",
    "# pour comparer 2 flottants il vaut mieux utiliser la valeur absolue et préciser un seuil abs(x-y)<seuil"
   ]
  },
  {
   "cell_type": "code",
   "execution_count": 14,
   "id": "a8234482",
   "metadata": {},
   "outputs": [
    {
     "data": {
      "text/plain": [
       "True"
      ]
     },
     "execution_count": 14,
     "metadata": {},
     "output_type": "execute_result"
    }
   ],
   "source": [
    "# on peut comparer des entiers et des flottants\n",
    "1 < 2.15"
   ]
  },
  {
   "cell_type": "markdown",
   "id": "113856ce",
   "metadata": {},
   "source": []
  },
  {
   "cell_type": "markdown",
   "id": "77db934f",
   "metadata": {},
   "source": [
    "**Calcul binaire**\n",
    "        \n",
    "*il faut d'abord representer les nombres par leur représenteation binaire ensuite faire le calcul bit à bit*"
   ]
  },
  {
   "cell_type": "code",
   "execution_count": 15,
   "id": "9261b943",
   "metadata": {},
   "outputs": [
    {
     "data": {
      "text/plain": [
       "0"
      ]
     },
     "execution_count": 15,
     "metadata": {},
     "output_type": "execute_result"
    }
   ],
   "source": [
    "1&2"
   ]
  },
  {
   "cell_type": "code",
   "execution_count": 16,
   "id": "72bc00e5",
   "metadata": {},
   "outputs": [
    {
     "data": {
      "text/plain": [
       "3"
      ]
     },
     "execution_count": 16,
     "metadata": {},
     "output_type": "execute_result"
    }
   ],
   "source": [
    "1|2"
   ]
  },
  {
   "cell_type": "code",
   "execution_count": 17,
   "id": "2f079879",
   "metadata": {},
   "outputs": [
    {
     "data": {
      "text/plain": [
       "0"
      ]
     },
     "execution_count": 17,
     "metadata": {},
     "output_type": "execute_result"
    }
   ],
   "source": [
    "1 >> 1"
   ]
  },
  {
   "cell_type": "code",
   "execution_count": 18,
   "id": "99afeb7c",
   "metadata": {},
   "outputs": [
    {
     "data": {
      "text/plain": [
       "0"
      ]
     },
     "execution_count": 18,
     "metadata": {},
     "output_type": "execute_result"
    }
   ],
   "source": [
    "1 >> 2"
   ]
  },
  {
   "cell_type": "code",
   "execution_count": 19,
   "id": "e3be96cd",
   "metadata": {},
   "outputs": [
    {
     "data": {
      "text/plain": [
       "2"
      ]
     },
     "execution_count": 19,
     "metadata": {},
     "output_type": "execute_result"
    }
   ],
   "source": [
    "1 << 1"
   ]
  },
  {
   "cell_type": "code",
   "execution_count": 20,
   "id": "f1a43619",
   "metadata": {},
   "outputs": [
    {
     "data": {
      "text/plain": [
       "4"
      ]
     },
     "execution_count": 20,
     "metadata": {},
     "output_type": "execute_result"
    }
   ],
   "source": [
    "1 << 2"
   ]
  },
  {
   "cell_type": "code",
   "execution_count": 21,
   "id": "69699960",
   "metadata": {},
   "outputs": [
    {
     "data": {
      "text/plain": [
       "8"
      ]
     },
     "execution_count": 21,
     "metadata": {},
     "output_type": "execute_result"
    }
   ],
   "source": [
    "1 << 3"
   ]
  },
  {
   "cell_type": "code",
   "execution_count": 22,
   "id": "8c4ce77e",
   "metadata": {},
   "outputs": [
    {
     "data": {
      "text/plain": [
       "2"
      ]
     },
     "execution_count": 22,
     "metadata": {},
     "output_type": "execute_result"
    }
   ],
   "source": [
    "1^3"
   ]
  },
  {
   "cell_type": "markdown",
   "id": "186241a6",
   "metadata": {},
   "source": [
    "***le underscore***"
   ]
  },
  {
   "cell_type": "code",
   "execution_count": 23,
   "id": "f65cae8c",
   "metadata": {},
   "outputs": [
    {
     "data": {
      "text/plain": [
       "(1000, 1000231666, 123465789)"
      ]
     },
     "execution_count": 23,
     "metadata": {},
     "output_type": "execute_result"
    }
   ],
   "source": [
    "1_000,1_000_231_666,123_465_789\n",
    "# _ peut être utilisé comme séparateur pour les nombres groupé par chiffres de 3"
   ]
  },
  {
   "cell_type": "markdown",
   "id": "a8af4a3e",
   "metadata": {},
   "source": [
    "## Strings sample manipulation"
   ]
  },
  {
   "cell_type": "code",
   "execution_count": 24,
   "id": "fef59d0c",
   "metadata": {},
   "outputs": [
    {
     "data": {
      "text/plain": [
       "'spam eggs'"
      ]
     },
     "execution_count": 24,
     "metadata": {},
     "output_type": "execute_result"
    }
   ],
   "source": [
    "'spam eggs'"
   ]
  },
  {
   "cell_type": "code",
   "execution_count": 25,
   "id": "7bebbf84",
   "metadata": {},
   "outputs": [
    {
     "data": {
      "text/plain": [
       "\"doesn't work\""
      ]
     },
     "execution_count": 25,
     "metadata": {},
     "output_type": "execute_result"
    }
   ],
   "source": [
    "\"doesn't work\""
   ]
  },
  {
   "cell_type": "code",
   "execution_count": 26,
   "id": "16ed55c8",
   "metadata": {},
   "outputs": [
    {
     "data": {
      "text/plain": [
       "' \"yes,\" they said.'"
      ]
     },
     "execution_count": 26,
     "metadata": {},
     "output_type": "execute_result"
    }
   ],
   "source": [
    "' \\\"yes,\\\" they said.'"
   ]
  },
  {
   "cell_type": "code",
   "execution_count": 27,
   "id": "993cda2a",
   "metadata": {},
   "outputs": [
    {
     "data": {
      "text/plain": [
       "'\"Isn\\'t,\" they said'"
      ]
     },
     "execution_count": 27,
     "metadata": {},
     "output_type": "execute_result"
    }
   ],
   "source": [
    "'\"Isn\\'t,\" they said'"
   ]
  },
  {
   "cell_type": "code",
   "execution_count": 28,
   "id": "6ccbb9bf",
   "metadata": {},
   "outputs": [
    {
     "data": {
      "text/plain": [
       "'First line. \\nSecond Line.'"
      ]
     },
     "execution_count": 28,
     "metadata": {},
     "output_type": "execute_result"
    }
   ],
   "source": [
    "s='First line. \\nSecond Line.'\n",
    "s"
   ]
  },
  {
   "cell_type": "code",
   "execution_count": 29,
   "id": "4c1ac2cc",
   "metadata": {},
   "outputs": [
    {
     "name": "stdout",
     "output_type": "stream",
     "text": [
      "First line. \n",
      "Second Line.\n"
     ]
    }
   ],
   "source": [
    "print(s)"
   ]
  },
  {
   "cell_type": "code",
   "execution_count": 30,
   "id": "6e102a09",
   "metadata": {},
   "outputs": [
    {
     "name": "stdout",
     "output_type": "stream",
     "text": [
      "La cigale ayant chanté tout l'ètè, \n",
      "se mit à aller voir son ami la fourmie\n"
     ]
    }
   ],
   "source": [
    "mot ='La cigale ayant chanté tout l\\'ètè, \\nse mit à aller voir son ami la fourmie'\n",
    "print(mot)"
   ]
  },
  {
   "cell_type": "code",
   "execution_count": 31,
   "id": "6dfe402e",
   "metadata": {},
   "outputs": [
    {
     "name": "stdout",
     "output_type": "stream",
     "text": [
      "C:\\some\n",
      "ame\\etc\n"
     ]
    }
   ],
   "source": [
    "url='C:\\some\\name\\etc'\n",
    "print(url)"
   ]
  },
  {
   "cell_type": "code",
   "execution_count": 32,
   "id": "a45913aa",
   "metadata": {},
   "outputs": [],
   "source": [
    "# If you don’t want characters prefaced by \\ to be interpreted as special characters, you can use raw strings by adding an r before the first quote:\n",
    "\n",
    "\n",
    "url1=r'C:\\some\\name\\etc'  # note the r before the quote"
   ]
  },
  {
   "cell_type": "markdown",
   "id": "b08f0553",
   "metadata": {},
   "source": [
    "***Chaine de caractère tres longue ou des phrases*** "
   ]
  },
  {
   "cell_type": "code",
   "execution_count": 33,
   "id": "b8903eb0",
   "metadata": {},
   "outputs": [
    {
     "name": "stdout",
     "output_type": "stream",
     "text": [
      "Usage: thingy [OPTIONS]\n",
      "     -h                         Display this usage message\n",
      "     -H hostname                Hostname to connect to\n",
      "\n"
     ]
    }
   ],
   "source": [
    "longstr=\"\"\"\\\n",
    "Usage: thingy [OPTIONS]\n",
    "     -h                         Display this usage message\n",
    "     -H hostname                Hostname to connect to\n",
    "\"\"\"\n",
    "print(longstr)\n",
    "#String literals can span multiple lines. One way is using triple-quotes:\n",
    "#\"\"\"...\"\"\" or '''...'''. End of lines are automatically included in the string, \n",
    "#but it’s possible to prevent this by adding a \\ at the end of the line\n",
    "# note that the initial newline is not included"
   ]
  },
  {
   "cell_type": "code",
   "execution_count": 34,
   "id": "d1400fff",
   "metadata": {},
   "outputs": [
    {
     "data": {
      "text/plain": [
       "'unununium'"
      ]
     },
     "execution_count": 34,
     "metadata": {},
     "output_type": "execute_result"
    }
   ],
   "source": [
    "str = 3 * 'un' + 'ium'\n",
    "str\n",
    "#Strings can be concatenated (glued together) with the + operator, and repeated with *"
   ]
  },
  {
   "cell_type": "code",
   "execution_count": 35,
   "id": "14822a0c",
   "metadata": {},
   "outputs": [
    {
     "name": "stdout",
     "output_type": "stream",
     "text": [
      "Nom:\tPrenom:\n",
      "Adress:\t\tVille:\n",
      "Code:\t\tPays:\n"
     ]
    }
   ],
   "source": [
    "str1 = \"Nom:\\tPrenom:\\nAdress:\\t\\tVille:\\nCode:\\t\\tPays:\"\n",
    "print(str1)\n",
    "# \\t pour la tabulation"
   ]
  },
  {
   "cell_type": "markdown",
   "id": "0d9fb1cf",
   "metadata": {},
   "source": [
    "***Two or more string literals (i.e. the ones enclosed between quotes) next to each other are automatically concatenated.***"
   ]
  },
  {
   "cell_type": "code",
   "execution_count": 36,
   "id": "c36de9aa",
   "metadata": {},
   "outputs": [
    {
     "data": {
      "text/plain": [
       "'Python'"
      ]
     },
     "execution_count": 36,
     "metadata": {},
     "output_type": "execute_result"
    }
   ],
   "source": [
    "str2 = 'Py' 'thon'\n",
    "str2"
   ]
  },
  {
   "cell_type": "code",
   "execution_count": 37,
   "id": "e417e34a",
   "metadata": {},
   "outputs": [
    {
     "data": {
      "text/plain": [
       "'Python is the best language'"
      ]
     },
     "execution_count": 37,
     "metadata": {},
     "output_type": "execute_result"
    }
   ],
   "source": [
    "str3 = 'Py' 'thon' ' is' ' th' 'e' ' be' 'st' ' lang' 'uage'\n",
    "str3"
   ]
  },
  {
   "cell_type": "code",
   "execution_count": 38,
   "id": "d8d2523d",
   "metadata": {},
   "outputs": [
    {
     "data": {
      "text/plain": [
       "'Put several strings within parentheses to have them joined together.'"
      ]
     },
     "execution_count": 38,
     "metadata": {},
     "output_type": "execute_result"
    }
   ],
   "source": [
    "text = ('Put several strings within parentheses '\n",
    "...         'to have them joined together.')\n",
    "text\n",
    "# This feature is particularly useful when you want to break long strings:"
   ]
  },
  {
   "cell_type": "code",
   "execution_count": 39,
   "id": "7a9f189e",
   "metadata": {},
   "outputs": [
    {
     "ename": "SyntaxError",
     "evalue": "invalid syntax (1463277763.py, line 2)",
     "output_type": "error",
     "traceback": [
      "\u001b[0;36m  File \u001b[0;32m\"/tmp/ipykernel_10973/1463277763.py\"\u001b[0;36m, line \u001b[0;32m2\u001b[0m\n\u001b[0;31m    prefix 'thon'\u001b[0m\n\u001b[0m           ^\u001b[0m\n\u001b[0;31mSyntaxError\u001b[0m\u001b[0;31m:\u001b[0m invalid syntax\n"
     ]
    }
   ],
   "source": [
    "prefix = 'Py'\n",
    "prefix 'thon'\n",
    "# can't concatenate a variable and a string literal"
   ]
  },
  {
   "cell_type": "code",
   "execution_count": 41,
   "id": "790779cf",
   "metadata": {},
   "outputs": [
    {
     "data": {
      "text/plain": [
       "'Python'"
      ]
     },
     "execution_count": 41,
     "metadata": {},
     "output_type": "execute_result"
    }
   ],
   "source": [
    "prefix = 'Py'\n",
    "prefix + 'thon'\n",
    "# If you want to concatenate variables or a variable and a literal, use +:"
   ]
  },
  {
   "cell_type": "code",
   "execution_count": 42,
   "id": "d055a2c1",
   "metadata": {},
   "outputs": [
    {
     "name": "stdout",
     "output_type": "stream",
     "text": [
      "P\n",
      "n\n",
      "P\n"
     ]
    }
   ],
   "source": [
    "word = 'Python'\n",
    "print(word[0])\n",
    "print(word[-1])\n",
    "print(word[-6])"
   ]
  },
  {
   "cell_type": "code",
   "execution_count": 43,
   "id": "d076607d",
   "metadata": {},
   "outputs": [
    {
     "data": {
      "text/plain": [
       "'Py'"
      ]
     },
     "execution_count": 43,
     "metadata": {},
     "output_type": "execute_result"
    }
   ],
   "source": [
    "word[0:2]"
   ]
  },
  {
   "cell_type": "code",
   "execution_count": 44,
   "id": "0ff22f3f",
   "metadata": {},
   "outputs": [
    {
     "data": {
      "text/plain": [
       "'Py'"
      ]
     },
     "execution_count": 44,
     "metadata": {},
     "output_type": "execute_result"
    }
   ],
   "source": [
    "word[:2]"
   ]
  },
  {
   "cell_type": "code",
   "execution_count": 45,
   "id": "ae111978",
   "metadata": {},
   "outputs": [
    {
     "data": {
      "text/plain": [
       "'on'"
      ]
     },
     "execution_count": 45,
     "metadata": {},
     "output_type": "execute_result"
    }
   ],
   "source": [
    "word[4:]"
   ]
  },
  {
   "cell_type": "code",
   "execution_count": 46,
   "id": "6bfb69d0",
   "metadata": {},
   "outputs": [
    {
     "data": {
      "text/plain": [
       "'on'"
      ]
     },
     "execution_count": 46,
     "metadata": {},
     "output_type": "execute_result"
    }
   ],
   "source": [
    "word[4:42]"
   ]
  },
  {
   "cell_type": "code",
   "execution_count": 47,
   "id": "092f87a3",
   "metadata": {},
   "outputs": [
    {
     "ename": "TypeError",
     "evalue": "'str' object does not support item assignment",
     "output_type": "error",
     "traceback": [
      "\u001b[0;31m---------------------------------------------------------------------------\u001b[0m",
      "\u001b[0;31mTypeError\u001b[0m                                 Traceback (most recent call last)",
      "\u001b[0;32m/tmp/ipykernel_10973/116138980.py\u001b[0m in \u001b[0;36m<module>\u001b[0;34m\u001b[0m\n\u001b[0;32m----> 1\u001b[0;31m \u001b[0mword\u001b[0m\u001b[0;34m[\u001b[0m\u001b[0;36m0\u001b[0m\u001b[0;34m]\u001b[0m \u001b[0;34m=\u001b[0m \u001b[0;34m'J'\u001b[0m\u001b[0;34m\u001b[0m\u001b[0;34m\u001b[0m\u001b[0m\n\u001b[0m\u001b[1;32m      2\u001b[0m \u001b[0;31m# Python strings cannot be changed — they are immutable\u001b[0m\u001b[0;34m\u001b[0m\u001b[0;34m\u001b[0m\u001b[0m\n",
      "\u001b[0;31mTypeError\u001b[0m: 'str' object does not support item assignment"
     ]
    }
   ],
   "source": [
    "word[0] = 'J'\n",
    "# Python strings cannot be changed — they are immutable"
   ]
  },
  {
   "cell_type": "code",
   "execution_count": 49,
   "id": "f8352390",
   "metadata": {},
   "outputs": [
    {
     "data": {
      "text/plain": [
       "34"
      ]
     },
     "execution_count": 49,
     "metadata": {},
     "output_type": "execute_result"
    }
   ],
   "source": [
    "s = 'supercalifragilisticexpialidocious'\n",
    "len(s)"
   ]
  },
  {
   "cell_type": "markdown",
   "id": "ae224265",
   "metadata": {},
   "source": [
    "***Code Ascii***"
   ]
  },
  {
   "cell_type": "code",
   "execution_count": 50,
   "id": "d2933d2c",
   "metadata": {},
   "outputs": [
    {
     "data": {
      "text/plain": [
       "249"
      ]
     },
     "execution_count": 50,
     "metadata": {},
     "output_type": "execute_result"
    }
   ],
   "source": [
    "ord('ù')\n"
   ]
  },
  {
   "cell_type": "code",
   "execution_count": 51,
   "id": "dccd7eae",
   "metadata": {},
   "outputs": [
    {
     "data": {
      "text/plain": [
       "'ù'"
      ]
     },
     "execution_count": 51,
     "metadata": {},
     "output_type": "execute_result"
    }
   ],
   "source": [
    "chr(249)"
   ]
  },
  {
   "cell_type": "code",
   "execution_count": 52,
   "id": "b64aee56",
   "metadata": {},
   "outputs": [
    {
     "data": {
      "text/plain": [
       "83"
      ]
     },
     "execution_count": 52,
     "metadata": {},
     "output_type": "execute_result"
    }
   ],
   "source": [
    "ord('S')\n",
    "# renvoie le code ascii corespondant au charactere"
   ]
  },
  {
   "cell_type": "code",
   "execution_count": 53,
   "id": "2a9a1e62",
   "metadata": {},
   "outputs": [
    {
     "data": {
      "text/plain": [
       "'T'"
      ]
     },
     "execution_count": 53,
     "metadata": {},
     "output_type": "execute_result"
    }
   ],
   "source": [
    "chr(84)\n",
    "# renvoie le caractere correspondant au code ascii entrée"
   ]
  },
  {
   "cell_type": "code",
   "execution_count": 54,
   "id": "496fd322",
   "metadata": {},
   "outputs": [
    {
     "data": {
      "text/plain": [
       "'T'"
      ]
     },
     "execution_count": 54,
     "metadata": {},
     "output_type": "execute_result"
    }
   ],
   "source": [
    "chr(ord('S') + 1 )"
   ]
  },
  {
   "cell_type": "code",
   "execution_count": 55,
   "id": "1b33cd0a",
   "metadata": {},
   "outputs": [
    {
     "data": {
      "text/plain": [
       "True"
      ]
     },
     "execution_count": 55,
     "metadata": {},
     "output_type": "execute_result"
    }
   ],
   "source": [
    "'B' < 'a'\n",
    "# les majuscules sont rangés avant les minuscules dans le code ascii"
   ]
  },
  {
   "cell_type": "code",
   "execution_count": 56,
   "id": "98990167",
   "metadata": {
    "scrolled": true
   },
   "outputs": [
    {
     "data": {
      "text/plain": [
       "89"
      ]
     },
     "execution_count": 56,
     "metadata": {},
     "output_type": "execute_result"
    }
   ],
   "source": [
    "ord(chr(89))"
   ]
  },
  {
   "cell_type": "code",
   "execution_count": 57,
   "id": "8df86b08",
   "metadata": {},
   "outputs": [
    {
     "data": {
      "text/plain": [
       "b'Toto'"
      ]
     },
     "execution_count": 57,
     "metadata": {},
     "output_type": "execute_result"
    }
   ],
   "source": [
    "s = 'Toto'\n",
    "b = s.encode('UTF8')\n",
    "b"
   ]
  },
  {
   "cell_type": "markdown",
   "id": "e9ef0a60",
   "metadata": {},
   "source": [
    "**Lists**"
   ]
  },
  {
   "cell_type": "code",
   "execution_count": 58,
   "id": "051c8d4c",
   "metadata": {},
   "outputs": [
    {
     "data": {
      "text/plain": [
       "[1, 4, 9, 16, 25]"
      ]
     },
     "execution_count": 58,
     "metadata": {},
     "output_type": "execute_result"
    }
   ],
   "source": [
    "squares = [1, 4, 9, 16, 25]\n",
    "squares"
   ]
  },
  {
   "cell_type": "code",
   "execution_count": 59,
   "id": "285aa848",
   "metadata": {},
   "outputs": [
    {
     "name": "stdout",
     "output_type": "stream",
     "text": [
      "1\n",
      "25\n",
      "[9, 16, 25]\n"
     ]
    }
   ],
   "source": [
    "print(squares[0])   #indexing returns the items\n",
    "print(squares[-1])\n",
    "print(squares[-3:])   # slicing returns a new list"
   ]
  },
  {
   "cell_type": "code",
   "execution_count": 60,
   "id": "8924c867",
   "metadata": {},
   "outputs": [
    {
     "data": {
      "text/plain": [
       "[1, 4, 9, 16, 25]"
      ]
     },
     "execution_count": 60,
     "metadata": {},
     "output_type": "execute_result"
    }
   ],
   "source": [
    "squares[:]"
   ]
  },
  {
   "cell_type": "code",
   "execution_count": 61,
   "id": "89202d72",
   "metadata": {},
   "outputs": [
    {
     "data": {
      "text/plain": [
       "[1, 4, 9, 16, 25, 36, 49, 64, 81, 100]"
      ]
     },
     "execution_count": 61,
     "metadata": {},
     "output_type": "execute_result"
    }
   ],
   "source": [
    "squares + [36, 49, 64, 81, 100]"
   ]
  },
  {
   "cell_type": "code",
   "execution_count": 62,
   "id": "3c9eac4a",
   "metadata": {},
   "outputs": [],
   "source": [
    "cubes = [1, 8, 27, 65, 125]"
   ]
  },
  {
   "cell_type": "code",
   "execution_count": 63,
   "id": "44b69518",
   "metadata": {},
   "outputs": [
    {
     "data": {
      "text/plain": [
       "[1, 8, 27, 65, 125, 269]"
      ]
     },
     "execution_count": 63,
     "metadata": {},
     "output_type": "execute_result"
    }
   ],
   "source": [
    "if len(cubes)<10:\n",
    "    cubes.append(269)\n",
    "else:\n",
    "    pass\n",
    "cubes\n",
    "# le mot clé pass permet est equivalent au continue de java"
   ]
  },
  {
   "cell_type": "code",
   "execution_count": 64,
   "id": "4f8da895",
   "metadata": {},
   "outputs": [
    {
     "name": "stdout",
     "output_type": "stream",
     "text": [
      "13\n"
     ]
    }
   ],
   "source": [
    "a=13\n",
    "print(a)"
   ]
  },
  {
   "cell_type": "code",
   "execution_count": 65,
   "id": "26322fcd",
   "metadata": {},
   "outputs": [
    {
     "name": "stdout",
     "output_type": "stream",
     "text": [
      "Entrez le prix en Euros ?  15\n",
      "15.0\n"
     ]
    }
   ],
   "source": [
    "a = float(input(\"Entrez le prix en Euros ?  \")) #lire au clavier\n",
    "print(a)"
   ]
  },
  {
   "cell_type": "code",
   "execution_count": 66,
   "id": "bfe0f778",
   "metadata": {},
   "outputs": [
    {
     "name": "stdout",
     "output_type": "stream",
     "text": [
      "Entrez le premier nombre ? 23\n",
      "Entrez le second nombre ? 30\n",
      "53.0\n"
     ]
    }
   ],
   "source": [
    "a = float(input(\"Entrez le premier nombre ? \"))\n",
    "b = float(input(\"Entrez le second nombre ? \"))\n",
    "print(a+b)"
   ]
  },
  {
   "cell_type": "markdown",
   "id": "a7a915c9",
   "metadata": {},
   "source": [
    "# Cours du 16/01/2023"
   ]
  },
  {
   "cell_type": "code",
   "execution_count": 67,
   "id": "21f90e93",
   "metadata": {},
   "outputs": [
    {
     "name": "stdout",
     "output_type": "stream",
     "text": [
      "12\n"
     ]
    }
   ],
   "source": [
    "a=12\n",
    "b=5\n",
    "c=3\n",
    "if a!=0:\n",
    "    print(a)\n",
    "# indentation automatique, l'indentation correspond à la tabulation"
   ]
  },
  {
   "cell_type": "code",
   "execution_count": 72,
   "id": "7c8bb8c3",
   "metadata": {},
   "outputs": [
    {
     "data": {
      "text/plain": [
       "-119"
      ]
     },
     "execution_count": 72,
     "metadata": {},
     "output_type": "execute_result"
    }
   ],
   "source": [
    "from math import sqrt as racine\n",
    "\n",
    "deltasquarre =b*b - 4*a*c\n",
    "deltasquarre"
   ]
  },
  {
   "cell_type": "code",
   "execution_count": 73,
   "id": "08f181b5",
   "metadata": {},
   "outputs": [
    {
     "data": {
      "text/plain": [
       "10.908712114635714"
      ]
     },
     "execution_count": 73,
     "metadata": {},
     "output_type": "execute_result"
    }
   ],
   "source": [
    "delta = racine(abs(b*b - 4*a*c))\n",
    "delta"
   ]
  },
  {
   "cell_type": "markdown",
   "id": "eddf28a0",
   "metadata": {},
   "source": [
    "# Les fonctions"
   ]
  },
  {
   "cell_type": "code",
   "execution_count": 74,
   "id": "fb209a4b",
   "metadata": {},
   "outputs": [
    {
     "data": {
      "text/plain": [
       "8"
      ]
     },
     "execution_count": 74,
     "metadata": {},
     "output_type": "execute_result"
    }
   ],
   "source": [
    "def cube(x):\n",
    "    \"\"\"/\n",
    "    fonction qui retourne \n",
    "    le cube d'une valeur\n",
    "    \"\"\"\n",
    "    return x**3\n",
    "cube(2)"
   ]
  },
  {
   "cell_type": "code",
   "execution_count": 75,
   "id": "6f94250e",
   "metadata": {},
   "outputs": [
    {
     "data": {
      "text/plain": [
       "113.09733552923254"
      ]
     },
     "execution_count": 75,
     "metadata": {},
     "output_type": "execute_result"
    }
   ],
   "source": [
    "def volumeSphere(rayon):\n",
    "    \"\"\"/\n",
    "    fonction qui calcule \n",
    "    le volume d'une sphère\n",
    "    \"\"\"\n",
    "    return ((4/3)*math.pi*cube(rayon))\n",
    "volumeSphere(3)"
   ]
  },
  {
   "cell_type": "code",
   "execution_count": null,
   "id": "a061fd6e",
   "metadata": {},
   "outputs": [],
   "source": []
  }
 ],
 "metadata": {
  "kernelspec": {
   "display_name": "Python 3 (ipykernel)",
   "language": "python",
   "name": "python3"
  },
  "language_info": {
   "codemirror_mode": {
    "name": "ipython",
    "version": 3
   },
   "file_extension": ".py",
   "mimetype": "text/x-python",
   "name": "python",
   "nbconvert_exporter": "python",
   "pygments_lexer": "ipython3",
   "version": "3.9.13"
  }
 },
 "nbformat": 4,
 "nbformat_minor": 5
}
