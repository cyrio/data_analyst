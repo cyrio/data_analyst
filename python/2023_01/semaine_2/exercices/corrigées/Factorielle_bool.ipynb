{
 "cells": [
  {
   "cell_type": "code",
   "execution_count": 1,
   "id": "c1ba2307",
   "metadata": {},
   "outputs": [],
   "source": [
    "def fac(n):\n",
    "    return int(n == 0 or n * fac(n-1))"
   ]
  },
  {
   "cell_type": "code",
   "execution_count": 2,
   "id": "b69b8d2d",
   "metadata": {},
   "outputs": [
    {
     "data": {
      "text/plain": [
       "120"
      ]
     },
     "execution_count": 2,
     "metadata": {},
     "output_type": "execute_result"
    }
   ],
   "source": [
    "fac(5)"
   ]
  },
  {
   "cell_type": "code",
   "execution_count": 3,
   "id": "938d18cd",
   "metadata": {},
   "outputs": [
    {
     "data": {
      "text/plain": [
       "(1, 0)"
      ]
     },
     "execution_count": 3,
     "metadata": {},
     "output_type": "execute_result"
    }
   ],
   "source": [
    "int(True), int(False)"
   ]
  },
  {
   "cell_type": "code",
   "execution_count": 4,
   "id": "384569b5",
   "metadata": {},
   "outputs": [
    {
     "data": {
      "text/plain": [
       "(5, 0)"
      ]
     },
     "execution_count": 4,
     "metadata": {},
     "output_type": "execute_result"
    }
   ],
   "source": [
    "5 * True, 3 * False"
   ]
  },
  {
   "cell_type": "code",
   "execution_count": 5,
   "id": "581200d0",
   "metadata": {},
   "outputs": [
    {
     "data": {
      "text/plain": [
       "1"
      ]
     },
     "execution_count": 5,
     "metadata": {},
     "output_type": "execute_result"
    }
   ],
   "source": [
    "fac(0)"
   ]
  },
  {
   "cell_type": "code",
   "execution_count": 6,
   "id": "c7f31ca4",
   "metadata": {},
   "outputs": [],
   "source": [
    "def fac(n):\n",
    "    return n and n*fac(n-1) or 1"
   ]
  },
  {
   "cell_type": "code",
   "execution_count": null,
   "id": "ca11ead6",
   "metadata": {},
   "outputs": [],
   "source": [
    "fac(-5.0)"
   ]
  },
  {
   "cell_type": "code",
   "execution_count": null,
   "id": "7bbfe7e9",
   "metadata": {},
   "outputs": [],
   "source": [
    "fac(0)"
   ]
  },
  {
   "cell_type": "code",
   "execution_count": null,
   "id": "49852eb8",
   "metadata": {},
   "outputs": [],
   "source": [
    "True and 4"
   ]
  },
  {
   "cell_type": "code",
   "execution_count": null,
   "id": "ecb5effb",
   "metadata": {},
   "outputs": [],
   "source": [
    "2 and 4"
   ]
  },
  {
   "cell_type": "code",
   "execution_count": null,
   "id": "820e5681",
   "metadata": {},
   "outputs": [],
   "source": [
    "4 and 2"
   ]
  },
  {
   "cell_type": "code",
   "execution_count": null,
   "id": "593c74a0",
   "metadata": {},
   "outputs": [],
   "source": [
    "1 and 2 and 3"
   ]
  },
  {
   "cell_type": "code",
   "execution_count": null,
   "id": "00b765c9",
   "metadata": {},
   "outputs": [],
   "source": [
    "1 and 0 and 3"
   ]
  },
  {
   "cell_type": "code",
   "execution_count": null,
   "id": "139b0473",
   "metadata": {},
   "outputs": [],
   "source": [
    "1 or 2 or 3"
   ]
  },
  {
   "cell_type": "code",
   "execution_count": null,
   "id": "9852a949",
   "metadata": {},
   "outputs": [],
   "source": [
    "0 or 2 or 3"
   ]
  },
  {
   "cell_type": "code",
   "execution_count": null,
   "id": "60b06116",
   "metadata": {},
   "outputs": [],
   "source": [
    "un_ensemble = { 'chou', 'carotte', 'navet'}"
   ]
  },
  {
   "cell_type": "code",
   "execution_count": null,
   "id": "33f9907d",
   "metadata": {},
   "outputs": [],
   "source": [
    "un_ensemble"
   ]
  },
  {
   "cell_type": "code",
   "execution_count": null,
   "id": "879cc34c",
   "metadata": {},
   "outputs": [],
   "source": [
    "ens_vide = set()"
   ]
  },
  {
   "cell_type": "code",
   "execution_count": null,
   "id": "8966fc9c",
   "metadata": {},
   "outputs": [],
   "source": [
    "ens_vide"
   ]
  },
  {
   "cell_type": "code",
   "execution_count": null,
   "id": "001673ef",
   "metadata": {},
   "outputs": [],
   "source": [
    "autre_ensemble = set([1,2,3, 5,1,1,1])"
   ]
  },
  {
   "cell_type": "code",
   "execution_count": null,
   "id": "3f9d6e21",
   "metadata": {},
   "outputs": [],
   "source": [
    "autre_ensemble"
   ]
  },
  {
   "cell_type": "code",
   "execution_count": null,
   "id": "becc7f11",
   "metadata": {},
   "outputs": [],
   "source": [
    "ens = { 12, 1, 4, 120, 89}"
   ]
  },
  {
   "cell_type": "code",
   "execution_count": null,
   "id": "c733f677",
   "metadata": {},
   "outputs": [],
   "source": [
    "ens"
   ]
  },
  {
   "cell_type": "code",
   "execution_count": null,
   "id": "653aa0f5",
   "metadata": {},
   "outputs": [],
   "source": [
    "li = [ 12 , 1, 4, 120, 89, 1, 1]"
   ]
  },
  {
   "cell_type": "code",
   "execution_count": null,
   "id": "8e1d4fab",
   "metadata": {},
   "outputs": [],
   "source": [
    "li"
   ]
  },
  {
   "cell_type": "code",
   "execution_count": null,
   "id": "af736a36",
   "metadata": {},
   "outputs": [],
   "source": [
    "tu = 1,2,2\n",
    "type(tu), tu"
   ]
  },
  {
   "cell_type": "code",
   "execution_count": null,
   "id": "bb054159",
   "metadata": {},
   "outputs": [],
   "source": [
    "set(tu)"
   ]
  },
  {
   "cell_type": "code",
   "execution_count": null,
   "id": "ecfc079b",
   "metadata": {},
   "outputs": [],
   "source": [
    "liste_des_appels = ['Riri', 'Fifi', 'Riri', 'Loulou', 'Riri', 'Grincheux']"
   ]
  },
  {
   "cell_type": "code",
   "execution_count": null,
   "id": "396d77b4",
   "metadata": {},
   "outputs": [],
   "source": [
    "len(liste_des_appels)"
   ]
  },
  {
   "cell_type": "code",
   "execution_count": null,
   "id": "2c6dc4b3",
   "metadata": {},
   "outputs": [],
   "source": [
    "len(set(liste_des_appels))"
   ]
  },
  {
   "cell_type": "code",
   "execution_count": null,
   "id": "ed0219d3",
   "metadata": {},
   "outputs": [],
   "source": [
    "chaine = \"Bonjour\"\n",
    "tup = 1, 2, 3\n",
    "liste = [12,13,14]\n",
    "ens = {100, 200, 300, 400, 500}"
   ]
  },
  {
   "cell_type": "code",
   "execution_count": null,
   "id": "3cd7e1cd",
   "metadata": {},
   "outputs": [],
   "source": [
    "len(chaine), len(tup), len(liste), len(ens)"
   ]
  },
  {
   "cell_type": "code",
   "execution_count": null,
   "id": "594e2e0c",
   "metadata": {},
   "outputs": [],
   "source": [
    "a = \"Bonjour\"\n",
    "b = a\n",
    "e = {a, b}"
   ]
  },
  {
   "cell_type": "code",
   "execution_count": null,
   "id": "5dc1a58e",
   "metadata": {},
   "outputs": [],
   "source": [
    "e"
   ]
  },
  {
   "cell_type": "code",
   "execution_count": null,
   "id": "2014e46f",
   "metadata": {},
   "outputs": [],
   "source": [
    "e |= {'Au revoir'}"
   ]
  },
  {
   "cell_type": "code",
   "execution_count": null,
   "id": "9e804aa5",
   "metadata": {},
   "outputs": [],
   "source": [
    "e"
   ]
  },
  {
   "cell_type": "code",
   "execution_count": null,
   "id": "37b51ccc",
   "metadata": {},
   "outputs": [],
   "source": [
    "e |= {'BonJour'}"
   ]
  },
  {
   "cell_type": "code",
   "execution_count": null,
   "id": "d9d91a59",
   "metadata": {},
   "outputs": [],
   "source": [
    "e"
   ]
  },
  {
   "cell_type": "code",
   "execution_count": null,
   "id": "aba70807",
   "metadata": {},
   "outputs": [],
   "source": [
    "x = 12\n",
    "x -= 1\n",
    "x"
   ]
  },
  {
   "cell_type": "code",
   "execution_count": null,
   "id": "459fc5a0",
   "metadata": {},
   "outputs": [],
   "source": [
    "e -= {'BonJour'}"
   ]
  },
  {
   "cell_type": "code",
   "execution_count": null,
   "id": "fe317ae1",
   "metadata": {},
   "outputs": [],
   "source": [
    "e"
   ]
  },
  {
   "cell_type": "markdown",
   "id": "e76e0c21",
   "metadata": {},
   "source": [
    "`123,'abc',12.34, 12e-12, 0xAA, [1,2,3] #sont des littéraux - écrire une valeur en toutes lettres\n",
    "\n",
    "x, a,b, e # noms de variables\n",
    "\n",
    "if, True, def, return # mots réservés du langage Python\n",
    "\n",
    "==, <, >, =,*,/,//, % # opérateurs\n",
    "\n",
    ":, #délimiteurs\n",
    "\n",
    " \\# commentaire\n",
    "\n",
    "`\n"
   ]
  },
  {
   "cell_type": "code",
   "execution_count": null,
   "id": "487e1d8b",
   "metadata": {},
   "outputs": [],
   "source": [
    "set(chaine)"
   ]
  },
  {
   "cell_type": "code",
   "execution_count": null,
   "id": "216c5975",
   "metadata": {},
   "outputs": [],
   "source": [
    "import random\n"
   ]
  },
  {
   "cell_type": "code",
   "execution_count": null,
   "id": "e29c9f18",
   "metadata": {},
   "outputs": [],
   "source": [
    "random.randint(1,6)"
   ]
  },
  {
   "cell_type": "code",
   "execution_count": null,
   "id": "e0db3795",
   "metadata": {},
   "outputs": [],
   "source": [
    "d = random.randint(1,6)\n",
    "if d == 1 or d == 2 or d == 3 : #moins pythonique\n",
    "    print(\"La valeur est parmi 1, 2, 3\")"
   ]
  },
  {
   "cell_type": "code",
   "execution_count": null,
   "id": "a5aa5863",
   "metadata": {},
   "outputs": [],
   "source": [
    "d = random.randint(1,6)\n",
    "if d in (1,2,3): #plus pythonique\n",
    "    print(\"La valeur est parmi 1, 2, 3\")"
   ]
  },
  {
   "cell_type": "code",
   "execution_count": null,
   "id": "044fb358",
   "metadata": {},
   "outputs": [],
   "source": [
    "dir(random)"
   ]
  },
  {
   "cell_type": "code",
   "execution_count": null,
   "id": "c6f2ebd6",
   "metadata": {},
   "outputs": [],
   "source": [
    "s = {True, 1, 1+2j, 3.14, \"Bonjour\"} # Un ensemble n'est pas nécessairement homogène"
   ]
  },
  {
   "cell_type": "code",
   "execution_count": null,
   "id": "c5b828cf",
   "metadata": {},
   "outputs": [],
   "source": [
    "s |= {('Georges', 'Georgoulis')}"
   ]
  },
  {
   "cell_type": "code",
   "execution_count": null,
   "id": "b1367d21",
   "metadata": {},
   "outputs": [],
   "source": [
    "s"
   ]
  },
  {
   "cell_type": "code",
   "execution_count": null,
   "id": "4ba5853c",
   "metadata": {},
   "outputs": [],
   "source": [
    "s |= {[1,2,3]} # On ne peut pas rajouter une LISTE dans l'ensemble"
   ]
  },
  {
   "cell_type": "code",
   "execution_count": null,
   "id": "945d2655",
   "metadata": {},
   "outputs": [],
   "source": [
    "s |= {{1,2,3}}"
   ]
  },
  {
   "cell_type": "code",
   "execution_count": null,
   "id": "2de1c44e",
   "metadata": {},
   "outputs": [],
   "source": [
    "une_liste = [ \"Bonjour\", True, 12, 12.34, 12+34j, {1,2,3}, [[['a']]], (1,2,3)]"
   ]
  },
  {
   "cell_type": "code",
   "execution_count": null,
   "id": "a186b82b",
   "metadata": {},
   "outputs": [],
   "source": [
    "une_liste"
   ]
  },
  {
   "cell_type": "code",
   "execution_count": null,
   "id": "6586271a",
   "metadata": {},
   "outputs": [],
   "source": [
    "set(une_liste)"
   ]
  },
  {
   "cell_type": "code",
   "execution_count": null,
   "id": "36115507",
   "metadata": {},
   "outputs": [],
   "source": [
    "note = {} #un dictionnaire vide"
   ]
  },
  {
   "cell_type": "code",
   "execution_count": null,
   "id": "2e96aa60",
   "metadata": {},
   "outputs": [],
   "source": [
    "type(note)"
   ]
  },
  {
   "cell_type": "code",
   "execution_count": null,
   "id": "555563d6",
   "metadata": {},
   "outputs": [],
   "source": [
    "ens_vide = set()"
   ]
  },
  {
   "cell_type": "code",
   "execution_count": null,
   "id": "5b1cdad2",
   "metadata": {},
   "outputs": [],
   "source": [
    "dico_vide = dict()"
   ]
  },
  {
   "cell_type": "code",
   "execution_count": null,
   "id": "43db1d2b",
   "metadata": {},
   "outputs": [],
   "source": [
    "dico_vide"
   ]
  },
  {
   "cell_type": "code",
   "execution_count": null,
   "id": "1c1479a9",
   "metadata": {},
   "outputs": [],
   "source": [
    "liste_vide = list()"
   ]
  },
  {
   "cell_type": "code",
   "execution_count": null,
   "id": "e64c77bf",
   "metadata": {},
   "outputs": [],
   "source": [
    "liste_vide"
   ]
  },
  {
   "cell_type": "code",
   "execution_count": null,
   "id": "57798f6e",
   "metadata": {},
   "outputs": [],
   "source": [
    "chaine_vide =\"\""
   ]
  },
  {
   "cell_type": "code",
   "execution_count": null,
   "id": "b240f6e0",
   "metadata": {},
   "outputs": [],
   "source": [
    "t = tuple()"
   ]
  },
  {
   "cell_type": "code",
   "execution_count": null,
   "id": "d8108914",
   "metadata": {},
   "outputs": [],
   "source": []
  }
 ],
 "metadata": {
  "kernelspec": {
   "display_name": "Python 3 (ipykernel)",
   "language": "python",
   "name": "python3"
  },
  "language_info": {
   "codemirror_mode": {
    "name": "ipython",
    "version": 3
   },
   "file_extension": ".py",
   "mimetype": "text/x-python",
   "name": "python",
   "nbconvert_exporter": "python",
   "pygments_lexer": "ipython3",
   "version": "3.10.4"
  }
 },
 "nbformat": 4,
 "nbformat_minor": 5
}
