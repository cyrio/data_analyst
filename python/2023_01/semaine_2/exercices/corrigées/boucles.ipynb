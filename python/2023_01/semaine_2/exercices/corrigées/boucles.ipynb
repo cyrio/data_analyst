{
 "cells": [
  {
   "cell_type": "code",
   "execution_count": 1,
   "id": "52376b72",
   "metadata": {},
   "outputs": [
    {
     "name": "stdout",
     "output_type": "stream",
     "text": [
      "12\n",
      "10\n",
      "8\n"
     ]
    }
   ],
   "source": [
    "a = 12  # initialisation\n",
    "\n",
    "while a > 7:  # boucle - condition de continuation\n",
    "    print(a)  # itération - ce qui est dans la boucle\n",
    "    a -= 2    # ceci va modifier la valeur de la condition et faire qu'elle va devenir False\n"
   ]
  },
  {
   "cell_type": "code",
   "execution_count": 6,
   "id": "24781dda",
   "metadata": {},
   "outputs": [
    {
     "name": "stdout",
     "output_type": "stream",
     "text": [
      "A la fin, a vaut 0\n"
     ]
    }
   ],
   "source": [
    "a = 0  # initialisation\n",
    "\n",
    "while a > 7:  # boucle - condition de continuation\n",
    "    print(a)  # itération - ce qui est dans la boucle\n",
    "    a -= 2    # ceci va modifier la valeur de la condition et faire qu'elle va devenir False\n",
    "else:\n",
    "    print(\"A la fin, a vaut\",a)"
   ]
  },
  {
   "cell_type": "markdown",
   "id": "8f86f527",
   "metadata": {},
   "source": [
    "La même chose sans le else. Est-il vraiment utile dans ce cas ?"
   ]
  },
  {
   "cell_type": "code",
   "execution_count": 7,
   "id": "af6a4f53",
   "metadata": {},
   "outputs": [
    {
     "name": "stdout",
     "output_type": "stream",
     "text": [
      "A la fin, a vaut 0\n"
     ]
    }
   ],
   "source": [
    "a = 0  # initialisation\n",
    "\n",
    "while a > 7:  # boucle - condition de continuation\n",
    "    print(a)  # itération - ce qui est dans la boucle\n",
    "    a -= 2    # ceci va modifier la valeur de la condition et faire qu'elle va devenir False\n",
    "print(\"A la fin, a vaut\", a)"
   ]
  },
  {
   "cell_type": "code",
   "execution_count": 8,
   "id": "a5f557f4",
   "metadata": {},
   "outputs": [
    {
     "name": "stdout",
     "output_type": "stream",
     "text": [
      "0\n",
      "3\n",
      "6\n",
      "9\n"
     ]
    }
   ],
   "source": [
    "for i in range(0,10,3): #Commencer à 0, s'arrêter avant 10, augmenter de 3 à chaque tour\n",
    "    print(i)"
   ]
  },
  {
   "cell_type": "code",
   "execution_count": 9,
   "id": "3ecd0bad",
   "metadata": {},
   "outputs": [
    {
     "name": "stdout",
     "output_type": "stream",
     "text": [
      "0\n",
      "3\n",
      "6\n",
      "9\n"
     ]
    }
   ],
   "source": [
    "# On fait une boucle équivalente au for précédent mais avec while \n",
    "#Range(Start, Stop, Step) #Step signifie le pas\n",
    "i = 0  # initialiser la variable de contrôle de boucle à start\n",
    "while i < 10: #comparer à stop\n",
    "    print(i)\n",
    "    i += 3  # ajouter le pas"
   ]
  },
  {
   "cell_type": "code",
   "execution_count": 21,
   "id": "c804dcf5",
   "metadata": {},
   "outputs": [],
   "source": [
    "d = {'a':1, 'b':2, 'c':3} # un dictionnaire"
   ]
  },
  {
   "cell_type": "code",
   "execution_count": 22,
   "id": "6a1c0688",
   "metadata": {},
   "outputs": [
    {
     "name": "stdout",
     "output_type": "stream",
     "text": [
      "a\n",
      "b\n",
      "c\n"
     ]
    }
   ],
   "source": [
    "for x in d:\n",
    "    # x prend tour à tour toues les clés du dico\n",
    "    print(x)"
   ]
  },
  {
   "cell_type": "code",
   "execution_count": 23,
   "id": "ed860064",
   "metadata": {},
   "outputs": [
    {
     "name": "stdout",
     "output_type": "stream",
     "text": [
      "a\n",
      "b\n",
      "c\n"
     ]
    }
   ],
   "source": [
    "for x in d.keys(): # même chose mais plus explicite (plus verbeux !)\n",
    "    # x prend tour à tour toutes les clés du dico\n",
    "    print(x)"
   ]
  },
  {
   "cell_type": "code",
   "execution_count": 24,
   "id": "516ca80c",
   "metadata": {},
   "outputs": [
    {
     "name": "stdout",
     "output_type": "stream",
     "text": [
      "1\n",
      "2\n",
      "3\n"
     ]
    }
   ],
   "source": [
    "for x in d.values(): \n",
    "    # x prend tour à tour toutes les valeurs du dico\n",
    "       print(x)"
   ]
  },
  {
   "cell_type": "code",
   "execution_count": 25,
   "id": "1d6d451a",
   "metadata": {},
   "outputs": [
    {
     "name": "stdout",
     "output_type": "stream",
     "text": [
      "a ---> 1\n",
      "b ---> 2\n",
      "c ---> 3\n"
     ]
    }
   ],
   "source": [
    "for k, v in d.items(): \n",
    "    # x prend tour à tour toutes les clés-valeurs du dico\n",
    "       print(k,\"--->\",v)"
   ]
  },
  {
   "cell_type": "code",
   "execution_count": 26,
   "id": "d34ae1a8",
   "metadata": {},
   "outputs": [
    {
     "name": "stdout",
     "output_type": "stream",
     "text": [
      "a ---> 1\n",
      "b ---> 2\n",
      "c ---> 3\n"
     ]
    }
   ],
   "source": [
    "for x in d: # Même chose autrement\n",
    "    # x prend tour à tour toutes les clés-valeurs du dico\n",
    "       print(x,\"--->\",d[x])"
   ]
  },
  {
   "cell_type": "code",
   "execution_count": 10,
   "id": "edd06cfc",
   "metadata": {},
   "outputs": [
    {
     "name": "stdout",
     "output_type": "stream",
     "text": [
      "qq chose 0\n",
      "qq chose 1\n"
     ]
    }
   ],
   "source": [
    "# pour faire 3 fois qq chose\n",
    "for i in range(3):\n",
    "    print(\"qq chose\", i)"
   ]
  },
  {
   "cell_type": "code",
   "execution_count": 11,
   "id": "b2d704d3",
   "metadata": {},
   "outputs": [
    {
     "name": "stdout",
     "output_type": "stream",
     "text": [
      "Riri\n",
      "3.14\n",
      "True\n"
     ]
    }
   ],
   "source": [
    "li = [\"Riri\", 3.14, True]\n",
    "for e in li :\n",
    "    # Traiter un élément\n",
    "    print(e)"
   ]
  },
  {
   "cell_type": "code",
   "execution_count": 13,
   "id": "bb0bef56",
   "metadata": {},
   "outputs": [
    {
     "name": "stdout",
     "output_type": "stream",
     "text": [
      "N-a-b-u-c-h-o-d-o-n-o-s-o-r-"
     ]
    }
   ],
   "source": [
    "s = \"Nabuchodonosor\"\n",
    "for t in s :\n",
    "    print(t, end='-')"
   ]
  },
  {
   "cell_type": "code",
   "execution_count": 14,
   "id": "49213d37",
   "metadata": {},
   "outputs": [
    {
     "name": "stdout",
     "output_type": "stream",
     "text": [
      "1\n",
      "2\n",
      "3\n",
      "4\n"
     ]
    }
   ],
   "source": [
    "t = 1,2,3,4 #Boucle sur un tuple\n",
    "for x in t:\n",
    "    print(x)"
   ]
  },
  {
   "cell_type": "code",
   "execution_count": 15,
   "id": "6f1a168c",
   "metadata": {},
   "outputs": [],
   "source": [
    "couleurs = {\"Violet\", \"Indigo\",\"Bleu\", \"Vert\", \"Jaune\", \"Orange\", \"Rouge\"}"
   ]
  },
  {
   "cell_type": "code",
   "execution_count": 17,
   "id": "216ed823",
   "metadata": {},
   "outputs": [
    {
     "name": "stdout",
     "output_type": "stream",
     "text": [
      "Orange\n",
      "Rouge\n",
      "Indigo\n",
      "Jaune\n",
      "Vert\n",
      "Violet\n",
      "Bleu\n"
     ]
    }
   ],
   "source": [
    "for c in couleurs:  #Boucle sur les éléments d'un ensemble\n",
    "    print(c)"
   ]
  },
  {
   "cell_type": "code",
   "execution_count": 21,
   "id": "ed68f639",
   "metadata": {},
   "outputs": [],
   "source": [
    "portraits = {\"Euclide\":{ \"age\": 2323, \"pilosite\": 'barbe'},\n",
    "\"Eratosthenes\":{ \"age\": 2299, \"pilosite\": 'barbe'},\n",
    "\"Van Rossum\":{ \"age\": 67, \"pilosite\": 'barbe'},\n",
    "\"Codd\":{ \"age\": 100, \"pilosite\": 'moustache'},\n",
    "\"Lovelace\":{ \"age\": 208, \"pilosite\": 'glabre'},\n",
    "\"Knuth\": { \"age\": 85, \"pilosite\": 'glabre'},\n",
    "\"Dijkstra\":{ \"age\": 93, \"pilosite\": 'barbe'},}"
   ]
  },
  {
   "cell_type": "code",
   "execution_count": 22,
   "id": "41ce0bc8",
   "metadata": {},
   "outputs": [
    {
     "data": {
      "text/plain": [
       "{'Euclide': {'age': 2323, 'pilosite': 'barbe'},\n",
       " 'Eratosthenes': {'age': 2299, 'pilosite': 'barbe'},\n",
       " 'Van Rossum': {'age': 67, 'pilosite': 'barbe'},\n",
       " 'Codd': {'age': 100, 'pilosite': 'moustache'},\n",
       " 'Lovelace': {'age': 208, 'pilosite': 'glabre'},\n",
       " 'Knuth': {'age': 85, 'pilosite': 'glabre'},\n",
       " 'Dijkstra': {'age': 93, 'pilosite': 'barbe'}}"
      ]
     },
     "execution_count": 22,
     "metadata": {},
     "output_type": "execute_result"
    }
   ],
   "source": [
    "portraits\n"
   ]
  },
  {
   "cell_type": "code",
   "execution_count": 28,
   "id": "53d3d2af",
   "metadata": {},
   "outputs": [
    {
     "name": "stdout",
     "output_type": "stream",
     "text": [
      "Euclide\n",
      "Eratosthenes\n",
      "J'ai gagné\n",
      "Compte 30\n"
     ]
    }
   ],
   "source": [
    "compte = 0\n",
    "for p in portraits:\n",
    "    print(p)\n",
    "    if portraits[p]['pilosite']=='barbe':\n",
    "        #compter 15 points\n",
    "        compte += 15\n",
    "print(\"Compte\", compte)"
   ]
  },
  {
   "cell_type": "code",
   "execution_count": 26,
   "id": "73658959",
   "metadata": {},
   "outputs": [
    {
     "name": "stdout",
     "output_type": "stream",
     "text": [
      "Euclide\n",
      "Eratosthenes\n",
      "Lovelace\n"
     ]
    }
   ],
   "source": [
    "for p in portraits:\n",
    "    if portraits[p]['age']>200:\n",
    "        print(p)"
   ]
  },
  {
   "cell_type": "code",
   "execution_count": 29,
   "id": "b10118c7",
   "metadata": {},
   "outputs": [
    {
     "name": "stdout",
     "output_type": "stream",
     "text": [
      "0\n",
      "1\n",
      "2\n",
      "3\n",
      "4\n",
      "5\n",
      "6\n"
     ]
    }
   ],
   "source": [
    "#Exemple avec break\n",
    "for i in range(10):\n",
    "    print(i)\n",
    "    if i>5:\n",
    "        break"
   ]
  },
  {
   "cell_type": "code",
   "execution_count": 31,
   "id": "ecd4e591",
   "metadata": {},
   "outputs": [
    {
     "name": "stdout",
     "output_type": "stream",
     "text": [
      "0\n",
      "1\n",
      "2\n",
      "3\n",
      "4\n",
      "5\n",
      "6\n"
     ]
    }
   ],
   "source": [
    "for i in range(10):\n",
    "    print(i)\n",
    "    if i>5:\n",
    "        break #Fait sortir de la boucle et l'on n'exécute pas le else\n",
    "else:\n",
    "    print(\"C'est fini\")"
   ]
  },
  {
   "cell_type": "code",
   "execution_count": 32,
   "id": "37933b09",
   "metadata": {},
   "outputs": [
    {
     "name": "stdout",
     "output_type": "stream",
     "text": [
      "0\n",
      "1\n",
      "2\n",
      "3\n",
      "4\n",
      "5\n",
      "6\n",
      "7\n",
      "8\n",
      "9\n",
      "C'est fini\n"
     ]
    }
   ],
   "source": [
    "# exemple de rupture avec continue\n",
    "for i in range(10):\n",
    "    print(i)\n",
    "else:\n",
    "    print(\"C'est fini\")"
   ]
  },
  {
   "cell_type": "code",
   "execution_count": 33,
   "id": "6371cb28",
   "metadata": {},
   "outputs": [
    {
     "name": "stdout",
     "output_type": "stream",
     "text": [
      "0\n",
      "2\n",
      "4\n",
      "6\n",
      "8\n",
      "C'est fini\n"
     ]
    }
   ],
   "source": [
    "# exemple de rupture avec continue\n",
    "for i in range(10):\n",
    "    if i%2:\n",
    "        continue # Fait passer à l'itération suivante\n",
    "    print(i)\n",
    "else:\n",
    "    print(\"C'est fini\")"
   ]
  },
  {
   "cell_type": "code",
   "execution_count": 42,
   "id": "588d5c87",
   "metadata": {},
   "outputs": [
    {
     "name": "stdout",
     "output_type": "stream",
     "text": [
      "10 11 12 13 14 15 16 17 18 19 \n",
      "20 21 22 23 24 25 26 27 28 29 \n",
      "30 31 32 33 34 35 36 37 38 39 \n",
      "40 41 42 43 44 45 46 47 48 49 \n",
      "50 51 \n",
      "60 \n",
      "70 \n",
      "80 \n",
      "90 \n"
     ]
    }
   ],
   "source": [
    "# Break fait sortir de la boucle la plus proche - celle en j mais pas de  celle en i\n",
    "for i in range(10,100,10):\n",
    "    for j in range(0,10):\n",
    "        print(i+j,end=\" \")\n",
    "        if i+j >50:\n",
    "            break\n",
    "    print()"
   ]
  },
  {
   "cell_type": "code",
   "execution_count": 1,
   "id": "5e45b3c4",
   "metadata": {},
   "outputs": [
    {
     "data": {
      "text/plain": [
       "720"
      ]
     },
     "execution_count": 1,
     "metadata": {},
     "output_type": "execute_result"
    }
   ],
   "source": [
    "def fac(n):\n",
    "    \"\"\" calculer n! avec une boucle \"\"\"\n",
    "    res = 1\n",
    "    for i in range(1,n+1):\n",
    "        res *= i\n",
    "    return res\n",
    "\n",
    "\n",
    "fac(6)"
   ]
  },
  {
   "cell_type": "code",
   "execution_count": null,
   "id": "f743a7b2",
   "metadata": {},
   "outputs": [],
   "source": []
  }
 ],
 "metadata": {
  "kernelspec": {
   "display_name": "Python 3 (ipykernel)",
   "language": "python",
   "name": "python3"
  },
  "language_info": {
   "codemirror_mode": {
    "name": "ipython",
    "version": 3
   },
   "file_extension": ".py",
   "mimetype": "text/x-python",
   "name": "python",
   "nbconvert_exporter": "python",
   "pygments_lexer": "ipython3",
   "version": "3.9.13"
  }
 },
 "nbformat": 4,
 "nbformat_minor": 5
}
