{
 "cells": [
  {
   "cell_type": "markdown",
   "metadata": {},
   "source": [
    "# Listes \n",
    "\n",
    "On définit le concept de liste\n",
    "\n",
    "## Définition\n",
    "\n",
    "Une liste peut être la liste vide, notée \\[ \\]\n",
    "\n",
    "ou bien être constituée d'un premier élément, suivi d'une liste (le reste de la liste)\n",
    "\n",
    "## Notation\n",
    "\n",
    "Les listes s'écrivent entre crochets. \n",
    "\n",
    "\\[ e ...\\]\n",
    "\n",
    "\"e\" est ici le premier élément et \"\\[...\\]\", le reste de la liste.\n",
    "\n",
    "On donne pour la suite de l'exercice, 2 listes - mais vous pouvez en ajouter d'autres...\n",
    "\n"
   ]
  },
  {
   "cell_type": "code",
   "execution_count": 2,
   "metadata": {},
   "outputs": [],
   "source": [
    "neveux = ['Riri', 'Fifi', 'Loulou']\n",
    "nains = ['Prof', 'Timide', 'Atchoum', 'Dormeur', 'Joyeux', 'Grincheux', 'Simplet']"
   ]
  },
  {
   "cell_type": "markdown",
   "metadata": {},
   "source": [
    "# Fonctions de listes\n",
    "On les trouve dans la bibliothèque listes (fichier listes.py).\n",
    "\n",
    "Pour les utiliser, faire figurer en tête de votre source `from listes import *`\n",
    "\n",
    "## Définitions\n",
    "\n",
    "La fonction `vide(li)` s'applique à une liste. Elle renvoie `True` ou `False` selon que la liste `li ` est vide ou non.\n",
    "\n",
    "La fonction `prem(li)` s'applique à une liste non vide. Elle renvoie son premier élément.\n",
    "\n",
    "La fonction `rèste(li)`s'applique à une liste non vide. Elle renvoie une liste : la liste `li ` privée de son premier élément.\n",
    "\n",
    "En dehors de leur domaine de définition, ces fonctions donnent des résultats imprédictibles, comme vous en jugerez par les exemples ci dessous.\n",
    "\n"
   ]
  },
  {
   "cell_type": "code",
   "execution_count": 4,
   "metadata": {},
   "outputs": [],
   "source": [
    "from listes import *\n",
    "    \n",
    "    "
   ]
  },
  {
   "cell_type": "markdown",
   "metadata": {},
   "source": [
    "## Exemples"
   ]
  },
  {
   "cell_type": "code",
   "execution_count": 3,
   "metadata": {},
   "outputs": [
    {
     "data": {
      "text/plain": [
       "'Riri'"
      ]
     },
     "execution_count": 3,
     "metadata": {},
     "output_type": "execute_result"
    }
   ],
   "source": [
    "prem(neveux)"
   ]
  },
  {
   "cell_type": "code",
   "execution_count": 4,
   "metadata": {},
   "outputs": [
    {
     "data": {
      "text/plain": [
       "['Timide', 'Atchoum', 'Dormeur', 'Joyeux', 'Grincheux', 'Simplet']"
      ]
     },
     "execution_count": 4,
     "metadata": {},
     "output_type": "execute_result"
    }
   ],
   "source": [
    "reste(nains)"
   ]
  },
  {
   "cell_type": "code",
   "execution_count": 5,
   "metadata": {},
   "outputs": [
    {
     "data": {
      "text/plain": [
       "[2, 3, 4]"
      ]
     },
     "execution_count": 5,
     "metadata": {},
     "output_type": "execute_result"
    }
   ],
   "source": [
    "nums = [1, 2, 3, 4]\n",
    "reste(nums)"
   ]
  },
  {
   "cell_type": "code",
   "execution_count": 6,
   "metadata": {},
   "outputs": [
    {
     "ename": "EmptyListError",
     "evalue": "Cannot get 1st element from an empty list",
     "output_type": "error",
     "traceback": [
      "\u001b[0;31m---------------------------------------------------------------------------\u001b[0m",
      "\u001b[0;31mEmptyListError\u001b[0m                            Traceback (most recent call last)",
      "\u001b[0;32m/tmp/ipykernel_13312/3114940571.py\u001b[0m in \u001b[0;36m<module>\u001b[0;34m\u001b[0m\n\u001b[0;32m----> 1\u001b[0;31m \u001b[0mprem\u001b[0m \u001b[0;34m(\u001b[0m\u001b[0;34m[\u001b[0m\u001b[0;34m]\u001b[0m\u001b[0;34m)\u001b[0m\u001b[0;34m\u001b[0m\u001b[0;34m\u001b[0m\u001b[0m\n\u001b[0m",
      "\u001b[0;32m~/jupyter/listes.py\u001b[0m in \u001b[0;36mprem\u001b[0;34m(l)\u001b[0m\n\u001b[1;32m     21\u001b[0m         \u001b[0;32mreturn\u001b[0m \u001b[0ml\u001b[0m\u001b[0;34m[\u001b[0m\u001b[0;36m0\u001b[0m\u001b[0;34m]\u001b[0m\u001b[0;34m\u001b[0m\u001b[0;34m\u001b[0m\u001b[0m\n\u001b[1;32m     22\u001b[0m     \u001b[0;32melse\u001b[0m\u001b[0;34m:\u001b[0m\u001b[0;34m\u001b[0m\u001b[0;34m\u001b[0m\u001b[0m\n\u001b[0;32m---> 23\u001b[0;31m         \u001b[0;32mraise\u001b[0m \u001b[0mEmptyListError\u001b[0m\u001b[0;34m(\u001b[0m\u001b[0;34m\"Cannot get 1st element from an empty list\"\u001b[0m\u001b[0;34m)\u001b[0m\u001b[0;34m\u001b[0m\u001b[0;34m\u001b[0m\u001b[0m\n\u001b[0m\u001b[1;32m     24\u001b[0m \u001b[0;34m\u001b[0m\u001b[0m\n\u001b[1;32m     25\u001b[0m \u001b[0;34m\u001b[0m\u001b[0m\n",
      "\u001b[0;31mEmptyListError\u001b[0m: Cannot get 1st element from an empty list"
     ]
    }
   ],
   "source": [
    "prem ([])"
   ]
  },
  {
   "cell_type": "code",
   "execution_count": 5,
   "metadata": {},
   "outputs": [
    {
     "ename": "EmptyListError",
     "evalue": "Cannot get remaining elements from an empty list",
     "output_type": "error",
     "traceback": [
      "\u001b[1;31m---------------------------------------------------------------------------\u001b[0m",
      "\u001b[1;31mEmptyListError\u001b[0m                            Traceback (most recent call last)",
      "Cell \u001b[1;32mIn[5], line 1\u001b[0m\n\u001b[1;32m----> 1\u001b[0m \u001b[43mreste\u001b[49m\u001b[43m(\u001b[49m\u001b[43m[\u001b[49m\u001b[43m]\u001b[49m\u001b[43m)\u001b[49m \n",
      "File \u001b[1;32m~\\Desktop\\jupyter\\listes.py:33\u001b[0m, in \u001b[0;36mreste\u001b[1;34m(l)\u001b[0m\n\u001b[0;32m     31\u001b[0m     \u001b[38;5;28;01mreturn\u001b[39;00m l[\u001b[38;5;241m1\u001b[39m:]\n\u001b[0;32m     32\u001b[0m \u001b[38;5;28;01melse\u001b[39;00m:\n\u001b[1;32m---> 33\u001b[0m     \u001b[38;5;28;01mraise\u001b[39;00m EmptyListError(\u001b[38;5;124m\"\u001b[39m\u001b[38;5;124mCannot get remaining elements from an empty list\u001b[39m\u001b[38;5;124m\"\u001b[39m)\n",
      "\u001b[1;31mEmptyListError\u001b[0m: Cannot get remaining elements from an empty list"
     ]
    }
   ],
   "source": [
    "reste([]) "
   ]
  },
  {
   "cell_type": "markdown",
   "metadata": {},
   "source": [
    "# Exercices\n",
    "## 1)\n",
    "En ne combinant que les fonctions qui vous ont été données ci-dessus, montrez comment vous accédez au 2ème élément d'une liste, au troisième"
   ]
  },
  {
   "cell_type": "code",
   "execution_count": 6,
   "metadata": {},
   "outputs": [
    {
     "data": {
      "text/plain": [
       "'Prof'"
      ]
     },
     "execution_count": 6,
     "metadata": {},
     "output_type": "execute_result"
    }
   ],
   "source": [
    "prem(nains)#le 1er"
   ]
  },
  {
   "cell_type": "code",
   "execution_count": 7,
   "metadata": {},
   "outputs": [
    {
     "data": {
      "text/plain": [
       "'Timide'"
      ]
     },
     "execution_count": 7,
     "metadata": {},
     "output_type": "execute_result"
    }
   ],
   "source": [
    "# le 2ème TODO à vous de faire\n",
    "prem(reste(nains))"
   ]
  },
  {
   "cell_type": "code",
   "execution_count": 8,
   "metadata": {},
   "outputs": [
    {
     "data": {
      "text/plain": [
       "'Atchoum'"
      ]
     },
     "execution_count": 8,
     "metadata": {},
     "output_type": "execute_result"
    }
   ],
   "source": [
    "# le 3ème TODO à vous de faire\n",
    "prem(reste(reste(nains)))"
   ]
  },
  {
   "cell_type": "markdown",
   "metadata": {},
   "source": [
    "## 2)\n",
    "A l'aide uniquement des fonctions qui vous ont été définies et des structures algorithmiques que vous connaissez du langage Python3, définissez la fonction deuxième(l) qui donne le deuxième élément d'une liste. \n",
    "\n",
    "De même, la fonction troisième(l) pour le troisième..."
   ]
  },
  {
   "cell_type": "code",
   "execution_count": 9,
   "metadata": {},
   "outputs": [],
   "source": [
    "def deuxième(uneListe):\n",
    "    return prem(reste(uneListe))"
   ]
  },
  {
   "cell_type": "code",
   "execution_count": 10,
   "metadata": {},
   "outputs": [],
   "source": [
    "def troisième(uneListe):\n",
    "    return prem(reste(reste(uneListe)))\n",
    "    "
   ]
  },
  {
   "cell_type": "code",
   "execution_count": 11,
   "metadata": {},
   "outputs": [
    {
     "name": "stdout",
     "output_type": "stream",
     "text": [
      "Timide\n",
      "Atchoum\n"
     ]
    }
   ],
   "source": [
    "print(deuxième(nains))\n",
    "            \n",
    "print(troisième(nains))"
   ]
  },
  {
   "cell_type": "markdown",
   "metadata": {},
   "source": [
    "On montre le fonctionnement de la fonction vide : quel est le type de la valeur retournée ? Exécutez et observez !"
   ]
  },
  {
   "cell_type": "code",
   "execution_count": 12,
   "metadata": {},
   "outputs": [],
   "source": [
    "uneListe =[]\n"
   ]
  },
  {
   "cell_type": "code",
   "execution_count": 13,
   "metadata": {},
   "outputs": [
    {
     "name": "stdout",
     "output_type": "stream",
     "text": [
      "[]\n"
     ]
    }
   ],
   "source": [
    "print(uneListe)"
   ]
  },
  {
   "cell_type": "code",
   "execution_count": 14,
   "metadata": {},
   "outputs": [
    {
     "data": {
      "text/plain": [
       "(True, False)"
      ]
     },
     "execution_count": 14,
     "metadata": {},
     "output_type": "execute_result"
    }
   ],
   "source": [
    "vide(uneListe), vide(nains)"
   ]
  },
  {
   "cell_type": "markdown",
   "metadata": {},
   "source": [
    "## 3)\n",
    "Définissez la fonction dernier(l) qui donne le dernier élément d'une liste"
   ]
  },
  {
   "cell_type": "code",
   "execution_count": 15,
   "metadata": {},
   "outputs": [],
   "source": [
    "def dernier(uneListe):\n",
    "    #Cas Terminal, cas Trivial\n",
    "    if vide(reste(uneListe)):\n",
    "        return prem(uneListe)\n",
    "    else:\n",
    "        #Cas récursif\n",
    "        return dernier(reste(uneListe))"
   ]
  },
  {
   "cell_type": "code",
   "execution_count": 16,
   "metadata": {},
   "outputs": [
    {
     "data": {
      "text/plain": [
       "'Simplet'"
      ]
     },
     "execution_count": 16,
     "metadata": {},
     "output_type": "execute_result"
    }
   ],
   "source": [
    "dernier(nains) #doit faire 'Simplet'"
   ]
  },
  {
   "cell_type": "markdown",
   "metadata": {},
   "source": [
    "## 4)\n",
    "Définissez la fonction card (l) qui donne le nombre d'éléments d'une liste"
   ]
  },
  {
   "cell_type": "code",
   "execution_count": 17,
   "metadata": {
    "scrolled": true
   },
   "outputs": [
    {
     "name": "stdout",
     "output_type": "stream",
     "text": [
      "3\n",
      "7\n"
     ]
    }
   ],
   "source": [
    "def card(x):\n",
    "    if vide(x):\n",
    "        return 0\n",
    "    else:\n",
    "        return 1 + card (reste(x))\n",
    "    \n",
    "print(card(neveux))\n",
    "print(card(nains))"
   ]
  },
  {
   "cell_type": "markdown",
   "metadata": {},
   "source": [
    "## 5)\n",
    "Définissez la fonction apppartient (e, li) qui renvoie True ou False selon que e est dans li ou pas"
   ]
  },
  {
   "cell_type": "code",
   "execution_count": 20,
   "metadata": {},
   "outputs": [],
   "source": [
    "def appartient(e, li):\n",
    "    if vide(li):\n",
    "        return False #Cas terminal\n",
    "    if prem(li)==e:\n",
    "        return True  #Cas terminal\n",
    "    #Cas récursif\n",
    "    return appartient(e, reste(li))\n",
    "    "
   ]
  },
  {
   "cell_type": "code",
   "execution_count": 21,
   "metadata": {},
   "outputs": [
    {
     "data": {
      "text/plain": [
       "False"
      ]
     },
     "execution_count": 21,
     "metadata": {},
     "output_type": "execute_result"
    }
   ],
   "source": [
    "appartient ('Riri', nains) #doit faire False"
   ]
  },
  {
   "cell_type": "markdown",
   "metadata": {},
   "source": [
    "## 6)\n",
    "\n",
    "Définissez la fonction rang(e, li) qui renvoie la place de l'élément e, si on le trouve dans la liste li et -1 sinon. Le rang du premier élément est 0.\n",
    "\n"
   ]
  },
  {
   "cell_type": "code",
   "execution_count": 18,
   "metadata": {},
   "outputs": [],
   "source": [
    "def rang(e, li):\n",
    "    if not appartient(e, li):\n",
    "        return -1\n",
    "    if e == prem(li):\n",
    "        return 0\n",
    "    return 1+rang(e,reste(li))"
   ]
  },
  {
   "cell_type": "code",
   "execution_count": 25,
   "metadata": {},
   "outputs": [
    {
     "data": {
      "text/plain": [
       "6"
      ]
     },
     "execution_count": 25,
     "metadata": {},
     "output_type": "execute_result"
    }
   ],
   "source": [
    "rang('Simplet', nains) #doit faire 6"
   ]
  },
  {
   "cell_type": "code",
   "execution_count": 26,
   "metadata": {},
   "outputs": [
    {
     "data": {
      "text/plain": [
       "-1"
      ]
     },
     "execution_count": 26,
     "metadata": {},
     "output_type": "execute_result"
    }
   ],
   "source": [
    "rang('Simplet', neveux) #doit faire -1"
   ]
  },
  {
   "cell_type": "code",
   "execution_count": 24,
   "metadata": {},
   "outputs": [],
   "source": [
    "def rang(e, li):\n",
    "    if vide(li):\n",
    "        return -1\n",
    "    if e == prem(li):\n",
    "        return 0\n",
    "    r = rang(e,reste(li))\n",
    "    if r !=-1:\n",
    "        r = 1 + r\n",
    "    return r"
   ]
  },
  {
   "cell_type": "markdown",
   "metadata": {},
   "source": [
    "## 7)\n",
    "si nums est une liste qui ne contient que des nombres, la fonction somme appliquée à nums renvoie le total de ces nombres. Définissez la fonction somme !\n"
   ]
  },
  {
   "cell_type": "code",
   "execution_count": 27,
   "metadata": {},
   "outputs": [],
   "source": [
    "def somme(nums):\n",
    "    if vide(nums):\n",
    "        return 0\n",
    "    else:\n",
    "        return prem(nums)+somme(reste(nums))"
   ]
  },
  {
   "cell_type": "code",
   "execution_count": 28,
   "metadata": {},
   "outputs": [
    {
     "data": {
      "text/plain": [
       "6"
      ]
     },
     "execution_count": 28,
     "metadata": {},
     "output_type": "execute_result"
    }
   ],
   "source": [
    "somme([1,2,3]) #doit faire 6"
   ]
  },
  {
   "cell_type": "markdown",
   "metadata": {},
   "source": [
    "## 8)\n",
    "\n",
    "Définissez la fonction moyenne qui calcule la moyenne d'une liste de nombres"
   ]
  },
  {
   "cell_type": "code",
   "execution_count": 29,
   "metadata": {},
   "outputs": [],
   "source": [
    "def moyenne(nums):\n",
    "    return somme(nums)/card(nums)"
   ]
  },
  {
   "cell_type": "code",
   "execution_count": 30,
   "metadata": {},
   "outputs": [
    {
     "data": {
      "text/plain": [
       "2.0"
      ]
     },
     "execution_count": 30,
     "metadata": {},
     "output_type": "execute_result"
    }
   ],
   "source": [
    "moyenne([1,2,3]) # doit faire 2.0"
   ]
  },
  {
   "cell_type": "code",
   "execution_count": 1,
   "metadata": {},
   "outputs": [],
   "source": [
    "def nieme(li, n):\n",
    "    \"\"\"donne l'élément numéro n de la liste li\"\"\"\n",
    "    if n == 0:\n",
    "        return prem(li) # Cas terminal\n",
    "    return nieme(reste(li), n-1)\n",
    "    "
   ]
  },
  {
   "cell_type": "code",
   "execution_count": 5,
   "metadata": {},
   "outputs": [
    {
     "data": {
      "text/plain": [
       "'Grincheux'"
      ]
     },
     "execution_count": 5,
     "metadata": {},
     "output_type": "execute_result"
    }
   ],
   "source": [
    "nieme(nains,5)"
   ]
  },
  {
   "cell_type": "code",
   "execution_count": null,
   "metadata": {},
   "outputs": [],
   "source": []
  }
 ],
 "metadata": {
  "kernelspec": {
   "display_name": "Python 3 (ipykernel)",
   "language": "python",
   "name": "python3"
  },
  "language_info": {
   "codemirror_mode": {
    "name": "ipython",
    "version": 3
   },
   "file_extension": ".py",
   "mimetype": "text/x-python",
   "name": "python",
   "nbconvert_exporter": "python",
   "pygments_lexer": "ipython3",
   "version": "3.10.4"
  }
 },
 "nbformat": 4,
 "nbformat_minor": 2
}
