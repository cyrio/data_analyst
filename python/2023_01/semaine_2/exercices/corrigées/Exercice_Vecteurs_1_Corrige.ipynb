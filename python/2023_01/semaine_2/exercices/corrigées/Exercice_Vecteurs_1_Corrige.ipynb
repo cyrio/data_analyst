{
 "cells": [
  {
   "cell_type": "markdown",
   "id": "3abdf16e",
   "metadata": {},
   "source": [
    "# Exercices sur les vecteurs\n",
    "## Initialiser un vecteur aléatoire"
   ]
  },
  {
   "cell_type": "markdown",
   "id": "3515ccc9",
   "metadata": {},
   "source": [
    "On fixe N (par exemple 10), la dimension des vecteurs de l'exercices.\n",
    "Les vecteurs sont représentés par des listes.\n",
    "Remplir un vecteur v par des nombres aléatoires compris entre -100 et +100."
   ]
  },
  {
   "cell_type": "code",
   "execution_count": 3,
   "id": "a78ae893",
   "metadata": {},
   "outputs": [
    {
     "data": {
      "text/plain": [
       "[-57, -5, -64, -13, 30, 91, -25, -61, 85, 40]"
      ]
     },
     "execution_count": 3,
     "metadata": {},
     "output_type": "execute_result"
    }
   ],
   "source": [
    "import random\n",
    "\n",
    "N = 10\n",
    "\n",
    "\n",
    "v = [random.randint(-100,+100) for i in range(N)]\n",
    "\n",
    "# ou bien\n",
    "\n",
    "v = []\n",
    "for i in range(N):\n",
    "    v.append(random.randint(-100,+100))\n",
    "\n",
    "# ou encore\n",
    "\n",
    "v = [0] * N\n",
    "for i in range(N):\n",
    "    v[i] = random.randint(-100,+100)\n",
    "\n",
    "v"
   ]
  },
  {
   "cell_type": "code",
   "execution_count": 7,
   "id": "c92eaa34",
   "metadata": {},
   "outputs": [],
   "source": [
    "# On crée une fonction makevec pour fabriquer un tel vecteur\n",
    "def makevec(dim=10, valmin=-100, valmax=+100):\n",
    "    return [random.randint(valmin,valmax) for i in range(dim)]"
   ]
  },
  {
   "cell_type": "markdown",
   "id": "00e8e266",
   "metadata": {},
   "source": [
    "# Plus grand élément\n",
    "Faire la fonction maxvec(v) qui donne le plus grand élément d'un vecteur.\n",
    "On fera semblant d'ignorer qu'il existe une fonction max builtin qui fait exactement cela."
   ]
  },
  {
   "cell_type": "code",
   "execution_count": null,
   "id": "84448f9d",
   "metadata": {},
   "outputs": [],
   "source": [
    "def maxvec(v):\n",
    "    \"\"\" Donne le plus grand élément contenu dans le vecteur v\"\"\"\n",
    "    m = v[0]\n",
    "    for x in v:\n",
    "        if x > m:\n",
    "            m = x\n",
    "    return m\n",
    "\n",
    "# On vérifie le bon fonctionnement sur un vecteur aléatoire\n",
    "v1 = makevec()\n",
    "print(v1)\n",
    "maxvec(v1)"
   ]
  },
  {
   "cell_type": "code",
   "execution_count": null,
   "id": "41032437",
   "metadata": {},
   "outputs": [],
   "source": [
    "def maxvec(v):\n",
    "    return sorted(v)[-1]"
   ]
  },
  {
   "cell_type": "markdown",
   "id": "2363f39d",
   "metadata": {},
   "source": [
    "# Somme\n",
    "Faire la fonction somvec qui fait la somme des composantes d'un vecteur. On fera semblant d'ignorer qu'il existe une fonction sum builtin qui fait exactement cela."
   ]
  },
  {
   "cell_type": "code",
   "execution_count": 8,
   "id": "fce044aa",
   "metadata": {},
   "outputs": [
    {
     "name": "stdout",
     "output_type": "stream",
     "text": [
      "[2, -13, -57, 35, 44, 69, -31, -57, -45, 68]\n"
     ]
    },
    {
     "data": {
      "text/plain": [
       "15"
      ]
     },
     "execution_count": 8,
     "metadata": {},
     "output_type": "execute_result"
    }
   ],
   "source": [
    "def somvec(v):\n",
    "    t = 0\n",
    "    for x in v:\n",
    "        t += x\n",
    "    return t\n",
    "\n",
    "# On vérifie le bon fonctionnement sur un vecteur aléatoire\n",
    "v1 = makevec()\n",
    "print(v1)\n",
    "somvec(v1)"
   ]
  },
  {
   "cell_type": "markdown",
   "id": "e69712e4",
   "metadata": {},
   "source": [
    "# Indice\n",
    "Faire la fonction Indice qui dit si une valeur x est présente dans le vecteur v et à quel indice. La fonction renvoit la position s'il est trouvé et None sinon."
   ]
  },
  {
   "cell_type": "code",
   "execution_count": null,
   "id": "a30d1896",
   "metadata": {},
   "outputs": [],
   "source": [
    "def indice(x,v):\n",
    "    for i in range(len(v))\n",
    "        if x == v[i]:\n",
    "            return i\n"
   ]
  }
 ],
 "metadata": {
  "kernelspec": {
   "display_name": "Python 3 (ipykernel)",
   "language": "python",
   "name": "python3"
  },
  "language_info": {
   "codemirror_mode": {
    "name": "ipython",
    "version": 3
   },
   "file_extension": ".py",
   "mimetype": "text/x-python",
   "name": "python",
   "nbconvert_exporter": "python",
   "pygments_lexer": "ipython3",
   "version": "3.9.13"
  }
 },
 "nbformat": 4,
 "nbformat_minor": 5
}
