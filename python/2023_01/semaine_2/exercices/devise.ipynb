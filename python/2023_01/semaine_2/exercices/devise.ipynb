{
 "cells": [
  {
   "cell_type": "code",
   "execution_count": 4,
   "id": "77f276a3",
   "metadata": {},
   "outputs": [],
   "source": [
    "Taux = 0.92305"
   ]
  },
  {
   "cell_type": "code",
   "execution_count": 5,
   "id": "27eaec2e",
   "metadata": {},
   "outputs": [
    {
     "name": "stdout",
     "output_type": "stream",
     "text": [
      "entrez le montant: 255\n",
      "montant à convertir : 255.0 USD\n",
      "montant convertit : 235.37775000000002 EUR\n"
     ]
    },
    {
     "data": {
      "text/plain": [
       "'235.37775000000002 EUR'"
      ]
     },
     "execution_count": 5,
     "metadata": {},
     "output_type": "execute_result"
    }
   ],
   "source": [
    "devise1 = \"USD\"\n",
    "devise2 = \"EUR\"\n",
    "# lire le montant en devise \n",
    "def readMount():\n",
    "    montant = float(input(\"entrez le montant: \"))\n",
    "    print(\"montant à convertir : \" + str(montant) + \" \" + devise1)\n",
    "    return montant\n",
    "\n",
    "# Afficher le montant en devise 2\n",
    "def displayMount():\n",
    "    montant2 = readMount() * Taux\n",
    "    print(\"montant convertit : \"+ str(montant2) + \" \" + devise2)\n",
    "    return montant2\n",
    "\n",
    "def base():\n",
    "    return (str(displayMount())+\" \"+devise2)\n",
    "\n",
    "base()"
   ]
  },
  {
   "cell_type": "code",
   "execution_count": null,
   "id": "3bd52d98",
   "metadata": {},
   "outputs": [],
   "source": []
  }
 ],
 "metadata": {
  "kernelspec": {
   "display_name": "Python 3 (ipykernel)",
   "language": "python",
   "name": "python3"
  },
  "language_info": {
   "codemirror_mode": {
    "name": "ipython",
    "version": 3
   },
   "file_extension": ".py",
   "mimetype": "text/x-python",
   "name": "python",
   "nbconvert_exporter": "python",
   "pygments_lexer": "ipython3",
   "version": "3.9.13"
  }
 },
 "nbformat": 4,
 "nbformat_minor": 5
}
