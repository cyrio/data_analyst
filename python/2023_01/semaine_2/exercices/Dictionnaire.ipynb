{
 "cells": [
  {
   "cell_type": "code",
   "execution_count": 8,
   "id": "c650cd01",
   "metadata": {},
   "outputs": [
    {
     "name": "stdout",
     "output_type": "stream",
     "text": [
      "<class 'str'>\n",
      "\n"
     ]
    }
   ],
   "source": [
    "chaine_vide = \"\"\n",
    "print(type(chaine_vide))\n",
    "print(chaine_vide)"
   ]
  },
  {
   "cell_type": "code",
   "execution_count": 5,
   "id": "853c8129",
   "metadata": {},
   "outputs": [
    {
     "name": "stdout",
     "output_type": "stream",
     "text": [
      "<class 'tuple'>\n",
      "()\n"
     ]
    }
   ],
   "source": [
    "tuple_vide = ()\n",
    "print(type(tuple_vide))\n",
    "print(tuple_vide)"
   ]
  },
  {
   "cell_type": "code",
   "execution_count": 4,
   "id": "2a69f6bb",
   "metadata": {},
   "outputs": [
    {
     "name": "stdout",
     "output_type": "stream",
     "text": [
      "<class 'tuple'>\n",
      "()\n"
     ]
    }
   ],
   "source": [
    "tu_vide = tuple()\n",
    "print(type(tu_vide))\n",
    "print(tu_vide)"
   ]
  },
  {
   "cell_type": "code",
   "execution_count": 6,
   "id": "5a5a3dfc",
   "metadata": {},
   "outputs": [
    {
     "name": "stdout",
     "output_type": "stream",
     "text": [
      "<class 'set'>\n",
      "set()\n"
     ]
    }
   ],
   "source": [
    "ens_vide = set()\n",
    "print(type(ens_vide))\n",
    "print(ens_vide)"
   ]
  },
  {
   "cell_type": "code",
   "execution_count": 9,
   "id": "5860b8fa",
   "metadata": {},
   "outputs": [
    {
     "name": "stdout",
     "output_type": "stream",
     "text": [
      "<class 'set'>\n",
      "{'a', 'b'}\n"
     ]
    }
   ],
   "source": [
    "ens_nonvide = {\"a\",'b'}\n",
    "print(type(ens_nonvide))\n",
    "print(ens_nonvide)"
   ]
  },
  {
   "cell_type": "code",
   "execution_count": 7,
   "id": "ef9d42ee",
   "metadata": {},
   "outputs": [
    {
     "name": "stdout",
     "output_type": "stream",
     "text": [
      "<class 'list'>\n",
      "[]\n"
     ]
    }
   ],
   "source": [
    "liste_vide = []\n",
    "print(type(liste_vide))\n",
    "print(liste_vide)"
   ]
  },
  {
   "cell_type": "code",
   "execution_count": 10,
   "id": "8d85749c",
   "metadata": {},
   "outputs": [
    {
     "name": "stdout",
     "output_type": "stream",
     "text": [
      "<class 'dict'>\n",
      "{}\n"
     ]
    }
   ],
   "source": [
    "dico_vide = {}\n",
    "print(type(dico_vide))\n",
    "print(dico_vide)"
   ]
  },
  {
   "cell_type": "code",
   "execution_count": 11,
   "id": "252f663b",
   "metadata": {},
   "outputs": [
    {
     "data": {
      "text/plain": [
       "{'Pierre': (14, 16),\n",
       " 'Julien': None,\n",
       " 'Olivier': {'Maths': 18.5, 'Histoires drôles': 15}}"
      ]
     },
     "execution_count": 11,
     "metadata": {},
     "output_type": "execute_result"
    }
   ],
   "source": [
    "notes = {'Pierre':(14,16),\n",
    "        'Julien': None,\n",
    "        'Olivier': {'Maths':18.5, 'Histoires drôles':15},\n",
    "         'Marina': 15\n",
    "         \n",
    "       }\n",
    "notes"
   ]
  },
  {
   "cell_type": "code",
   "execution_count": null,
   "id": "33373a90",
   "metadata": {},
   "outputs": [],
   "source": []
  }
 ],
 "metadata": {
  "kernelspec": {
   "display_name": "Python 3 (ipykernel)",
   "language": "python",
   "name": "python3"
  },
  "language_info": {
   "codemirror_mode": {
    "name": "ipython",
    "version": 3
   },
   "file_extension": ".py",
   "mimetype": "text/x-python",
   "name": "python",
   "nbconvert_exporter": "python",
   "pygments_lexer": "ipython3",
   "version": "3.9.13"
  }
 },
 "nbformat": 4,
 "nbformat_minor": 5
}
