{
 "cells": [
  {
   "cell_type": "code",
   "execution_count": 10,
   "id": "c1d3d35b",
   "metadata": {},
   "outputs": [
    {
     "name": "stdout",
     "output_type": "stream",
     "text": [
      "4\n",
      "2\n",
      "1\n",
      "calcul impossible b=0 !\n"
     ]
    }
   ],
   "source": [
    "def pgcd(a,b):\n",
    "    if(not b):\n",
    "        return (\"calcul impossible b=0 !\")\n",
    "        \n",
    "    if(not(a%b)):\n",
    "        return b\n",
    "    else:\n",
    "        return pgcd(b,(a%b))\n",
    "print(pgcd(4,8))\n",
    "print(pgcd(10,4))\n",
    "print(pgcd(2,3))\n",
    "print(pgcd(2,0))\n",
    "        "
   ]
  },
  {
   "cell_type": "code",
   "execution_count": 20,
   "id": "b52ca097",
   "metadata": {},
   "outputs": [
    {
     "name": "stdout",
     "output_type": "stream",
     "text": [
      "4\n",
      "2\n",
      "1\n",
      "division par zero est impossible\n"
     ]
    }
   ],
   "source": [
    "def pgcdbis(a,b):\n",
    "    if(b == 0):\n",
    "        return(\"division par zero est impossible\")\n",
    "    else:\n",
    "        return pgcdbis(b,(a%b)) if (a%b) else b\n",
    "print(pgcdbis(4,8))\n",
    "print(pgcdbis(10,4))\n",
    "print(pgcdbis(2,3))\n",
    "print(pgcdbis(2,0))"
   ]
  },
  {
   "cell_type": "code",
   "execution_count": null,
   "id": "1b45af74",
   "metadata": {},
   "outputs": [],
   "source": []
  }
 ],
 "metadata": {
  "kernelspec": {
   "display_name": "Python 3 (ipykernel)",
   "language": "python",
   "name": "python3"
  },
  "language_info": {
   "codemirror_mode": {
    "name": "ipython",
    "version": 3
   },
   "file_extension": ".py",
   "mimetype": "text/x-python",
   "name": "python",
   "nbconvert_exporter": "python",
   "pygments_lexer": "ipython3",
   "version": "3.9.13"
  }
 },
 "nbformat": 4,
 "nbformat_minor": 5
}
