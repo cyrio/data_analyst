{
 "cells": [
  {
   "cell_type": "code",
   "execution_count": 1,
   "id": "43476d72",
   "metadata": {},
   "outputs": [],
   "source": [
    "texte = 'anticonstitutionnellement'"
   ]
  },
  {
   "cell_type": "code",
   "execution_count": 2,
   "id": "6fb8766f",
   "metadata": {},
   "outputs": [],
   "source": [
    "chiffre = list(range(10))"
   ]
  },
  {
   "cell_type": "code",
   "execution_count": 19,
   "id": "cf693905",
   "metadata": {},
   "outputs": [
    {
     "name": "stdout",
     "output_type": "stream",
     "text": [
      "[0, 1, 2, 3, 4, 5]\n"
     ]
    }
   ],
   "source": [
    "print(chiffre[:6])"
   ]
  },
  {
   "cell_type": "code",
   "execution_count": 20,
   "id": "b8908201",
   "metadata": {},
   "outputs": [
    {
     "name": "stdout",
     "output_type": "stream",
     "text": [
      "anti\n"
     ]
    }
   ],
   "source": [
    "print((texte[:4]))"
   ]
  },
  {
   "cell_type": "code",
   "execution_count": 7,
   "id": "5903eb8f",
   "metadata": {},
   "outputs": [
    {
     "name": "stdout",
     "output_type": "stream",
     "text": [
      "constitution\n"
     ]
    }
   ],
   "source": [
    "print(texte[-21:-9])"
   ]
  },
  {
   "cell_type": "code",
   "execution_count": 23,
   "id": "75af91b9",
   "metadata": {},
   "outputs": [
    {
     "name": "stdout",
     "output_type": "stream",
     "text": [
      "[0, 2, 4, 6, 8]\n"
     ]
    }
   ],
   "source": [
    "print(chiffre[::2])"
   ]
  },
  {
   "cell_type": "code",
   "execution_count": 28,
   "id": "ec69a655",
   "metadata": {},
   "outputs": [
    {
     "name": "stdout",
     "output_type": "stream",
     "text": [
      "tnemellennoitutitsnocitna\n"
     ]
    }
   ],
   "source": [
    "print(texte[::-1])"
   ]
  },
  {
   "cell_type": "code",
   "execution_count": 27,
   "id": "18e202bb",
   "metadata": {},
   "outputs": [
    {
     "name": "stdout",
     "output_type": "stream",
     "text": [
      "[3, 7]\n"
     ]
    }
   ],
   "source": [
    "print(chiffre[3::4])"
   ]
  },
  {
   "cell_type": "code",
   "execution_count": 24,
   "id": "779ff132",
   "metadata": {},
   "outputs": [
    {
     "name": "stdout",
     "output_type": "stream",
     "text": [
      "[9, 7, 5, 3, 1]\n"
     ]
    }
   ],
   "source": [
    "print(chiffre[::-1][::2])\n",
    "# meilleur  méthode pour la compréhension"
   ]
  },
  {
   "cell_type": "code",
   "execution_count": 29,
   "id": "f89b7ccf",
   "metadata": {},
   "outputs": [
    {
     "name": "stdout",
     "output_type": "stream",
     "text": [
      "[9, 7, 5, 3, 1]\n"
     ]
    }
   ],
   "source": [
    "print(chiffre[::-2])\n",
    "# meilleur méthode pour le temps de calcul"
   ]
  },
  {
   "cell_type": "code",
   "execution_count": null,
   "id": "2beb4227",
   "metadata": {},
   "outputs": [],
   "source": []
  }
 ],
 "metadata": {
  "kernelspec": {
   "display_name": "Python 3 (ipykernel)",
   "language": "python",
   "name": "python3"
  },
  "language_info": {
   "codemirror_mode": {
    "name": "ipython",
    "version": 3
   },
   "file_extension": ".py",
   "mimetype": "text/x-python",
   "name": "python",
   "nbconvert_exporter": "python",
   "pygments_lexer": "ipython3",
   "version": "3.9.13"
  }
 },
 "nbformat": 4,
 "nbformat_minor": 5
}
