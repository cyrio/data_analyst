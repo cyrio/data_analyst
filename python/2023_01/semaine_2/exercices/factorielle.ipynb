{
 "cells": [
  {
   "cell_type": "code",
   "execution_count": 10,
   "id": "e5885a40",
   "metadata": {},
   "outputs": [
    {
     "name": "stdout",
     "output_type": "stream",
     "text": [
      "1\n",
      "1\n",
      "2432902008176640000\n",
      "6\n"
     ]
    }
   ],
   "source": [
    "def fac(n):\n",
    "    \"\"\"/\n",
    "    function qui retourne\n",
    "    la factorielle de n\n",
    "    \"\"\"\n",
    "    if n <= 1:\n",
    "        return 1\n",
    "    else:\n",
    "        return n * fac(n-1) \n",
    "print(fac(0))\n",
    "print(fac(1))\n",
    "print(fac(20))\n",
    "print(fac(3))"
   ]
  },
  {
   "cell_type": "code",
   "execution_count": 15,
   "id": "81faebbe",
   "metadata": {},
   "outputs": [
    {
     "name": "stdout",
     "output_type": "stream",
     "text": [
      "1\n",
      "1\n",
      "2432902008176640000\n",
      "6\n"
     ]
    }
   ],
   "source": [
    "def fac1(n):\n",
    "    if n<=0:\n",
    "        print(\"n ne doit pas être <0\")\n",
    "    else:\n",
    "        return  n * fac1(n-1) if n else 1\n",
    "print(fac1(0))\n",
    "print(fac1(1))\n",
    "print(fac1(20))\n",
    "print(fac1(3))"
   ]
  },
  {
   "cell_type": "code",
   "execution_count": null,
   "id": "338b8262",
   "metadata": {},
   "outputs": [],
   "source": []
  }
 ],
 "metadata": {
  "kernelspec": {
   "display_name": "Python 3 (ipykernel)",
   "language": "python",
   "name": "python3"
  },
  "language_info": {
   "codemirror_mode": {
    "name": "ipython",
    "version": 3
   },
   "file_extension": ".py",
   "mimetype": "text/x-python",
   "name": "python",
   "nbconvert_exporter": "python",
   "pygments_lexer": "ipython3",
   "version": "3.9.13"
  }
 },
 "nbformat": 4,
 "nbformat_minor": 5
}
