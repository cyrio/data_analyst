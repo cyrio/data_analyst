{
 "cells": [
  {
   "cell_type": "markdown",
   "id": "63800330",
   "metadata": {},
   "source": [
    "# Notes de cours"
   ]
  },
  {
   "cell_type": "code",
   "execution_count": 1,
   "id": "e6f79a61",
   "metadata": {},
   "outputs": [
    {
     "data": {
      "text/plain": [
       "3.141592653589793"
      ]
     },
     "execution_count": 1,
     "metadata": {},
     "output_type": "execute_result"
    }
   ],
   "source": [
    "import math as mt\n",
    "mt.pi"
   ]
  },
  {
   "cell_type": "code",
   "execution_count": 3,
   "id": "07f71e04",
   "metadata": {},
   "outputs": [
    {
     "data": {
      "text/plain": [
       "(1.2246467991473532e-16, -1.0)"
      ]
     },
     "execution_count": 3,
     "metadata": {},
     "output_type": "execute_result"
    }
   ],
   "source": [
    "mt.sin(mt.pi), mt.cos(mt.pi)\n",
    "# pour calculer le sinus python utilise un développement limité en utilisant la série de taylor"
   ]
  },
  {
   "cell_type": "markdown",
   "id": "bd00c729",
   "metadata": {},
   "source": [
    "# Calcul d'une IMC"
   ]
  },
  {
   "cell_type": "code",
   "execution_count": 6,
   "id": "786a1b44",
   "metadata": {},
   "outputs": [],
   "source": [
    "def imc(m,t):\n",
    "    \"\"\"/\n",
    "    fonction qui calcule\n",
    "    l'indice de masse corporelle\n",
    "    \"\"\"\n",
    "    return m/(t**2)"
   ]
  },
  {
   "cell_type": "code",
   "execution_count": 10,
   "id": "e81d758a",
   "metadata": {},
   "outputs": [
    {
     "name": "stdout",
     "output_type": "stream",
     "text": [
      "Entrez la masse :100\n",
      "Entrez la taille:1.78\n",
      "faire un régime!\n"
     ]
    }
   ],
   "source": [
    "def diététique(c):\n",
    "    if c < 18.5:\n",
    "        s=\"manger plus!\"\n",
    "    elif(c>25):\n",
    "        s=\"faire un régime!\"\n",
    "    else:\n",
    "        s=\"tout va bien!\"\n",
    "    return s\n",
    "\n",
    "def mainfunc():\n",
    "    \"\"\"/\n",
    "    fonction principale\n",
    "    \"\"\"\n",
    "    masse = float(input(\"Entrez la masse :\"))\n",
    "    taille = float(input(\"Entrez la taille:\"))\n",
    "    return diététique(imc(masse,taille))\n",
    "\n",
    "print(mainfunc())"
   ]
  },
  {
   "cell_type": "code",
   "execution_count": null,
   "id": "174bacfa",
   "metadata": {},
   "outputs": [],
   "source": []
  }
 ],
 "metadata": {
  "kernelspec": {
   "display_name": "Python 3 (ipykernel)",
   "language": "python",
   "name": "python3"
  },
  "language_info": {
   "codemirror_mode": {
    "name": "ipython",
    "version": 3
   },
   "file_extension": ".py",
   "mimetype": "text/x-python",
   "name": "python",
   "nbconvert_exporter": "python",
   "pygments_lexer": "ipython3",
   "version": "3.9.13"
  }
 },
 "nbformat": 4,
 "nbformat_minor": 5
}
